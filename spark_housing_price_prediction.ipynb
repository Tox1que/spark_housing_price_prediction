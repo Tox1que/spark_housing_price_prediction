{
 "cells": [
  {
   "cell_type": "markdown",
   "id": "fd5e5b44",
   "metadata": {
    "toc": true
   },
   "source": [
    "<h1>Содержание<span class=\"tocSkip\"></span></h1>\n",
    "<div class=\"toc\"><ul class=\"toc-item\"><li><span><a href=\"#Подготовка-данных\" data-toc-modified-id=\"Подготовка-данных-1\"><span class=\"toc-item-num\">1&nbsp;&nbsp;</span>Подготовка данных</a></span><ul class=\"toc-item\"><li><span><a href=\"#Предварительный-обзор-данных\" data-toc-modified-id=\"Предварительный-обзор-данных-1.1\"><span class=\"toc-item-num\">1.1&nbsp;&nbsp;</span>Предварительный обзор данных</a></span></li><li><span><a href=\"#Синтетические-признаки\" data-toc-modified-id=\"Синтетические-признаки-1.2\"><span class=\"toc-item-num\">1.2&nbsp;&nbsp;</span>Синтетические признаки</a></span></li><li><span><a href=\"#Обработка-пропусков\" data-toc-modified-id=\"Обработка-пропусков-1.3\"><span class=\"toc-item-num\">1.3&nbsp;&nbsp;</span>Обработка пропусков</a></span></li></ul></li><li><span><a href=\"#Обучение-моделей\" data-toc-modified-id=\"Обучение-моделей-2\"><span class=\"toc-item-num\">2&nbsp;&nbsp;</span>Обучение моделей</a></span><ul class=\"toc-item\"><li><span><a href=\"#Модель-линейной-регрессии,-построенная-на-всех-данных\" data-toc-modified-id=\"Модель-линейной-регрессии,-построенная-на-всех-данных-2.1\"><span class=\"toc-item-num\">2.1&nbsp;&nbsp;</span>Модель линейной регрессии, построенная на всех данных</a></span></li><li><span><a href=\"#Модель-линейной-регрессии,-построенная-на-числовых-переменных\" data-toc-modified-id=\"Модель-линейной-регрессии,-построенная-на-числовых-переменных-2.2\"><span class=\"toc-item-num\">2.2&nbsp;&nbsp;</span>Модель линейной регрессии, построенная на числовых переменных</a></span></li></ul></li><li><span><a href=\"#Анализ-результатов\" data-toc-modified-id=\"Анализ-результатов-3\"><span class=\"toc-item-num\">3&nbsp;&nbsp;</span>Анализ результатов</a></span></li><li><span><a href=\"#Общий-вывод\" data-toc-modified-id=\"Общий-вывод-4\"><span class=\"toc-item-num\">4&nbsp;&nbsp;</span>Общий вывод</a></span></li></ul></div>"
   ]
  },
  {
   "cell_type": "markdown",
   "id": "0ecc39f6",
   "metadata": {
    "id": "GEqQaHzsZ_bA"
   },
   "source": [
    "# Предсказание стоимости жилья\n",
    "\n",
    "В проекте вам нужно обучить модель линейной регрессии на данных о жилье в Калифорнии в 1990 году. На основе данных нужно предсказать медианную стоимость дома в жилом массиве. Обучите модель и сделайте предсказания на тестовой выборке. Для оценки качества модели используйте метрики RMSE, MAE и R2."
   ]
  },
  {
   "cell_type": "markdown",
   "id": "38bea202",
   "metadata": {
    "id": "53871372"
   },
   "source": [
    "## Подготовка данных"
   ]
  },
  {
   "cell_type": "code",
   "execution_count": 1,
   "id": "df92e3ec",
   "metadata": {
    "id": "df92e3ec"
   },
   "outputs": [
    {
     "data": {
      "text/html": [
       "<style>.container { width:90% !important; }</style>"
      ],
      "text/plain": [
       "<IPython.core.display.HTML object>"
      ]
     },
     "metadata": {},
     "output_type": "display_data"
    }
   ],
   "source": [
    "import matplotlib.pyplot as plt\n",
    "import numpy as np\n",
    "import pandas as pd \n",
    "import pyspark\n",
    "import pyspark.sql.functions as F\n",
    "import seaborn as sns\n",
    "\n",
    "from IPython.display import HTML, display\n",
    "from pyspark.ml import Pipeline\n",
    "from pyspark.ml.evaluation import RegressionEvaluator\n",
    "from pyspark.ml.feature import StandardScaler, StringIndexer, VectorAssembler\n",
    "from pyspark.ml.regression import LinearRegression\n",
    "from pyspark.mllib.evaluation import RegressionMetrics\n",
    "from pyspark.sql import SparkSession, Window as W\n",
    "from pyspark.sql.types import *\n",
    "from scipy.stats import mannwhitneyu\n",
    "from tqdm import tqdm\n",
    "\n",
    "pyspark_version = pyspark.__version__\n",
    "if int(pyspark_version[:1]) == 3:\n",
    "    from pyspark.ml.feature import OneHotEncoder    \n",
    "elif int(pyspark_version[:1]) == 2:\n",
    "    from pyspark.ml.feature import OneHotEncodeEstimator as OneHotEncoder\n",
    "\n",
    "SEED = 12345\n",
    "\n",
    "display(HTML('<style>.container { width:90% !important; }</style>'))"
   ]
  },
  {
   "cell_type": "markdown",
   "id": "077945ad",
   "metadata": {},
   "source": [
    "### Предварительный обзор данных"
   ]
  },
  {
   "cell_type": "code",
   "execution_count": 2,
   "id": "6131cc30",
   "metadata": {},
   "outputs": [
    {
     "name": "stderr",
     "output_type": "stream",
     "text": [
      "                                                                                \r"
     ]
    }
   ],
   "source": [
    "spark = (SparkSession.builder.master('local')\n",
    "         .appName('EDA California Housing').getOrCreate())\n",
    "\n",
    "df = spark.read.load('/datasets/housing.csv', format='csv', sep=',',\n",
    "                     inferSchema=True, header='true')"
   ]
  },
  {
   "cell_type": "code",
   "execution_count": 3,
   "id": "39bc712e",
   "metadata": {},
   "outputs": [
    {
     "name": "stdout",
     "output_type": "stream",
     "text": [
      "+---------+--------+------------------+-----------+--------------+----------+----------+-------------+------------------+---------------+\n",
      "|longitude|latitude|housing_median_age|total_rooms|total_bedrooms|population|households|median_income|median_house_value|ocean_proximity|\n",
      "+---------+--------+------------------+-----------+--------------+----------+----------+-------------+------------------+---------------+\n",
      "|  -119.73|   36.77|              24.0|     4410.0|         939.0|    2362.0|     862.0|       2.9406|           73000.0|         INLAND|\n",
      "|  -118.49|   34.26|              25.0|     8389.0|        1872.0|    4483.0|    1747.0|       3.5497|          261300.0|      <1H OCEAN|\n",
      "|  -118.29|   34.05|              31.0|     2818.0|        1252.0|    4126.0|    1200.0|        2.053|          229200.0|      <1H OCEAN|\n",
      "|  -118.37|   33.99|              36.0|     3228.0|         543.0|    1305.0|     520.0|       5.1695|          397000.0|      <1H OCEAN|\n",
      "|   -117.9|   34.53|               8.0|     3484.0|         647.0|    2169.0|     619.0|       3.9766|          135800.0|         INLAND|\n",
      "|  -117.71|    33.6|               8.0|     3329.0|         753.0|    1312.0|     629.0|       3.5521|          229800.0|      <1H OCEAN|\n",
      "|  -117.87|   33.74|              31.0|     2338.0|         652.0|    3289.0|     631.0|       2.6734|          158500.0|      <1H OCEAN|\n",
      "|  -117.51|   33.88|              24.0|     3044.0|         602.0|    2541.0|     564.0|        4.131|          123800.0|         INLAND|\n",
      "|  -117.31|   34.13|              38.0|     1287.0|         284.0|    1047.0|     269.0|       2.2865|           65500.0|         INLAND|\n",
      "|  -117.36|   34.28|              18.0|     3903.0|         715.0|    1388.0|     428.0|       4.2386|          157200.0|         INLAND|\n",
      "|   -117.1|   32.69|              35.0|     1292.0|         272.0|    1183.0|     272.0|       2.0547|           98000.0|     NEAR OCEAN|\n",
      "|  -117.06|   32.79|              17.0|     2524.0|         332.0|     771.0|     317.0|       8.7604|          331800.0|      <1H OCEAN|\n",
      "|  -122.42|   37.75|              52.0|     1564.0|         396.0|    1162.0|     374.0|          3.0|          275000.0|       NEAR BAY|\n",
      "|  -121.21|   37.81|              18.0|     2404.0|         498.0|    1531.0|     506.0|        2.995|          124300.0|         INLAND|\n",
      "|  -122.48|   37.51|              22.0|     1564.0|         278.0|     761.0|     270.0|       4.7578|          318500.0|     NEAR OCEAN|\n",
      "|  -119.76|   34.44|              28.0|     1985.0|         582.0|    1092.0|     548.0|       2.4701|          290900.0|     NEAR OCEAN|\n",
      "|  -119.72|   34.43|              27.0|      984.0|         299.0|     777.0|     313.0|       2.5694|          275000.0|      <1H OCEAN|\n",
      "|  -121.87|   37.42|              19.0|    12128.0|        2112.0|    6810.0|    2040.0|       6.4419|          264500.0|      <1H OCEAN|\n",
      "|  -121.97|   37.25|              21.0|     2775.0|         389.0|     856.0|     350.0|       7.9135|          496400.0|      <1H OCEAN|\n",
      "|  -122.04|   36.98|              33.0|      797.0|         125.0|     385.0|     133.0|       6.7974|          367600.0|     NEAR OCEAN|\n",
      "+---------+--------+------------------+-----------+--------------+----------+----------+-------------+------------------+---------------+\n",
      "only showing top 20 rows\n",
      "\n"
     ]
    }
   ],
   "source": [
    "df.sample(fraction=7e-4, withReplacement=False, seed=SEED).show()"
   ]
  },
  {
   "cell_type": "code",
   "execution_count": 4,
   "id": "c561d252",
   "metadata": {},
   "outputs": [
    {
     "name": "stderr",
     "output_type": "stream",
     "text": [
      "[Stage 3:>                                                          (0 + 1) / 1]\r"
     ]
    },
    {
     "name": "stdout",
     "output_type": "stream",
     "text": [
      "+------------------+------+\n",
      "|            column|  type|\n",
      "+------------------+------+\n",
      "|         longitude|double|\n",
      "|          latitude|double|\n",
      "|housing_median_age|double|\n",
      "|       total_rooms|double|\n",
      "|    total_bedrooms|double|\n",
      "|        population|double|\n",
      "|        households|double|\n",
      "|     median_income|double|\n",
      "|median_house_value|double|\n",
      "|   ocean_proximity|string|\n",
      "+------------------+------+\n",
      "\n"
     ]
    },
    {
     "name": "stderr",
     "output_type": "stream",
     "text": [
      "                                                                                \r"
     ]
    }
   ],
   "source": [
    "spark.createDataFrame(df.dtypes, ('column', 'type')).show()"
   ]
  },
  {
   "cell_type": "code",
   "execution_count": 5,
   "id": "32cd54a7",
   "metadata": {},
   "outputs": [
    {
     "name": "stdout",
     "output_type": "stream",
     "text": [
      "+---------+--------+------------------+-----------+--------------+----------+----------+-------------+------------------+---------------+\n",
      "|longitude|latitude|housing_median_age|total_rooms|total_bedrooms|population|households|median_income|median_house_value|ocean_proximity|\n",
      "+---------+--------+------------------+-----------+--------------+----------+----------+-------------+------------------+---------------+\n",
      "|  -117.79|   35.21|               4.0|        2.0|           2.0|       6.0|       2.0|        2.375|          137500.0|         INLAND|\n",
      "|  -118.44|   34.28|              46.0|       11.0|          11.0|      24.0|      13.0|        2.875|          162500.0|      <1H OCEAN|\n",
      "|  -121.04|   37.67|              16.0|       19.0|          19.0|     166.0|       9.0|        0.536|          162500.0|         INLAND|\n",
      "+---------+--------+------------------+-----------+--------------+----------+----------+-------------+------------------+---------------+\n",
      "\n"
     ]
    }
   ],
   "source": [
    "df.filter(F.col('total_rooms') <= F.col('total_bedrooms')).show()"
   ]
  },
  {
   "cell_type": "code",
   "execution_count": 6,
   "id": "2bb3c938",
   "metadata": {},
   "outputs": [
    {
     "name": "stderr",
     "output_type": "stream",
     "text": [
      "                                                                                \r"
     ]
    },
    {
     "data": {
      "text/html": [
       "<div>\n",
       "<style scoped>\n",
       "    .dataframe tbody tr th:only-of-type {\n",
       "        vertical-align: middle;\n",
       "    }\n",
       "\n",
       "    .dataframe tbody tr th {\n",
       "        vertical-align: top;\n",
       "    }\n",
       "\n",
       "    .dataframe thead th {\n",
       "        text-align: right;\n",
       "    }\n",
       "</style>\n",
       "<table border=\"1\" class=\"dataframe\">\n",
       "  <thead>\n",
       "    <tr style=\"text-align: right;\">\n",
       "      <th></th>\n",
       "      <th>summary</th>\n",
       "      <th>longitude</th>\n",
       "      <th>latitude</th>\n",
       "      <th>housing_median_age</th>\n",
       "      <th>total_rooms</th>\n",
       "      <th>total_bedrooms</th>\n",
       "      <th>population</th>\n",
       "      <th>households</th>\n",
       "      <th>median_income</th>\n",
       "      <th>median_house_value</th>\n",
       "      <th>ocean_proximity</th>\n",
       "    </tr>\n",
       "  </thead>\n",
       "  <tbody>\n",
       "    <tr>\n",
       "      <th>0</th>\n",
       "      <td>count</td>\n",
       "      <td>20640</td>\n",
       "      <td>20640</td>\n",
       "      <td>20640</td>\n",
       "      <td>20640</td>\n",
       "      <td>20433</td>\n",
       "      <td>20640</td>\n",
       "      <td>20640</td>\n",
       "      <td>20640</td>\n",
       "      <td>20640</td>\n",
       "      <td>20640</td>\n",
       "    </tr>\n",
       "    <tr>\n",
       "      <th>1</th>\n",
       "      <td>mean</td>\n",
       "      <td>-119.56970445736148</td>\n",
       "      <td>35.6318614341087</td>\n",
       "      <td>28.639486434108527</td>\n",
       "      <td>2635.7630813953488</td>\n",
       "      <td>537.8705525375618</td>\n",
       "      <td>1425.4767441860465</td>\n",
       "      <td>499.5396802325581</td>\n",
       "      <td>3.8706710029070246</td>\n",
       "      <td>206855.81690891474</td>\n",
       "      <td>None</td>\n",
       "    </tr>\n",
       "    <tr>\n",
       "      <th>2</th>\n",
       "      <td>stddev</td>\n",
       "      <td>2.003531723502584</td>\n",
       "      <td>2.135952397457101</td>\n",
       "      <td>12.58555761211163</td>\n",
       "      <td>2181.6152515827944</td>\n",
       "      <td>421.38507007403115</td>\n",
       "      <td>1132.46212176534</td>\n",
       "      <td>382.3297528316098</td>\n",
       "      <td>1.899821717945263</td>\n",
       "      <td>115395.61587441359</td>\n",
       "      <td>None</td>\n",
       "    </tr>\n",
       "    <tr>\n",
       "      <th>3</th>\n",
       "      <td>min</td>\n",
       "      <td>-124.35</td>\n",
       "      <td>32.54</td>\n",
       "      <td>1.0</td>\n",
       "      <td>2.0</td>\n",
       "      <td>1.0</td>\n",
       "      <td>3.0</td>\n",
       "      <td>1.0</td>\n",
       "      <td>0.4999</td>\n",
       "      <td>14999.0</td>\n",
       "      <td>&lt;1H OCEAN</td>\n",
       "    </tr>\n",
       "    <tr>\n",
       "      <th>4</th>\n",
       "      <td>max</td>\n",
       "      <td>-114.31</td>\n",
       "      <td>41.95</td>\n",
       "      <td>52.0</td>\n",
       "      <td>39320.0</td>\n",
       "      <td>6445.0</td>\n",
       "      <td>35682.0</td>\n",
       "      <td>6082.0</td>\n",
       "      <td>15.0001</td>\n",
       "      <td>500001.0</td>\n",
       "      <td>NEAR OCEAN</td>\n",
       "    </tr>\n",
       "  </tbody>\n",
       "</table>\n",
       "</div>"
      ],
      "text/plain": [
       "  summary            longitude           latitude  housing_median_age  \\\n",
       "0   count                20640              20640               20640   \n",
       "1    mean  -119.56970445736148   35.6318614341087  28.639486434108527   \n",
       "2  stddev    2.003531723502584  2.135952397457101   12.58555761211163   \n",
       "3     min              -124.35              32.54                 1.0   \n",
       "4     max              -114.31              41.95                52.0   \n",
       "\n",
       "          total_rooms      total_bedrooms          population  \\\n",
       "0               20640               20433               20640   \n",
       "1  2635.7630813953488   537.8705525375618  1425.4767441860465   \n",
       "2  2181.6152515827944  421.38507007403115    1132.46212176534   \n",
       "3                 2.0                 1.0                 3.0   \n",
       "4             39320.0              6445.0             35682.0   \n",
       "\n",
       "          households       median_income  median_house_value ocean_proximity  \n",
       "0              20640               20640               20640           20640  \n",
       "1  499.5396802325581  3.8706710029070246  206855.81690891474            None  \n",
       "2  382.3297528316098   1.899821717945263  115395.61587441359            None  \n",
       "3                1.0              0.4999             14999.0       <1H OCEAN  \n",
       "4             6082.0             15.0001            500001.0      NEAR OCEAN  "
      ]
     },
     "execution_count": 6,
     "metadata": {},
     "output_type": "execute_result"
    }
   ],
   "source": [
    "df.describe().toPandas()"
   ]
  },
  {
   "cell_type": "code",
   "execution_count": 7,
   "id": "53e41531",
   "metadata": {},
   "outputs": [
    {
     "data": {
      "text/plain": [
       "20640"
      ]
     },
     "execution_count": 7,
     "metadata": {},
     "output_type": "execute_result"
    }
   ],
   "source": [
    "df_length = df.count()\n",
    "df_length"
   ]
  },
  {
   "cell_type": "code",
   "execution_count": 8,
   "id": "7f2733c4",
   "metadata": {},
   "outputs": [
    {
     "name": "stderr",
     "output_type": "stream",
     "text": [
      "                                                                                \r"
     ]
    },
    {
     "data": {
      "text/plain": [
       "True"
      ]
     },
     "execution_count": 8,
     "metadata": {},
     "output_type": "execute_result"
    }
   ],
   "source": [
    "df_length == df.dropDuplicates().count()"
   ]
  },
  {
   "cell_type": "markdown",
   "id": "8cd0f18d",
   "metadata": {},
   "source": [
    "### Синтетические признаки"
   ]
  },
  {
   "cell_type": "code",
   "execution_count": 9,
   "id": "4ce06e16",
   "metadata": {},
   "outputs": [],
   "source": [
    "df = df.withColumn('rooms_per_household',\n",
    "                   F.col('total_rooms') / F.col('households'))\n",
    "df = df.withColumn('population_in_household',\n",
    "                    F.col('population') / F.col('households'))\n",
    "df = df.withColumn('bedroom_index',\n",
    "                    F.col('total_bedrooms') / F.col('total_rooms'))"
   ]
  },
  {
   "cell_type": "markdown",
   "id": "aa8d5f50",
   "metadata": {},
   "source": [
    "### Обработка пропусков"
   ]
  },
  {
   "cell_type": "code",
   "execution_count": 10,
   "id": "2980829e",
   "metadata": {},
   "outputs": [
    {
     "name": "stdout",
     "output_type": "stream",
     "text": [
      "Количество пропусков:\n",
      "\n",
      " -  longitude 0\n",
      " -  latitude 0\n",
      " -  housing_median_age 0\n",
      " -  total_rooms 0\n",
      " -  total_bedrooms 207\n",
      " -  population 0\n",
      " -  households 0\n",
      " -  median_income 0\n",
      " -  median_house_value 0\n",
      " -  ocean_proximity 0\n",
      " -  rooms_per_household 0\n",
      " -  population_in_household 0\n",
      " -  bedroom_index 207\n"
     ]
    }
   ],
   "source": [
    "columns = df.columns\n",
    "\n",
    "print('Количество пропусков:\\n')\n",
    "for column in columns:\n",
    "    missing_values = df.filter(F.col(column).isNull()).count()\n",
    "    print(f' -  {column} {missing_values}')"
   ]
  },
  {
   "cell_type": "code",
   "execution_count": 11,
   "id": "bd0f925d",
   "metadata": {},
   "outputs": [
    {
     "name": "stderr",
     "output_type": "stream",
     "text": [
      "                                                                                \r"
     ]
    },
    {
     "name": "stdout",
     "output_type": "stream",
     "text": [
      "+---------------+-------------------------------------+\n",
      "|ocean_proximity|percentile_approx(bedroom_index, 0.5)|\n",
      "+---------------+-------------------------------------+\n",
      "|         ISLAND|                  0.26506024096385544|\n",
      "|     NEAR OCEAN|                  0.20709335507541785|\n",
      "|       NEAR BAY|                  0.20674157303370785|\n",
      "|      <1H OCEAN|                  0.20668316831683167|\n",
      "|         INLAND|                  0.19826589595375724|\n",
      "+---------------+-------------------------------------+\n",
      "\n"
     ]
    },
    {
     "name": "stderr",
     "output_type": "stream",
     "text": [
      "                                                                                \r"
     ]
    }
   ],
   "source": [
    "(\n",
    "    df.groupby('ocean_proximity')\n",
    "    .agg(F.expr('percentile_approx(bedroom_index, 0.5)'))\n",
    "    .show()\n",
    ")"
   ]
  },
  {
   "cell_type": "code",
   "execution_count": 12,
   "id": "a06bdbc1",
   "metadata": {},
   "outputs": [],
   "source": [
    "df = df.withColumn(\n",
    "    'bedroom_index',\n",
    "    F.when(\n",
    "        F.col('bedroom_index').isNull(),\n",
    "        F.expr('percentile_approx(bedroom_index, 0.5)')\n",
    "        .over(W.partitionBy('ocean_proximity'))\n",
    "    ).otherwise(F.col('bedroom_index'))\n",
    ")"
   ]
  },
  {
   "cell_type": "code",
   "execution_count": 13,
   "id": "9ff35853",
   "metadata": {},
   "outputs": [],
   "source": [
    "df = df.withColumn('is_null', F.col('total_bedrooms').isNull())"
   ]
  },
  {
   "cell_type": "code",
   "execution_count": 14,
   "id": "009da935",
   "metadata": {},
   "outputs": [
    {
     "name": "stderr",
     "output_type": "stream",
     "text": [
      "[Stage 57:======================================>                 (52 + 1) / 75]\r"
     ]
    },
    {
     "name": "stdout",
     "output_type": "stream",
     "text": [
      "+---------------+-----------+-------------------+--------------+\n",
      "|ocean_proximity|total_rooms|      bedroom_index|total_bedrooms|\n",
      "+---------------+-----------+-------------------+--------------+\n",
      "|     NEAR OCEAN|     2790.0|0.20709335507541785|          null|\n",
      "|     NEAR OCEAN|     1321.0|0.20709335507541785|          null|\n",
      "|     NEAR OCEAN|      771.0|0.20709335507541785|          null|\n",
      "|       NEAR BAY|     1256.0|0.20674157303370785|          null|\n",
      "|       NEAR BAY|      992.0|0.20674157303370785|          null|\n",
      "|       NEAR BAY|      746.0|0.20674157303370785|          null|\n",
      "|       NEAR BAY|     2947.0|0.20674157303370785|          null|\n",
      "|      <1H OCEAN|     8879.0|0.20668316831683167|          null|\n",
      "|      <1H OCEAN|      880.0|0.20668316831683167|          null|\n",
      "|      <1H OCEAN|      991.0|0.20668316831683167|          null|\n",
      "|      <1H OCEAN|    10267.0|0.20668316831683167|          null|\n",
      "|      <1H OCEAN|     5736.0|0.20668316831683167|          null|\n",
      "|      <1H OCEAN|     1307.0|0.20668316831683167|          null|\n",
      "|      <1H OCEAN|     4992.0|0.20668316831683167|          null|\n",
      "|      <1H OCEAN|      843.0|0.20668316831683167|          null|\n",
      "|      <1H OCEAN|     3162.0|0.20668316831683167|          null|\n",
      "|      <1H OCEAN|     2313.0|0.20668316831683167|          null|\n",
      "|         INLAND|     3602.0|0.19826589595375724|          null|\n",
      "|         INLAND|     1537.0|0.19826589595375724|          null|\n",
      "+---------------+-----------+-------------------+--------------+\n",
      "\n"
     ]
    },
    {
     "name": "stderr",
     "output_type": "stream",
     "text": [
      "                                                                                \r"
     ]
    }
   ],
   "source": [
    "cols = ['ocean_proximity', 'total_rooms', 'bedroom_index', 'total_bedrooms']\n",
    "(\n",
    "    df.filter(F.col('is_null')).select(cols)\n",
    "    .sample(fraction=.1, withReplacement=False, seed=SEED).show()\n",
    ")"
   ]
  },
  {
   "cell_type": "code",
   "execution_count": 15,
   "id": "f496070a",
   "metadata": {},
   "outputs": [],
   "source": [
    "df = df.withColumn(\n",
    "    'total_bedrooms',\n",
    "    F.when(\n",
    "        F.col('total_bedrooms').isNull(),\n",
    "        F.round(F.col('total_rooms') * F.col('bedroom_index'), 0)\n",
    "    ).otherwise(F.col('total_bedrooms'))\n",
    ")"
   ]
  },
  {
   "cell_type": "code",
   "execution_count": 16,
   "id": "6c458ab9",
   "metadata": {},
   "outputs": [
    {
     "name": "stderr",
     "output_type": "stream",
     "text": [
      "[Stage 67:======================================>                 (52 + 1) / 75]\r"
     ]
    },
    {
     "name": "stdout",
     "output_type": "stream",
     "text": [
      "+---------------+-----------+-------------------+--------------+\n",
      "|ocean_proximity|total_rooms|      bedroom_index|total_bedrooms|\n",
      "+---------------+-----------+-------------------+--------------+\n",
      "|     NEAR OCEAN|     2790.0|0.20709335507541785|         578.0|\n",
      "|     NEAR OCEAN|     1321.0|0.20709335507541785|         274.0|\n",
      "|     NEAR OCEAN|      771.0|0.20709335507541785|         160.0|\n",
      "|       NEAR BAY|     1256.0|0.20674157303370785|         260.0|\n",
      "|       NEAR BAY|      992.0|0.20674157303370785|         205.0|\n",
      "|       NEAR BAY|      746.0|0.20674157303370785|         154.0|\n",
      "|       NEAR BAY|     2947.0|0.20674157303370785|         609.0|\n",
      "|      <1H OCEAN|     8879.0|0.20668316831683167|        1835.0|\n",
      "|      <1H OCEAN|      880.0|0.20668316831683167|         182.0|\n",
      "|      <1H OCEAN|      991.0|0.20668316831683167|         205.0|\n",
      "|      <1H OCEAN|    10267.0|0.20668316831683167|        2122.0|\n",
      "|      <1H OCEAN|     5736.0|0.20668316831683167|        1186.0|\n",
      "|      <1H OCEAN|     1307.0|0.20668316831683167|         270.0|\n",
      "|      <1H OCEAN|     4992.0|0.20668316831683167|        1032.0|\n",
      "|      <1H OCEAN|      843.0|0.20668316831683167|         174.0|\n",
      "|      <1H OCEAN|     3162.0|0.20668316831683167|         654.0|\n",
      "|      <1H OCEAN|     2313.0|0.20668316831683167|         478.0|\n",
      "|         INLAND|     3602.0|0.19826589595375724|         714.0|\n",
      "|         INLAND|     1537.0|0.19826589595375724|         305.0|\n",
      "+---------------+-----------+-------------------+--------------+\n",
      "\n"
     ]
    },
    {
     "name": "stderr",
     "output_type": "stream",
     "text": [
      "                                                                                \r"
     ]
    }
   ],
   "source": [
    "(\n",
    "    df.filter(F.col('is_null')).select(cols)\n",
    "    .sample(fraction=.1, withReplacement=False, seed=SEED).show()\n",
    ")"
   ]
  },
  {
   "cell_type": "code",
   "execution_count": 17,
   "id": "ad747df3",
   "metadata": {},
   "outputs": [],
   "source": [
    "df = df.drop('is_null')"
   ]
  },
  {
   "cell_type": "code",
   "execution_count": 18,
   "id": "924eb229",
   "metadata": {},
   "outputs": [
    {
     "name": "stdout",
     "output_type": "stream",
     "text": [
      "Количество пропусков:\n",
      "\n",
      " -  longitude 0\n",
      " -  latitude 0\n",
      " -  housing_median_age 0\n",
      " -  total_rooms 0\n"
     ]
    },
    {
     "name": "stderr",
     "output_type": "stream",
     "text": [
      "                                                                                \r"
     ]
    },
    {
     "name": "stdout",
     "output_type": "stream",
     "text": [
      " -  total_bedrooms 0\n",
      " -  population 0\n",
      " -  households 0\n",
      " -  median_income 0\n",
      " -  median_house_value 0\n",
      " -  ocean_proximity 0\n",
      " -  rooms_per_household 0\n",
      " -  population_in_household 0\n"
     ]
    },
    {
     "name": "stderr",
     "output_type": "stream",
     "text": [
      "[Stage 94:=================================================>    (185 + 1) / 200]\r"
     ]
    },
    {
     "name": "stdout",
     "output_type": "stream",
     "text": [
      " -  bedroom_index 0\n"
     ]
    },
    {
     "name": "stderr",
     "output_type": "stream",
     "text": [
      "                                                                                \r"
     ]
    }
   ],
   "source": [
    "columns = df.columns\n",
    "\n",
    "print('Количество пропусков:\\n')\n",
    "for column in columns:\n",
    "    missing_values = df.filter(F.col(column).isNull()).count()\n",
    "    print(f' -  {column} {missing_values}')"
   ]
  },
  {
   "cell_type": "markdown",
   "id": "56521630",
   "metadata": {},
   "source": [
    "**Вывод:**  \n",
    "- набор данных состоит из 20640 объектов, содержит 9 числовых и 1 категориальную переменную;  \n",
    "- данные содержат выбросы и пропуски;  \n",
    "- явные дубликаты отсутствуют;  \n",
    "- добавлены синтетические признаки: `rooms_per_household`, `population_in_household` и `bedroom_index`;  \n",
    "- пропуски в `bedroom_index` заполнены медианным значением в зависимости от удалённости от океана;  \n",
    "- пропуски в столбце `total_bedrooms` заполнены произведением `total_rooms` и `bedroom_index`."
   ]
  },
  {
   "cell_type": "markdown",
   "id": "136d579e",
   "metadata": {
    "id": "9f0a82f3"
   },
   "source": [
    "## Обучение моделей"
   ]
  },
  {
   "cell_type": "code",
   "execution_count": 19,
   "id": "f01b6c3a",
   "metadata": {},
   "outputs": [
    {
     "name": "stderr",
     "output_type": "stream",
     "text": [
      "[Stage 100:==================================================>  (192 + 1) / 200]\r"
     ]
    },
    {
     "name": "stdout",
     "output_type": "stream",
     "text": [
      "16489 4151\n"
     ]
    },
    {
     "name": "stderr",
     "output_type": "stream",
     "text": [
      "                                                                                \r"
     ]
    }
   ],
   "source": [
    "train_data, test_data = df.randomSplit([.8,.2], seed=SEED)\n",
    "print(train_data.count(), test_data.count())"
   ]
  },
  {
   "cell_type": "code",
   "execution_count": 20,
   "id": "38b16584",
   "metadata": {},
   "outputs": [
    {
     "name": "stderr",
     "output_type": "stream",
     "text": [
      "                                                                                \r"
     ]
    },
    {
     "data": {
      "text/plain": [
       "[]"
      ]
     },
     "execution_count": 20,
     "metadata": {},
     "output_type": "execute_result"
    }
   ],
   "source": [
    "categorical_col = 'ocean_proximity'\n",
    "indexer = StringIndexer(inputCols=[categorical_col], \n",
    "                        outputCols=[f'{categorical_col}_idx'],\n",
    "                        handleInvalid='keep')\n",
    "\n",
    "encoder = OneHotEncoder(inputCols=[f'{categorical_col}_idx'],\n",
    "                        outputCols=[f'{categorical_col}_ohe'])\n",
    "\n",
    "(\n",
    "    test_data.select(categorical_col)\n",
    "    .subtract(train_data.select(categorical_col))\n",
    "    .collect()\n",
    ")"
   ]
  },
  {
   "cell_type": "code",
   "execution_count": 21,
   "id": "88657d88",
   "metadata": {},
   "outputs": [
    {
     "data": {
      "text/plain": [
       "['longitude',\n",
       " 'latitude',\n",
       " 'housing_median_age',\n",
       " 'total_rooms',\n",
       " 'total_bedrooms',\n",
       " 'population',\n",
       " 'households',\n",
       " 'median_income',\n",
       " 'rooms_per_household',\n",
       " 'population_in_household',\n",
       " 'bedroom_index']"
      ]
     },
     "execution_count": 21,
     "metadata": {},
     "output_type": "execute_result"
    }
   ],
   "source": [
    "numerical_cols = [col for col in df.columns\n",
    "                  if not col.startswith(categorical_col)\n",
    "                  and col != 'median_house_value']\n",
    "numerical_cols"
   ]
  },
  {
   "cell_type": "code",
   "execution_count": 22,
   "id": "a34ca913",
   "metadata": {},
   "outputs": [],
   "source": [
    "numerical_assembler = VectorAssembler(inputCols=numerical_cols,\n",
    "                                      outputCol='numerical_features')"
   ]
  },
  {
   "cell_type": "code",
   "execution_count": 23,
   "id": "f5fb35c9",
   "metadata": {},
   "outputs": [],
   "source": [
    "scaler = StandardScaler(inputCol='numerical_features',\n",
    "                        outputCol='numerical_features_scaled',\n",
    "                        withMean=True)\n",
    "\n",
    "all_features = ['ocean_proximity_ohe','numerical_features_scaled']\n",
    "\n",
    "final_assembler = VectorAssembler(inputCols=all_features, \n",
    "                                  outputCol='features')"
   ]
  },
  {
   "cell_type": "code",
   "execution_count": 24,
   "id": "4d62a9e5",
   "metadata": {},
   "outputs": [],
   "source": [
    "stages = [indexer, encoder, numerical_assembler, scaler, final_assembler]\n",
    "\n",
    "\n",
    "def get_pipeline(features='features', stages=stages):\n",
    "    lr = LinearRegression(labelCol='median_house_value', featuresCol=features,\n",
    "                          regParam=1, solver='l-bfgs')\n",
    "    stages.append(lr)\n",
    "    return Pipeline(stages=stages)"
   ]
  },
  {
   "cell_type": "markdown",
   "id": "9121ded0",
   "metadata": {},
   "source": [
    "### Модель линейной регрессии, построенная на всех данных"
   ]
  },
  {
   "cell_type": "code",
   "execution_count": 25,
   "id": "42faf104",
   "metadata": {},
   "outputs": [
    {
     "name": "stderr",
     "output_type": "stream",
     "text": [
      "23/10/27 15:01:09 WARN BLAS: Failed to load implementation from: com.github.fommil.netlib.NativeSystemBLAS\n",
      "23/10/27 15:01:09 WARN BLAS: Failed to load implementation from: com.github.fommil.netlib.NativeRefBLAS\n",
      "[Stage 290:=============================================>       (170 + 1) / 200]\r"
     ]
    },
    {
     "name": "stdout",
     "output_type": "stream",
     "text": [
      "CPU times: user 280 ms, sys: 78.9 ms, total: 359 ms\n",
      "Wall time: 1min 37s\n"
     ]
    },
    {
     "name": "stderr",
     "output_type": "stream",
     "text": [
      "                                                                                \r"
     ]
    }
   ],
   "source": [
    "%%time\n",
    "pipeline = get_pipeline()\n",
    "model = pipeline.fit(train_data)"
   ]
  },
  {
   "cell_type": "code",
   "execution_count": 26,
   "id": "4ea3ae20",
   "metadata": {},
   "outputs": [],
   "source": [
    "predictions = model.transform(test_data)"
   ]
  },
  {
   "cell_type": "code",
   "execution_count": 27,
   "id": "6c2f3aa0",
   "metadata": {},
   "outputs": [],
   "source": [
    "evaluator = RegressionEvaluator(labelCol='median_house_value',\n",
    "                                predictionCol='prediction')"
   ]
  },
  {
   "cell_type": "code",
   "execution_count": 28,
   "id": "ca43a090",
   "metadata": {},
   "outputs": [
    {
     "name": "stderr",
     "output_type": "stream",
     "text": [
      "                                                                                \r"
     ]
    }
   ],
   "source": [
    "metrics = ['mae', 'rmse', 'r2']\n",
    "result = [evaluator.evaluate(predictions, {evaluator.metricName: metric})\n",
    "          for metric in metrics]"
   ]
  },
  {
   "cell_type": "markdown",
   "id": "a505d1e7",
   "metadata": {},
   "source": [
    "### Модель линейной регрессии, построенная на числовых переменных"
   ]
  },
  {
   "cell_type": "code",
   "execution_count": 29,
   "id": "f8d2d22a",
   "metadata": {},
   "outputs": [
    {
     "name": "stderr",
     "output_type": "stream",
     "text": [
      "[Stage 464:==============================================>      (175 + 1) / 200]\r"
     ]
    },
    {
     "name": "stdout",
     "output_type": "stream",
     "text": [
      "CPU times: user 168 ms, sys: 38.4 ms, total: 206 ms\n",
      "Wall time: 59 s\n"
     ]
    },
    {
     "name": "stderr",
     "output_type": "stream",
     "text": [
      "                                                                                \r"
     ]
    }
   ],
   "source": [
    "%%time\n",
    "pipeline_num = get_pipeline('numerical_features_scaled',\n",
    "                            [numerical_assembler, scaler])\n",
    "model_num = pipeline_num.fit(train_data)\n",
    "\n",
    "predictions_num = model_num.transform(test_data)"
   ]
  },
  {
   "cell_type": "code",
   "execution_count": 30,
   "id": "cae8bf49",
   "metadata": {},
   "outputs": [
    {
     "name": "stderr",
     "output_type": "stream",
     "text": [
      "                                                                                \r"
     ]
    }
   ],
   "source": [
    "result_num = [evaluator.evaluate(predictions_num,\n",
    "                                 {evaluator.metricName: metric})\n",
    "              for metric in metrics]"
   ]
  },
  {
   "cell_type": "markdown",
   "id": "03cc7f3d",
   "metadata": {},
   "source": [
    "**Вывод**:<br>\n",
    "построены две модели линейной регрессии на разных наборах данных:  \n",
    "- используя все данные из файла;  \n",
    "- используя только числовые переменные, исключив категориальные."
   ]
  },
  {
   "cell_type": "markdown",
   "id": "c6cabbb3",
   "metadata": {
    "id": "757fd103"
   },
   "source": [
    "## Анализ результатов"
   ]
  },
  {
   "cell_type": "code",
   "execution_count": 31,
   "id": "a94e7f4c",
   "metadata": {},
   "outputs": [],
   "source": [
    "def get_ax(stats, lbl='Все признаки', color='tab:blue',\n",
    "           line_color='black', alpha=.4):\n",
    "    lower, upper, mean, values = stats\n",
    "    name_stat = {\n",
    "        'среднее': mean, '2.5%-квантиль': lower, '97.5%-квантиль': upper\n",
    "    }\n",
    "    lines = ['-', '--']\n",
    "    ax = sns.histplot(values, edgecolor='white', label=lbl,\n",
    "                      alpha=alpha, color=color, kde=True)\n",
    "    for name, stat in name_stat.items():\n",
    "        ax.axvline(x=stat, c=line_color, ls=lines[int(stat != mean)],\n",
    "                   lw=1, label=f'{name}: {stat:,.0f}'.replace(',', ' '))\n",
    "    return ax\n",
    "\n",
    "\n",
    "def get_histograms(stats, stats_num):\n",
    "    plt.figure(figsize=(15, 5))\n",
    "    ax1 = get_ax(stats)\n",
    "    ax2 = get_ax(stats_num, 'Числовые признаки',\n",
    "                 color='sandybrown', line_color='r')\n",
    "    plt.ylabel('Количество')\n",
    "    plt.xlabel('Средняя абсолютная ошибка')\n",
    "    plt.title(\n",
    "        'Распределения возможных значений средней абсолютной ошибки'\n",
    "    )\n",
    "    plt.legend(bbox_to_anchor=(1, 1))\n",
    "    plt.grid(True, alpha=.3)"
   ]
  },
  {
   "cell_type": "code",
   "execution_count": 32,
   "id": "fe676111",
   "metadata": {},
   "outputs": [
    {
     "data": {
      "text/html": [
       "<div>\n",
       "<style scoped>\n",
       "    .dataframe tbody tr th:only-of-type {\n",
       "        vertical-align: middle;\n",
       "    }\n",
       "\n",
       "    .dataframe tbody tr th {\n",
       "        vertical-align: top;\n",
       "    }\n",
       "\n",
       "    .dataframe thead th {\n",
       "        text-align: right;\n",
       "    }\n",
       "</style>\n",
       "<table border=\"1\" class=\"dataframe\">\n",
       "  <thead>\n",
       "    <tr style=\"text-align: right;\">\n",
       "      <th></th>\n",
       "      <th>mae</th>\n",
       "      <th>rmse</th>\n",
       "      <th>r2</th>\n",
       "    </tr>\n",
       "  </thead>\n",
       "  <tbody>\n",
       "    <tr>\n",
       "      <th>Все данные</th>\n",
       "      <td>48116</td>\n",
       "      <td>65635</td>\n",
       "      <td>0.669</td>\n",
       "    </tr>\n",
       "    <tr>\n",
       "      <th>Только числовые переменные</th>\n",
       "      <td>49012</td>\n",
       "      <td>66363</td>\n",
       "      <td>0.662</td>\n",
       "    </tr>\n",
       "  </tbody>\n",
       "</table>\n",
       "</div>"
      ],
      "text/plain": [
       "                              mae   rmse     r2\n",
       "Все данные                  48116  65635  0.669\n",
       "Только числовые переменные  49012  66363  0.662"
      ]
     },
     "execution_count": 32,
     "metadata": {},
     "output_type": "execute_result"
    }
   ],
   "source": [
    "metric_scores = {metric: (score, score_num) for metric, score, score_num\n",
    "                 in zip(metrics, result, result_num)}\n",
    "results = pd.DataFrame(data=metric_scores,\n",
    "                       index=['Все данные', 'Только числовые переменные'])\n",
    "results[['mae', 'rmse']] = results[['mae', 'rmse']].round(0).astype('int')\n",
    "results['r2'] = results['r2'].round(3)\n",
    "results"
   ]
  },
  {
   "cell_type": "code",
   "execution_count": 33,
   "id": "af839cb5",
   "metadata": {},
   "outputs": [
    {
     "name": "stderr",
     "output_type": "stream",
     "text": [
      "                                                                                \r"
     ]
    }
   ],
   "source": [
    "predictions = predictions.withColumn(\n",
    "    'prediction_target_abs_diff',\n",
    "    F.abs(F.col('prediction') - F.col('median_house_value'))\n",
    ")\n",
    "abs_differences = predictions.select('prediction_target_abs_diff').toPandas()\n",
    "\n",
    "predictions_num = predictions_num.withColumn(\n",
    "    'prediction_target_abs_diff',\n",
    "    F.abs(F.col('prediction') - F.col('median_house_value'))\n",
    ")\n",
    "abs_differences_num = \\\n",
    "    predictions_num.select('prediction_target_abs_diff').toPandas()"
   ]
  },
  {
   "cell_type": "code",
   "execution_count": 34,
   "id": "88297496",
   "metadata": {},
   "outputs": [],
   "source": [
    "def get_statistics(vals):\n",
    "    vals = pd.Series(vals)\n",
    "    lower = vals.quantile(0.025)\n",
    "    upper = vals.quantile(0.975)\n",
    "    mean = vals.mean()\n",
    "    return lower, upper, mean, vals\n",
    "\n",
    "\n",
    "def bootstrap(values, values_num):\n",
    "    mae_values = []\n",
    "    mae_values_num = []\n",
    "    state = np.random.RandomState(SEED)\n",
    "\n",
    "    for _ in tqdm(range(10000)):\n",
    "        subsample = values.sample(frac=1, random_state=state,\n",
    "                                  replace=True)\n",
    "        subsample_num = values_num.sample(frac=1, random_state=state,\n",
    "                                          replace=True)\n",
    "        mae_values.append(subsample.mean())\n",
    "        mae_values_num.append(subsample_num.mean())\n",
    "\n",
    "    return (get_statistics(mae_values),\n",
    "            get_statistics(mae_values_num))"
   ]
  },
  {
   "cell_type": "code",
   "execution_count": 35,
   "id": "a3b9b3db",
   "metadata": {},
   "outputs": [
    {
     "name": "stderr",
     "output_type": "stream",
     "text": [
      "100%|██████████| 10000/10000 [00:06<00:00, 1585.02it/s]\n"
     ]
    }
   ],
   "source": [
    "statistics, statistics_num = bootstrap(\n",
    "    abs_differences['prediction_target_abs_diff'],\n",
    "    abs_differences_num['prediction_target_abs_diff']\n",
    ")"
   ]
  },
  {
   "cell_type": "code",
   "execution_count": 36,
   "id": "7a83c7dd",
   "metadata": {},
   "outputs": [
    {
     "data": {
      "image/png": "[encoded data removed]",
      "text/plain": [
       "<Figure size 1080x360 with 1 Axes>"
      ]
     },
     "metadata": {
      "needs_background": "light"
     },
     "output_type": "display_data"
    }
   ],
   "source": [
    "get_histograms(statistics, statistics_num)"
   ]
  },
  {
   "cell_type": "markdown",
   "id": "51c1da62",
   "metadata": {},
   "source": [
    "**H0**: распределение признака `prediction_target_abs_diff` в первой выборке соответствует распределению во второй выборке.     \n",
    "**H1**: распределение признака `prediction_target_abs_diff` в первой выборке не соответствует распределению во второй выборке."
   ]
  },
  {
   "cell_type": "code",
   "execution_count": 37,
   "id": "eb225e78",
   "metadata": {},
   "outputs": [
    {
     "name": "stdout",
     "output_type": "stream",
     "text": [
      "Statistics=8468209.0, p=0.178\n",
      "Нет достаточных оснований отклонить нулевую гипотезу\n"
     ]
    }
   ],
   "source": [
    "stat, p = mannwhitneyu(abs_differences['prediction_target_abs_diff'],\n",
    "                       abs_differences_num['prediction_target_abs_diff'])\n",
    "print(f'Statistics={stat}, p={p:.3f}')\n",
    "alpha = 0.05\n",
    "if p < alpha:\n",
    "    print('Достаточно оснований отклонить нулевую гипотезу')\n",
    "else:\n",
    "    print('Нет достаточных оснований отклонить нулевую гипотезу')"
   ]
  },
  {
   "cell_type": "code",
   "execution_count": 38,
   "id": "4e9160c1",
   "metadata": {},
   "outputs": [
    {
     "name": "stdout",
     "output_type": "stream",
     "text": [
      "Отрицательные значения (все признаки)\n"
     ]
    },
    {
     "name": "stderr",
     "output_type": "stream",
     "text": [
      "                                                                                \r"
     ]
    },
    {
     "data": {
      "text/html": [
       "<div>\n",
       "<style scoped>\n",
       "    .dataframe tbody tr th:only-of-type {\n",
       "        vertical-align: middle;\n",
       "    }\n",
       "\n",
       "    .dataframe tbody tr th {\n",
       "        vertical-align: top;\n",
       "    }\n",
       "\n",
       "    .dataframe thead th {\n",
       "        text-align: right;\n",
       "    }\n",
       "</style>\n",
       "<table border=\"1\" class=\"dataframe\">\n",
       "  <thead>\n",
       "    <tr style=\"text-align: right;\">\n",
       "      <th></th>\n",
       "      <th>median_house_value</th>\n",
       "      <th>prediction</th>\n",
       "    </tr>\n",
       "  </thead>\n",
       "  <tbody>\n",
       "    <tr>\n",
       "      <th>0</th>\n",
       "      <td>153300.0</td>\n",
       "      <td>-7984.297140</td>\n",
       "    </tr>\n",
       "    <tr>\n",
       "      <th>1</th>\n",
       "      <td>65200.0</td>\n",
       "      <td>-2107.499267</td>\n",
       "    </tr>\n",
       "    <tr>\n",
       "      <th>2</th>\n",
       "      <td>67500.0</td>\n",
       "      <td>-30579.709295</td>\n",
       "    </tr>\n",
       "    <tr>\n",
       "      <th>3</th>\n",
       "      <td>115400.0</td>\n",
       "      <td>-64305.866390</td>\n",
       "    </tr>\n",
       "    <tr>\n",
       "      <th>4</th>\n",
       "      <td>116300.0</td>\n",
       "      <td>-33962.426893</td>\n",
       "    </tr>\n",
       "    <tr>\n",
       "      <th>5</th>\n",
       "      <td>56100.0</td>\n",
       "      <td>-31648.725334</td>\n",
       "    </tr>\n",
       "    <tr>\n",
       "      <th>6</th>\n",
       "      <td>60800.0</td>\n",
       "      <td>-7424.147230</td>\n",
       "    </tr>\n",
       "    <tr>\n",
       "      <th>7</th>\n",
       "      <td>86800.0</td>\n",
       "      <td>-28154.252925</td>\n",
       "    </tr>\n",
       "  </tbody>\n",
       "</table>\n",
       "</div>"
      ],
      "text/plain": [
       "   median_house_value    prediction\n",
       "0            153300.0  -7984.297140\n",
       "1             65200.0  -2107.499267\n",
       "2             67500.0 -30579.709295\n",
       "3            115400.0 -64305.866390\n",
       "4            116300.0 -33962.426893\n",
       "5             56100.0 -31648.725334\n",
       "6             60800.0  -7424.147230\n",
       "7             86800.0 -28154.252925"
      ]
     },
     "metadata": {},
     "output_type": "display_data"
    },
    {
     "name": "stdout",
     "output_type": "stream",
     "text": [
      "\n",
      "Отрицательные значения (числовые признаки)\n"
     ]
    },
    {
     "name": "stderr",
     "output_type": "stream",
     "text": [
      "                                                                                \r"
     ]
    },
    {
     "data": {
      "text/html": [
       "<div>\n",
       "<style scoped>\n",
       "    .dataframe tbody tr th:only-of-type {\n",
       "        vertical-align: middle;\n",
       "    }\n",
       "\n",
       "    .dataframe tbody tr th {\n",
       "        vertical-align: top;\n",
       "    }\n",
       "\n",
       "    .dataframe thead th {\n",
       "        text-align: right;\n",
       "    }\n",
       "</style>\n",
       "<table border=\"1\" class=\"dataframe\">\n",
       "  <thead>\n",
       "    <tr style=\"text-align: right;\">\n",
       "      <th></th>\n",
       "      <th>median_house_value</th>\n",
       "      <th>prediction</th>\n",
       "    </tr>\n",
       "  </thead>\n",
       "  <tbody>\n",
       "    <tr>\n",
       "      <th>0</th>\n",
       "      <td>350000.0</td>\n",
       "      <td>-745.086551</td>\n",
       "    </tr>\n",
       "    <tr>\n",
       "      <th>1</th>\n",
       "      <td>153300.0</td>\n",
       "      <td>-16929.674953</td>\n",
       "    </tr>\n",
       "    <tr>\n",
       "      <th>2</th>\n",
       "      <td>58600.0</td>\n",
       "      <td>-10374.186857</td>\n",
       "    </tr>\n",
       "    <tr>\n",
       "      <th>3</th>\n",
       "      <td>44000.0</td>\n",
       "      <td>-36614.423538</td>\n",
       "    </tr>\n",
       "    <tr>\n",
       "      <th>4</th>\n",
       "      <td>88900.0</td>\n",
       "      <td>-6614.327789</td>\n",
       "    </tr>\n",
       "    <tr>\n",
       "      <th>5</th>\n",
       "      <td>34200.0</td>\n",
       "      <td>-28966.299309</td>\n",
       "    </tr>\n",
       "    <tr>\n",
       "      <th>6</th>\n",
       "      <td>92800.0</td>\n",
       "      <td>-1204.342173</td>\n",
       "    </tr>\n",
       "    <tr>\n",
       "      <th>7</th>\n",
       "      <td>65200.0</td>\n",
       "      <td>-11985.874841</td>\n",
       "    </tr>\n",
       "    <tr>\n",
       "      <th>8</th>\n",
       "      <td>57500.0</td>\n",
       "      <td>-24713.730282</td>\n",
       "    </tr>\n",
       "    <tr>\n",
       "      <th>9</th>\n",
       "      <td>48100.0</td>\n",
       "      <td>-15208.829629</td>\n",
       "    </tr>\n",
       "    <tr>\n",
       "      <th>10</th>\n",
       "      <td>64100.0</td>\n",
       "      <td>-1975.706470</td>\n",
       "    </tr>\n",
       "    <tr>\n",
       "      <th>11</th>\n",
       "      <td>89200.0</td>\n",
       "      <td>-6548.458970</td>\n",
       "    </tr>\n",
       "    <tr>\n",
       "      <th>12</th>\n",
       "      <td>67500.0</td>\n",
       "      <td>-77799.671466</td>\n",
       "    </tr>\n",
       "    <tr>\n",
       "      <th>13</th>\n",
       "      <td>69100.0</td>\n",
       "      <td>-50116.400832</td>\n",
       "    </tr>\n",
       "    <tr>\n",
       "      <th>14</th>\n",
       "      <td>115400.0</td>\n",
       "      <td>-65976.108113</td>\n",
       "    </tr>\n",
       "    <tr>\n",
       "      <th>15</th>\n",
       "      <td>92800.0</td>\n",
       "      <td>-26740.023050</td>\n",
       "    </tr>\n",
       "    <tr>\n",
       "      <th>16</th>\n",
       "      <td>93000.0</td>\n",
       "      <td>-6269.255281</td>\n",
       "    </tr>\n",
       "    <tr>\n",
       "      <th>17</th>\n",
       "      <td>155700.0</td>\n",
       "      <td>-2442.445551</td>\n",
       "    </tr>\n",
       "    <tr>\n",
       "      <th>18</th>\n",
       "      <td>116300.0</td>\n",
       "      <td>-60727.924855</td>\n",
       "    </tr>\n",
       "    <tr>\n",
       "      <th>19</th>\n",
       "      <td>52600.0</td>\n",
       "      <td>-52722.998209</td>\n",
       "    </tr>\n",
       "    <tr>\n",
       "      <th>20</th>\n",
       "      <td>56100.0</td>\n",
       "      <td>-94338.509951</td>\n",
       "    </tr>\n",
       "    <tr>\n",
       "      <th>21</th>\n",
       "      <td>107800.0</td>\n",
       "      <td>-983.278425</td>\n",
       "    </tr>\n",
       "    <tr>\n",
       "      <th>22</th>\n",
       "      <td>86800.0</td>\n",
       "      <td>-64004.518515</td>\n",
       "    </tr>\n",
       "    <tr>\n",
       "      <th>23</th>\n",
       "      <td>48600.0</td>\n",
       "      <td>-23436.436803</td>\n",
       "    </tr>\n",
       "  </tbody>\n",
       "</table>\n",
       "</div>"
      ],
      "text/plain": [
       "    median_house_value    prediction\n",
       "0             350000.0   -745.086551\n",
       "1             153300.0 -16929.674953\n",
       "2              58600.0 -10374.186857\n",
       "3              44000.0 -36614.423538\n",
       "4              88900.0  -6614.327789\n",
       "5              34200.0 -28966.299309\n",
       "6              92800.0  -1204.342173\n",
       "7              65200.0 -11985.874841\n",
       "8              57500.0 -24713.730282\n",
       "9              48100.0 -15208.829629\n",
       "10             64100.0  -1975.706470\n",
       "11             89200.0  -6548.458970\n",
       "12             67500.0 -77799.671466\n",
       "13             69100.0 -50116.400832\n",
       "14            115400.0 -65976.108113\n",
       "15             92800.0 -26740.023050\n",
       "16             93000.0  -6269.255281\n",
       "17            155700.0  -2442.445551\n",
       "18            116300.0 -60727.924855\n",
       "19             52600.0 -52722.998209\n",
       "20             56100.0 -94338.509951\n",
       "21            107800.0   -983.278425\n",
       "22             86800.0 -64004.518515\n",
       "23             48600.0 -23436.436803"
      ]
     },
     "execution_count": 38,
     "metadata": {},
     "output_type": "execute_result"
    }
   ],
   "source": [
    "print('Отрицательные значения (все признаки)')\n",
    "display(\n",
    "    predictions.filter(F.col('prediction') < 0)\n",
    "    .select(['median_house_value', 'prediction'])\n",
    "    .toPandas()\n",
    ")\n",
    "print('\\nОтрицательные значения (числовые признаки)')\n",
    "(\n",
    "    predictions_num.filter(F.col('prediction') < 0)\n",
    "    .select(['median_house_value', 'prediction'])\n",
    "    .toPandas()\n",
    ")"
   ]
  },
  {
   "cell_type": "markdown",
   "id": "33bf6fd0",
   "metadata": {},
   "source": [
    "В обеих выборках присутствует незначительное количество отрицательных значений.  \n",
    "В предсказаниях модели, построенной на всех признаках, содержится меньшее количество отрицательных значений."
   ]
  },
  {
   "cell_type": "markdown",
   "id": "796c9fed",
   "metadata": {},
   "source": [
    "**Вывод**: модель, построенная на всех признаках, показала лучшие результаты. Тем не менее оснований утверждать, что она будет лучше справляться с поставленной задачей недостаточно."
   ]
  },
  {
   "cell_type": "code",
   "execution_count": 39,
   "id": "e803a11b",
   "metadata": {},
   "outputs": [],
   "source": [
    "spark.stop()"
   ]
  },
  {
   "cell_type": "markdown",
   "id": "3cec8455",
   "metadata": {},
   "source": [
    "## Общий вывод"
   ]
  },
  {
   "cell_type": "markdown",
   "id": "d85c8285",
   "metadata": {},
   "source": [
    "**Описание данных:**  \n",
    "`longitude` — долгота;  \n",
    "`latitude` — широта;  \n",
    "`housing_median_age` — медианный возраст жителей жилого массива;  \n",
    "`total_rooms` — общее количество комнат в домах жилого массива;  \n",
    "`total_bedrooms` — общее количество спален в домах жилого массива;  \n",
    "`population` — количество человек, которые проживают в жилом массиве;  \n",
    "`households` — количество домовладений в жилом массиве;  \n",
    "`median_income` — медианный доход жителей жилого массива;   \n",
    "`ocean_proximity` — близость к океану.  \n",
    "\n",
    "**Целевой признак:**  \n",
    "`median_house_value` — медианная стоимость дома в жилом массиве.   \n",
    "\n",
    "**Ход исследования**:  \n",
    "- в загруженном наборе данных обнаружены пропуски и выбросы;  \n",
    "- добавлены синтетические признаки;  \n",
    "- пропуски в `bedroom_index` заполнены медианным значением в зависимости от удалённости от океана;  \n",
    "- пропуски в столбце `total_bedrooms` заполнены произведением `total_rooms` и `bedroom_index`;  \n",
    "- категориальный признак преобразован техникой One hot encoding;  \n",
    "- числовые признаки масштабированы с помощью `StandardScaler`;  \n",
    "- исследованы две модели линейной регрессии: первая построена на всех признаках, вторая – только на числовых;  \n",
    "- лучшие результаты показала модель, построенная на всех признаках:  \n",
    "    - `mae` = 48116;  \n",
    "    - `rmse` = 65635;  \n",
    "    - `r2` = 0.669."
   ]
  }
 ],
 "metadata": {
  "ExecuteTimeLog": [
   {
    "duration": 712,
    "start_time": "2023-10-24T11:17:25.680Z"
   },
   {
    "duration": 14674,
    "start_time": "2023-10-24T11:17:35.287Z"
   },
   {
    "duration": 6,
    "start_time": "2023-10-24T11:18:39.255Z"
   },
   {
    "duration": 9146,
    "start_time": "2023-10-24T11:20:58.117Z"
   },
   {
    "duration": 8,
    "start_time": "2023-10-24T11:25:52.584Z"
   },
   {
    "duration": 5,
    "start_time": "2023-10-24T11:25:55.147Z"
   },
   {
    "duration": 78,
    "start_time": "2023-10-24T11:25:58.587Z"
   },
   {
    "duration": 6,
    "start_time": "2023-10-24T11:26:10.283Z"
   },
   {
    "duration": 4,
    "start_time": "2023-10-24T11:26:11.514Z"
   },
   {
    "duration": 68,
    "start_time": "2023-10-24T11:26:12.482Z"
   },
   {
    "duration": 3,
    "start_time": "2023-10-24T11:26:57.523Z"
   },
   {
    "duration": 1377,
    "start_time": "2023-10-24T11:26:58.474Z"
   },
   {
    "duration": 4,
    "start_time": "2023-10-24T11:27:28.154Z"
   },
   {
    "duration": 95,
    "start_time": "2023-10-24T11:27:29.026Z"
   },
   {
    "duration": 10,
    "start_time": "2023-10-24T11:28:03.798Z"
   },
   {
    "duration": 80,
    "start_time": "2023-10-24T11:28:04.592Z"
   },
   {
    "duration": 6,
    "start_time": "2023-10-24T11:32:27.335Z"
   },
   {
    "duration": 4,
    "start_time": "2023-10-24T11:32:30.864Z"
   },
   {
    "duration": 800,
    "start_time": "2023-10-24T11:32:33.440Z"
   },
   {
    "duration": 6,
    "start_time": "2023-10-24T11:34:47.664Z"
   },
   {
    "duration": 4,
    "start_time": "2023-10-24T11:35:13.487Z"
   },
   {
    "duration": 202,
    "start_time": "2023-10-24T11:35:14.266Z"
   },
   {
    "duration": 5,
    "start_time": "2023-10-24T11:35:28.857Z"
   },
   {
    "duration": 4,
    "start_time": "2023-10-24T11:35:29.864Z"
   },
   {
    "duration": 203,
    "start_time": "2023-10-24T11:35:31.063Z"
   },
   {
    "duration": 3,
    "start_time": "2023-10-24T11:35:51.496Z"
   },
   {
    "duration": 66,
    "start_time": "2023-10-24T11:35:52.048Z"
   },
   {
    "duration": 6,
    "start_time": "2023-10-24T11:35:56.704Z"
   },
   {
    "duration": 3,
    "start_time": "2023-10-24T11:35:59.144Z"
   },
   {
    "duration": 61,
    "start_time": "2023-10-24T11:36:01.176Z"
   },
   {
    "duration": 15710,
    "start_time": "2023-10-24T11:37:41.451Z"
   },
   {
    "duration": 7,
    "start_time": "2023-10-24T11:37:57.164Z"
   },
   {
    "duration": 500,
    "start_time": "2023-10-24T11:37:57.172Z"
   },
   {
    "duration": 7,
    "start_time": "2023-10-24T11:39:25.174Z"
   },
   {
    "duration": 2,
    "start_time": "2023-10-24T11:39:25.951Z"
   },
   {
    "duration": 308,
    "start_time": "2023-10-24T11:39:26.904Z"
   },
   {
    "duration": 15549,
    "start_time": "2023-10-24T11:41:15.401Z"
   },
   {
    "duration": 8305,
    "start_time": "2023-10-24T11:41:30.953Z"
   },
   {
    "duration": 788,
    "start_time": "2023-10-24T11:41:39.259Z"
   },
   {
    "duration": 1331,
    "start_time": "2023-10-24T11:44:41.276Z"
   },
   {
    "duration": 44,
    "start_time": "2023-10-24T12:33:57.776Z"
   },
   {
    "duration": 340,
    "start_time": "2023-10-24T12:34:08.305Z"
   },
   {
    "duration": 76,
    "start_time": "2023-10-24T12:36:31.062Z"
   },
   {
    "duration": 6,
    "start_time": "2023-10-24T12:36:41.719Z"
   },
   {
    "duration": 794,
    "start_time": "2023-10-24T12:36:43.983Z"
   },
   {
    "duration": 12,
    "start_time": "2023-10-24T12:36:45.591Z"
   },
   {
    "duration": 619,
    "start_time": "2023-10-24T12:36:58.670Z"
   },
   {
    "duration": 482,
    "start_time": "2023-10-24T12:38:08.784Z"
   },
   {
    "duration": 398,
    "start_time": "2023-10-24T12:38:22.848Z"
   },
   {
    "duration": 503,
    "start_time": "2023-10-24T12:38:44.359Z"
   },
   {
    "duration": 405,
    "start_time": "2023-10-24T12:38:51.559Z"
   },
   {
    "duration": 446,
    "start_time": "2023-10-24T12:39:06.103Z"
   },
   {
    "duration": 6,
    "start_time": "2023-10-24T12:39:13.174Z"
   },
   {
    "duration": 735,
    "start_time": "2023-10-24T12:39:14.149Z"
   },
   {
    "duration": 400,
    "start_time": "2023-10-24T12:39:15.750Z"
   },
   {
    "duration": 6,
    "start_time": "2023-10-24T12:39:31.286Z"
   },
   {
    "duration": 549,
    "start_time": "2023-10-24T12:39:32.303Z"
   },
   {
    "duration": 632,
    "start_time": "2023-10-24T12:39:33.736Z"
   },
   {
    "duration": 259,
    "start_time": "2023-10-24T12:39:50.343Z"
   },
   {
    "duration": 249,
    "start_time": "2023-10-24T12:45:42.542Z"
   },
   {
    "duration": 211,
    "start_time": "2023-10-24T12:45:54.685Z"
   },
   {
    "duration": 6,
    "start_time": "2023-10-24T12:46:16.460Z"
   },
   {
    "duration": 532,
    "start_time": "2023-10-24T12:46:17.412Z"
   },
   {
    "duration": 192,
    "start_time": "2023-10-24T12:46:18.228Z"
   },
   {
    "duration": 294,
    "start_time": "2023-10-24T12:49:16.491Z"
   },
   {
    "duration": 6,
    "start_time": "2023-10-24T12:49:42.807Z"
   },
   {
    "duration": 453,
    "start_time": "2023-10-24T12:49:42.815Z"
   },
   {
    "duration": 255,
    "start_time": "2023-10-24T12:49:43.270Z"
   },
   {
    "duration": 7,
    "start_time": "2023-10-24T12:51:00.642Z"
   },
   {
    "duration": 9,
    "start_time": "2023-10-24T12:51:04.819Z"
   },
   {
    "duration": 8,
    "start_time": "2023-10-24T12:52:29.432Z"
   },
   {
    "duration": 3689,
    "start_time": "2023-10-24T12:54:07.584Z"
   },
   {
    "duration": 10,
    "start_time": "2023-10-24T12:55:31.504Z"
   },
   {
    "duration": 3012,
    "start_time": "2023-10-24T12:55:38.855Z"
   },
   {
    "duration": 2365,
    "start_time": "2023-10-24T12:56:54.711Z"
   },
   {
    "duration": 1968,
    "start_time": "2023-10-24T12:57:29.991Z"
   },
   {
    "duration": 1766,
    "start_time": "2023-10-24T12:57:48.866Z"
   },
   {
    "duration": 153,
    "start_time": "2023-10-24T12:58:11.672Z"
   },
   {
    "duration": 159,
    "start_time": "2023-10-24T12:59:22.892Z"
   },
   {
    "duration": 1760,
    "start_time": "2023-10-24T12:59:31.102Z"
   },
   {
    "duration": 10,
    "start_time": "2023-10-24T13:07:23.834Z"
   },
   {
    "duration": 314,
    "start_time": "2023-10-24T13:08:28.883Z"
   },
   {
    "duration": 392,
    "start_time": "2023-10-24T13:08:39.970Z"
   },
   {
    "duration": 20,
    "start_time": "2023-10-24T13:09:31.274Z"
   },
   {
    "duration": 255,
    "start_time": "2023-10-24T13:09:56.009Z"
   },
   {
    "duration": 15,
    "start_time": "2023-10-24T13:16:03.541Z"
   },
   {
    "duration": 11,
    "start_time": "2023-10-24T13:17:17.389Z"
   },
   {
    "duration": 17,
    "start_time": "2023-10-24T13:20:02.906Z"
   },
   {
    "duration": 189,
    "start_time": "2023-10-24T13:20:07.849Z"
   },
   {
    "duration": 13,
    "start_time": "2023-10-24T13:22:22.761Z"
   },
   {
    "duration": 12,
    "start_time": "2023-10-24T13:22:30.176Z"
   },
   {
    "duration": 11,
    "start_time": "2023-10-24T13:22:34.248Z"
   },
   {
    "duration": 15,
    "start_time": "2023-10-24T13:24:02.471Z"
   },
   {
    "duration": 16,
    "start_time": "2023-10-24T13:26:22.109Z"
   },
   {
    "duration": 476,
    "start_time": "2023-10-24T13:26:47.501Z"
   },
   {
    "duration": 2398,
    "start_time": "2023-10-24T13:26:55.774Z"
   },
   {
    "duration": 1922,
    "start_time": "2023-10-24T13:27:15.645Z"
   },
   {
    "duration": 1437,
    "start_time": "2023-10-24T13:28:47.749Z"
   },
   {
    "duration": 225,
    "start_time": "2023-10-24T14:00:26.749Z"
   },
   {
    "duration": 14,
    "start_time": "2023-10-24T14:01:02.981Z"
   },
   {
    "duration": 23,
    "start_time": "2023-10-24T14:01:11.829Z"
   },
   {
    "duration": 9,
    "start_time": "2023-10-24T14:01:20.581Z"
   },
   {
    "duration": 10,
    "start_time": "2023-10-24T14:01:25.525Z"
   },
   {
    "duration": 11,
    "start_time": "2023-10-24T14:02:29.581Z"
   },
   {
    "duration": 102,
    "start_time": "2023-10-24T14:02:34.299Z"
   },
   {
    "duration": 15,
    "start_time": "2023-10-24T14:02:42.348Z"
   },
   {
    "duration": 1858,
    "start_time": "2023-10-24T14:02:47.605Z"
   },
   {
    "duration": 11,
    "start_time": "2023-10-24T14:03:18.980Z"
   },
   {
    "duration": 168,
    "start_time": "2023-10-24T14:03:29.708Z"
   },
   {
    "duration": 165,
    "start_time": "2023-10-24T14:03:33.636Z"
   },
   {
    "duration": 149,
    "start_time": "2023-10-24T14:03:41.346Z"
   },
   {
    "duration": 163,
    "start_time": "2023-10-24T14:03:45.588Z"
   },
   {
    "duration": 92,
    "start_time": "2023-10-24T14:04:16.963Z"
   },
   {
    "duration": 17,
    "start_time": "2023-10-24T14:04:22.770Z"
   },
   {
    "duration": 313,
    "start_time": "2023-10-24T14:04:29.131Z"
   },
   {
    "duration": 1033,
    "start_time": "2023-10-24T14:04:59.458Z"
   },
   {
    "duration": 99,
    "start_time": "2023-10-24T14:06:38.129Z"
   },
   {
    "duration": 2328,
    "start_time": "2023-10-24T14:06:42.441Z"
   },
   {
    "duration": 1544,
    "start_time": "2023-10-24T14:07:43.816Z"
   },
   {
    "duration": 132,
    "start_time": "2023-10-24T14:08:04.761Z"
   },
   {
    "duration": 270,
    "start_time": "2023-10-24T14:08:25.007Z"
   },
   {
    "duration": 135,
    "start_time": "2023-10-24T14:08:35.217Z"
   },
   {
    "duration": 152,
    "start_time": "2023-10-24T14:08:46.314Z"
   },
   {
    "duration": 146,
    "start_time": "2023-10-24T14:13:39.757Z"
   },
   {
    "duration": 8,
    "start_time": "2023-10-24T14:13:45.086Z"
   },
   {
    "duration": 151,
    "start_time": "2023-10-24T14:14:21.461Z"
   },
   {
    "duration": 7,
    "start_time": "2023-10-24T14:14:32.197Z"
   },
   {
    "duration": 108,
    "start_time": "2023-10-24T14:15:25.300Z"
   },
   {
    "duration": 132,
    "start_time": "2023-10-24T14:15:43.572Z"
   },
   {
    "duration": 136,
    "start_time": "2023-10-24T14:17:06.803Z"
   },
   {
    "duration": 102,
    "start_time": "2023-10-24T14:17:22.018Z"
   },
   {
    "duration": 138,
    "start_time": "2023-10-24T14:18:07.972Z"
   },
   {
    "duration": 297,
    "start_time": "2023-10-24T14:20:42.547Z"
   },
   {
    "duration": 99,
    "start_time": "2023-10-24T14:20:58.034Z"
   },
   {
    "duration": 24,
    "start_time": "2023-10-24T14:21:24.794Z"
   },
   {
    "duration": 9,
    "start_time": "2023-10-24T14:21:50.731Z"
   },
   {
    "duration": 88,
    "start_time": "2023-10-24T14:21:55.459Z"
   },
   {
    "duration": 147,
    "start_time": "2023-10-24T14:22:29.297Z"
   },
   {
    "duration": 7,
    "start_time": "2023-10-24T14:22:51.090Z"
   },
   {
    "duration": 87,
    "start_time": "2023-10-24T14:22:55.210Z"
   },
   {
    "duration": 216,
    "start_time": "2023-10-24T14:28:09.290Z"
   },
   {
    "duration": 165,
    "start_time": "2023-10-24T14:29:03.946Z"
   },
   {
    "duration": 11,
    "start_time": "2023-10-24T14:29:14.977Z"
   },
   {
    "duration": 6,
    "start_time": "2023-10-24T14:30:11.533Z"
   },
   {
    "duration": 447,
    "start_time": "2023-10-24T14:30:11.541Z"
   },
   {
    "duration": 183,
    "start_time": "2023-10-24T14:30:11.989Z"
   },
   {
    "duration": 8,
    "start_time": "2023-10-24T14:30:12.174Z"
   },
   {
    "duration": 1110,
    "start_time": "2023-10-24T14:30:12.184Z"
   },
   {
    "duration": 1609,
    "start_time": "2023-10-24T14:30:13.296Z"
   },
   {
    "duration": 1190,
    "start_time": "2023-10-24T14:30:14.907Z"
   },
   {
    "duration": 199,
    "start_time": "2023-10-24T14:30:16.144Z"
   },
   {
    "duration": 134,
    "start_time": "2023-10-24T14:30:16.345Z"
   },
   {
    "duration": 7,
    "start_time": "2023-10-24T14:30:36.446Z"
   },
   {
    "duration": 296,
    "start_time": "2023-10-24T14:30:36.454Z"
   },
   {
    "duration": 204,
    "start_time": "2023-10-24T14:30:36.752Z"
   },
   {
    "duration": 11,
    "start_time": "2023-10-24T14:30:36.958Z"
   },
   {
    "duration": 985,
    "start_time": "2023-10-24T14:30:36.972Z"
   },
   {
    "duration": 1539,
    "start_time": "2023-10-24T14:30:37.960Z"
   },
   {
    "duration": 1266,
    "start_time": "2023-10-24T14:30:39.501Z"
   },
   {
    "duration": 303,
    "start_time": "2023-10-24T14:30:40.769Z"
   },
   {
    "duration": 8,
    "start_time": "2023-10-24T14:30:41.074Z"
   },
   {
    "duration": 9,
    "start_time": "2023-10-24T14:30:49.208Z"
   },
   {
    "duration": 155,
    "start_time": "2023-10-24T14:30:51.025Z"
   },
   {
    "duration": 316,
    "start_time": "2023-10-24T14:31:24.153Z"
   },
   {
    "duration": 84,
    "start_time": "2023-10-24T14:32:55.585Z"
   },
   {
    "duration": 8,
    "start_time": "2023-10-24T14:33:32.256Z"
   },
   {
    "duration": 12,
    "start_time": "2023-10-24T14:33:48.288Z"
   },
   {
    "duration": 186,
    "start_time": "2023-10-24T14:33:57.206Z"
   },
   {
    "duration": 234,
    "start_time": "2023-10-24T14:34:09.463Z"
   },
   {
    "duration": 14,
    "start_time": "2023-10-24T14:36:49.639Z"
   },
   {
    "duration": 12,
    "start_time": "2023-10-24T14:36:58.119Z"
   },
   {
    "duration": 167,
    "start_time": "2023-10-24T14:38:02.478Z"
   },
   {
    "duration": 149,
    "start_time": "2023-10-24T14:38:10.366Z"
   },
   {
    "duration": 8,
    "start_time": "2023-10-24T14:41:09.068Z"
   },
   {
    "duration": 268,
    "start_time": "2023-10-24T14:41:57.523Z"
   },
   {
    "duration": 12,
    "start_time": "2023-10-24T14:42:21.900Z"
   },
   {
    "duration": 191,
    "start_time": "2023-10-24T14:42:26.660Z"
   },
   {
    "duration": 239,
    "start_time": "2023-10-24T14:42:35.859Z"
   },
   {
    "duration": 7,
    "start_time": "2023-10-24T14:43:31.481Z"
   },
   {
    "duration": 327,
    "start_time": "2023-10-24T14:43:31.491Z"
   },
   {
    "duration": 179,
    "start_time": "2023-10-24T14:43:31.821Z"
   },
   {
    "duration": 48,
    "start_time": "2023-10-24T14:43:32.002Z"
   },
   {
    "duration": 823,
    "start_time": "2023-10-24T14:43:32.052Z"
   },
   {
    "duration": 1472,
    "start_time": "2023-10-24T14:43:32.877Z"
   },
   {
    "duration": 939,
    "start_time": "2023-10-24T14:43:34.351Z"
   },
   {
    "duration": 165,
    "start_time": "2023-10-24T14:43:35.291Z"
   },
   {
    "duration": 188,
    "start_time": "2023-10-24T14:43:50.516Z"
   },
   {
    "duration": 8,
    "start_time": "2023-10-24T14:44:32.679Z"
   },
   {
    "duration": 241,
    "start_time": "2023-10-24T14:44:32.690Z"
   },
   {
    "duration": 172,
    "start_time": "2023-10-24T14:44:32.933Z"
   },
   {
    "duration": 38,
    "start_time": "2023-10-24T14:44:33.107Z"
   },
   {
    "duration": 809,
    "start_time": "2023-10-24T14:44:33.147Z"
   },
   {
    "duration": 1497,
    "start_time": "2023-10-24T14:44:33.958Z"
   },
   {
    "duration": 898,
    "start_time": "2023-10-24T14:44:35.457Z"
   },
   {
    "duration": 103,
    "start_time": "2023-10-24T14:44:36.357Z"
   },
   {
    "duration": 6,
    "start_time": "2023-10-24T14:45:01.608Z"
   },
   {
    "duration": 356,
    "start_time": "2023-10-24T14:45:01.616Z"
   },
   {
    "duration": 145,
    "start_time": "2023-10-24T14:45:01.974Z"
   },
   {
    "duration": 8,
    "start_time": "2023-10-24T14:45:02.143Z"
   },
   {
    "duration": 911,
    "start_time": "2023-10-24T14:45:02.153Z"
   },
   {
    "duration": 1301,
    "start_time": "2023-10-24T14:45:03.066Z"
   },
   {
    "duration": 1003,
    "start_time": "2023-10-24T14:45:04.369Z"
   },
   {
    "duration": 159,
    "start_time": "2023-10-24T14:45:05.373Z"
   },
   {
    "duration": 6,
    "start_time": "2023-10-24T14:47:09.102Z"
   },
   {
    "duration": 281,
    "start_time": "2023-10-24T14:47:09.110Z"
   },
   {
    "duration": 186,
    "start_time": "2023-10-24T14:47:09.393Z"
   },
   {
    "duration": 67,
    "start_time": "2023-10-24T14:47:09.583Z"
   },
   {
    "duration": 714,
    "start_time": "2023-10-24T14:47:09.653Z"
   },
   {
    "duration": 1327,
    "start_time": "2023-10-24T14:47:10.369Z"
   },
   {
    "duration": 971,
    "start_time": "2023-10-24T14:47:11.698Z"
   },
   {
    "duration": 185,
    "start_time": "2023-10-24T14:47:12.672Z"
   },
   {
    "duration": 178,
    "start_time": "2023-10-24T14:47:29.841Z"
   },
   {
    "duration": 127,
    "start_time": "2023-10-24T14:48:02.584Z"
   },
   {
    "duration": 16,
    "start_time": "2023-10-24T14:48:33.960Z"
   },
   {
    "duration": 140,
    "start_time": "2023-10-24T14:48:43.889Z"
   },
   {
    "duration": 7,
    "start_time": "2023-10-24T14:52:17.061Z"
   },
   {
    "duration": 229,
    "start_time": "2023-10-24T14:52:17.070Z"
   },
   {
    "duration": 158,
    "start_time": "2023-10-24T14:52:17.301Z"
   },
   {
    "duration": 10,
    "start_time": "2023-10-24T14:52:17.461Z"
   },
   {
    "duration": 977,
    "start_time": "2023-10-24T14:52:17.474Z"
   },
   {
    "duration": 2329,
    "start_time": "2023-10-24T14:52:18.453Z"
   },
   {
    "duration": 1314,
    "start_time": "2023-10-24T14:52:20.845Z"
   },
   {
    "duration": 15,
    "start_time": "2023-10-24T14:52:22.161Z"
   },
   {
    "duration": 113,
    "start_time": "2023-10-24T14:52:37.670Z"
   },
   {
    "duration": 153,
    "start_time": "2023-10-24T14:52:49.239Z"
   },
   {
    "duration": 11,
    "start_time": "2023-10-24T14:53:03.197Z"
   },
   {
    "duration": 162,
    "start_time": "2023-10-24T14:53:10.638Z"
   },
   {
    "duration": 19,
    "start_time": "2023-10-24T14:53:30.208Z"
   },
   {
    "duration": 5,
    "start_time": "2023-10-24T14:53:42.917Z"
   },
   {
    "duration": 237,
    "start_time": "2023-10-24T14:53:42.924Z"
   },
   {
    "duration": 283,
    "start_time": "2023-10-24T14:53:43.163Z"
   },
   {
    "duration": 9,
    "start_time": "2023-10-24T14:53:43.448Z"
   },
   {
    "duration": 585,
    "start_time": "2023-10-24T14:53:43.459Z"
   },
   {
    "duration": 1423,
    "start_time": "2023-10-24T14:53:44.045Z"
   },
   {
    "duration": 975,
    "start_time": "2023-10-24T14:53:45.469Z"
   },
   {
    "duration": 116,
    "start_time": "2023-10-24T14:53:46.447Z"
   },
   {
    "duration": 100,
    "start_time": "2023-10-24T14:57:53.980Z"
   },
   {
    "duration": 6,
    "start_time": "2023-10-24T14:58:15.193Z"
   },
   {
    "duration": 307,
    "start_time": "2023-10-24T14:58:15.200Z"
   },
   {
    "duration": 172,
    "start_time": "2023-10-24T14:58:15.508Z"
   },
   {
    "duration": 8,
    "start_time": "2023-10-24T14:58:15.682Z"
   },
   {
    "duration": 609,
    "start_time": "2023-10-24T14:58:15.692Z"
   },
   {
    "duration": 1283,
    "start_time": "2023-10-24T14:58:16.303Z"
   },
   {
    "duration": 989,
    "start_time": "2023-10-24T14:58:17.588Z"
   },
   {
    "duration": 100,
    "start_time": "2023-10-24T14:58:18.579Z"
   },
   {
    "duration": 105,
    "start_time": "2023-10-24T14:58:27.420Z"
   },
   {
    "duration": 244,
    "start_time": "2023-10-24T14:59:28.419Z"
   },
   {
    "duration": 2,
    "start_time": "2023-10-24T15:00:39.427Z"
   },
   {
    "duration": 6,
    "start_time": "2023-10-24T15:03:54.919Z"
   },
   {
    "duration": 225,
    "start_time": "2023-10-24T15:03:54.926Z"
   },
   {
    "duration": 155,
    "start_time": "2023-10-24T15:03:55.153Z"
   },
   {
    "duration": 7,
    "start_time": "2023-10-24T15:03:55.309Z"
   },
   {
    "duration": 474,
    "start_time": "2023-10-24T15:03:55.318Z"
   },
   {
    "duration": 1059,
    "start_time": "2023-10-24T15:03:55.793Z"
   },
   {
    "duration": 816,
    "start_time": "2023-10-24T15:03:56.854Z"
   },
   {
    "duration": 8,
    "start_time": "2023-10-24T15:03:57.672Z"
   },
   {
    "duration": 209,
    "start_time": "2023-10-24T15:03:57.681Z"
   },
   {
    "duration": 61,
    "start_time": "2023-10-24T15:47:56.423Z"
   },
   {
    "duration": 309,
    "start_time": "2023-10-24T15:48:26.241Z"
   },
   {
    "duration": 3577,
    "start_time": "2023-10-24T15:48:45.705Z"
   },
   {
    "duration": 2832,
    "start_time": "2023-10-24T15:49:59.777Z"
   },
   {
    "duration": 11,
    "start_time": "2023-10-24T15:51:24.230Z"
   },
   {
    "duration": 2423,
    "start_time": "2023-10-24T15:51:47.975Z"
   },
   {
    "duration": 2155,
    "start_time": "2023-10-24T15:52:41.134Z"
   },
   {
    "duration": 1730,
    "start_time": "2023-10-24T15:53:17.647Z"
   },
   {
    "duration": 24,
    "start_time": "2023-10-24T15:54:12.588Z"
   },
   {
    "duration": 2332,
    "start_time": "2023-10-24T15:54:27.718Z"
   },
   {
    "duration": 6,
    "start_time": "2023-10-24T15:56:39.241Z"
   },
   {
    "duration": 227,
    "start_time": "2023-10-24T15:56:39.249Z"
   },
   {
    "duration": 178,
    "start_time": "2023-10-24T15:56:39.478Z"
   },
   {
    "duration": 7,
    "start_time": "2023-10-24T15:56:39.658Z"
   },
   {
    "duration": 499,
    "start_time": "2023-10-24T15:56:39.667Z"
   },
   {
    "duration": 1905,
    "start_time": "2023-10-24T15:56:40.168Z"
   },
   {
    "duration": 772,
    "start_time": "2023-10-24T15:56:42.075Z"
   },
   {
    "duration": 8,
    "start_time": "2023-10-24T15:56:42.849Z"
   },
   {
    "duration": 151,
    "start_time": "2023-10-24T15:56:42.858Z"
   },
   {
    "duration": 742,
    "start_time": "2023-10-24T15:56:43.010Z"
   },
   {
    "duration": 2425,
    "start_time": "2023-10-24T15:56:43.754Z"
   },
   {
    "duration": 5,
    "start_time": "2023-10-24T15:57:02.452Z"
   },
   {
    "duration": 386,
    "start_time": "2023-10-24T15:57:07.091Z"
   },
   {
    "duration": 7,
    "start_time": "2023-10-24T15:57:27.315Z"
   },
   {
    "duration": 136,
    "start_time": "2023-10-24T15:58:06.028Z"
   },
   {
    "duration": 6,
    "start_time": "2023-10-24T15:58:30.504Z"
   },
   {
    "duration": 319,
    "start_time": "2023-10-24T15:58:30.512Z"
   },
   {
    "duration": 154,
    "start_time": "2023-10-24T15:58:30.834Z"
   },
   {
    "duration": 9,
    "start_time": "2023-10-24T15:58:30.989Z"
   },
   {
    "duration": 476,
    "start_time": "2023-10-24T15:58:31.000Z"
   },
   {
    "duration": 1123,
    "start_time": "2023-10-24T15:58:31.478Z"
   },
   {
    "duration": 987,
    "start_time": "2023-10-24T15:58:32.603Z"
   },
   {
    "duration": 54,
    "start_time": "2023-10-24T15:58:33.592Z"
   },
   {
    "duration": 184,
    "start_time": "2023-10-24T15:58:33.648Z"
   },
   {
    "duration": 44,
    "start_time": "2023-10-24T15:58:33.834Z"
   },
   {
    "duration": 122,
    "start_time": "2023-10-24T15:58:33.880Z"
   },
   {
    "duration": 1767,
    "start_time": "2023-10-24T15:58:34.004Z"
   },
   {
    "duration": 1618,
    "start_time": "2023-10-24T15:59:31.027Z"
   },
   {
    "duration": 6,
    "start_time": "2023-10-24T16:01:21.398Z"
   },
   {
    "duration": 263,
    "start_time": "2023-10-24T16:01:21.407Z"
   },
   {
    "duration": 143,
    "start_time": "2023-10-24T16:01:21.672Z"
   },
   {
    "duration": 8,
    "start_time": "2023-10-24T16:01:21.816Z"
   },
   {
    "duration": 530,
    "start_time": "2023-10-24T16:01:21.843Z"
   },
   {
    "duration": 1018,
    "start_time": "2023-10-24T16:01:22.375Z"
   },
   {
    "duration": 703,
    "start_time": "2023-10-24T16:01:23.395Z"
   },
   {
    "duration": 47,
    "start_time": "2023-10-24T16:01:24.100Z"
   },
   {
    "duration": 132,
    "start_time": "2023-10-24T16:01:24.149Z"
   },
   {
    "duration": 70,
    "start_time": "2023-10-24T16:01:24.283Z"
   },
   {
    "duration": 174,
    "start_time": "2023-10-24T16:01:24.355Z"
   },
   {
    "duration": 1849,
    "start_time": "2023-10-24T16:01:24.531Z"
   },
   {
    "duration": 14,
    "start_time": "2023-10-24T16:02:23.994Z"
   },
   {
    "duration": 26,
    "start_time": "2023-10-24T16:03:38.065Z"
   },
   {
    "duration": 2401,
    "start_time": "2023-10-24T16:03:45.162Z"
   },
   {
    "duration": 1512,
    "start_time": "2023-10-24T16:04:17.433Z"
   },
   {
    "duration": 4104,
    "start_time": "2023-10-24T18:33:56.118Z"
   },
   {
    "duration": 789,
    "start_time": "2023-10-24T18:35:44.497Z"
   },
   {
    "duration": 3406,
    "start_time": "2023-10-24T18:35:56.412Z"
   },
   {
    "duration": 108,
    "start_time": "2023-10-24T18:44:39.992Z"
   },
   {
    "duration": 175,
    "start_time": "2023-10-24T18:45:09.225Z"
   },
   {
    "duration": 1793,
    "start_time": "2023-10-24T18:46:35.217Z"
   },
   {
    "duration": 297,
    "start_time": "2023-10-24T18:47:44.494Z"
   },
   {
    "duration": 6,
    "start_time": "2023-10-24T18:53:04.276Z"
   },
   {
    "duration": 329,
    "start_time": "2023-10-24T18:53:04.285Z"
   },
   {
    "duration": 275,
    "start_time": "2023-10-24T18:53:04.616Z"
   },
   {
    "duration": 12,
    "start_time": "2023-10-24T18:53:04.893Z"
   },
   {
    "duration": 773,
    "start_time": "2023-10-24T18:53:04.908Z"
   },
   {
    "duration": 1390,
    "start_time": "2023-10-24T18:53:05.683Z"
   },
   {
    "duration": 1085,
    "start_time": "2023-10-24T18:53:07.075Z"
   },
   {
    "duration": 9,
    "start_time": "2023-10-24T18:53:08.162Z"
   },
   {
    "duration": 198,
    "start_time": "2023-10-24T18:53:08.176Z"
   },
   {
    "duration": 31,
    "start_time": "2023-10-24T18:53:08.380Z"
   },
   {
    "duration": 106,
    "start_time": "2023-10-24T18:53:08.413Z"
   },
   {
    "duration": 1616,
    "start_time": "2023-10-24T18:53:08.521Z"
   },
   {
    "duration": 651,
    "start_time": "2023-10-24T18:53:10.149Z"
   },
   {
    "duration": 3135,
    "start_time": "2023-10-24T18:53:10.802Z"
   },
   {
    "duration": 772,
    "start_time": "2023-10-24T18:53:13.939Z"
   },
   {
    "duration": 9,
    "start_time": "2023-10-24T18:55:06.082Z"
   },
   {
    "duration": 316,
    "start_time": "2023-10-24T18:55:06.093Z"
   },
   {
    "duration": 190,
    "start_time": "2023-10-24T18:55:06.411Z"
   },
   {
    "duration": 10,
    "start_time": "2023-10-24T18:55:06.604Z"
   },
   {
    "duration": 688,
    "start_time": "2023-10-24T18:55:06.617Z"
   },
   {
    "duration": 2249,
    "start_time": "2023-10-24T18:55:07.307Z"
   },
   {
    "duration": 1384,
    "start_time": "2023-10-24T18:55:09.562Z"
   },
   {
    "duration": 10,
    "start_time": "2023-10-24T18:55:10.952Z"
   },
   {
    "duration": 207,
    "start_time": "2023-10-24T18:55:10.965Z"
   },
   {
    "duration": 41,
    "start_time": "2023-10-24T18:55:11.174Z"
   },
   {
    "duration": 143,
    "start_time": "2023-10-24T18:55:11.219Z"
   },
   {
    "duration": 1698,
    "start_time": "2023-10-24T18:55:11.367Z"
   },
   {
    "duration": 629,
    "start_time": "2023-10-24T18:55:13.067Z"
   },
   {
    "duration": 3686,
    "start_time": "2023-10-24T18:55:13.699Z"
   },
   {
    "duration": 600,
    "start_time": "2023-10-24T18:55:17.388Z"
   },
   {
    "duration": 8,
    "start_time": "2023-10-24T18:55:33.527Z"
   },
   {
    "duration": 364,
    "start_time": "2023-10-24T18:55:33.538Z"
   },
   {
    "duration": 214,
    "start_time": "2023-10-24T18:55:33.904Z"
   },
   {
    "duration": 10,
    "start_time": "2023-10-24T18:55:34.120Z"
   },
   {
    "duration": 637,
    "start_time": "2023-10-24T18:55:34.134Z"
   },
   {
    "duration": 2004,
    "start_time": "2023-10-24T18:55:34.773Z"
   },
   {
    "duration": 923,
    "start_time": "2023-10-24T18:55:36.779Z"
   },
   {
    "duration": 52,
    "start_time": "2023-10-24T18:55:37.705Z"
   },
   {
    "duration": 266,
    "start_time": "2023-10-24T18:55:37.759Z"
   },
   {
    "duration": 61,
    "start_time": "2023-10-24T18:55:38.027Z"
   },
   {
    "duration": 102,
    "start_time": "2023-10-24T18:55:38.090Z"
   },
   {
    "duration": 1705,
    "start_time": "2023-10-24T18:55:38.194Z"
   },
   {
    "duration": 604,
    "start_time": "2023-10-24T18:55:39.901Z"
   },
   {
    "duration": 3193,
    "start_time": "2023-10-24T18:55:40.508Z"
   },
   {
    "duration": 707,
    "start_time": "2023-10-24T18:55:43.703Z"
   },
   {
    "duration": 10,
    "start_time": "2023-10-24T18:56:20.973Z"
   },
   {
    "duration": 370,
    "start_time": "2023-10-24T18:56:20.985Z"
   },
   {
    "duration": 212,
    "start_time": "2023-10-24T18:56:21.357Z"
   },
   {
    "duration": 15,
    "start_time": "2023-10-24T18:56:21.575Z"
   },
   {
    "duration": 634,
    "start_time": "2023-10-24T18:56:21.593Z"
   },
   {
    "duration": 1581,
    "start_time": "2023-10-24T18:56:22.229Z"
   },
   {
    "duration": 891,
    "start_time": "2023-10-24T18:56:23.812Z"
   },
   {
    "duration": 11,
    "start_time": "2023-10-24T18:56:24.705Z"
   },
   {
    "duration": 259,
    "start_time": "2023-10-24T18:56:24.718Z"
   },
   {
    "duration": 80,
    "start_time": "2023-10-24T18:56:24.984Z"
   },
   {
    "duration": 118,
    "start_time": "2023-10-24T18:56:25.066Z"
   },
   {
    "duration": 1830,
    "start_time": "2023-10-24T18:56:25.186Z"
   },
   {
    "duration": 591,
    "start_time": "2023-10-24T18:56:27.018Z"
   },
   {
    "duration": 2843,
    "start_time": "2023-10-24T18:56:27.653Z"
   },
   {
    "duration": 523,
    "start_time": "2023-10-24T18:56:30.498Z"
   },
   {
    "duration": 58,
    "start_time": "2023-10-24T19:00:08.643Z"
   },
   {
    "duration": 2456,
    "start_time": "2023-10-24T19:00:10.339Z"
   },
   {
    "duration": 127,
    "start_time": "2023-10-24T19:00:35.816Z"
   },
   {
    "duration": 2483,
    "start_time": "2023-10-24T19:00:52.324Z"
   },
   {
    "duration": 8,
    "start_time": "2023-10-24T19:01:53.290Z"
   },
   {
    "duration": 299,
    "start_time": "2023-10-24T19:01:53.300Z"
   },
   {
    "duration": 249,
    "start_time": "2023-10-24T19:01:53.600Z"
   },
   {
    "duration": 17,
    "start_time": "2023-10-24T19:01:53.853Z"
   },
   {
    "duration": 621,
    "start_time": "2023-10-24T19:01:53.877Z"
   },
   {
    "duration": 1395,
    "start_time": "2023-10-24T19:01:54.500Z"
   },
   {
    "duration": 897,
    "start_time": "2023-10-24T19:01:55.897Z"
   },
   {
    "duration": 7,
    "start_time": "2023-10-24T19:01:56.796Z"
   },
   {
    "duration": 351,
    "start_time": "2023-10-24T19:01:56.805Z"
   },
   {
    "duration": 31,
    "start_time": "2023-10-24T19:01:57.166Z"
   },
   {
    "duration": 155,
    "start_time": "2023-10-24T19:01:57.244Z"
   },
   {
    "duration": 1523,
    "start_time": "2023-10-24T19:01:57.402Z"
   },
   {
    "duration": 1354,
    "start_time": "2023-10-24T19:01:58.927Z"
   },
   {
    "duration": 3232,
    "start_time": "2023-10-24T19:02:00.284Z"
   },
   {
    "duration": 536,
    "start_time": "2023-10-24T19:02:03.518Z"
   },
   {
    "duration": 4,
    "start_time": "2023-10-24T19:02:04.059Z"
   },
   {
    "duration": 3264,
    "start_time": "2023-10-24T19:02:36.597Z"
   },
   {
    "duration": 8,
    "start_time": "2023-10-24T19:03:24.371Z"
   },
   {
    "duration": 416,
    "start_time": "2023-10-24T19:03:24.381Z"
   },
   {
    "duration": 261,
    "start_time": "2023-10-24T19:03:24.799Z"
   },
   {
    "duration": 20,
    "start_time": "2023-10-24T19:03:25.063Z"
   },
   {
    "duration": 624,
    "start_time": "2023-10-24T19:03:25.085Z"
   },
   {
    "duration": 1540,
    "start_time": "2023-10-24T19:03:25.711Z"
   },
   {
    "duration": 1009,
    "start_time": "2023-10-24T19:03:27.253Z"
   },
   {
    "duration": 14,
    "start_time": "2023-10-24T19:03:28.264Z"
   },
   {
    "duration": 231,
    "start_time": "2023-10-24T19:03:28.280Z"
   },
   {
    "duration": 204,
    "start_time": "2023-10-24T19:03:28.512Z"
   },
   {
    "duration": 40,
    "start_time": "2023-10-24T19:03:28.718Z"
   },
   {
    "duration": 163,
    "start_time": "2023-10-24T19:03:28.766Z"
   },
   {
    "duration": 2131,
    "start_time": "2023-10-24T19:03:28.931Z"
   },
   {
    "duration": 1554,
    "start_time": "2023-10-24T19:03:31.066Z"
   },
   {
    "duration": 634,
    "start_time": "2023-10-24T19:03:32.623Z"
   },
   {
    "duration": 2968,
    "start_time": "2023-10-24T19:03:33.263Z"
   },
   {
    "duration": 527,
    "start_time": "2023-10-24T19:03:36.233Z"
   },
   {
    "duration": 5,
    "start_time": "2023-10-24T19:03:36.766Z"
   },
   {
    "duration": 1762,
    "start_time": "2023-10-24T19:03:36.774Z"
   },
   {
    "duration": 5,
    "start_time": "2023-10-24T19:06:36.532Z"
   },
   {
    "duration": 4,
    "start_time": "2023-10-24T19:08:21.805Z"
   },
   {
    "duration": 23,
    "start_time": "2023-10-24T19:09:58.693Z"
   },
   {
    "duration": 3989,
    "start_time": "2023-10-24T19:10:21.314Z"
   },
   {
    "duration": 3769,
    "start_time": "2023-10-24T19:11:57.533Z"
   },
   {
    "duration": 3583,
    "start_time": "2023-10-24T19:12:08.294Z"
   },
   {
    "duration": 24,
    "start_time": "2023-10-24T19:14:43.517Z"
   },
   {
    "duration": 2503,
    "start_time": "2023-10-24T19:15:03.996Z"
   },
   {
    "duration": 11072,
    "start_time": "2023-10-24T19:17:50.483Z"
   },
   {
    "duration": 9,
    "start_time": "2023-10-24T19:24:25.274Z"
   },
   {
    "duration": 831,
    "start_time": "2023-10-24T19:24:30.660Z"
   },
   {
    "duration": 513,
    "start_time": "2023-10-24T19:24:36.192Z"
   },
   {
    "duration": 17,
    "start_time": "2023-10-24T19:24:40.962Z"
   },
   {
    "duration": 1891,
    "start_time": "2023-10-24T19:24:41.059Z"
   },
   {
    "duration": 2724,
    "start_time": "2023-10-24T19:24:43.582Z"
   },
   {
    "duration": 2079,
    "start_time": "2023-10-24T19:24:46.772Z"
   },
   {
    "duration": 12,
    "start_time": "2023-10-24T19:24:48.974Z"
   },
   {
    "duration": 5423,
    "start_time": "2023-10-24T19:24:49.368Z"
   },
   {
    "duration": 4312,
    "start_time": "2023-10-24T19:24:58.664Z"
   },
   {
    "duration": 89,
    "start_time": "2023-10-24T19:25:07.366Z"
   },
   {
    "duration": 238,
    "start_time": "2023-10-24T19:25:09.446Z"
   },
   {
    "duration": 3640,
    "start_time": "2023-10-24T19:25:17.050Z"
   },
   {
    "duration": 4241,
    "start_time": "2023-10-24T19:25:23.443Z"
   },
   {
    "duration": 1687,
    "start_time": "2023-10-24T19:25:27.694Z"
   },
   {
    "duration": 10393,
    "start_time": "2023-10-24T19:25:29.559Z"
   },
   {
    "duration": 435,
    "start_time": "2023-10-24T19:25:45.044Z"
   },
   {
    "duration": 0,
    "start_time": "2023-10-24T19:25:45.484Z"
   },
   {
    "duration": 0,
    "start_time": "2023-10-24T19:25:45.487Z"
   },
   {
    "duration": 0,
    "start_time": "2023-10-24T19:25:45.490Z"
   },
   {
    "duration": 0,
    "start_time": "2023-10-24T19:25:45.544Z"
   },
   {
    "duration": 0,
    "start_time": "2023-10-24T19:25:45.546Z"
   },
   {
    "duration": 0,
    "start_time": "2023-10-24T19:25:45.547Z"
   },
   {
    "duration": 17191,
    "start_time": "2023-10-24T19:27:03.681Z"
   },
   {
    "duration": 10094,
    "start_time": "2023-10-24T19:27:20.874Z"
   },
   {
    "duration": 1355,
    "start_time": "2023-10-24T19:27:30.970Z"
   },
   {
    "duration": 46,
    "start_time": "2023-10-24T19:27:32.327Z"
   },
   {
    "duration": 5491,
    "start_time": "2023-10-24T19:27:32.375Z"
   },
   {
    "duration": 4986,
    "start_time": "2023-10-24T19:27:37.870Z"
   },
   {
    "duration": 4703,
    "start_time": "2023-10-24T19:27:42.858Z"
   },
   {
    "duration": 22,
    "start_time": "2023-10-24T19:27:47.563Z"
   },
   {
    "duration": 484,
    "start_time": "2023-10-24T19:27:47.587Z"
   },
   {
    "duration": 306,
    "start_time": "2023-10-24T19:27:48.074Z"
   },
   {
    "duration": 167,
    "start_time": "2023-10-24T19:27:48.382Z"
   },
   {
    "duration": 343,
    "start_time": "2023-10-24T19:27:48.551Z"
   },
   {
    "duration": 6767,
    "start_time": "2023-10-24T19:27:48.896Z"
   },
   {
    "duration": 4378,
    "start_time": "2023-10-24T19:27:55.669Z"
   },
   {
    "duration": 1502,
    "start_time": "2023-10-24T19:28:00.052Z"
   },
   {
    "duration": 6620,
    "start_time": "2023-10-24T19:28:01.556Z"
   },
   {
    "duration": 2998,
    "start_time": "2023-10-24T19:28:08.178Z"
   },
   {
    "duration": 5,
    "start_time": "2023-10-24T19:28:11.178Z"
   },
   {
    "duration": 182,
    "start_time": "2023-10-24T19:28:11.184Z"
   },
   {
    "duration": 7114,
    "start_time": "2023-10-24T19:28:11.367Z"
   },
   {
    "duration": 93,
    "start_time": "2023-10-24T19:28:18.483Z"
   },
   {
    "duration": 6187,
    "start_time": "2023-10-24T19:28:18.577Z"
   },
   {
    "duration": 17083,
    "start_time": "2023-10-24T19:28:24.765Z"
   },
   {
    "duration": 7,
    "start_time": "2023-10-24T19:32:29.579Z"
   },
   {
    "duration": 474,
    "start_time": "2023-10-24T19:32:29.587Z"
   },
   {
    "duration": 401,
    "start_time": "2023-10-24T19:32:30.063Z"
   },
   {
    "duration": 8,
    "start_time": "2023-10-24T19:32:30.467Z"
   },
   {
    "duration": 1404,
    "start_time": "2023-10-24T19:32:30.477Z"
   },
   {
    "duration": 1964,
    "start_time": "2023-10-24T19:32:31.883Z"
   },
   {
    "duration": 1337,
    "start_time": "2023-10-24T19:32:33.850Z"
   },
   {
    "duration": 56,
    "start_time": "2023-10-24T19:32:35.189Z"
   },
   {
    "duration": 408,
    "start_time": "2023-10-24T19:32:35.251Z"
   },
   {
    "duration": 265,
    "start_time": "2023-10-24T19:32:35.662Z"
   },
   {
    "duration": 34,
    "start_time": "2023-10-24T19:32:35.949Z"
   },
   {
    "duration": 139,
    "start_time": "2023-10-24T19:32:35.986Z"
   },
   {
    "duration": 3178,
    "start_time": "2023-10-24T19:32:36.128Z"
   },
   {
    "duration": 2179,
    "start_time": "2023-10-24T19:32:39.308Z"
   },
   {
    "duration": 993,
    "start_time": "2023-10-24T19:32:41.489Z"
   },
   {
    "duration": 5646,
    "start_time": "2023-10-24T19:32:42.484Z"
   },
   {
    "duration": 770,
    "start_time": "2023-10-24T19:32:48.132Z"
   },
   {
    "duration": 57,
    "start_time": "2023-10-24T19:32:48.904Z"
   },
   {
    "duration": 110,
    "start_time": "2023-10-24T19:32:48.965Z"
   },
   {
    "duration": 4278,
    "start_time": "2023-10-24T19:32:49.077Z"
   },
   {
    "duration": 32,
    "start_time": "2023-10-24T19:32:53.356Z"
   },
   {
    "duration": 3602,
    "start_time": "2023-10-24T19:32:53.389Z"
   },
   {
    "duration": 8858,
    "start_time": "2023-10-24T19:32:56.993Z"
   },
   {
    "duration": 18388,
    "start_time": "2023-10-24T19:35:24.968Z"
   },
   {
    "duration": 21,
    "start_time": "2023-10-24T19:40:06.680Z"
   },
   {
    "duration": 1130,
    "start_time": "2023-10-24T19:41:18.436Z"
   },
   {
    "duration": 1274,
    "start_time": "2023-10-24T19:42:20.300Z"
   },
   {
    "duration": 83,
    "start_time": "2023-10-24T19:44:41.692Z"
   },
   {
    "duration": 11,
    "start_time": "2023-10-24T19:45:47.826Z"
   },
   {
    "duration": 351,
    "start_time": "2023-10-24T19:45:47.839Z"
   },
   {
    "duration": 178,
    "start_time": "2023-10-24T19:45:48.191Z"
   },
   {
    "duration": 7,
    "start_time": "2023-10-24T19:45:48.371Z"
   },
   {
    "duration": 1002,
    "start_time": "2023-10-24T19:45:48.380Z"
   },
   {
    "duration": 1576,
    "start_time": "2023-10-24T19:45:49.384Z"
   },
   {
    "duration": 937,
    "start_time": "2023-10-24T19:45:50.962Z"
   },
   {
    "duration": 46,
    "start_time": "2023-10-24T19:45:51.900Z"
   },
   {
    "duration": 245,
    "start_time": "2023-10-24T19:45:51.948Z"
   },
   {
    "duration": 189,
    "start_time": "2023-10-24T19:45:52.195Z"
   },
   {
    "duration": 58,
    "start_time": "2023-10-24T19:45:52.386Z"
   },
   {
    "duration": 145,
    "start_time": "2023-10-24T19:45:52.445Z"
   },
   {
    "duration": 2031,
    "start_time": "2023-10-24T19:45:52.592Z"
   },
   {
    "duration": 1617,
    "start_time": "2023-10-24T19:45:54.644Z"
   },
   {
    "duration": 587,
    "start_time": "2023-10-24T19:45:56.263Z"
   },
   {
    "duration": 3526,
    "start_time": "2023-10-24T19:45:56.852Z"
   },
   {
    "duration": 697,
    "start_time": "2023-10-24T19:46:00.380Z"
   },
   {
    "duration": 5,
    "start_time": "2023-10-24T19:46:01.079Z"
   },
   {
    "duration": 92,
    "start_time": "2023-10-24T19:46:01.086Z"
   },
   {
    "duration": 2374,
    "start_time": "2023-10-24T19:46:01.179Z"
   },
   {
    "duration": 27,
    "start_time": "2023-10-24T19:46:03.555Z"
   },
   {
    "duration": 2089,
    "start_time": "2023-10-24T19:46:03.585Z"
   },
   {
    "duration": 7446,
    "start_time": "2023-10-24T19:46:05.676Z"
   },
   {
    "duration": 10838,
    "start_time": "2023-10-24T19:46:13.145Z"
   },
   {
    "duration": 81,
    "start_time": "2023-10-24T19:46:23.985Z"
   },
   {
    "duration": 914,
    "start_time": "2023-10-24T19:46:24.068Z"
   },
   {
    "duration": 600,
    "start_time": "2023-10-24T19:46:24.983Z"
   },
   {
    "duration": 115,
    "start_time": "2023-10-24T19:46:57.169Z"
   },
   {
    "duration": 9,
    "start_time": "2023-10-24T19:47:15.315Z"
   },
   {
    "duration": 136,
    "start_time": "2023-10-24T19:48:11.635Z"
   },
   {
    "duration": 125,
    "start_time": "2023-10-24T19:48:28.675Z"
   },
   {
    "duration": 5157,
    "start_time": "2023-10-24T19:49:01.107Z"
   },
   {
    "duration": 3790,
    "start_time": "2023-10-24T19:49:12.082Z"
   },
   {
    "duration": 6,
    "start_time": "2023-10-24T19:50:39.433Z"
   },
   {
    "duration": 269,
    "start_time": "2023-10-24T19:50:39.442Z"
   },
   {
    "duration": 186,
    "start_time": "2023-10-24T19:50:39.712Z"
   },
   {
    "duration": 8,
    "start_time": "2023-10-24T19:50:39.900Z"
   },
   {
    "duration": 647,
    "start_time": "2023-10-24T19:50:39.911Z"
   },
   {
    "duration": 1297,
    "start_time": "2023-10-24T19:50:40.560Z"
   },
   {
    "duration": 793,
    "start_time": "2023-10-24T19:50:41.859Z"
   },
   {
    "duration": 10,
    "start_time": "2023-10-24T19:50:42.654Z"
   },
   {
    "duration": 211,
    "start_time": "2023-10-24T19:50:42.665Z"
   },
   {
    "duration": 182,
    "start_time": "2023-10-24T19:50:42.877Z"
   },
   {
    "duration": 34,
    "start_time": "2023-10-24T19:50:43.063Z"
   },
   {
    "duration": 123,
    "start_time": "2023-10-24T19:50:43.099Z"
   },
   {
    "duration": 1469,
    "start_time": "2023-10-24T19:50:43.223Z"
   },
   {
    "duration": 1776,
    "start_time": "2023-10-24T19:50:44.696Z"
   },
   {
    "duration": 993,
    "start_time": "2023-10-24T19:50:46.474Z"
   },
   {
    "duration": 3516,
    "start_time": "2023-10-24T19:50:47.469Z"
   },
   {
    "duration": 583,
    "start_time": "2023-10-24T19:50:50.987Z"
   },
   {
    "duration": 5,
    "start_time": "2023-10-24T19:50:51.572Z"
   },
   {
    "duration": 31,
    "start_time": "2023-10-24T19:50:51.579Z"
   },
   {
    "duration": 9,
    "start_time": "2023-10-24T19:50:51.611Z"
   },
   {
    "duration": 37,
    "start_time": "2023-10-24T19:50:51.622Z"
   },
   {
    "duration": 21,
    "start_time": "2023-10-24T19:50:51.661Z"
   },
   {
    "duration": 6377,
    "start_time": "2023-10-24T19:50:51.683Z"
   },
   {
    "duration": 6,
    "start_time": "2023-10-24T19:54:00.208Z"
   },
   {
    "duration": 333,
    "start_time": "2023-10-24T19:54:00.216Z"
   },
   {
    "duration": 215,
    "start_time": "2023-10-24T19:54:00.551Z"
   },
   {
    "duration": 10,
    "start_time": "2023-10-24T19:54:00.769Z"
   },
   {
    "duration": 866,
    "start_time": "2023-10-24T19:54:00.781Z"
   },
   {
    "duration": 1218,
    "start_time": "2023-10-24T19:54:01.650Z"
   },
   {
    "duration": 886,
    "start_time": "2023-10-24T19:54:02.870Z"
   },
   {
    "duration": 10,
    "start_time": "2023-10-24T19:54:03.758Z"
   },
   {
    "duration": 201,
    "start_time": "2023-10-24T19:54:03.770Z"
   },
   {
    "duration": 182,
    "start_time": "2023-10-24T19:54:03.972Z"
   },
   {
    "duration": 27,
    "start_time": "2023-10-24T19:54:04.156Z"
   },
   {
    "duration": 112,
    "start_time": "2023-10-24T19:54:04.185Z"
   },
   {
    "duration": 1876,
    "start_time": "2023-10-24T19:54:04.299Z"
   },
   {
    "duration": 1721,
    "start_time": "2023-10-24T19:54:06.178Z"
   },
   {
    "duration": 500,
    "start_time": "2023-10-24T19:54:07.901Z"
   },
   {
    "duration": 2805,
    "start_time": "2023-10-24T19:54:08.404Z"
   },
   {
    "duration": 464,
    "start_time": "2023-10-24T19:54:11.211Z"
   },
   {
    "duration": 3,
    "start_time": "2023-10-24T19:54:11.677Z"
   },
   {
    "duration": 28,
    "start_time": "2023-10-24T19:54:11.682Z"
   },
   {
    "duration": 36,
    "start_time": "2023-10-24T19:54:11.711Z"
   },
   {
    "duration": 5,
    "start_time": "2023-10-24T19:54:11.749Z"
   },
   {
    "duration": 17,
    "start_time": "2023-10-24T19:54:11.756Z"
   },
   {
    "duration": 5898,
    "start_time": "2023-10-24T19:54:11.774Z"
   },
   {
    "duration": 2804,
    "start_time": "2023-10-24T19:54:17.673Z"
   },
   {
    "duration": 0,
    "start_time": "2023-10-24T19:54:20.478Z"
   },
   {
    "duration": 0,
    "start_time": "2023-10-24T19:54:20.480Z"
   },
   {
    "duration": 0,
    "start_time": "2023-10-24T19:54:20.481Z"
   },
   {
    "duration": 0,
    "start_time": "2023-10-24T19:54:20.549Z"
   },
   {
    "duration": 139,
    "start_time": "2023-10-24T19:55:46.807Z"
   },
   {
    "duration": 6,
    "start_time": "2023-10-24T19:56:00.919Z"
   },
   {
    "duration": 282,
    "start_time": "2023-10-24T19:56:00.927Z"
   },
   {
    "duration": 182,
    "start_time": "2023-10-24T19:56:01.211Z"
   },
   {
    "duration": 8,
    "start_time": "2023-10-24T19:56:01.395Z"
   },
   {
    "duration": 507,
    "start_time": "2023-10-24T19:56:01.405Z"
   },
   {
    "duration": 1383,
    "start_time": "2023-10-24T19:56:01.914Z"
   },
   {
    "duration": 717,
    "start_time": "2023-10-24T19:56:03.299Z"
   },
   {
    "duration": 36,
    "start_time": "2023-10-24T19:56:04.017Z"
   },
   {
    "duration": 196,
    "start_time": "2023-10-24T19:56:04.058Z"
   },
   {
    "duration": 211,
    "start_time": "2023-10-24T19:56:04.259Z"
   },
   {
    "duration": 31,
    "start_time": "2023-10-24T19:56:04.472Z"
   },
   {
    "duration": 124,
    "start_time": "2023-10-24T19:56:04.543Z"
   },
   {
    "duration": 1242,
    "start_time": "2023-10-24T19:56:04.669Z"
   },
   {
    "duration": 1358,
    "start_time": "2023-10-24T19:56:05.914Z"
   },
   {
    "duration": 525,
    "start_time": "2023-10-24T19:56:07.273Z"
   },
   {
    "duration": 3360,
    "start_time": "2023-10-24T19:56:07.800Z"
   },
   {
    "duration": 422,
    "start_time": "2023-10-24T19:56:11.162Z"
   },
   {
    "duration": 4,
    "start_time": "2023-10-24T19:56:11.586Z"
   },
   {
    "duration": 67,
    "start_time": "2023-10-24T19:56:11.592Z"
   },
   {
    "duration": 3,
    "start_time": "2023-10-24T19:56:11.661Z"
   },
   {
    "duration": 9,
    "start_time": "2023-10-24T19:56:11.665Z"
   },
   {
    "duration": 11,
    "start_time": "2023-10-24T19:56:11.676Z"
   },
   {
    "duration": 5580,
    "start_time": "2023-10-24T19:56:11.689Z"
   },
   {
    "duration": 2533,
    "start_time": "2023-10-24T19:56:54.800Z"
   },
   {
    "duration": 3294,
    "start_time": "2023-10-24T19:58:52.367Z"
   },
   {
    "duration": 9613,
    "start_time": "2023-10-24T19:59:02.039Z"
   },
   {
    "duration": 24,
    "start_time": "2023-10-24T19:59:14.562Z"
   },
   {
    "duration": 745,
    "start_time": "2023-10-24T19:59:15.335Z"
   },
   {
    "duration": 644,
    "start_time": "2023-10-24T19:59:22.252Z"
   },
   {
    "duration": 3028,
    "start_time": "2023-10-24T19:59:27.399Z"
   },
   {
    "duration": 10,
    "start_time": "2023-10-24T20:06:35.913Z"
   },
   {
    "duration": 7,
    "start_time": "2023-10-24T20:07:27.312Z"
   },
   {
    "duration": 7686,
    "start_time": "2023-10-24T20:07:57.970Z"
   },
   {
    "duration": 6093,
    "start_time": "2023-10-24T20:08:48.198Z"
   },
   {
    "duration": 5,
    "start_time": "2023-10-24T20:09:12.533Z"
   },
   {
    "duration": 8,
    "start_time": "2023-10-24T20:12:42.328Z"
   },
   {
    "duration": 259,
    "start_time": "2023-10-24T20:12:42.338Z"
   },
   {
    "duration": 141,
    "start_time": "2023-10-24T20:12:42.598Z"
   },
   {
    "duration": 12,
    "start_time": "2023-10-24T20:12:42.746Z"
   },
   {
    "duration": 531,
    "start_time": "2023-10-24T20:12:42.760Z"
   },
   {
    "duration": 1350,
    "start_time": "2023-10-24T20:12:43.293Z"
   },
   {
    "duration": 827,
    "start_time": "2023-10-24T20:12:44.645Z"
   },
   {
    "duration": 8,
    "start_time": "2023-10-24T20:12:45.475Z"
   },
   {
    "duration": 225,
    "start_time": "2023-10-24T20:12:45.485Z"
   },
   {
    "duration": 171,
    "start_time": "2023-10-24T20:12:45.711Z"
   },
   {
    "duration": 25,
    "start_time": "2023-10-24T20:12:45.884Z"
   },
   {
    "duration": 124,
    "start_time": "2023-10-24T20:12:45.911Z"
   },
   {
    "duration": 1359,
    "start_time": "2023-10-24T20:12:46.037Z"
   },
   {
    "duration": 1425,
    "start_time": "2023-10-24T20:12:47.447Z"
   },
   {
    "duration": 521,
    "start_time": "2023-10-24T20:12:48.874Z"
   },
   {
    "duration": 2380,
    "start_time": "2023-10-24T20:12:49.396Z"
   },
   {
    "duration": 469,
    "start_time": "2023-10-24T20:12:51.778Z"
   },
   {
    "duration": 5,
    "start_time": "2023-10-24T20:12:52.249Z"
   },
   {
    "duration": 25,
    "start_time": "2023-10-24T20:12:52.255Z"
   },
   {
    "duration": 2,
    "start_time": "2023-10-24T20:12:52.282Z"
   },
   {
    "duration": 5,
    "start_time": "2023-10-24T20:12:52.285Z"
   },
   {
    "duration": 12,
    "start_time": "2023-10-24T20:12:52.292Z"
   },
   {
    "duration": 5993,
    "start_time": "2023-10-24T20:12:52.305Z"
   },
   {
    "duration": 2860,
    "start_time": "2023-10-24T20:12:58.300Z"
   },
   {
    "duration": 8996,
    "start_time": "2023-10-24T20:13:01.162Z"
   },
   {
    "duration": 23,
    "start_time": "2023-10-24T20:13:10.163Z"
   },
   {
    "duration": 4,
    "start_time": "2023-10-24T20:13:10.188Z"
   },
   {
    "duration": 17,
    "start_time": "2023-10-24T20:13:10.194Z"
   },
   {
    "duration": 6369,
    "start_time": "2023-10-24T20:13:10.213Z"
   },
   {
    "duration": 3294,
    "start_time": "2023-10-24T20:13:16.584Z"
   },
   {
    "duration": 4,
    "start_time": "2023-10-24T20:13:19.879Z"
   },
   {
    "duration": 24,
    "start_time": "2023-10-24T20:13:19.885Z"
   },
   {
    "duration": 6,
    "start_time": "2023-10-24T20:17:06.802Z"
   },
   {
    "duration": 251,
    "start_time": "2023-10-24T20:17:06.811Z"
   },
   {
    "duration": 138,
    "start_time": "2023-10-24T20:17:07.064Z"
   },
   {
    "duration": 8,
    "start_time": "2023-10-24T20:17:07.204Z"
   },
   {
    "duration": 534,
    "start_time": "2023-10-24T20:17:07.214Z"
   },
   {
    "duration": 1095,
    "start_time": "2023-10-24T20:17:07.760Z"
   },
   {
    "duration": 750,
    "start_time": "2023-10-24T20:17:08.858Z"
   },
   {
    "duration": 51,
    "start_time": "2023-10-24T20:17:09.610Z"
   },
   {
    "duration": 136,
    "start_time": "2023-10-24T20:17:09.666Z"
   },
   {
    "duration": 159,
    "start_time": "2023-10-24T20:17:09.804Z"
   },
   {
    "duration": 35,
    "start_time": "2023-10-24T20:17:09.964Z"
   },
   {
    "duration": 138,
    "start_time": "2023-10-24T20:17:10.000Z"
   },
   {
    "duration": 1287,
    "start_time": "2023-10-24T20:17:10.139Z"
   },
   {
    "duration": 1210,
    "start_time": "2023-10-24T20:17:11.443Z"
   },
   {
    "duration": 486,
    "start_time": "2023-10-24T20:17:12.659Z"
   },
   {
    "duration": 2259,
    "start_time": "2023-10-24T20:17:13.148Z"
   },
   {
    "duration": 656,
    "start_time": "2023-10-24T20:17:15.408Z"
   },
   {
    "duration": 4,
    "start_time": "2023-10-24T20:17:16.066Z"
   },
   {
    "duration": 57,
    "start_time": "2023-10-24T20:17:16.072Z"
   },
   {
    "duration": 2,
    "start_time": "2023-10-24T20:17:16.131Z"
   },
   {
    "duration": 25,
    "start_time": "2023-10-24T20:17:16.146Z"
   },
   {
    "duration": 47,
    "start_time": "2023-10-24T20:17:16.172Z"
   },
   {
    "duration": 4869,
    "start_time": "2023-10-24T20:17:16.221Z"
   },
   {
    "duration": 2897,
    "start_time": "2023-10-24T20:17:21.092Z"
   },
   {
    "duration": 8282,
    "start_time": "2023-10-24T20:17:23.992Z"
   },
   {
    "duration": 79,
    "start_time": "2023-10-24T20:17:32.276Z"
   },
   {
    "duration": 3,
    "start_time": "2023-10-24T20:17:32.360Z"
   },
   {
    "duration": 35,
    "start_time": "2023-10-24T20:17:32.365Z"
   },
   {
    "duration": 5107,
    "start_time": "2023-10-24T20:17:32.403Z"
   },
   {
    "duration": 2846,
    "start_time": "2023-10-24T20:17:37.512Z"
   },
   {
    "duration": 6,
    "start_time": "2023-10-24T20:32:18.166Z"
   },
   {
    "duration": 302,
    "start_time": "2023-10-24T20:32:18.175Z"
   },
   {
    "duration": 311,
    "start_time": "2023-10-24T20:32:18.479Z"
   },
   {
    "duration": 10,
    "start_time": "2023-10-24T20:32:18.845Z"
   },
   {
    "duration": 997,
    "start_time": "2023-10-24T20:32:18.858Z"
   },
   {
    "duration": 1371,
    "start_time": "2023-10-24T20:32:19.858Z"
   },
   {
    "duration": 666,
    "start_time": "2023-10-24T20:32:21.231Z"
   },
   {
    "duration": 7,
    "start_time": "2023-10-24T20:32:21.898Z"
   },
   {
    "duration": 200,
    "start_time": "2023-10-24T20:32:21.907Z"
   },
   {
    "duration": 183,
    "start_time": "2023-10-24T20:32:22.109Z"
   },
   {
    "duration": 55,
    "start_time": "2023-10-24T20:32:22.293Z"
   },
   {
    "duration": 110,
    "start_time": "2023-10-24T20:32:22.350Z"
   },
   {
    "duration": 1340,
    "start_time": "2023-10-24T20:32:22.462Z"
   },
   {
    "duration": 1187,
    "start_time": "2023-10-24T20:32:23.806Z"
   },
   {
    "duration": 506,
    "start_time": "2023-10-24T20:32:24.995Z"
   },
   {
    "duration": 2335,
    "start_time": "2023-10-24T20:32:25.504Z"
   },
   {
    "duration": 8,
    "start_time": "2023-10-24T20:32:27.841Z"
   },
   {
    "duration": 23,
    "start_time": "2023-10-24T20:32:27.852Z"
   },
   {
    "duration": 31,
    "start_time": "2023-10-24T20:32:27.877Z"
   },
   {
    "duration": 2,
    "start_time": "2023-10-24T20:32:27.910Z"
   },
   {
    "duration": 45,
    "start_time": "2023-10-24T20:32:27.914Z"
   },
   {
    "duration": 5,
    "start_time": "2023-10-24T20:32:27.961Z"
   },
   {
    "duration": 4685,
    "start_time": "2023-10-24T20:32:27.968Z"
   },
   {
    "duration": 7818,
    "start_time": "2023-10-24T20:32:32.654Z"
   },
   {
    "duration": 2486,
    "start_time": "2023-10-24T20:32:40.475Z"
   },
   {
    "duration": 8050,
    "start_time": "2023-10-24T20:33:06.816Z"
   },
   {
    "duration": 19,
    "start_time": "2023-10-24T20:33:14.868Z"
   },
   {
    "duration": 2,
    "start_time": "2023-10-24T20:33:16.408Z"
   },
   {
    "duration": 2,
    "start_time": "2023-10-24T20:33:16.864Z"
   },
   {
    "duration": 4649,
    "start_time": "2023-10-24T20:33:17.425Z"
   },
   {
    "duration": 2541,
    "start_time": "2023-10-24T20:33:22.076Z"
   },
   {
    "duration": 17084,
    "start_time": "2023-10-24T20:33:57.408Z"
   },
   {
    "duration": 9567,
    "start_time": "2023-10-24T20:34:14.495Z"
   },
   {
    "duration": 1318,
    "start_time": "2023-10-24T20:34:24.065Z"
   },
   {
    "duration": 79,
    "start_time": "2023-10-24T20:34:25.385Z"
   },
   {
    "duration": 5000,
    "start_time": "2023-10-24T20:34:25.467Z"
   },
   {
    "duration": 4216,
    "start_time": "2023-10-24T20:34:30.469Z"
   },
   {
    "duration": 4375,
    "start_time": "2023-10-24T20:34:34.688Z"
   },
   {
    "duration": 24,
    "start_time": "2023-10-24T20:34:39.065Z"
   },
   {
    "duration": 587,
    "start_time": "2023-10-24T20:34:39.091Z"
   },
   {
    "duration": 488,
    "start_time": "2023-10-24T20:34:39.680Z"
   },
   {
    "duration": 100,
    "start_time": "2023-10-24T20:34:40.169Z"
   },
   {
    "duration": 388,
    "start_time": "2023-10-24T20:34:40.271Z"
   },
   {
    "duration": 6315,
    "start_time": "2023-10-24T20:34:40.660Z"
   },
   {
    "duration": 4466,
    "start_time": "2023-10-24T20:34:46.979Z"
   },
   {
    "duration": 1625,
    "start_time": "2023-10-24T20:34:51.448Z"
   },
   {
    "duration": 6033,
    "start_time": "2023-10-24T20:34:53.075Z"
   },
   {
    "duration": 3,
    "start_time": "2023-10-24T20:34:59.110Z"
   },
   {
    "duration": 28,
    "start_time": "2023-10-24T20:34:59.115Z"
   },
   {
    "duration": 320,
    "start_time": "2023-10-24T20:34:59.145Z"
   },
   {
    "duration": 2,
    "start_time": "2023-10-24T20:34:59.467Z"
   },
   {
    "duration": 17,
    "start_time": "2023-10-24T20:34:59.471Z"
   },
   {
    "duration": 8,
    "start_time": "2023-10-24T20:34:59.489Z"
   },
   {
    "duration": 13069,
    "start_time": "2023-10-24T20:34:59.499Z"
   },
   {
    "duration": 18310,
    "start_time": "2023-10-24T20:35:12.571Z"
   },
   {
    "duration": 5200,
    "start_time": "2023-10-24T20:35:30.952Z"
   },
   {
    "duration": 16117,
    "start_time": "2023-10-24T20:35:36.157Z"
   },
   {
    "duration": 25,
    "start_time": "2023-10-24T20:35:52.275Z"
   },
   {
    "duration": 3,
    "start_time": "2023-10-24T20:35:52.351Z"
   },
   {
    "duration": 15,
    "start_time": "2023-10-24T20:35:52.359Z"
   },
   {
    "duration": 7489,
    "start_time": "2023-10-24T20:35:52.376Z"
   },
   {
    "duration": 4281,
    "start_time": "2023-10-24T20:35:59.867Z"
   },
   {
    "duration": 8,
    "start_time": "2023-10-24T20:36:04.149Z"
   },
   {
    "duration": 6,
    "start_time": "2023-10-24T20:36:04.162Z"
   },
   {
    "duration": 8,
    "start_time": "2023-10-24T20:37:07.940Z"
   },
   {
    "duration": 424,
    "start_time": "2023-10-24T20:37:07.951Z"
   },
   {
    "duration": 208,
    "start_time": "2023-10-24T20:37:08.377Z"
   },
   {
    "duration": 8,
    "start_time": "2023-10-24T20:37:08.586Z"
   },
   {
    "duration": 1584,
    "start_time": "2023-10-24T20:37:08.596Z"
   },
   {
    "duration": 1422,
    "start_time": "2023-10-24T20:37:10.181Z"
   },
   {
    "duration": 1049,
    "start_time": "2023-10-24T20:37:11.605Z"
   },
   {
    "duration": 9,
    "start_time": "2023-10-24T20:37:12.659Z"
   },
   {
    "duration": 198,
    "start_time": "2023-10-24T20:37:12.671Z"
   },
   {
    "duration": 209,
    "start_time": "2023-10-24T20:37:12.871Z"
   },
   {
    "duration": 31,
    "start_time": "2023-10-24T20:37:13.082Z"
   },
   {
    "duration": 139,
    "start_time": "2023-10-24T20:37:13.116Z"
   },
   {
    "duration": 2208,
    "start_time": "2023-10-24T20:37:13.257Z"
   },
   {
    "duration": 1788,
    "start_time": "2023-10-24T20:37:15.472Z"
   },
   {
    "duration": 630,
    "start_time": "2023-10-24T20:37:17.262Z"
   },
   {
    "duration": 3532,
    "start_time": "2023-10-24T20:37:17.894Z"
   },
   {
    "duration": 322,
    "start_time": "2023-10-24T20:37:21.443Z"
   },
   {
    "duration": 7,
    "start_time": "2023-10-24T20:37:21.768Z"
   },
   {
    "duration": 88,
    "start_time": "2023-10-24T20:37:21.776Z"
   },
   {
    "duration": 3,
    "start_time": "2023-10-24T20:37:21.865Z"
   },
   {
    "duration": 33,
    "start_time": "2023-10-24T20:37:21.870Z"
   },
   {
    "duration": 39,
    "start_time": "2023-10-24T20:37:21.904Z"
   },
   {
    "duration": 6333,
    "start_time": "2023-10-24T20:37:21.948Z"
   },
   {
    "duration": 5468,
    "start_time": "2023-10-24T20:37:28.283Z"
   },
   {
    "duration": 3937,
    "start_time": "2023-10-24T20:37:33.759Z"
   },
   {
    "duration": 13221,
    "start_time": "2023-10-24T20:38:07.261Z"
   },
   {
    "duration": 17,
    "start_time": "2023-10-24T20:38:22.677Z"
   },
   {
    "duration": 2,
    "start_time": "2023-10-24T20:38:23.926Z"
   },
   {
    "duration": 3,
    "start_time": "2023-10-24T20:38:24.437Z"
   },
   {
    "duration": 6491,
    "start_time": "2023-10-24T20:38:25.076Z"
   },
   {
    "duration": 3498,
    "start_time": "2023-10-24T20:38:32.469Z"
   },
   {
    "duration": 4,
    "start_time": "2023-10-24T20:38:56.389Z"
   },
   {
    "duration": 4,
    "start_time": "2023-10-24T20:39:06.765Z"
   },
   {
    "duration": 10543,
    "start_time": "2023-10-24T20:39:39.040Z"
   },
   {
    "duration": 26,
    "start_time": "2023-10-24T20:39:50.836Z"
   },
   {
    "duration": 2,
    "start_time": "2023-10-24T20:39:51.533Z"
   },
   {
    "duration": 2,
    "start_time": "2023-10-24T20:39:52.085Z"
   },
   {
    "duration": 6106,
    "start_time": "2023-10-24T20:39:52.701Z"
   },
   {
    "duration": 4160,
    "start_time": "2023-10-24T20:41:22.716Z"
   },
   {
    "duration": 7,
    "start_time": "2023-10-24T20:41:51.834Z"
   },
   {
    "duration": 271,
    "start_time": "2023-10-24T20:41:51.842Z"
   },
   {
    "duration": 182,
    "start_time": "2023-10-24T20:41:52.115Z"
   },
   {
    "duration": 8,
    "start_time": "2023-10-24T20:41:52.299Z"
   },
   {
    "duration": 1063,
    "start_time": "2023-10-24T20:41:52.309Z"
   },
   {
    "duration": 1610,
    "start_time": "2023-10-24T20:41:53.374Z"
   },
   {
    "duration": 1001,
    "start_time": "2023-10-24T20:41:54.986Z"
   },
   {
    "duration": 8,
    "start_time": "2023-10-24T20:41:55.989Z"
   },
   {
    "duration": 251,
    "start_time": "2023-10-24T20:41:55.998Z"
   },
   {
    "duration": 418,
    "start_time": "2023-10-24T20:41:56.250Z"
   },
   {
    "duration": 92,
    "start_time": "2023-10-24T20:41:56.672Z"
   },
   {
    "duration": 106,
    "start_time": "2023-10-24T20:41:56.765Z"
   },
   {
    "duration": 1511,
    "start_time": "2023-10-24T20:41:56.872Z"
   },
   {
    "duration": 1290,
    "start_time": "2023-10-24T20:41:58.385Z"
   },
   {
    "duration": 507,
    "start_time": "2023-10-24T20:41:59.676Z"
   },
   {
    "duration": 2683,
    "start_time": "2023-10-24T20:42:00.184Z"
   },
   {
    "duration": 318,
    "start_time": "2023-10-24T20:42:02.869Z"
   },
   {
    "duration": 9,
    "start_time": "2023-10-24T20:42:03.246Z"
   },
   {
    "duration": 95,
    "start_time": "2023-10-24T20:42:03.261Z"
   },
   {
    "duration": 8,
    "start_time": "2023-10-24T20:42:03.358Z"
   },
   {
    "duration": 37,
    "start_time": "2023-10-24T20:42:03.368Z"
   },
   {
    "duration": 97,
    "start_time": "2023-10-24T20:42:03.407Z"
   },
   {
    "duration": 6562,
    "start_time": "2023-10-24T20:42:03.506Z"
   },
   {
    "duration": 5643,
    "start_time": "2023-10-24T20:42:10.070Z"
   },
   {
    "duration": 17073,
    "start_time": "2023-10-24T20:46:24.600Z"
   },
   {
    "duration": 9906,
    "start_time": "2023-10-24T20:46:41.675Z"
   },
   {
    "duration": 1463,
    "start_time": "2023-10-24T20:46:51.583Z"
   },
   {
    "duration": 14,
    "start_time": "2023-10-24T20:46:53.047Z"
   },
   {
    "duration": 4900,
    "start_time": "2023-10-24T20:46:53.063Z"
   },
   {
    "duration": 4503,
    "start_time": "2023-10-24T20:46:57.965Z"
   },
   {
    "duration": 4581,
    "start_time": "2023-10-24T20:47:02.470Z"
   },
   {
    "duration": 29,
    "start_time": "2023-10-24T20:47:07.054Z"
   },
   {
    "duration": 694,
    "start_time": "2023-10-24T20:47:07.087Z"
   },
   {
    "duration": 518,
    "start_time": "2023-10-24T20:47:07.784Z"
   },
   {
    "duration": 103,
    "start_time": "2023-10-24T20:47:08.304Z"
   },
   {
    "duration": 331,
    "start_time": "2023-10-24T20:47:08.446Z"
   },
   {
    "duration": 7018,
    "start_time": "2023-10-24T20:47:08.779Z"
   },
   {
    "duration": 4318,
    "start_time": "2023-10-24T20:47:15.843Z"
   },
   {
    "duration": 1483,
    "start_time": "2023-10-24T20:47:20.163Z"
   },
   {
    "duration": 5642,
    "start_time": "2023-10-24T20:47:21.648Z"
   },
   {
    "duration": 4,
    "start_time": "2023-10-24T20:47:27.292Z"
   },
   {
    "duration": 40,
    "start_time": "2023-10-24T20:47:27.297Z"
   },
   {
    "duration": 524,
    "start_time": "2023-10-24T20:47:27.349Z"
   },
   {
    "duration": 2,
    "start_time": "2023-10-24T20:47:27.874Z"
   },
   {
    "duration": 4,
    "start_time": "2023-10-24T20:47:27.878Z"
   },
   {
    "duration": 5,
    "start_time": "2023-10-24T20:47:27.884Z"
   },
   {
    "duration": 13780,
    "start_time": "2023-10-24T20:47:27.890Z"
   },
   {
    "duration": 21497,
    "start_time": "2023-10-24T20:47:41.672Z"
   },
   {
    "duration": 5908,
    "start_time": "2023-10-24T20:48:03.177Z"
   },
   {
    "duration": 20565,
    "start_time": "2023-10-24T20:48:09.087Z"
   },
   {
    "duration": 95,
    "start_time": "2023-10-24T20:48:29.654Z"
   },
   {
    "duration": 9,
    "start_time": "2023-10-24T20:48:29.757Z"
   },
   {
    "duration": 4,
    "start_time": "2023-10-24T20:48:29.774Z"
   },
   {
    "duration": 7917,
    "start_time": "2023-10-24T20:48:29.780Z"
   },
   {
    "duration": 4205,
    "start_time": "2023-10-24T20:48:37.698Z"
   },
   {
    "duration": 4,
    "start_time": "2023-10-24T20:48:41.906Z"
   },
   {
    "duration": 35,
    "start_time": "2023-10-24T20:48:41.911Z"
   },
   {
    "duration": 7,
    "start_time": "2023-10-24T20:58:27.328Z"
   },
   {
    "duration": 411,
    "start_time": "2023-10-24T20:58:27.337Z"
   },
   {
    "duration": 172,
    "start_time": "2023-10-24T20:58:27.750Z"
   },
   {
    "duration": 17,
    "start_time": "2023-10-24T20:58:27.944Z"
   },
   {
    "duration": 1292,
    "start_time": "2023-10-24T20:58:27.963Z"
   },
   {
    "duration": 1587,
    "start_time": "2023-10-24T20:58:29.260Z"
   },
   {
    "duration": 1109,
    "start_time": "2023-10-24T20:58:30.848Z"
   },
   {
    "duration": 9,
    "start_time": "2023-10-24T20:58:31.960Z"
   },
   {
    "duration": 229,
    "start_time": "2023-10-24T20:58:31.971Z"
   },
   {
    "duration": 256,
    "start_time": "2023-10-24T20:58:32.202Z"
   },
   {
    "duration": 28,
    "start_time": "2023-10-24T20:58:32.460Z"
   },
   {
    "duration": 126,
    "start_time": "2023-10-24T20:58:32.489Z"
   },
   {
    "duration": 2028,
    "start_time": "2023-10-24T20:58:32.617Z"
   },
   {
    "duration": 1769,
    "start_time": "2023-10-24T20:58:34.652Z"
   },
   {
    "duration": 623,
    "start_time": "2023-10-24T20:58:36.445Z"
   },
   {
    "duration": 3320,
    "start_time": "2023-10-24T20:58:37.071Z"
   },
   {
    "duration": 6406,
    "start_time": "2023-10-24T20:58:40.393Z"
   },
   {
    "duration": 46,
    "start_time": "2023-10-24T20:58:46.800Z"
   },
   {
    "duration": 5,
    "start_time": "2023-10-24T20:58:46.848Z"
   },
   {
    "duration": 20,
    "start_time": "2023-10-24T20:58:46.855Z"
   },
   {
    "duration": 20,
    "start_time": "2023-10-24T20:58:46.877Z"
   },
   {
    "duration": 31,
    "start_time": "2023-10-24T20:58:46.899Z"
   },
   {
    "duration": 34,
    "start_time": "2023-10-24T20:58:46.932Z"
   },
   {
    "duration": 25,
    "start_time": "2023-10-24T20:58:46.967Z"
   },
   {
    "duration": 32,
    "start_time": "2023-10-24T20:58:46.993Z"
   },
   {
    "duration": 44,
    "start_time": "2023-10-24T20:58:47.027Z"
   },
   {
    "duration": 15,
    "start_time": "2023-10-24T20:58:47.073Z"
   },
   {
    "duration": 120,
    "start_time": "2023-10-24T20:58:47.090Z"
   },
   {
    "duration": 0,
    "start_time": "2023-10-24T20:58:47.212Z"
   },
   {
    "duration": 3,
    "start_time": "2023-10-24T20:59:25.968Z"
   },
   {
    "duration": 8,
    "start_time": "2023-10-24T20:59:29.460Z"
   },
   {
    "duration": 19223,
    "start_time": "2023-10-24T20:59:54.167Z"
   },
   {
    "duration": 197,
    "start_time": "2023-10-24T21:00:34.381Z"
   },
   {
    "duration": 2,
    "start_time": "2023-10-24T21:00:39.313Z"
   },
   {
    "duration": 3,
    "start_time": "2023-10-24T21:00:40.223Z"
   },
   {
    "duration": 8,
    "start_time": "2023-10-24T21:00:42.172Z"
   },
   {
    "duration": 7,
    "start_time": "2023-10-24T21:00:49.771Z"
   },
   {
    "duration": 3755,
    "start_time": "2023-10-24T21:00:51.328Z"
   },
   {
    "duration": 4,
    "start_time": "2023-10-24T21:01:23.190Z"
   },
   {
    "duration": 5,
    "start_time": "2023-10-24T21:01:24.685Z"
   },
   {
    "duration": 17364,
    "start_time": "2023-10-24T21:02:36.727Z"
   },
   {
    "duration": 9662,
    "start_time": "2023-10-24T21:02:54.094Z"
   },
   {
    "duration": 1133,
    "start_time": "2023-10-24T21:03:03.759Z"
   },
   {
    "duration": 10,
    "start_time": "2023-10-24T21:03:04.894Z"
   },
   {
    "duration": 5252,
    "start_time": "2023-10-24T21:03:04.906Z"
   },
   {
    "duration": 5286,
    "start_time": "2023-10-24T21:03:10.163Z"
   },
   {
    "duration": 4718,
    "start_time": "2023-10-24T21:03:15.459Z"
   },
   {
    "duration": 12,
    "start_time": "2023-10-24T21:03:20.179Z"
   },
   {
    "duration": 524,
    "start_time": "2023-10-24T21:03:20.247Z"
   },
   {
    "duration": 313,
    "start_time": "2023-10-24T21:03:20.774Z"
   },
   {
    "duration": 106,
    "start_time": "2023-10-24T21:03:21.090Z"
   },
   {
    "duration": 405,
    "start_time": "2023-10-24T21:03:21.245Z"
   },
   {
    "duration": 7122,
    "start_time": "2023-10-24T21:03:21.656Z"
   },
   {
    "duration": 4613,
    "start_time": "2023-10-24T21:03:28.783Z"
   },
   {
    "duration": 1819,
    "start_time": "2023-10-24T21:03:33.447Z"
   },
   {
    "duration": 7618,
    "start_time": "2023-10-24T21:03:35.267Z"
   },
   {
    "duration": 13687,
    "start_time": "2023-10-24T21:03:42.886Z"
   },
   {
    "duration": 93,
    "start_time": "2023-10-24T21:03:56.575Z"
   },
   {
    "duration": 5,
    "start_time": "2023-10-24T21:03:56.670Z"
   },
   {
    "duration": 70,
    "start_time": "2023-10-24T21:03:56.677Z"
   },
   {
    "duration": 6,
    "start_time": "2023-10-24T21:03:56.749Z"
   },
   {
    "duration": 7,
    "start_time": "2023-10-24T21:03:56.757Z"
   },
   {
    "duration": 23,
    "start_time": "2023-10-24T21:03:56.768Z"
   },
   {
    "duration": 9,
    "start_time": "2023-10-24T21:03:56.844Z"
   },
   {
    "duration": 14,
    "start_time": "2023-10-24T21:03:56.858Z"
   },
   {
    "duration": 91,
    "start_time": "2023-10-24T21:03:56.874Z"
   },
   {
    "duration": 98,
    "start_time": "2023-10-24T21:03:56.969Z"
   },
   {
    "duration": 3,
    "start_time": "2023-10-24T21:03:57.069Z"
   },
   {
    "duration": 35173,
    "start_time": "2023-10-24T21:03:57.074Z"
   },
   {
    "duration": 217,
    "start_time": "2023-10-24T21:04:32.250Z"
   },
   {
    "duration": 3,
    "start_time": "2023-10-24T21:04:32.469Z"
   },
   {
    "duration": 13,
    "start_time": "2023-10-24T21:04:32.475Z"
   },
   {
    "duration": 6,
    "start_time": "2023-10-24T21:04:32.543Z"
   },
   {
    "duration": 5198,
    "start_time": "2023-10-24T21:04:32.552Z"
   },
   {
    "duration": 4,
    "start_time": "2023-10-24T21:04:37.751Z"
   },
   {
    "duration": 24,
    "start_time": "2023-10-24T21:04:37.756Z"
   },
   {
    "duration": 17420,
    "start_time": "2023-10-24T21:07:36.932Z"
   },
   {
    "duration": 10009,
    "start_time": "2023-10-24T21:07:54.355Z"
   },
   {
    "duration": 1115,
    "start_time": "2023-10-24T21:08:04.366Z"
   },
   {
    "duration": 9,
    "start_time": "2023-10-24T21:08:05.483Z"
   },
   {
    "duration": 4984,
    "start_time": "2023-10-24T21:08:05.494Z"
   },
   {
    "duration": 5198,
    "start_time": "2023-10-24T21:08:10.480Z"
   },
   {
    "duration": 4294,
    "start_time": "2023-10-24T21:08:15.681Z"
   },
   {
    "duration": 77,
    "start_time": "2023-10-24T21:08:19.977Z"
   },
   {
    "duration": 512,
    "start_time": "2023-10-24T21:08:20.058Z"
   },
   {
    "duration": 590,
    "start_time": "2023-10-24T21:08:20.572Z"
   },
   {
    "duration": 117,
    "start_time": "2023-10-24T21:08:21.165Z"
   },
   {
    "duration": 341,
    "start_time": "2023-10-24T21:08:21.344Z"
   },
   {
    "duration": 6050,
    "start_time": "2023-10-24T21:08:21.745Z"
   },
   {
    "duration": 4648,
    "start_time": "2023-10-24T21:08:27.847Z"
   },
   {
    "duration": 1744,
    "start_time": "2023-10-24T21:08:32.544Z"
   },
   {
    "duration": 6214,
    "start_time": "2023-10-24T21:08:34.343Z"
   },
   {
    "duration": 12115,
    "start_time": "2023-10-24T21:08:40.558Z"
   },
   {
    "duration": 176,
    "start_time": "2023-10-24T21:08:52.676Z"
   },
   {
    "duration": 7,
    "start_time": "2023-10-24T21:08:52.853Z"
   },
   {
    "duration": 24,
    "start_time": "2023-10-24T21:08:52.862Z"
   },
   {
    "duration": 75,
    "start_time": "2023-10-24T21:08:52.887Z"
   },
   {
    "duration": 106,
    "start_time": "2023-10-24T21:08:52.963Z"
   },
   {
    "duration": 5,
    "start_time": "2023-10-24T21:08:53.072Z"
   },
   {
    "duration": 40987,
    "start_time": "2023-10-24T21:08:53.079Z"
   },
   {
    "duration": 292,
    "start_time": "2023-10-24T21:09:34.068Z"
   },
   {
    "duration": 6121,
    "start_time": "2023-10-24T21:09:34.363Z"
   },
   {
    "duration": 11,
    "start_time": "2023-10-24T21:10:43.653Z"
   },
   {
    "duration": 519,
    "start_time": "2023-10-24T21:10:43.670Z"
   },
   {
    "duration": 359,
    "start_time": "2023-10-24T21:10:44.193Z"
   },
   {
    "duration": 17,
    "start_time": "2023-10-24T21:10:44.555Z"
   },
   {
    "duration": 1324,
    "start_time": "2023-10-24T21:10:44.575Z"
   },
   {
    "duration": 1860,
    "start_time": "2023-10-24T21:10:45.901Z"
   },
   {
    "duration": 1421,
    "start_time": "2023-10-24T21:10:47.763Z"
   },
   {
    "duration": 64,
    "start_time": "2023-10-24T21:10:49.187Z"
   },
   {
    "duration": 239,
    "start_time": "2023-10-24T21:10:49.257Z"
   },
   {
    "duration": 219,
    "start_time": "2023-10-24T21:10:49.498Z"
   },
   {
    "duration": 20,
    "start_time": "2023-10-24T21:10:49.743Z"
   },
   {
    "duration": 13,
    "start_time": "2023-10-24T21:10:55.859Z"
   },
   {
    "duration": 419,
    "start_time": "2023-10-24T21:10:56.746Z"
   },
   {
    "duration": 291,
    "start_time": "2023-10-24T21:10:58.983Z"
   },
   {
    "duration": 1224,
    "start_time": "2023-10-24T21:11:05.379Z"
   },
   {
    "duration": 192,
    "start_time": "2023-10-24T21:11:39.163Z"
   },
   {
    "duration": 2866,
    "start_time": "2023-10-24T21:11:42.466Z"
   },
   {
    "duration": 636,
    "start_time": "2023-10-24T21:11:47.929Z"
   },
   {
    "duration": 13,
    "start_time": "2023-10-24T21:11:50.260Z"
   },
   {
    "duration": 5,
    "start_time": "2023-10-24T21:11:51.042Z"
   },
   {
    "duration": 7,
    "start_time": "2023-10-24T21:11:53.618Z"
   },
   {
    "duration": 16,
    "start_time": "2023-10-24T21:11:54.383Z"
   },
   {
    "duration": 7,
    "start_time": "2023-10-24T21:11:56.560Z"
   },
   {
    "duration": 4,
    "start_time": "2023-10-24T21:11:57.665Z"
   },
   {
    "duration": 3922,
    "start_time": "2023-10-24T21:11:58.705Z"
   },
   {
    "duration": 200,
    "start_time": "2023-10-24T21:12:09.257Z"
   },
   {
    "duration": 699,
    "start_time": "2023-10-24T21:12:10.666Z"
   },
   {
    "duration": 17237,
    "start_time": "2023-10-24T21:13:55.949Z"
   },
   {
    "duration": 10283,
    "start_time": "2023-10-24T21:14:13.190Z"
   },
   {
    "duration": 1308,
    "start_time": "2023-10-24T21:14:23.475Z"
   },
   {
    "duration": 10,
    "start_time": "2023-10-24T21:14:24.784Z"
   },
   {
    "duration": 4771,
    "start_time": "2023-10-24T21:14:24.796Z"
   },
   {
    "duration": 4622,
    "start_time": "2023-10-24T21:14:29.568Z"
   },
   {
    "duration": 4337,
    "start_time": "2023-10-24T21:14:34.246Z"
   },
   {
    "duration": 3,
    "start_time": "2023-10-24T21:14:38.585Z"
   },
   {
    "duration": 25,
    "start_time": "2023-10-24T21:14:38.648Z"
   },
   {
    "duration": 406,
    "start_time": "2023-10-24T21:14:38.674Z"
   },
   {
    "duration": 74,
    "start_time": "2023-10-24T21:14:39.083Z"
   },
   {
    "duration": 584,
    "start_time": "2023-10-24T21:14:39.160Z"
   },
   {
    "duration": 428,
    "start_time": "2023-10-24T21:14:39.746Z"
   },
   {
    "duration": 2,
    "start_time": "2023-10-24T21:14:40.177Z"
   },
   {
    "duration": 48,
    "start_time": "2023-10-24T21:14:40.180Z"
   },
   {
    "duration": 3940,
    "start_time": "2023-10-24T21:14:40.229Z"
   },
   {
    "duration": 1686,
    "start_time": "2023-10-24T21:14:44.171Z"
   },
   {
    "duration": 97,
    "start_time": "2023-10-24T21:14:45.859Z"
   },
   {
    "duration": 6,
    "start_time": "2023-10-24T21:14:45.960Z"
   },
   {
    "duration": 84,
    "start_time": "2023-10-24T21:14:45.968Z"
   },
   {
    "duration": 15,
    "start_time": "2023-10-24T21:14:46.054Z"
   },
   {
    "duration": 108,
    "start_time": "2023-10-24T21:14:46.071Z"
   },
   {
    "duration": 3,
    "start_time": "2023-10-24T21:14:46.180Z"
   },
   {
    "duration": 7571,
    "start_time": "2023-10-24T21:14:46.185Z"
   },
   {
    "duration": 321,
    "start_time": "2023-10-24T21:14:53.757Z"
   },
   {
    "duration": 690,
    "start_time": "2023-10-24T21:14:54.080Z"
   },
   {
    "duration": 9,
    "start_time": "2023-10-24T21:18:03.192Z"
   },
   {
    "duration": 3,
    "start_time": "2023-10-24T21:18:03.984Z"
   },
   {
    "duration": 5208,
    "start_time": "2023-10-24T21:18:04.563Z"
   },
   {
    "duration": 168,
    "start_time": "2023-10-24T21:18:11.511Z"
   },
   {
    "duration": 426,
    "start_time": "2023-10-24T21:18:12.824Z"
   },
   {
    "duration": 11,
    "start_time": "2023-10-24T21:19:26.478Z"
   },
   {
    "duration": 461,
    "start_time": "2023-10-24T21:19:26.491Z"
   },
   {
    "duration": 263,
    "start_time": "2023-10-24T21:19:26.953Z"
   },
   {
    "duration": 40,
    "start_time": "2023-10-24T21:19:27.218Z"
   },
   {
    "duration": 1520,
    "start_time": "2023-10-24T21:19:27.266Z"
   },
   {
    "duration": 2078,
    "start_time": "2023-10-24T21:19:28.789Z"
   },
   {
    "duration": 2386,
    "start_time": "2023-10-24T21:19:30.869Z"
   },
   {
    "duration": 23,
    "start_time": "2023-10-24T21:19:33.259Z"
   },
   {
    "duration": 405,
    "start_time": "2023-10-24T21:19:33.291Z"
   },
   {
    "duration": 397,
    "start_time": "2023-10-24T21:19:33.698Z"
   },
   {
    "duration": 175,
    "start_time": "2023-10-24T21:19:34.097Z"
   },
   {
    "duration": 391,
    "start_time": "2023-10-24T21:19:34.279Z"
   },
   {
    "duration": 5308,
    "start_time": "2023-10-24T21:19:34.671Z"
   },
   {
    "duration": 4061,
    "start_time": "2023-10-24T21:19:39.984Z"
   },
   {
    "duration": 1444,
    "start_time": "2023-10-24T21:19:44.047Z"
   },
   {
    "duration": 6264,
    "start_time": "2023-10-24T21:19:45.492Z"
   },
   {
    "duration": 12640,
    "start_time": "2023-10-24T21:19:51.757Z"
   },
   {
    "duration": 59,
    "start_time": "2023-10-24T21:20:04.400Z"
   },
   {
    "duration": 16,
    "start_time": "2023-10-24T21:20:04.468Z"
   },
   {
    "duration": 13,
    "start_time": "2023-10-24T21:20:04.487Z"
   },
   {
    "duration": 54,
    "start_time": "2023-10-24T21:20:04.503Z"
   },
   {
    "duration": 15,
    "start_time": "2023-10-24T21:20:04.559Z"
   },
   {
    "duration": 8,
    "start_time": "2023-10-24T21:20:04.576Z"
   },
   {
    "duration": 31197,
    "start_time": "2023-10-24T21:20:04.587Z"
   },
   {
    "duration": 213,
    "start_time": "2023-10-24T21:20:35.786Z"
   },
   {
    "duration": 3890,
    "start_time": "2023-10-24T21:20:36.000Z"
   },
   {
    "duration": 8,
    "start_time": "2023-10-24T21:21:32.292Z"
   },
   {
    "duration": 356,
    "start_time": "2023-10-24T21:21:32.302Z"
   },
   {
    "duration": 155,
    "start_time": "2023-10-24T21:21:32.659Z"
   },
   {
    "duration": 43,
    "start_time": "2023-10-24T21:21:32.816Z"
   },
   {
    "duration": 1322,
    "start_time": "2023-10-24T21:21:32.861Z"
   },
   {
    "duration": 1826,
    "start_time": "2023-10-24T21:21:34.185Z"
   },
   {
    "duration": 1175,
    "start_time": "2023-10-24T21:21:36.013Z"
   },
   {
    "duration": 8,
    "start_time": "2023-10-24T21:21:37.190Z"
   },
   {
    "duration": 279,
    "start_time": "2023-10-24T21:21:37.200Z"
   },
   {
    "duration": 215,
    "start_time": "2023-10-24T21:21:37.481Z"
   },
   {
    "duration": 229,
    "start_time": "2023-10-24T21:21:37.698Z"
   },
   {
    "duration": 0,
    "start_time": "2023-10-24T21:21:37.929Z"
   },
   {
    "duration": 0,
    "start_time": "2023-10-24T21:21:37.930Z"
   },
   {
    "duration": 0,
    "start_time": "2023-10-24T21:21:37.931Z"
   },
   {
    "duration": 0,
    "start_time": "2023-10-24T21:21:37.932Z"
   },
   {
    "duration": 0,
    "start_time": "2023-10-24T21:21:37.933Z"
   },
   {
    "duration": 0,
    "start_time": "2023-10-24T21:21:37.934Z"
   },
   {
    "duration": 0,
    "start_time": "2023-10-24T21:21:37.937Z"
   },
   {
    "duration": 0,
    "start_time": "2023-10-24T21:21:37.939Z"
   },
   {
    "duration": 0,
    "start_time": "2023-10-24T21:21:37.939Z"
   },
   {
    "duration": 0,
    "start_time": "2023-10-24T21:21:37.940Z"
   },
   {
    "duration": 0,
    "start_time": "2023-10-24T21:21:37.941Z"
   },
   {
    "duration": 0,
    "start_time": "2023-10-24T21:21:37.942Z"
   },
   {
    "duration": 0,
    "start_time": "2023-10-24T21:21:37.943Z"
   },
   {
    "duration": 0,
    "start_time": "2023-10-24T21:21:37.944Z"
   },
   {
    "duration": 0,
    "start_time": "2023-10-24T21:21:37.945Z"
   },
   {
    "duration": 23,
    "start_time": "2023-10-24T21:23:58.494Z"
   },
   {
    "duration": 215,
    "start_time": "2023-10-24T21:24:04.629Z"
   },
   {
    "duration": 21,
    "start_time": "2023-10-24T21:24:28.517Z"
   },
   {
    "duration": 28,
    "start_time": "2023-10-24T21:25:34.582Z"
   },
   {
    "duration": 113,
    "start_time": "2023-10-24T21:26:04.172Z"
   },
   {
    "duration": 144,
    "start_time": "2023-10-24T21:26:10.085Z"
   },
   {
    "duration": 18,
    "start_time": "2023-10-24T21:26:25.772Z"
   },
   {
    "duration": 211,
    "start_time": "2023-10-24T21:26:41.332Z"
   },
   {
    "duration": 170,
    "start_time": "2023-10-24T21:26:47.180Z"
   },
   {
    "duration": 145,
    "start_time": "2023-10-24T21:26:55.868Z"
   },
   {
    "duration": 167,
    "start_time": "2023-10-24T21:27:17.437Z"
   },
   {
    "duration": 253,
    "start_time": "2023-10-24T21:27:24.340Z"
   },
   {
    "duration": 176,
    "start_time": "2023-10-24T21:27:34.988Z"
   },
   {
    "duration": 180,
    "start_time": "2023-10-24T21:28:27.803Z"
   },
   {
    "duration": 13,
    "start_time": "2023-10-24T21:28:44.744Z"
   },
   {
    "duration": 284,
    "start_time": "2023-10-24T21:28:44.764Z"
   },
   {
    "duration": 232,
    "start_time": "2023-10-24T21:28:45.052Z"
   },
   {
    "duration": 62,
    "start_time": "2023-10-24T21:28:45.285Z"
   },
   {
    "duration": 665,
    "start_time": "2023-10-24T21:28:45.352Z"
   },
   {
    "duration": 1285,
    "start_time": "2023-10-24T21:28:46.019Z"
   },
   {
    "duration": 973,
    "start_time": "2023-10-24T21:28:47.306Z"
   },
   {
    "duration": 7,
    "start_time": "2023-10-24T21:28:48.281Z"
   },
   {
    "duration": 223,
    "start_time": "2023-10-24T21:28:48.290Z"
   },
   {
    "duration": 378,
    "start_time": "2023-10-24T21:28:48.515Z"
   },
   {
    "duration": 329,
    "start_time": "2023-10-24T21:28:48.948Z"
   },
   {
    "duration": 172,
    "start_time": "2023-10-24T21:28:49.278Z"
   },
   {
    "duration": 251,
    "start_time": "2023-10-24T21:28:49.451Z"
   },
   {
    "duration": 986,
    "start_time": "2023-10-24T21:28:49.706Z"
   },
   {
    "duration": 251,
    "start_time": "2023-10-24T21:28:50.694Z"
   },
   {
    "duration": 1564,
    "start_time": "2023-10-24T21:28:50.947Z"
   },
   {
    "duration": 801,
    "start_time": "2023-10-24T21:28:52.513Z"
   },
   {
    "duration": 13,
    "start_time": "2023-10-24T21:28:53.343Z"
   },
   {
    "duration": 10,
    "start_time": "2023-10-24T21:28:53.358Z"
   },
   {
    "duration": 8,
    "start_time": "2023-10-24T21:28:53.370Z"
   },
   {
    "duration": 22,
    "start_time": "2023-10-24T21:28:53.380Z"
   },
   {
    "duration": 6,
    "start_time": "2023-10-24T21:28:53.404Z"
   },
   {
    "duration": 7,
    "start_time": "2023-10-24T21:28:53.444Z"
   },
   {
    "duration": 3077,
    "start_time": "2023-10-24T21:28:53.454Z"
   },
   {
    "duration": 141,
    "start_time": "2023-10-24T21:28:56.533Z"
   },
   {
    "duration": 372,
    "start_time": "2023-10-24T21:28:56.676Z"
   },
   {
    "duration": 14,
    "start_time": "2023-10-24T21:29:12.642Z"
   },
   {
    "duration": 3,
    "start_time": "2023-10-24T21:29:13.274Z"
   },
   {
    "duration": 2433,
    "start_time": "2023-10-24T21:29:14.442Z"
   },
   {
    "duration": 69,
    "start_time": "2023-10-24T21:29:17.913Z"
   },
   {
    "duration": 261,
    "start_time": "2023-10-24T21:29:18.514Z"
   },
   {
    "duration": 17377,
    "start_time": "2023-10-24T21:32:22.476Z"
   },
   {
    "duration": 10095,
    "start_time": "2023-10-24T21:32:39.856Z"
   },
   {
    "duration": 1155,
    "start_time": "2023-10-24T21:32:49.953Z"
   },
   {
    "duration": 48,
    "start_time": "2023-10-24T21:32:51.109Z"
   },
   {
    "duration": 5120,
    "start_time": "2023-10-24T21:32:51.167Z"
   },
   {
    "duration": 4387,
    "start_time": "2023-10-24T21:32:56.289Z"
   },
   {
    "duration": 4309,
    "start_time": "2023-10-24T21:33:00.678Z"
   },
   {
    "duration": 76,
    "start_time": "2023-10-24T21:33:04.989Z"
   },
   {
    "duration": 519,
    "start_time": "2023-10-24T21:33:05.068Z"
   },
   {
    "duration": 408,
    "start_time": "2023-10-24T21:33:05.588Z"
   },
   {
    "duration": 566,
    "start_time": "2023-10-24T21:33:05.998Z"
   },
   {
    "duration": 302,
    "start_time": "2023-10-24T21:33:06.566Z"
   },
   {
    "duration": 425,
    "start_time": "2023-10-24T21:33:06.869Z"
   },
   {
    "duration": 2396,
    "start_time": "2023-10-24T21:33:07.296Z"
   },
   {
    "duration": 367,
    "start_time": "2023-10-24T21:33:09.693Z"
   },
   {
    "duration": 2991,
    "start_time": "2023-10-24T21:33:10.061Z"
   },
   {
    "duration": 1336,
    "start_time": "2023-10-24T21:33:13.053Z"
   },
   {
    "duration": 93,
    "start_time": "2023-10-24T21:33:14.391Z"
   },
   {
    "duration": 62,
    "start_time": "2023-10-24T21:33:14.487Z"
   },
   {
    "duration": 25,
    "start_time": "2023-10-24T21:33:14.551Z"
   },
   {
    "duration": 71,
    "start_time": "2023-10-24T21:33:14.579Z"
   },
   {
    "duration": 113,
    "start_time": "2023-10-24T21:33:14.652Z"
   },
   {
    "duration": 4,
    "start_time": "2023-10-24T21:33:14.772Z"
   },
   {
    "duration": 7484,
    "start_time": "2023-10-24T21:33:14.778Z"
   },
   {
    "duration": 310,
    "start_time": "2023-10-24T21:33:22.264Z"
   },
   {
    "duration": 780,
    "start_time": "2023-10-24T21:33:22.577Z"
   },
   {
    "duration": 480,
    "start_time": "2023-10-24T21:34:33.873Z"
   },
   {
    "duration": 88,
    "start_time": "2023-10-24T21:34:43.393Z"
   },
   {
    "duration": 10,
    "start_time": "2023-10-24T21:34:55.341Z"
   },
   {
    "duration": 5,
    "start_time": "2023-10-24T21:35:01.667Z"
   },
   {
    "duration": 7,
    "start_time": "2023-10-24T21:35:15.268Z"
   },
   {
    "duration": 4,
    "start_time": "2023-10-24T21:35:16.672Z"
   },
   {
    "duration": 354,
    "start_time": "2023-10-24T21:36:06.000Z"
   },
   {
    "duration": 156,
    "start_time": "2023-10-24T21:36:14.679Z"
   },
   {
    "duration": 707,
    "start_time": "2023-10-24T21:38:01.671Z"
   },
   {
    "duration": 235,
    "start_time": "2023-10-24T21:38:29.083Z"
   },
   {
    "duration": 400,
    "start_time": "2023-10-24T21:39:03.894Z"
   },
   {
    "duration": 359,
    "start_time": "2023-10-24T21:39:14.162Z"
   },
   {
    "duration": 286,
    "start_time": "2023-10-24T21:40:26.613Z"
   },
   {
    "duration": 313,
    "start_time": "2023-10-24T21:40:40.509Z"
   },
   {
    "duration": 326,
    "start_time": "2023-10-24T21:40:48.287Z"
   },
   {
    "duration": 13,
    "start_time": "2023-10-24T21:41:46.252Z"
   },
   {
    "duration": 433,
    "start_time": "2023-10-24T21:41:46.267Z"
   },
   {
    "duration": 206,
    "start_time": "2023-10-24T21:41:46.701Z"
   },
   {
    "duration": 40,
    "start_time": "2023-10-24T21:41:46.910Z"
   },
   {
    "duration": 1318,
    "start_time": "2023-10-24T21:41:46.952Z"
   },
   {
    "duration": 1809,
    "start_time": "2023-10-24T21:41:48.272Z"
   },
   {
    "duration": 1903,
    "start_time": "2023-10-24T21:41:50.083Z"
   },
   {
    "duration": 64,
    "start_time": "2023-10-24T21:41:51.988Z"
   },
   {
    "duration": 236,
    "start_time": "2023-10-24T21:41:52.054Z"
   },
   {
    "duration": 201,
    "start_time": "2023-10-24T21:41:52.293Z"
   },
   {
    "duration": 94,
    "start_time": "2023-10-24T21:41:52.496Z"
   },
   {
    "duration": 167,
    "start_time": "2023-10-24T21:41:52.644Z"
   },
   {
    "duration": 4562,
    "start_time": "2023-10-24T21:41:52.814Z"
   },
   {
    "duration": 3188,
    "start_time": "2023-10-24T21:41:57.379Z"
   },
   {
    "duration": 1282,
    "start_time": "2023-10-24T21:42:00.569Z"
   },
   {
    "duration": 5507,
    "start_time": "2023-10-24T21:42:01.853Z"
   },
   {
    "duration": 8403,
    "start_time": "2023-10-24T21:42:07.362Z"
   },
   {
    "duration": 85,
    "start_time": "2023-10-24T21:42:15.768Z"
   },
   {
    "duration": 5,
    "start_time": "2023-10-24T21:42:15.857Z"
   },
   {
    "duration": 21,
    "start_time": "2023-10-24T21:42:15.865Z"
   },
   {
    "duration": 73,
    "start_time": "2023-10-24T21:42:15.887Z"
   },
   {
    "duration": 10,
    "start_time": "2023-10-24T21:42:15.963Z"
   },
   {
    "duration": 13,
    "start_time": "2023-10-24T21:42:15.974Z"
   },
   {
    "duration": 26281,
    "start_time": "2023-10-24T21:42:15.989Z"
   },
   {
    "duration": 198,
    "start_time": "2023-10-24T21:42:42.272Z"
   },
   {
    "duration": 2931,
    "start_time": "2023-10-24T21:42:42.471Z"
   },
   {
    "duration": 6,
    "start_time": "2023-10-24T21:42:45.404Z"
   },
   {
    "duration": 3318,
    "start_time": "2023-10-24T21:42:45.443Z"
   },
   {
    "duration": 3713,
    "start_time": "2023-10-24T21:43:03.870Z"
   },
   {
    "duration": 13,
    "start_time": "2023-10-24T21:43:18.748Z"
   },
   {
    "duration": 93,
    "start_time": "2023-10-24T21:43:38.572Z"
   },
   {
    "duration": 3544,
    "start_time": "2023-10-24T21:45:16.948Z"
   },
   {
    "duration": 14,
    "start_time": "2023-10-24T21:45:38.380Z"
   },
   {
    "duration": 3,
    "start_time": "2023-10-24T21:45:38.996Z"
   },
   {
    "duration": 16299,
    "start_time": "2023-10-24T21:45:39.804Z"
   },
   {
    "duration": 108,
    "start_time": "2023-10-24T21:45:57.580Z"
   },
   {
    "duration": 2516,
    "start_time": "2023-10-24T21:45:58.292Z"
   },
   {
    "duration": 7,
    "start_time": "2023-10-24T21:46:02.057Z"
   },
   {
    "duration": 2814,
    "start_time": "2023-10-24T21:46:02.740Z"
   },
   {
    "duration": 2786,
    "start_time": "2023-10-24T21:46:12.676Z"
   },
   {
    "duration": 3828,
    "start_time": "2023-10-24T21:46:24.180Z"
   },
   {
    "duration": 2860,
    "start_time": "2023-10-24T21:46:43.204Z"
   },
   {
    "duration": 6,
    "start_time": "2023-10-24T21:46:56.922Z"
   },
   {
    "duration": 3,
    "start_time": "2023-10-24T21:46:57.588Z"
   },
   {
    "duration": 16311,
    "start_time": "2023-10-24T21:46:58.164Z"
   },
   {
    "duration": 7,
    "start_time": "2023-10-24T22:00:06.986Z"
   },
   {
    "duration": 3,
    "start_time": "2023-10-24T22:00:07.590Z"
   },
   {
    "duration": 15878,
    "start_time": "2023-10-24T22:00:08.174Z"
   },
   {
    "duration": 199,
    "start_time": "2023-10-24T22:00:24.059Z"
   },
   {
    "duration": 63,
    "start_time": "2023-10-24T22:00:30.427Z"
   },
   {
    "duration": 2489,
    "start_time": "2023-10-24T22:00:31.084Z"
   },
   {
    "duration": 14,
    "start_time": "2023-10-24T22:00:34.694Z"
   },
   {
    "duration": 2393,
    "start_time": "2023-10-24T22:00:35.766Z"
   },
   {
    "duration": 8,
    "start_time": "2023-10-24T22:00:49.670Z"
   },
   {
    "duration": 3,
    "start_time": "2023-10-24T22:00:50.572Z"
   },
   {
    "duration": 12639,
    "start_time": "2023-10-24T22:00:51.338Z"
   },
   {
    "duration": 7,
    "start_time": "2023-10-24T22:01:17.671Z"
   },
   {
    "duration": 4,
    "start_time": "2023-10-24T22:01:18.491Z"
   },
   {
    "duration": 12718,
    "start_time": "2023-10-24T22:01:19.272Z"
   },
   {
    "duration": 67,
    "start_time": "2023-10-24T22:01:33.398Z"
   },
   {
    "duration": 2298,
    "start_time": "2023-10-24T22:01:34.091Z"
   },
   {
    "duration": 8,
    "start_time": "2023-10-24T22:01:37.570Z"
   },
   {
    "duration": 2232,
    "start_time": "2023-10-24T22:01:38.293Z"
   },
   {
    "duration": 12,
    "start_time": "2023-10-24T22:02:05.984Z"
   },
   {
    "duration": 3,
    "start_time": "2023-10-24T22:02:06.601Z"
   },
   {
    "duration": 13116,
    "start_time": "2023-10-24T22:02:07.271Z"
   },
   {
    "duration": 136,
    "start_time": "2023-10-24T22:02:21.738Z"
   },
   {
    "duration": 2505,
    "start_time": "2023-10-24T22:02:22.395Z"
   },
   {
    "duration": 7,
    "start_time": "2023-10-24T22:02:25.769Z"
   },
   {
    "duration": 2223,
    "start_time": "2023-10-24T22:02:26.433Z"
   },
   {
    "duration": 18,
    "start_time": "2023-10-24T22:07:00.836Z"
   },
   {
    "duration": 3,
    "start_time": "2023-10-24T22:07:01.557Z"
   },
   {
    "duration": 11723,
    "start_time": "2023-10-24T22:07:02.275Z"
   },
   {
    "duration": 66,
    "start_time": "2023-10-24T22:07:15.704Z"
   },
   {
    "duration": 2018,
    "start_time": "2023-10-24T22:07:16.483Z"
   },
   {
    "duration": 8,
    "start_time": "2023-10-24T22:07:19.572Z"
   },
   {
    "duration": 3004,
    "start_time": "2023-10-24T22:07:20.473Z"
   },
   {
    "duration": 8,
    "start_time": "2023-10-24T22:07:32.535Z"
   },
   {
    "duration": 4,
    "start_time": "2023-10-24T22:07:33.070Z"
   },
   {
    "duration": 11701,
    "start_time": "2023-10-24T22:07:33.504Z"
   },
   {
    "duration": 92,
    "start_time": "2023-10-24T22:07:48.474Z"
   },
   {
    "duration": 1996,
    "start_time": "2023-10-24T22:07:49.180Z"
   },
   {
    "duration": 7,
    "start_time": "2023-10-24T22:07:52.111Z"
   },
   {
    "duration": 2310,
    "start_time": "2023-10-24T22:07:52.688Z"
   },
   {
    "duration": 8,
    "start_time": "2023-10-24T22:08:06.831Z"
   },
   {
    "duration": 3,
    "start_time": "2023-10-24T22:08:07.381Z"
   },
   {
    "duration": 12632,
    "start_time": "2023-10-24T22:08:07.775Z"
   },
   {
    "duration": 64,
    "start_time": "2023-10-24T22:09:52.704Z"
   },
   {
    "duration": 2171,
    "start_time": "2023-10-24T22:09:53.797Z"
   },
   {
    "duration": 7,
    "start_time": "2023-10-24T22:09:57.535Z"
   },
   {
    "duration": 2647,
    "start_time": "2023-10-24T22:09:59.102Z"
   },
   {
    "duration": 690,
    "start_time": "2023-10-24T22:10:50.300Z"
   },
   {
    "duration": 10,
    "start_time": "2023-10-24T22:18:54.503Z"
   },
   {
    "duration": 279,
    "start_time": "2023-10-24T22:18:54.516Z"
   },
   {
    "duration": 170,
    "start_time": "2023-10-24T22:18:54.796Z"
   },
   {
    "duration": 8,
    "start_time": "2023-10-24T22:18:54.968Z"
   },
   {
    "duration": 1101,
    "start_time": "2023-10-24T22:18:54.978Z"
   },
   {
    "duration": 1593,
    "start_time": "2023-10-24T22:18:56.082Z"
   },
   {
    "duration": 1024,
    "start_time": "2023-10-24T22:18:57.676Z"
   },
   {
    "duration": 8,
    "start_time": "2023-10-24T22:18:58.702Z"
   },
   {
    "duration": 191,
    "start_time": "2023-10-24T22:18:58.712Z"
   },
   {
    "duration": 170,
    "start_time": "2023-10-24T22:18:58.905Z"
   },
   {
    "duration": 73,
    "start_time": "2023-10-24T22:18:59.076Z"
   },
   {
    "duration": 146,
    "start_time": "2023-10-24T22:18:59.159Z"
   },
   {
    "duration": 1883,
    "start_time": "2023-10-24T22:18:59.306Z"
   },
   {
    "duration": 1530,
    "start_time": "2023-10-24T22:19:01.192Z"
   },
   {
    "duration": 432,
    "start_time": "2023-10-24T22:19:02.750Z"
   },
   {
    "duration": 2670,
    "start_time": "2023-10-24T22:19:03.184Z"
   },
   {
    "duration": 3951,
    "start_time": "2023-10-24T22:19:05.856Z"
   },
   {
    "duration": 47,
    "start_time": "2023-10-24T22:19:09.809Z"
   },
   {
    "duration": 5,
    "start_time": "2023-10-24T22:19:09.858Z"
   },
   {
    "duration": 8,
    "start_time": "2023-10-24T22:19:09.864Z"
   },
   {
    "duration": 21,
    "start_time": "2023-10-24T22:19:09.873Z"
   },
   {
    "duration": 20,
    "start_time": "2023-10-24T22:19:09.895Z"
   },
   {
    "duration": 47,
    "start_time": "2023-10-24T22:19:09.917Z"
   },
   {
    "duration": 12400,
    "start_time": "2023-10-24T22:19:09.966Z"
   },
   {
    "duration": 108,
    "start_time": "2023-10-24T22:19:22.368Z"
   },
   {
    "duration": 579,
    "start_time": "2023-10-24T22:19:22.477Z"
   },
   {
    "duration": 8,
    "start_time": "2023-10-24T22:19:23.057Z"
   },
   {
    "duration": 2361,
    "start_time": "2023-10-24T22:19:23.067Z"
   },
   {
    "duration": 8,
    "start_time": "2023-10-24T22:22:20.638Z"
   },
   {
    "duration": 4,
    "start_time": "2023-10-24T22:22:21.483Z"
   },
   {
    "duration": 5380,
    "start_time": "2023-10-24T22:22:22.119Z"
   },
   {
    "duration": 7,
    "start_time": "2023-10-24T22:23:15.262Z"
   },
   {
    "duration": 3,
    "start_time": "2023-10-24T22:23:15.287Z"
   },
   {
    "duration": 4845,
    "start_time": "2023-10-24T22:23:18.242Z"
   },
   {
    "duration": 12,
    "start_time": "2023-10-24T22:24:36.746Z"
   },
   {
    "duration": 3,
    "start_time": "2023-10-24T22:24:37.415Z"
   },
   {
    "duration": 5381,
    "start_time": "2023-10-24T22:24:38.184Z"
   },
   {
    "duration": 8,
    "start_time": "2023-10-24T22:25:48.008Z"
   },
   {
    "duration": 4,
    "start_time": "2023-10-24T22:25:48.481Z"
   },
   {
    "duration": 63509,
    "start_time": "2023-10-24T22:25:49.415Z"
   },
   {
    "duration": 85,
    "start_time": "2023-10-24T22:27:00.576Z"
   },
   {
    "duration": 491,
    "start_time": "2023-10-24T22:27:01.909Z"
   },
   {
    "duration": 7,
    "start_time": "2023-10-24T22:27:09.484Z"
   },
   {
    "duration": 2193,
    "start_time": "2023-10-24T22:27:10.280Z"
   },
   {
    "duration": 12,
    "start_time": "2023-10-24T22:27:24.783Z"
   },
   {
    "duration": 4,
    "start_time": "2023-10-24T22:27:25.384Z"
   },
   {
    "duration": 60787,
    "start_time": "2023-10-24T22:27:25.971Z"
   },
   {
    "duration": 83,
    "start_time": "2023-10-24T22:29:29.583Z"
   },
   {
    "duration": 478,
    "start_time": "2023-10-24T22:29:30.916Z"
   },
   {
    "duration": 7,
    "start_time": "2023-10-24T22:29:38.384Z"
   },
   {
    "duration": 2078,
    "start_time": "2023-10-24T22:29:40.582Z"
   },
   {
    "duration": 11,
    "start_time": "2023-10-24T22:30:01.443Z"
   },
   {
    "duration": 4,
    "start_time": "2023-10-24T22:30:01.995Z"
   },
   {
    "duration": 12135,
    "start_time": "2023-10-24T22:30:02.683Z"
   },
   {
    "duration": 68,
    "start_time": "2023-10-24T22:30:18.115Z"
   },
   {
    "duration": 491,
    "start_time": "2023-10-24T22:30:18.886Z"
   },
   {
    "duration": 7,
    "start_time": "2023-10-24T22:30:23.582Z"
   },
   {
    "duration": 2129,
    "start_time": "2023-10-24T22:30:24.276Z"
   },
   {
    "duration": 11,
    "start_time": "2023-10-24T22:31:59.777Z"
   },
   {
    "duration": 269,
    "start_time": "2023-10-24T22:31:59.790Z"
   },
   {
    "duration": 135,
    "start_time": "2023-10-24T22:32:00.060Z"
   },
   {
    "duration": 9,
    "start_time": "2023-10-24T22:32:00.196Z"
   },
   {
    "duration": 574,
    "start_time": "2023-10-24T22:32:00.207Z"
   },
   {
    "duration": 1200,
    "start_time": "2023-10-24T22:32:00.783Z"
   },
   {
    "duration": 821,
    "start_time": "2023-10-24T22:32:01.985Z"
   },
   {
    "duration": 7,
    "start_time": "2023-10-24T22:32:02.807Z"
   },
   {
    "duration": 131,
    "start_time": "2023-10-24T22:32:02.849Z"
   },
   {
    "duration": 218,
    "start_time": "2023-10-24T22:32:02.981Z"
   },
   {
    "duration": 24,
    "start_time": "2023-10-24T22:32:03.201Z"
   },
   {
    "duration": 105,
    "start_time": "2023-10-24T22:32:03.226Z"
   },
   {
    "duration": 1477,
    "start_time": "2023-10-24T22:32:03.333Z"
   },
   {
    "duration": 1329,
    "start_time": "2023-10-24T22:32:04.814Z"
   },
   {
    "duration": 505,
    "start_time": "2023-10-24T22:32:06.145Z"
   },
   {
    "duration": 2915,
    "start_time": "2023-10-24T22:32:06.653Z"
   },
   {
    "duration": 4059,
    "start_time": "2023-10-24T22:32:09.570Z"
   },
   {
    "duration": 16,
    "start_time": "2023-10-24T22:32:13.644Z"
   },
   {
    "duration": 11,
    "start_time": "2023-10-24T22:32:13.662Z"
   },
   {
    "duration": 13,
    "start_time": "2023-10-24T22:32:13.675Z"
   },
   {
    "duration": 19,
    "start_time": "2023-10-24T22:32:13.689Z"
   },
   {
    "duration": 9,
    "start_time": "2023-10-24T22:32:13.710Z"
   },
   {
    "duration": 30,
    "start_time": "2023-10-24T22:32:13.721Z"
   },
   {
    "duration": 55026,
    "start_time": "2023-10-24T22:32:13.753Z"
   },
   {
    "duration": 78,
    "start_time": "2023-10-24T22:33:08.781Z"
   },
   {
    "duration": 637,
    "start_time": "2023-10-24T22:33:08.863Z"
   },
   {
    "duration": 6,
    "start_time": "2023-10-24T22:33:09.502Z"
   },
   {
    "duration": 2470,
    "start_time": "2023-10-24T22:33:09.509Z"
   },
   {
    "duration": 7,
    "start_time": "2023-10-24T22:34:06.382Z"
   },
   {
    "duration": 4,
    "start_time": "2023-10-24T22:34:07.283Z"
   },
   {
    "duration": 11645,
    "start_time": "2023-10-24T22:34:08.106Z"
   },
   {
    "duration": 53,
    "start_time": "2023-10-24T22:34:21.202Z"
   },
   {
    "duration": 474,
    "start_time": "2023-10-24T22:34:21.914Z"
   },
   {
    "duration": 7,
    "start_time": "2023-10-24T22:34:23.185Z"
   },
   {
    "duration": 2193,
    "start_time": "2023-10-24T22:34:24.057Z"
   },
   {
    "duration": 10,
    "start_time": "2023-10-24T22:35:01.986Z"
   },
   {
    "duration": 10,
    "start_time": "2023-10-24T22:35:03.314Z"
   },
   {
    "duration": 3,
    "start_time": "2023-10-24T22:35:06.816Z"
   },
   {
    "duration": 51185,
    "start_time": "2023-10-24T22:35:10.713Z"
   },
   {
    "duration": 78,
    "start_time": "2023-10-24T22:36:53.181Z"
   },
   {
    "duration": 754,
    "start_time": "2023-10-24T22:36:54.394Z"
   },
   {
    "duration": 8,
    "start_time": "2023-10-24T22:36:58.357Z"
   },
   {
    "duration": 2324,
    "start_time": "2023-10-24T22:36:59.479Z"
   },
   {
    "duration": 2,
    "start_time": "2023-10-24T22:37:18.313Z"
   },
   {
    "duration": 12,
    "start_time": "2023-10-24T22:38:36.485Z"
   },
   {
    "duration": 220,
    "start_time": "2023-10-24T22:38:36.500Z"
   },
   {
    "duration": 145,
    "start_time": "2023-10-24T22:38:36.722Z"
   },
   {
    "duration": 9,
    "start_time": "2023-10-24T22:38:36.868Z"
   },
   {
    "duration": 501,
    "start_time": "2023-10-24T22:38:36.880Z"
   },
   {
    "duration": 964,
    "start_time": "2023-10-24T22:38:37.383Z"
   },
   {
    "duration": 709,
    "start_time": "2023-10-24T22:38:38.349Z"
   },
   {
    "duration": 7,
    "start_time": "2023-10-24T22:38:39.060Z"
   },
   {
    "duration": 192,
    "start_time": "2023-10-24T22:38:39.069Z"
   },
   {
    "duration": 127,
    "start_time": "2023-10-24T22:38:39.262Z"
   },
   {
    "duration": 23,
    "start_time": "2023-10-24T22:38:39.390Z"
   },
   {
    "duration": 70,
    "start_time": "2023-10-24T22:38:39.444Z"
   },
   {
    "duration": 1282,
    "start_time": "2023-10-24T22:38:39.515Z"
   },
   {
    "duration": 1178,
    "start_time": "2023-10-24T22:38:40.800Z"
   },
   {
    "duration": 466,
    "start_time": "2023-10-24T22:38:41.979Z"
   },
   {
    "duration": 2090,
    "start_time": "2023-10-24T22:38:42.447Z"
   },
   {
    "duration": 3629,
    "start_time": "2023-10-24T22:38:44.540Z"
   },
   {
    "duration": 11,
    "start_time": "2023-10-24T22:38:48.170Z"
   },
   {
    "duration": 7,
    "start_time": "2023-10-24T22:38:48.183Z"
   },
   {
    "duration": 10,
    "start_time": "2023-10-24T22:38:48.192Z"
   },
   {
    "duration": 22,
    "start_time": "2023-10-24T22:38:48.203Z"
   },
   {
    "duration": 19,
    "start_time": "2023-10-24T22:38:48.227Z"
   },
   {
    "duration": 2,
    "start_time": "2023-10-24T22:38:48.248Z"
   },
   {
    "duration": 6,
    "start_time": "2023-10-24T22:38:48.252Z"
   },
   {
    "duration": 10690,
    "start_time": "2023-10-24T22:38:48.259Z"
   },
   {
    "duration": 47,
    "start_time": "2023-10-24T22:38:58.951Z"
   },
   {
    "duration": 2,
    "start_time": "2023-10-24T22:38:59.000Z"
   },
   {
    "duration": 46,
    "start_time": "2023-10-24T22:38:59.003Z"
   },
   {
    "duration": 2202,
    "start_time": "2023-10-24T22:38:59.052Z"
   },
   {
    "duration": 8,
    "start_time": "2023-10-24T22:40:16.982Z"
   },
   {
    "duration": 2,
    "start_time": "2023-10-24T22:40:17.399Z"
   },
   {
    "duration": 3,
    "start_time": "2023-10-24T22:40:17.962Z"
   },
   {
    "duration": 10639,
    "start_time": "2023-10-24T22:40:18.565Z"
   },
   {
    "duration": 52,
    "start_time": "2023-10-24T22:40:36.902Z"
   },
   {
    "duration": 2,
    "start_time": "2023-10-24T22:40:37.550Z"
   },
   {
    "duration": 6,
    "start_time": "2023-10-24T22:40:38.149Z"
   },
   {
    "duration": 2033,
    "start_time": "2023-10-24T22:40:39.022Z"
   },
   {
    "duration": 6,
    "start_time": "2023-10-24T22:40:55.254Z"
   },
   {
    "duration": 3,
    "start_time": "2023-10-24T22:40:55.931Z"
   },
   {
    "duration": 3,
    "start_time": "2023-10-24T22:40:56.768Z"
   },
   {
    "duration": 10651,
    "start_time": "2023-10-24T22:40:57.471Z"
   },
   {
    "duration": 55,
    "start_time": "2023-10-24T22:41:09.664Z"
   },
   {
    "duration": 2,
    "start_time": "2023-10-24T22:41:10.510Z"
   },
   {
    "duration": 6,
    "start_time": "2023-10-24T22:41:11.126Z"
   },
   {
    "duration": 2007,
    "start_time": "2023-10-24T22:41:12.102Z"
   },
   {
    "duration": 7,
    "start_time": "2023-10-24T22:41:21.964Z"
   },
   {
    "duration": 2,
    "start_time": "2023-10-24T22:41:22.666Z"
   },
   {
    "duration": 4,
    "start_time": "2023-10-24T22:41:23.153Z"
   },
   {
    "duration": 10438,
    "start_time": "2023-10-24T22:41:23.766Z"
   },
   {
    "duration": 49,
    "start_time": "2023-10-24T22:41:36.946Z"
   },
   {
    "duration": 2,
    "start_time": "2023-10-24T22:41:37.450Z"
   },
   {
    "duration": 7,
    "start_time": "2023-10-24T22:41:37.886Z"
   },
   {
    "duration": 2110,
    "start_time": "2023-10-24T22:41:38.581Z"
   },
   {
    "duration": 7,
    "start_time": "2023-10-24T22:41:56.662Z"
   },
   {
    "duration": 2,
    "start_time": "2023-10-24T22:41:57.294Z"
   },
   {
    "duration": 4,
    "start_time": "2023-10-24T22:41:57.989Z"
   },
   {
    "duration": 10611,
    "start_time": "2023-10-24T22:41:59.765Z"
   },
   {
    "duration": 59,
    "start_time": "2023-10-24T22:42:11.564Z"
   },
   {
    "duration": 2,
    "start_time": "2023-10-24T22:42:12.166Z"
   },
   {
    "duration": 6,
    "start_time": "2023-10-24T22:42:12.764Z"
   },
   {
    "duration": 2043,
    "start_time": "2023-10-24T22:42:13.566Z"
   },
   {
    "duration": 6,
    "start_time": "2023-10-24T22:42:24.650Z"
   },
   {
    "duration": 2,
    "start_time": "2023-10-24T22:42:25.213Z"
   },
   {
    "duration": 3,
    "start_time": "2023-10-24T22:42:25.861Z"
   },
   {
    "duration": 11085,
    "start_time": "2023-10-24T22:42:27.181Z"
   },
   {
    "duration": 66,
    "start_time": "2023-10-24T22:42:40.373Z"
   },
   {
    "duration": 2,
    "start_time": "2023-10-24T22:42:40.903Z"
   },
   {
    "duration": 7,
    "start_time": "2023-10-24T22:42:41.612Z"
   },
   {
    "duration": 2030,
    "start_time": "2023-10-24T22:42:42.493Z"
   },
   {
    "duration": 7,
    "start_time": "2023-10-24T22:42:52.733Z"
   },
   {
    "duration": 3,
    "start_time": "2023-10-24T22:42:53.412Z"
   },
   {
    "duration": 4,
    "start_time": "2023-10-24T22:42:53.774Z"
   },
   {
    "duration": 5841,
    "start_time": "2023-10-24T22:42:54.174Z"
   },
   {
    "duration": 8,
    "start_time": "2023-10-24T22:43:16.416Z"
   },
   {
    "duration": 2,
    "start_time": "2023-10-24T22:43:16.973Z"
   },
   {
    "duration": 3,
    "start_time": "2023-10-24T22:43:17.364Z"
   },
   {
    "duration": 10784,
    "start_time": "2023-10-24T22:43:18.366Z"
   },
   {
    "duration": 52,
    "start_time": "2023-10-24T22:43:31.827Z"
   },
   {
    "duration": 2,
    "start_time": "2023-10-24T22:43:32.364Z"
   },
   {
    "duration": 7,
    "start_time": "2023-10-24T22:43:32.724Z"
   },
   {
    "duration": 2042,
    "start_time": "2023-10-24T22:43:33.364Z"
   },
   {
    "duration": 7,
    "start_time": "2023-10-24T22:43:44.221Z"
   },
   {
    "duration": 2,
    "start_time": "2023-10-24T22:43:45.065Z"
   },
   {
    "duration": 3,
    "start_time": "2023-10-24T22:43:45.664Z"
   },
   {
    "duration": 11757,
    "start_time": "2023-10-24T22:43:46.264Z"
   },
   {
    "duration": 52,
    "start_time": "2023-10-24T22:44:00.901Z"
   },
   {
    "duration": 2,
    "start_time": "2023-10-24T22:44:01.420Z"
   },
   {
    "duration": 7,
    "start_time": "2023-10-24T22:44:01.796Z"
   },
   {
    "duration": 2002,
    "start_time": "2023-10-24T22:44:02.308Z"
   },
   {
    "duration": 8,
    "start_time": "2023-10-24T22:44:24.548Z"
   },
   {
    "duration": 2,
    "start_time": "2023-10-24T22:44:25.093Z"
   },
   {
    "duration": 4,
    "start_time": "2023-10-24T22:44:25.565Z"
   },
   {
    "duration": 49392,
    "start_time": "2023-10-24T22:44:26.116Z"
   },
   {
    "duration": 51,
    "start_time": "2023-10-24T22:45:32.564Z"
   },
   {
    "duration": 2,
    "start_time": "2023-10-24T22:45:32.964Z"
   },
   {
    "duration": 7,
    "start_time": "2023-10-24T22:45:33.603Z"
   },
   {
    "duration": 1993,
    "start_time": "2023-10-24T22:45:34.169Z"
   },
   {
    "duration": 7,
    "start_time": "2023-10-24T22:47:30.320Z"
   },
   {
    "duration": 235,
    "start_time": "2023-10-24T22:47:30.329Z"
   },
   {
    "duration": 127,
    "start_time": "2023-10-24T22:47:30.566Z"
   },
   {
    "duration": 9,
    "start_time": "2023-10-24T22:47:30.694Z"
   },
   {
    "duration": 560,
    "start_time": "2023-10-24T22:47:30.704Z"
   },
   {
    "duration": 884,
    "start_time": "2023-10-24T22:47:31.266Z"
   },
   {
    "duration": 701,
    "start_time": "2023-10-24T22:47:32.152Z"
   },
   {
    "duration": 6,
    "start_time": "2023-10-24T22:47:32.855Z"
   },
   {
    "duration": 150,
    "start_time": "2023-10-24T22:47:32.864Z"
   },
   {
    "duration": 164,
    "start_time": "2023-10-24T22:47:33.016Z"
   },
   {
    "duration": 24,
    "start_time": "2023-10-24T22:47:33.182Z"
   },
   {
    "duration": 107,
    "start_time": "2023-10-24T22:47:33.208Z"
   },
   {
    "duration": 1267,
    "start_time": "2023-10-24T22:47:33.317Z"
   },
   {
    "duration": 1171,
    "start_time": "2023-10-24T22:47:34.586Z"
   },
   {
    "duration": 391,
    "start_time": "2023-10-24T22:47:35.759Z"
   },
   {
    "duration": 20,
    "start_time": "2023-10-24T22:47:36.152Z"
   },
   {
    "duration": 2395,
    "start_time": "2023-10-24T22:47:36.174Z"
   },
   {
    "duration": 4301,
    "start_time": "2023-10-24T22:47:38.570Z"
   },
   {
    "duration": 11,
    "start_time": "2023-10-24T22:47:42.872Z"
   },
   {
    "duration": 11,
    "start_time": "2023-10-24T22:47:42.884Z"
   },
   {
    "duration": 9,
    "start_time": "2023-10-24T22:47:42.896Z"
   },
   {
    "duration": 12,
    "start_time": "2023-10-24T22:47:42.907Z"
   },
   {
    "duration": 27,
    "start_time": "2023-10-24T22:47:42.920Z"
   },
   {
    "duration": 3,
    "start_time": "2023-10-24T22:47:42.950Z"
   },
   {
    "duration": 17,
    "start_time": "2023-10-24T22:47:42.954Z"
   },
   {
    "duration": 58156,
    "start_time": "2023-10-24T22:47:42.972Z"
   },
   {
    "duration": 61,
    "start_time": "2023-10-24T22:48:41.130Z"
   },
   {
    "duration": 2,
    "start_time": "2023-10-24T22:48:41.193Z"
   },
   {
    "duration": 47,
    "start_time": "2023-10-24T22:48:41.197Z"
   },
   {
    "duration": 2566,
    "start_time": "2023-10-24T22:48:41.246Z"
   },
   {
    "duration": 7,
    "start_time": "2023-10-24T22:48:59.768Z"
   },
   {
    "duration": 190,
    "start_time": "2023-10-24T22:48:59.777Z"
   },
   {
    "duration": 126,
    "start_time": "2023-10-24T22:48:59.969Z"
   },
   {
    "duration": 10,
    "start_time": "2023-10-24T22:49:00.096Z"
   },
   {
    "duration": 476,
    "start_time": "2023-10-24T22:49:00.108Z"
   },
   {
    "duration": 875,
    "start_time": "2023-10-24T22:49:00.586Z"
   },
   {
    "duration": 600,
    "start_time": "2023-10-24T22:49:01.462Z"
   },
   {
    "duration": 7,
    "start_time": "2023-10-24T22:49:02.063Z"
   },
   {
    "duration": 434,
    "start_time": "2023-10-24T22:49:02.072Z"
   },
   {
    "duration": 138,
    "start_time": "2023-10-24T22:49:02.508Z"
   },
   {
    "duration": 23,
    "start_time": "2023-10-24T22:49:02.648Z"
   },
   {
    "duration": 97,
    "start_time": "2023-10-24T22:49:02.673Z"
   },
   {
    "duration": 1278,
    "start_time": "2023-10-24T22:49:02.772Z"
   },
   {
    "duration": 1130,
    "start_time": "2023-10-24T22:49:04.053Z"
   },
   {
    "duration": 403,
    "start_time": "2023-10-24T22:49:05.184Z"
   },
   {
    "duration": 19,
    "start_time": "2023-10-24T22:49:05.588Z"
   },
   {
    "duration": 3670,
    "start_time": "2023-10-24T22:49:05.609Z"
   },
   {
    "duration": 4164,
    "start_time": "2023-10-24T22:49:09.280Z"
   },
   {
    "duration": 11,
    "start_time": "2023-10-24T22:49:13.446Z"
   },
   {
    "duration": 11,
    "start_time": "2023-10-24T22:49:13.459Z"
   },
   {
    "duration": 13,
    "start_time": "2023-10-24T22:49:13.472Z"
   },
   {
    "duration": 14,
    "start_time": "2023-10-24T22:49:13.486Z"
   },
   {
    "duration": 10,
    "start_time": "2023-10-24T22:49:13.502Z"
   },
   {
    "duration": 5,
    "start_time": "2023-10-24T22:49:13.514Z"
   },
   {
    "duration": 23,
    "start_time": "2023-10-24T22:49:13.521Z"
   },
   {
    "duration": 65926,
    "start_time": "2023-10-24T22:49:13.546Z"
   },
   {
    "duration": 91,
    "start_time": "2023-10-24T22:50:19.474Z"
   },
   {
    "duration": 2,
    "start_time": "2023-10-24T22:50:19.567Z"
   },
   {
    "duration": 10,
    "start_time": "2023-10-24T22:50:19.571Z"
   },
   {
    "duration": 2321,
    "start_time": "2023-10-24T22:50:19.582Z"
   },
   {
    "duration": 7,
    "start_time": "2023-10-24T22:52:31.999Z"
   },
   {
    "duration": 255,
    "start_time": "2023-10-24T22:52:32.008Z"
   },
   {
    "duration": 180,
    "start_time": "2023-10-24T22:52:32.265Z"
   },
   {
    "duration": 8,
    "start_time": "2023-10-24T22:52:32.447Z"
   },
   {
    "duration": 501,
    "start_time": "2023-10-24T22:52:32.457Z"
   },
   {
    "duration": 937,
    "start_time": "2023-10-24T22:52:32.960Z"
   },
   {
    "duration": 563,
    "start_time": "2023-10-24T22:52:33.898Z"
   },
   {
    "duration": 9,
    "start_time": "2023-10-24T22:52:34.463Z"
   },
   {
    "duration": 232,
    "start_time": "2023-10-24T22:52:34.474Z"
   },
   {
    "duration": 175,
    "start_time": "2023-10-24T22:52:34.708Z"
   },
   {
    "duration": 22,
    "start_time": "2023-10-24T22:52:34.885Z"
   },
   {
    "duration": 110,
    "start_time": "2023-10-24T22:52:34.909Z"
   },
   {
    "duration": 1396,
    "start_time": "2023-10-24T22:52:35.021Z"
   },
   {
    "duration": 1151,
    "start_time": "2023-10-24T22:52:36.420Z"
   },
   {
    "duration": 435,
    "start_time": "2023-10-24T22:52:37.573Z"
   },
   {
    "duration": 41,
    "start_time": "2023-10-24T22:52:38.010Z"
   },
   {
    "duration": 3624,
    "start_time": "2023-10-24T22:52:38.053Z"
   },
   {
    "duration": 4003,
    "start_time": "2023-10-24T22:52:41.679Z"
   },
   {
    "duration": 10,
    "start_time": "2023-10-24T22:52:45.683Z"
   },
   {
    "duration": 7,
    "start_time": "2023-10-24T22:52:45.695Z"
   },
   {
    "duration": 11,
    "start_time": "2023-10-24T22:52:45.703Z"
   },
   {
    "duration": 36,
    "start_time": "2023-10-24T22:52:45.715Z"
   },
   {
    "duration": 9,
    "start_time": "2023-10-24T22:52:45.753Z"
   },
   {
    "duration": 6,
    "start_time": "2023-10-24T22:52:45.764Z"
   },
   {
    "duration": 5,
    "start_time": "2023-10-24T22:52:45.772Z"
   },
   {
    "duration": 64712,
    "start_time": "2023-10-24T22:52:45.778Z"
   },
   {
    "duration": 91,
    "start_time": "2023-10-24T22:53:50.492Z"
   },
   {
    "duration": 60,
    "start_time": "2023-10-24T22:53:50.584Z"
   },
   {
    "duration": 23,
    "start_time": "2023-10-24T22:53:50.645Z"
   },
   {
    "duration": 2337,
    "start_time": "2023-10-24T22:53:50.669Z"
   },
   {
    "duration": 5,
    "start_time": "2023-10-24T22:54:10.887Z"
   },
   {
    "duration": 197,
    "start_time": "2023-10-24T22:54:10.894Z"
   },
   {
    "duration": 129,
    "start_time": "2023-10-24T22:54:11.093Z"
   },
   {
    "duration": 20,
    "start_time": "2023-10-24T22:54:11.224Z"
   },
   {
    "duration": 449,
    "start_time": "2023-10-24T22:54:11.246Z"
   },
   {
    "duration": 974,
    "start_time": "2023-10-24T22:54:11.697Z"
   },
   {
    "duration": 598,
    "start_time": "2023-10-24T22:54:12.672Z"
   },
   {
    "duration": 8,
    "start_time": "2023-10-24T22:54:13.271Z"
   },
   {
    "duration": 173,
    "start_time": "2023-10-24T22:54:13.280Z"
   },
   {
    "duration": 152,
    "start_time": "2023-10-24T22:54:13.454Z"
   },
   {
    "duration": 47,
    "start_time": "2023-10-24T22:54:13.608Z"
   },
   {
    "duration": 87,
    "start_time": "2023-10-24T22:54:13.657Z"
   },
   {
    "duration": 1310,
    "start_time": "2023-10-24T22:54:13.746Z"
   },
   {
    "duration": 1309,
    "start_time": "2023-10-24T22:54:15.058Z"
   },
   {
    "duration": 398,
    "start_time": "2023-10-24T22:54:16.368Z"
   },
   {
    "duration": 9,
    "start_time": "2023-10-24T22:54:16.767Z"
   },
   {
    "duration": 3224,
    "start_time": "2023-10-24T22:54:16.778Z"
   },
   {
    "duration": 4145,
    "start_time": "2023-10-24T22:54:20.003Z"
   },
   {
    "duration": 9,
    "start_time": "2023-10-24T22:54:24.150Z"
   },
   {
    "duration": 10,
    "start_time": "2023-10-24T22:54:24.160Z"
   },
   {
    "duration": 10,
    "start_time": "2023-10-24T22:54:24.171Z"
   },
   {
    "duration": 11,
    "start_time": "2023-10-24T22:54:24.183Z"
   },
   {
    "duration": 7,
    "start_time": "2023-10-24T22:54:24.195Z"
   },
   {
    "duration": 6,
    "start_time": "2023-10-24T22:54:24.204Z"
   },
   {
    "duration": 17,
    "start_time": "2023-10-24T22:54:24.211Z"
   },
   {
    "duration": 55164,
    "start_time": "2023-10-24T22:54:24.229Z"
   },
   {
    "duration": 84,
    "start_time": "2023-10-24T22:55:19.395Z"
   },
   {
    "duration": 2,
    "start_time": "2023-10-24T22:55:19.481Z"
   },
   {
    "duration": 38,
    "start_time": "2023-10-24T22:55:19.484Z"
   },
   {
    "duration": 2267,
    "start_time": "2023-10-24T22:55:19.524Z"
   },
   {
    "duration": 7,
    "start_time": "2023-10-24T22:56:51.973Z"
   },
   {
    "duration": 243,
    "start_time": "2023-10-24T22:56:51.982Z"
   },
   {
    "duration": 122,
    "start_time": "2023-10-24T22:56:52.227Z"
   },
   {
    "duration": 7,
    "start_time": "2023-10-24T22:56:52.351Z"
   },
   {
    "duration": 489,
    "start_time": "2023-10-24T22:56:52.360Z"
   },
   {
    "duration": 870,
    "start_time": "2023-10-24T22:56:52.851Z"
   },
   {
    "duration": 575,
    "start_time": "2023-10-24T22:56:53.723Z"
   },
   {
    "duration": 49,
    "start_time": "2023-10-24T22:56:54.299Z"
   },
   {
    "duration": 158,
    "start_time": "2023-10-24T22:56:54.349Z"
   },
   {
    "duration": 162,
    "start_time": "2023-10-24T22:56:54.509Z"
   },
   {
    "duration": 21,
    "start_time": "2023-10-24T22:56:54.673Z"
   },
   {
    "duration": 89,
    "start_time": "2023-10-24T22:56:54.695Z"
   },
   {
    "duration": 1199,
    "start_time": "2023-10-24T22:56:54.785Z"
   },
   {
    "duration": 1217,
    "start_time": "2023-10-24T22:56:55.986Z"
   },
   {
    "duration": 383,
    "start_time": "2023-10-24T22:56:57.204Z"
   },
   {
    "duration": 13,
    "start_time": "2023-10-24T22:56:57.589Z"
   },
   {
    "duration": 3920,
    "start_time": "2023-10-24T22:56:57.604Z"
   },
   {
    "duration": 4703,
    "start_time": "2023-10-24T22:57:01.544Z"
   },
   {
    "duration": 12,
    "start_time": "2023-10-24T22:57:06.249Z"
   },
   {
    "duration": 38,
    "start_time": "2023-10-24T22:57:06.263Z"
   },
   {
    "duration": 53,
    "start_time": "2023-10-24T22:57:06.303Z"
   },
   {
    "duration": 20,
    "start_time": "2023-10-24T22:57:06.358Z"
   },
   {
    "duration": 29,
    "start_time": "2023-10-24T22:57:06.380Z"
   },
   {
    "duration": 14,
    "start_time": "2023-10-24T22:57:06.411Z"
   },
   {
    "duration": 12,
    "start_time": "2023-10-24T22:57:06.426Z"
   },
   {
    "duration": 53960,
    "start_time": "2023-10-24T22:57:06.439Z"
   },
   {
    "duration": 81,
    "start_time": "2023-10-24T22:58:00.401Z"
   },
   {
    "duration": 3,
    "start_time": "2023-10-24T22:58:00.483Z"
   },
   {
    "duration": 39,
    "start_time": "2023-10-24T22:58:00.487Z"
   },
   {
    "duration": 2334,
    "start_time": "2023-10-24T22:58:00.527Z"
   },
   {
    "duration": 6,
    "start_time": "2023-10-24T22:59:29.420Z"
   },
   {
    "duration": 247,
    "start_time": "2023-10-24T22:59:29.428Z"
   },
   {
    "duration": 122,
    "start_time": "2023-10-24T22:59:29.677Z"
   },
   {
    "duration": 8,
    "start_time": "2023-10-24T22:59:29.800Z"
   },
   {
    "duration": 568,
    "start_time": "2023-10-24T22:59:29.810Z"
   },
   {
    "duration": 918,
    "start_time": "2023-10-24T22:59:30.380Z"
   },
   {
    "duration": 567,
    "start_time": "2023-10-24T22:59:31.300Z"
   },
   {
    "duration": 7,
    "start_time": "2023-10-24T22:59:31.869Z"
   },
   {
    "duration": 180,
    "start_time": "2023-10-24T22:59:31.878Z"
   },
   {
    "duration": 149,
    "start_time": "2023-10-24T22:59:32.060Z"
   },
   {
    "duration": 42,
    "start_time": "2023-10-24T22:59:32.211Z"
   },
   {
    "duration": 103,
    "start_time": "2023-10-24T22:59:32.254Z"
   },
   {
    "duration": 1241,
    "start_time": "2023-10-24T22:59:32.359Z"
   },
   {
    "duration": 1259,
    "start_time": "2023-10-24T22:59:33.603Z"
   },
   {
    "duration": 383,
    "start_time": "2023-10-24T22:59:34.863Z"
   },
   {
    "duration": 17,
    "start_time": "2023-10-24T22:59:35.248Z"
   },
   {
    "duration": 3539,
    "start_time": "2023-10-24T22:59:35.267Z"
   },
   {
    "duration": 4103,
    "start_time": "2023-10-24T22:59:38.807Z"
   },
   {
    "duration": 32,
    "start_time": "2023-10-24T22:59:42.912Z"
   },
   {
    "duration": 5,
    "start_time": "2023-10-24T22:59:42.945Z"
   },
   {
    "duration": 7,
    "start_time": "2023-10-24T22:59:42.951Z"
   },
   {
    "duration": 11,
    "start_time": "2023-10-24T22:59:42.960Z"
   },
   {
    "duration": 5,
    "start_time": "2023-10-24T22:59:42.973Z"
   },
   {
    "duration": 2,
    "start_time": "2023-10-24T22:59:42.980Z"
   },
   {
    "duration": 6,
    "start_time": "2023-10-24T22:59:42.983Z"
   },
   {
    "duration": 65277,
    "start_time": "2023-10-24T22:59:42.990Z"
   },
   {
    "duration": 77,
    "start_time": "2023-10-24T23:00:48.269Z"
   },
   {
    "duration": 2,
    "start_time": "2023-10-24T23:00:48.348Z"
   },
   {
    "duration": 29,
    "start_time": "2023-10-24T23:00:48.352Z"
   },
   {
    "duration": 2084,
    "start_time": "2023-10-24T23:00:48.383Z"
   },
   {
    "duration": 6,
    "start_time": "2023-10-24T23:08:19.223Z"
   },
   {
    "duration": 242,
    "start_time": "2023-10-24T23:08:19.232Z"
   },
   {
    "duration": 124,
    "start_time": "2023-10-24T23:08:19.476Z"
   },
   {
    "duration": 8,
    "start_time": "2023-10-24T23:08:19.602Z"
   },
   {
    "duration": 472,
    "start_time": "2023-10-24T23:08:19.612Z"
   },
   {
    "duration": 908,
    "start_time": "2023-10-24T23:08:20.086Z"
   },
   {
    "duration": 573,
    "start_time": "2023-10-24T23:08:20.995Z"
   },
   {
    "duration": 7,
    "start_time": "2023-10-24T23:08:21.569Z"
   },
   {
    "duration": 143,
    "start_time": "2023-10-24T23:08:21.578Z"
   },
   {
    "duration": 150,
    "start_time": "2023-10-24T23:08:21.723Z"
   },
   {
    "duration": 12,
    "start_time": "2023-10-24T23:08:21.874Z"
   },
   {
    "duration": 204,
    "start_time": "2023-10-24T23:08:21.888Z"
   },
   {
    "duration": 208,
    "start_time": "2023-10-24T23:08:22.094Z"
   },
   {
    "duration": 681,
    "start_time": "2023-10-24T23:08:22.305Z"
   },
   {
    "duration": 128,
    "start_time": "2023-10-24T23:08:22.988Z"
   },
   {
    "duration": 19,
    "start_time": "2023-10-24T23:08:23.118Z"
   },
   {
    "duration": 1913,
    "start_time": "2023-10-24T23:08:23.138Z"
   },
   {
    "duration": 454,
    "start_time": "2023-10-24T23:08:25.053Z"
   },
   {
    "duration": 38,
    "start_time": "2023-10-24T23:08:25.508Z"
   },
   {
    "duration": 5,
    "start_time": "2023-10-24T23:08:25.547Z"
   },
   {
    "duration": 7,
    "start_time": "2023-10-24T23:08:25.553Z"
   },
   {
    "duration": 9,
    "start_time": "2023-10-24T23:08:25.562Z"
   },
   {
    "duration": 6,
    "start_time": "2023-10-24T23:08:25.572Z"
   },
   {
    "duration": 2,
    "start_time": "2023-10-24T23:08:25.579Z"
   },
   {
    "duration": 8,
    "start_time": "2023-10-24T23:08:25.583Z"
   },
   {
    "duration": 3790,
    "start_time": "2023-10-24T23:08:25.592Z"
   },
   {
    "duration": 89,
    "start_time": "2023-10-24T23:08:29.384Z"
   },
   {
    "duration": 6,
    "start_time": "2023-10-24T23:08:29.475Z"
   },
   {
    "duration": 265,
    "start_time": "2023-10-24T23:08:29.483Z"
   },
   {
    "duration": 7,
    "start_time": "2023-10-24T23:09:06.282Z"
   },
   {
    "duration": 2,
    "start_time": "2023-10-24T23:09:06.899Z"
   },
   {
    "duration": 3,
    "start_time": "2023-10-24T23:09:07.394Z"
   },
   {
    "duration": 3561,
    "start_time": "2023-10-24T23:09:08.491Z"
   },
   {
    "duration": 45,
    "start_time": "2023-10-24T23:09:15.485Z"
   },
   {
    "duration": 9,
    "start_time": "2023-10-24T23:09:15.913Z"
   },
   {
    "duration": 229,
    "start_time": "2023-10-24T23:09:16.490Z"
   },
   {
    "duration": 6,
    "start_time": "2023-10-24T23:11:28.793Z"
   },
   {
    "duration": 198,
    "start_time": "2023-10-24T23:11:28.802Z"
   },
   {
    "duration": 147,
    "start_time": "2023-10-24T23:11:29.001Z"
   },
   {
    "duration": 8,
    "start_time": "2023-10-24T23:11:29.149Z"
   },
   {
    "duration": 415,
    "start_time": "2023-10-24T23:11:29.160Z"
   },
   {
    "duration": 908,
    "start_time": "2023-10-24T23:11:29.577Z"
   },
   {
    "duration": 583,
    "start_time": "2023-10-24T23:11:30.487Z"
   },
   {
    "duration": 7,
    "start_time": "2023-10-24T23:11:31.071Z"
   },
   {
    "duration": 196,
    "start_time": "2023-10-24T23:11:31.079Z"
   },
   {
    "duration": 130,
    "start_time": "2023-10-24T23:11:31.276Z"
   },
   {
    "duration": 22,
    "start_time": "2023-10-24T23:11:31.408Z"
   },
   {
    "duration": 166,
    "start_time": "2023-10-24T23:11:31.444Z"
   },
   {
    "duration": 1384,
    "start_time": "2023-10-24T23:11:31.612Z"
   },
   {
    "duration": 1311,
    "start_time": "2023-10-24T23:11:32.999Z"
   },
   {
    "duration": 483,
    "start_time": "2023-10-24T23:11:34.311Z"
   },
   {
    "duration": 17,
    "start_time": "2023-10-24T23:11:34.795Z"
   },
   {
    "duration": 3599,
    "start_time": "2023-10-24T23:11:34.814Z"
   },
   {
    "duration": 4849,
    "start_time": "2023-10-24T23:11:38.415Z"
   },
   {
    "duration": 10,
    "start_time": "2023-10-24T23:11:43.266Z"
   },
   {
    "duration": 24,
    "start_time": "2023-10-24T23:11:43.278Z"
   },
   {
    "duration": 18,
    "start_time": "2023-10-24T23:11:43.303Z"
   },
   {
    "duration": 22,
    "start_time": "2023-10-24T23:11:43.322Z"
   },
   {
    "duration": 23,
    "start_time": "2023-10-24T23:11:43.346Z"
   },
   {
    "duration": 7,
    "start_time": "2023-10-24T23:11:43.371Z"
   },
   {
    "duration": 9,
    "start_time": "2023-10-24T23:11:43.379Z"
   },
   {
    "duration": 65638,
    "start_time": "2023-10-24T23:11:43.390Z"
   },
   {
    "duration": 107,
    "start_time": "2023-10-24T23:12:49.043Z"
   },
   {
    "duration": 7,
    "start_time": "2023-10-24T23:12:49.151Z"
   },
   {
    "duration": 2229,
    "start_time": "2023-10-24T23:12:49.159Z"
   },
   {
    "duration": 15284,
    "start_time": "2023-10-25T08:42:03.565Z"
   },
   {
    "duration": 7931,
    "start_time": "2023-10-25T08:42:18.851Z"
   },
   {
    "duration": 539,
    "start_time": "2023-10-25T08:42:26.839Z"
   },
   {
    "duration": 11,
    "start_time": "2023-10-25T08:42:27.439Z"
   },
   {
    "duration": 4005,
    "start_time": "2023-10-25T08:42:27.452Z"
   },
   {
    "duration": 4012,
    "start_time": "2023-10-25T08:42:31.458Z"
   },
   {
    "duration": 2996,
    "start_time": "2023-10-25T08:42:35.472Z"
   },
   {
    "duration": 75,
    "start_time": "2023-10-25T08:42:38.470Z"
   },
   {
    "duration": 408,
    "start_time": "2023-10-25T08:42:38.547Z"
   },
   {
    "duration": 418,
    "start_time": "2023-10-25T08:42:38.956Z"
   },
   {
    "duration": 173,
    "start_time": "2023-10-25T08:42:39.376Z"
   },
   {
    "duration": 298,
    "start_time": "2023-10-25T08:42:39.551Z"
   },
   {
    "duration": 1838,
    "start_time": "2023-10-25T08:42:39.851Z"
   },
   {
    "duration": 3853,
    "start_time": "2023-10-25T08:42:41.692Z"
   },
   {
    "duration": 1222,
    "start_time": "2023-10-25T08:42:45.546Z"
   },
   {
    "duration": 90,
    "start_time": "2023-10-25T08:42:46.769Z"
   },
   {
    "duration": 8806,
    "start_time": "2023-10-25T08:42:46.861Z"
   },
   {
    "duration": 10023,
    "start_time": "2023-10-25T08:42:55.739Z"
   },
   {
    "duration": 139,
    "start_time": "2023-10-25T08:43:05.764Z"
   },
   {
    "duration": 37,
    "start_time": "2023-10-25T08:43:05.904Z"
   },
   {
    "duration": 17,
    "start_time": "2023-10-25T08:43:05.942Z"
   },
   {
    "duration": 17,
    "start_time": "2023-10-25T08:43:05.961Z"
   },
   {
    "duration": 223,
    "start_time": "2023-10-25T08:43:05.980Z"
   },
   {
    "duration": 38,
    "start_time": "2023-10-25T08:43:06.204Z"
   },
   {
    "duration": 54,
    "start_time": "2023-10-25T08:43:06.243Z"
   },
   {
    "duration": 93062,
    "start_time": "2023-10-25T08:43:06.299Z"
   },
   {
    "duration": 208,
    "start_time": "2023-10-25T08:44:39.363Z"
   },
   {
    "duration": 12,
    "start_time": "2023-10-25T08:44:39.639Z"
   },
   {
    "duration": 2662,
    "start_time": "2023-10-25T08:44:39.652Z"
   },
   {
    "duration": 2,
    "start_time": "2023-10-25T08:44:56.879Z"
   },
   {
    "duration": 2,
    "start_time": "2023-10-25T08:44:57.705Z"
   },
   {
    "duration": 56132,
    "start_time": "2023-10-25T08:44:58.338Z"
   },
   {
    "duration": 118,
    "start_time": "2023-10-25T08:47:09.649Z"
   },
   {
    "duration": 6,
    "start_time": "2023-10-25T08:47:10.360Z"
   },
   {
    "duration": 2178,
    "start_time": "2023-10-25T08:47:11.080Z"
   },
   {
    "duration": 14761,
    "start_time": "2023-10-25T08:47:39.595Z"
   },
   {
    "duration": 7382,
    "start_time": "2023-10-25T08:47:54.358Z"
   },
   {
    "duration": 450,
    "start_time": "2023-10-25T08:48:01.742Z"
   },
   {
    "duration": 7,
    "start_time": "2023-10-25T08:48:02.193Z"
   },
   {
    "duration": 3600,
    "start_time": "2023-10-25T08:48:02.240Z"
   },
   {
    "duration": 3526,
    "start_time": "2023-10-25T08:48:05.842Z"
   },
   {
    "duration": 3195,
    "start_time": "2023-10-25T08:48:09.370Z"
   },
   {
    "duration": 77,
    "start_time": "2023-10-25T08:48:12.566Z"
   },
   {
    "duration": 325,
    "start_time": "2023-10-25T08:48:12.644Z"
   },
   {
    "duration": 391,
    "start_time": "2023-10-25T08:48:12.970Z"
   },
   {
    "duration": 100,
    "start_time": "2023-10-25T08:48:13.363Z"
   },
   {
    "duration": 281,
    "start_time": "2023-10-25T08:48:13.465Z"
   },
   {
    "duration": 1515,
    "start_time": "2023-10-25T08:48:13.747Z"
   },
   {
    "duration": 3884,
    "start_time": "2023-10-25T08:48:15.265Z"
   },
   {
    "duration": 1089,
    "start_time": "2023-10-25T08:48:19.151Z"
   },
   {
    "duration": 27,
    "start_time": "2023-10-25T08:48:20.242Z"
   },
   {
    "duration": 8298,
    "start_time": "2023-10-25T08:48:20.270Z"
   },
   {
    "duration": 8380,
    "start_time": "2023-10-25T08:48:28.569Z"
   },
   {
    "duration": 95,
    "start_time": "2023-10-25T08:48:36.950Z"
   },
   {
    "duration": 4,
    "start_time": "2023-10-25T08:48:37.047Z"
   },
   {
    "duration": 29,
    "start_time": "2023-10-25T08:48:37.053Z"
   },
   {
    "duration": 63,
    "start_time": "2023-10-25T08:48:37.084Z"
   },
   {
    "duration": 31,
    "start_time": "2023-10-25T08:48:37.148Z"
   },
   {
    "duration": 60,
    "start_time": "2023-10-25T08:48:37.180Z"
   },
   {
    "duration": 4,
    "start_time": "2023-10-25T08:48:37.241Z"
   },
   {
    "duration": 27632,
    "start_time": "2023-10-25T08:48:37.246Z"
   },
   {
    "duration": 182,
    "start_time": "2023-10-25T08:49:04.880Z"
   },
   {
    "duration": 10,
    "start_time": "2023-10-25T08:49:05.064Z"
   },
   {
    "duration": 3386,
    "start_time": "2023-10-25T08:49:05.075Z"
   },
   {
    "duration": 14662,
    "start_time": "2023-10-25T08:49:37.513Z"
   },
   {
    "duration": 7883,
    "start_time": "2023-10-25T08:49:52.177Z"
   },
   {
    "duration": 512,
    "start_time": "2023-10-25T08:50:00.062Z"
   },
   {
    "duration": 8,
    "start_time": "2023-10-25T08:50:00.576Z"
   },
   {
    "duration": 3975,
    "start_time": "2023-10-25T08:50:00.586Z"
   },
   {
    "duration": 3577,
    "start_time": "2023-10-25T08:50:04.562Z"
   },
   {
    "duration": 2901,
    "start_time": "2023-10-25T08:50:08.141Z"
   },
   {
    "duration": 11,
    "start_time": "2023-10-25T08:50:11.043Z"
   },
   {
    "duration": 410,
    "start_time": "2023-10-25T08:50:11.055Z"
   },
   {
    "duration": 494,
    "start_time": "2023-10-25T08:50:11.467Z"
   },
   {
    "duration": 102,
    "start_time": "2023-10-25T08:50:11.962Z"
   },
   {
    "duration": 306,
    "start_time": "2023-10-25T08:50:12.066Z"
   },
   {
    "duration": 1783,
    "start_time": "2023-10-25T08:50:12.373Z"
   },
   {
    "duration": 3590,
    "start_time": "2023-10-25T08:50:14.157Z"
   },
   {
    "duration": 1032,
    "start_time": "2023-10-25T08:50:17.748Z"
   },
   {
    "duration": 105,
    "start_time": "2023-10-25T08:50:18.840Z"
   },
   {
    "duration": 8115,
    "start_time": "2023-10-25T08:50:18.946Z"
   },
   {
    "duration": 8589,
    "start_time": "2023-10-25T08:50:27.063Z"
   },
   {
    "duration": 92,
    "start_time": "2023-10-25T08:50:35.653Z"
   },
   {
    "duration": 4,
    "start_time": "2023-10-25T08:50:35.747Z"
   },
   {
    "duration": 9,
    "start_time": "2023-10-25T08:50:35.752Z"
   },
   {
    "duration": 10,
    "start_time": "2023-10-25T08:50:35.763Z"
   },
   {
    "duration": 94,
    "start_time": "2023-10-25T08:50:35.774Z"
   },
   {
    "duration": 2,
    "start_time": "2023-10-25T08:50:35.870Z"
   },
   {
    "duration": 4,
    "start_time": "2023-10-25T08:50:35.873Z"
   },
   {
    "duration": 94464,
    "start_time": "2023-10-25T08:50:35.878Z"
   },
   {
    "duration": 229,
    "start_time": "2023-10-25T08:52:10.344Z"
   },
   {
    "duration": 67,
    "start_time": "2023-10-25T08:52:10.576Z"
   },
   {
    "duration": 3524,
    "start_time": "2023-10-25T08:52:10.644Z"
   },
   {
    "duration": 5,
    "start_time": "2023-10-25T08:53:48.861Z"
   },
   {
    "duration": 323,
    "start_time": "2023-10-25T08:53:48.868Z"
   },
   {
    "duration": 101,
    "start_time": "2023-10-25T08:53:49.239Z"
   },
   {
    "duration": 7,
    "start_time": "2023-10-25T08:53:49.342Z"
   },
   {
    "duration": 1092,
    "start_time": "2023-10-25T08:53:49.351Z"
   },
   {
    "duration": 1192,
    "start_time": "2023-10-25T08:53:50.445Z"
   },
   {
    "duration": 21,
    "start_time": "2023-10-25T08:53:51.639Z"
   },
   {
    "duration": 833,
    "start_time": "2023-10-25T08:53:51.662Z"
   },
   {
    "duration": 5,
    "start_time": "2023-10-25T08:54:34.820Z"
   },
   {
    "duration": 216,
    "start_time": "2023-10-25T08:54:34.827Z"
   },
   {
    "duration": 100,
    "start_time": "2023-10-25T08:54:35.044Z"
   },
   {
    "duration": 8,
    "start_time": "2023-10-25T08:54:35.145Z"
   },
   {
    "duration": 1030,
    "start_time": "2023-10-25T08:54:35.155Z"
   },
   {
    "duration": 23,
    "start_time": "2023-10-25T08:54:36.240Z"
   },
   {
    "duration": 1898,
    "start_time": "2023-10-25T08:54:36.265Z"
   },
   {
    "duration": 713,
    "start_time": "2023-10-25T08:54:38.165Z"
   },
   {
    "duration": 5,
    "start_time": "2023-10-25T09:00:16.417Z"
   },
   {
    "duration": 277,
    "start_time": "2023-10-25T09:00:16.424Z"
   },
   {
    "duration": 74,
    "start_time": "2023-10-25T09:00:16.740Z"
   },
   {
    "duration": 7,
    "start_time": "2023-10-25T09:00:16.815Z"
   },
   {
    "duration": 1002,
    "start_time": "2023-10-25T09:00:16.839Z"
   },
   {
    "duration": 29,
    "start_time": "2023-10-25T09:00:17.842Z"
   },
   {
    "duration": 1546,
    "start_time": "2023-10-25T09:00:17.872Z"
   },
   {
    "duration": 632,
    "start_time": "2023-10-25T09:00:19.419Z"
   },
   {
    "duration": 222,
    "start_time": "2023-10-25T09:00:20.053Z"
   },
   {
    "duration": 64,
    "start_time": "2023-10-25T09:00:20.276Z"
   },
   {
    "duration": 7,
    "start_time": "2023-10-25T09:00:20.341Z"
   },
   {
    "duration": 315,
    "start_time": "2023-10-25T09:00:20.350Z"
   },
   {
    "duration": 381,
    "start_time": "2023-10-25T09:00:20.666Z"
   },
   {
    "duration": 14,
    "start_time": "2023-10-25T09:00:21.051Z"
   },
   {
    "duration": 2,
    "start_time": "2023-10-25T09:00:21.066Z"
   },
   {
    "duration": 186,
    "start_time": "2023-10-25T09:00:21.069Z"
   },
   {
    "duration": 194,
    "start_time": "2023-10-25T09:00:21.257Z"
   },
   {
    "duration": 1024,
    "start_time": "2023-10-25T09:00:21.452Z"
   },
   {
    "duration": 252,
    "start_time": "2023-10-25T09:00:22.478Z"
   },
   {
    "duration": 8,
    "start_time": "2023-10-25T09:00:22.732Z"
   },
   {
    "duration": 1596,
    "start_time": "2023-10-25T09:00:22.742Z"
   },
   {
    "duration": 628,
    "start_time": "2023-10-25T09:00:24.340Z"
   },
   {
    "duration": 8,
    "start_time": "2023-10-25T09:00:24.970Z"
   },
   {
    "duration": 60,
    "start_time": "2023-10-25T09:00:24.980Z"
   },
   {
    "duration": 6,
    "start_time": "2023-10-25T09:00:25.042Z"
   },
   {
    "duration": 8,
    "start_time": "2023-10-25T09:00:25.050Z"
   },
   {
    "duration": 6,
    "start_time": "2023-10-25T09:00:25.059Z"
   },
   {
    "duration": 15,
    "start_time": "2023-10-25T09:00:25.066Z"
   },
   {
    "duration": 13,
    "start_time": "2023-10-25T09:00:25.082Z"
   },
   {
    "duration": 1035,
    "start_time": "2023-10-25T09:00:25.096Z"
   },
   {
    "duration": 0,
    "start_time": "2023-10-25T09:00:26.133Z"
   },
   {
    "duration": 0,
    "start_time": "2023-10-25T09:00:26.134Z"
   },
   {
    "duration": 0,
    "start_time": "2023-10-25T09:00:26.135Z"
   },
   {
    "duration": 14944,
    "start_time": "2023-10-25T09:01:54.410Z"
   },
   {
    "duration": 7288,
    "start_time": "2023-10-25T09:02:09.357Z"
   },
   {
    "duration": 595,
    "start_time": "2023-10-25T09:02:16.646Z"
   },
   {
    "duration": 8,
    "start_time": "2023-10-25T09:02:17.242Z"
   },
   {
    "duration": 3709,
    "start_time": "2023-10-25T09:02:17.252Z"
   },
   {
    "duration": 106,
    "start_time": "2023-10-25T09:02:20.963Z"
   },
   {
    "duration": 4611,
    "start_time": "2023-10-25T09:02:21.070Z"
   },
   {
    "duration": 2962,
    "start_time": "2023-10-25T09:02:25.683Z"
   },
   {
    "duration": 494,
    "start_time": "2023-10-25T09:02:28.646Z"
   },
   {
    "duration": 3,
    "start_time": "2023-10-25T09:02:29.141Z"
   },
   {
    "duration": 18,
    "start_time": "2023-10-25T09:02:29.145Z"
   },
   {
    "duration": 511,
    "start_time": "2023-10-25T09:02:42.529Z"
   },
   {
    "duration": 6,
    "start_time": "2023-10-25T09:03:27.303Z"
   },
   {
    "duration": 555,
    "start_time": "2023-10-25T09:03:27.311Z"
   },
   {
    "duration": 212,
    "start_time": "2023-10-25T09:03:27.868Z"
   },
   {
    "duration": 8,
    "start_time": "2023-10-25T09:03:28.082Z"
   },
   {
    "duration": 1167,
    "start_time": "2023-10-25T09:03:28.092Z"
   },
   {
    "duration": 88,
    "start_time": "2023-10-25T09:03:29.261Z"
   },
   {
    "duration": 2771,
    "start_time": "2023-10-25T09:03:29.350Z"
   },
   {
    "duration": 1855,
    "start_time": "2023-10-25T09:03:32.122Z"
   },
   {
    "duration": 363,
    "start_time": "2023-10-25T09:03:33.978Z"
   },
   {
    "duration": 2,
    "start_time": "2023-10-25T09:03:34.342Z"
   },
   {
    "duration": 29,
    "start_time": "2023-10-25T09:03:34.345Z"
   },
   {
    "duration": 8,
    "start_time": "2023-10-25T09:03:37.082Z"
   },
   {
    "duration": 303,
    "start_time": "2023-10-25T09:03:38.457Z"
   },
   {
    "duration": 336,
    "start_time": "2023-10-25T09:03:43.337Z"
   },
   {
    "duration": 15,
    "start_time": "2023-10-25T09:03:52.017Z"
   },
   {
    "duration": 2,
    "start_time": "2023-10-25T09:03:54.337Z"
   },
   {
    "duration": 186,
    "start_time": "2023-10-25T09:03:55.154Z"
   },
   {
    "duration": 206,
    "start_time": "2023-10-25T09:03:56.441Z"
   },
   {
    "duration": 1447,
    "start_time": "2023-10-25T09:04:02.113Z"
   },
   {
    "duration": 3,
    "start_time": "2023-10-25T09:04:40.059Z"
   },
   {
    "duration": 246,
    "start_time": "2023-10-25T09:04:41.529Z"
   },
   {
    "duration": 2,
    "start_time": "2023-10-25T09:04:46.889Z"
   },
   {
    "duration": 2661,
    "start_time": "2023-10-25T09:04:49.489Z"
   },
   {
    "duration": 1267,
    "start_time": "2023-10-25T09:04:54.432Z"
   },
   {
    "duration": 35,
    "start_time": "2023-10-25T09:04:56.777Z"
   },
   {
    "duration": 6,
    "start_time": "2023-10-25T09:04:58.056Z"
   },
   {
    "duration": 12,
    "start_time": "2023-10-25T09:05:00.880Z"
   },
   {
    "duration": 12,
    "start_time": "2023-10-25T09:05:01.457Z"
   },
   {
    "duration": 32,
    "start_time": "2023-10-25T09:05:02.985Z"
   },
   {
    "duration": 3,
    "start_time": "2023-10-25T09:05:03.776Z"
   },
   {
    "duration": 3,
    "start_time": "2023-10-25T09:05:04.577Z"
   },
   {
    "duration": 11621,
    "start_time": "2023-10-25T09:05:06.337Z"
   },
   {
    "duration": 208,
    "start_time": "2023-10-25T09:05:26.536Z"
   },
   {
    "duration": 9,
    "start_time": "2023-10-25T09:05:27.393Z"
   },
   {
    "duration": 662,
    "start_time": "2023-10-25T09:05:28.402Z"
   },
   {
    "duration": 6,
    "start_time": "2023-10-25T09:07:07.559Z"
   },
   {
    "duration": 2,
    "start_time": "2023-10-25T09:07:08.423Z"
   },
   {
    "duration": 3,
    "start_time": "2023-10-25T09:07:09.311Z"
   },
   {
    "duration": 2671,
    "start_time": "2023-10-25T09:07:10.368Z"
   },
   {
    "duration": 87,
    "start_time": "2023-10-25T09:07:13.991Z"
   },
   {
    "duration": 6,
    "start_time": "2023-10-25T09:07:14.711Z"
   },
   {
    "duration": 323,
    "start_time": "2023-10-25T09:07:15.519Z"
   },
   {
    "duration": 6,
    "start_time": "2023-10-25T09:07:44.700Z"
   },
   {
    "duration": 2,
    "start_time": "2023-10-25T09:07:45.024Z"
   },
   {
    "duration": 3,
    "start_time": "2023-10-25T09:07:45.287Z"
   },
   {
    "duration": 2028,
    "start_time": "2023-10-25T09:07:45.919Z"
   },
   {
    "duration": 70,
    "start_time": "2023-10-25T09:07:54.015Z"
   },
   {
    "duration": 7,
    "start_time": "2023-10-25T09:07:54.567Z"
   },
   {
    "duration": 295,
    "start_time": "2023-10-25T09:07:55.056Z"
   },
   {
    "duration": 6,
    "start_time": "2023-10-25T09:08:07.079Z"
   },
   {
    "duration": 2,
    "start_time": "2023-10-25T09:08:08.391Z"
   },
   {
    "duration": 2,
    "start_time": "2023-10-25T09:08:08.823Z"
   },
   {
    "duration": 2687,
    "start_time": "2023-10-25T09:08:09.279Z"
   },
   {
    "duration": 82,
    "start_time": "2023-10-25T09:08:14.672Z"
   },
   {
    "duration": 5,
    "start_time": "2023-10-25T09:08:15.399Z"
   },
   {
    "duration": 284,
    "start_time": "2023-10-25T09:08:16.575Z"
   },
   {
    "duration": 8,
    "start_time": "2023-10-25T09:10:25.764Z"
   },
   {
    "duration": 315,
    "start_time": "2023-10-25T09:10:25.774Z"
   },
   {
    "duration": 164,
    "start_time": "2023-10-25T09:10:26.091Z"
   },
   {
    "duration": 11,
    "start_time": "2023-10-25T09:10:26.256Z"
   },
   {
    "duration": 1086,
    "start_time": "2023-10-25T09:10:26.269Z"
   },
   {
    "duration": 20,
    "start_time": "2023-10-25T09:10:27.357Z"
   },
   {
    "duration": 1872,
    "start_time": "2023-10-25T09:10:27.379Z"
   },
   {
    "duration": 1224,
    "start_time": "2023-10-25T09:10:29.253Z"
   },
   {
    "duration": 90,
    "start_time": "2023-10-25T09:10:30.478Z"
   },
   {
    "duration": 3,
    "start_time": "2023-10-25T09:10:30.569Z"
   },
   {
    "duration": 33,
    "start_time": "2023-10-25T09:10:30.573Z"
   },
   {
    "duration": 3575,
    "start_time": "2023-10-25T09:10:30.608Z"
   },
   {
    "duration": 3376,
    "start_time": "2023-10-25T09:10:34.184Z"
   },
   {
    "duration": 15,
    "start_time": "2023-10-25T09:10:37.563Z"
   },
   {
    "duration": 61,
    "start_time": "2023-10-25T09:10:37.579Z"
   },
   {
    "duration": 204,
    "start_time": "2023-10-25T09:10:37.642Z"
   },
   {
    "duration": 814,
    "start_time": "2023-10-25T09:10:37.848Z"
   },
   {
    "duration": 2,
    "start_time": "2023-10-25T09:10:38.663Z"
   },
   {
    "duration": 974,
    "start_time": "2023-10-25T09:10:38.666Z"
   },
   {
    "duration": 3,
    "start_time": "2023-10-25T09:10:39.642Z"
   },
   {
    "duration": 8495,
    "start_time": "2023-10-25T09:10:39.646Z"
   },
   {
    "duration": 9809,
    "start_time": "2023-10-25T09:10:48.142Z"
   },
   {
    "duration": 12,
    "start_time": "2023-10-25T09:10:57.952Z"
   },
   {
    "duration": 8,
    "start_time": "2023-10-25T09:10:58.040Z"
   },
   {
    "duration": 102,
    "start_time": "2023-10-25T09:10:58.050Z"
   },
   {
    "duration": 25,
    "start_time": "2023-10-25T09:10:58.153Z"
   },
   {
    "duration": 66,
    "start_time": "2023-10-25T09:10:58.180Z"
   },
   {
    "duration": 45,
    "start_time": "2023-10-25T09:10:58.248Z"
   },
   {
    "duration": 46,
    "start_time": "2023-10-25T09:10:58.294Z"
   },
   {
    "duration": 41374,
    "start_time": "2023-10-25T09:10:58.342Z"
   },
   {
    "duration": 161,
    "start_time": "2023-10-25T09:11:39.717Z"
   },
   {
    "duration": 63,
    "start_time": "2023-10-25T09:11:39.879Z"
   },
   {
    "duration": 3620,
    "start_time": "2023-10-25T09:11:39.943Z"
   },
   {
    "duration": 5068,
    "start_time": "2023-10-25T09:12:21.231Z"
   },
   {
    "duration": 9,
    "start_time": "2023-10-25T09:12:27.439Z"
   },
   {
    "duration": 3,
    "start_time": "2023-10-25T09:12:28.311Z"
   },
   {
    "duration": 5,
    "start_time": "2023-10-25T09:12:28.806Z"
   },
   {
    "duration": 9,
    "start_time": "2023-10-25T09:12:29.327Z"
   },
   {
    "duration": 7,
    "start_time": "2023-10-25T09:12:30.990Z"
   },
   {
    "duration": 2,
    "start_time": "2023-10-25T09:12:31.653Z"
   },
   {
    "duration": 4,
    "start_time": "2023-10-25T09:12:32.165Z"
   },
   {
    "duration": 30812,
    "start_time": "2023-10-25T09:12:33.157Z"
   },
   {
    "duration": 120,
    "start_time": "2023-10-25T09:13:06.735Z"
   },
   {
    "duration": 6,
    "start_time": "2023-10-25T09:13:07.414Z"
   },
   {
    "duration": 2794,
    "start_time": "2023-10-25T09:13:07.886Z"
   },
   {
    "duration": 15445,
    "start_time": "2023-10-25T09:13:49.423Z"
   },
   {
    "duration": 7898,
    "start_time": "2023-10-25T09:14:04.870Z"
   },
   {
    "duration": 586,
    "start_time": "2023-10-25T09:14:12.769Z"
   },
   {
    "duration": 8,
    "start_time": "2023-10-25T09:14:13.357Z"
   },
   {
    "duration": 4106,
    "start_time": "2023-10-25T09:14:13.367Z"
   },
   {
    "duration": 167,
    "start_time": "2023-10-25T09:14:17.475Z"
   },
   {
    "duration": 4821,
    "start_time": "2023-10-25T09:14:17.644Z"
   },
   {
    "duration": 3288,
    "start_time": "2023-10-25T09:14:22.467Z"
   },
   {
    "duration": 110,
    "start_time": "2023-10-25T09:14:25.756Z"
   },
   {
    "duration": 2,
    "start_time": "2023-10-25T09:14:25.869Z"
   },
   {
    "duration": 69,
    "start_time": "2023-10-25T09:14:25.873Z"
   },
   {
    "duration": 5425,
    "start_time": "2023-10-25T09:14:25.944Z"
   },
   {
    "duration": 4073,
    "start_time": "2023-10-25T09:14:31.370Z"
   },
   {
    "duration": 17,
    "start_time": "2023-10-25T09:14:35.445Z"
   },
   {
    "duration": 14,
    "start_time": "2023-10-25T09:14:35.464Z"
   },
   {
    "duration": 365,
    "start_time": "2023-10-25T09:14:35.480Z"
   },
   {
    "duration": 1014,
    "start_time": "2023-10-25T09:14:35.846Z"
   },
   {
    "duration": 2,
    "start_time": "2023-10-25T09:14:36.862Z"
   },
   {
    "duration": 1284,
    "start_time": "2023-10-25T09:14:36.865Z"
   },
   {
    "duration": 2,
    "start_time": "2023-10-25T09:14:38.151Z"
   },
   {
    "duration": 10003,
    "start_time": "2023-10-25T09:14:38.155Z"
   },
   {
    "duration": 11018,
    "start_time": "2023-10-25T09:14:48.161Z"
   },
   {
    "duration": 88,
    "start_time": "2023-10-25T09:14:59.181Z"
   },
   {
    "duration": 4,
    "start_time": "2023-10-25T09:14:59.270Z"
   },
   {
    "duration": 16,
    "start_time": "2023-10-25T09:14:59.276Z"
   },
   {
    "duration": 54,
    "start_time": "2023-10-25T09:14:59.293Z"
   },
   {
    "duration": 34,
    "start_time": "2023-10-25T09:14:59.348Z"
   },
   {
    "duration": 2,
    "start_time": "2023-10-25T09:14:59.386Z"
   },
   {
    "duration": 50,
    "start_time": "2023-10-25T09:14:59.390Z"
   },
   {
    "duration": 43627,
    "start_time": "2023-10-25T09:14:59.442Z"
   },
   {
    "duration": 199,
    "start_time": "2023-10-25T09:15:43.071Z"
   },
   {
    "duration": 71,
    "start_time": "2023-10-25T09:15:43.271Z"
   },
   {
    "duration": 3127,
    "start_time": "2023-10-25T09:15:43.344Z"
   },
   {
    "duration": 5,
    "start_time": "2023-10-25T09:16:29.762Z"
   },
   {
    "duration": 2,
    "start_time": "2023-10-25T09:16:30.438Z"
   },
   {
    "duration": 2,
    "start_time": "2023-10-25T09:16:31.038Z"
   },
   {
    "duration": 73565,
    "start_time": "2023-10-25T09:16:31.592Z"
   },
   {
    "duration": 7,
    "start_time": "2023-10-25T09:20:39.951Z"
   },
   {
    "duration": 304,
    "start_time": "2023-10-25T09:20:39.964Z"
   },
   {
    "duration": 156,
    "start_time": "2023-10-25T09:20:40.270Z"
   },
   {
    "duration": 12,
    "start_time": "2023-10-25T09:20:40.428Z"
   },
   {
    "duration": 1042,
    "start_time": "2023-10-25T09:20:40.441Z"
   },
   {
    "duration": 64,
    "start_time": "2023-10-25T09:20:41.485Z"
   },
   {
    "duration": 1573,
    "start_time": "2023-10-25T09:20:41.550Z"
   },
   {
    "duration": 655,
    "start_time": "2023-10-25T09:20:43.125Z"
   },
   {
    "duration": 60,
    "start_time": "2023-10-25T09:20:43.782Z"
   },
   {
    "duration": 2,
    "start_time": "2023-10-25T09:20:43.844Z"
   },
   {
    "duration": 9,
    "start_time": "2023-10-25T09:20:43.848Z"
   },
   {
    "duration": 2292,
    "start_time": "2023-10-25T09:20:43.858Z"
   },
   {
    "duration": 1349,
    "start_time": "2023-10-25T09:20:46.151Z"
   },
   {
    "duration": 39,
    "start_time": "2023-10-25T09:20:47.501Z"
   },
   {
    "duration": 2,
    "start_time": "2023-10-25T09:20:47.543Z"
   },
   {
    "duration": 144,
    "start_time": "2023-10-25T09:20:47.547Z"
   },
   {
    "duration": 367,
    "start_time": "2023-10-25T09:20:47.692Z"
   },
   {
    "duration": 2,
    "start_time": "2023-10-25T09:20:48.061Z"
   },
   {
    "duration": 453,
    "start_time": "2023-10-25T09:20:48.064Z"
   },
   {
    "duration": 2,
    "start_time": "2023-10-25T09:20:48.519Z"
   },
   {
    "duration": 4001,
    "start_time": "2023-10-25T09:20:48.540Z"
   },
   {
    "duration": 6650,
    "start_time": "2023-10-25T09:20:52.542Z"
   },
   {
    "duration": 7,
    "start_time": "2023-10-25T09:20:59.194Z"
   },
   {
    "duration": 39,
    "start_time": "2023-10-25T09:20:59.203Z"
   },
   {
    "duration": 7,
    "start_time": "2023-10-25T09:20:59.243Z"
   },
   {
    "duration": 11,
    "start_time": "2023-10-25T09:20:59.252Z"
   },
   {
    "duration": 6,
    "start_time": "2023-10-25T09:20:59.265Z"
   },
   {
    "duration": 12,
    "start_time": "2023-10-25T09:20:59.272Z"
   },
   {
    "duration": 4,
    "start_time": "2023-10-25T09:20:59.286Z"
   },
   {
    "duration": 67403,
    "start_time": "2023-10-25T09:20:59.292Z"
   },
   {
    "duration": 161,
    "start_time": "2023-10-25T09:22:06.697Z"
   },
   {
    "duration": 5,
    "start_time": "2023-10-25T09:22:06.860Z"
   },
   {
    "duration": 2321,
    "start_time": "2023-10-25T09:22:06.867Z"
   },
   {
    "duration": 7,
    "start_time": "2023-10-25T09:23:32.490Z"
   },
   {
    "duration": 280,
    "start_time": "2023-10-25T09:23:32.499Z"
   },
   {
    "duration": 124,
    "start_time": "2023-10-25T09:23:32.781Z"
   },
   {
    "duration": 8,
    "start_time": "2023-10-25T09:23:32.906Z"
   },
   {
    "duration": 850,
    "start_time": "2023-10-25T09:23:32.915Z"
   },
   {
    "duration": 82,
    "start_time": "2023-10-25T09:23:33.766Z"
   },
   {
    "duration": 1626,
    "start_time": "2023-10-25T09:23:33.849Z"
   },
   {
    "duration": 991,
    "start_time": "2023-10-25T09:23:35.476Z"
   },
   {
    "duration": 13,
    "start_time": "2023-10-25T09:23:36.468Z"
   },
   {
    "duration": 80,
    "start_time": "2023-10-25T09:23:44.060Z"
   },
   {
    "duration": 217,
    "start_time": "2023-10-25T09:23:59.125Z"
   },
   {
    "duration": 131,
    "start_time": "2023-10-25T09:24:10.820Z"
   },
   {
    "duration": 6,
    "start_time": "2023-10-25T09:25:05.262Z"
   },
   {
    "duration": 206,
    "start_time": "2023-10-25T09:25:05.270Z"
   },
   {
    "duration": 74,
    "start_time": "2023-10-25T09:25:05.477Z"
   },
   {
    "duration": 7,
    "start_time": "2023-10-25T09:25:05.553Z"
   },
   {
    "duration": 500,
    "start_time": "2023-10-25T09:25:05.562Z"
   },
   {
    "duration": 20,
    "start_time": "2023-10-25T09:25:06.063Z"
   },
   {
    "duration": 1361,
    "start_time": "2023-10-25T09:25:06.084Z"
   },
   {
    "duration": 821,
    "start_time": "2023-10-25T09:25:07.446Z"
   },
   {
    "duration": 183,
    "start_time": "2023-10-25T09:25:08.268Z"
   },
   {
    "duration": 2,
    "start_time": "2023-10-25T09:25:08.453Z"
   },
   {
    "duration": 19,
    "start_time": "2023-10-25T09:25:08.457Z"
   },
   {
    "duration": 374,
    "start_time": "2023-10-25T09:25:08.478Z"
   },
   {
    "duration": 237,
    "start_time": "2023-10-25T09:25:08.854Z"
   },
   {
    "duration": 51,
    "start_time": "2023-10-25T09:25:09.093Z"
   },
   {
    "duration": 2,
    "start_time": "2023-10-25T09:25:09.146Z"
   },
   {
    "duration": 144,
    "start_time": "2023-10-25T09:25:09.149Z"
   },
   {
    "duration": 147,
    "start_time": "2023-10-25T09:25:09.295Z"
   },
   {
    "duration": 2,
    "start_time": "2023-10-25T09:25:09.444Z"
   },
   {
    "duration": 141,
    "start_time": "2023-10-25T09:25:09.448Z"
   },
   {
    "duration": 2,
    "start_time": "2023-10-25T09:25:09.591Z"
   },
   {
    "duration": 1490,
    "start_time": "2023-10-25T09:25:09.595Z"
   },
   {
    "duration": 814,
    "start_time": "2023-10-25T09:25:11.087Z"
   },
   {
    "duration": 42,
    "start_time": "2023-10-25T09:25:11.903Z"
   },
   {
    "duration": 4,
    "start_time": "2023-10-25T09:25:11.946Z"
   },
   {
    "duration": 10,
    "start_time": "2023-10-25T09:25:11.952Z"
   },
   {
    "duration": 13,
    "start_time": "2023-10-25T09:25:11.964Z"
   },
   {
    "duration": 6,
    "start_time": "2023-10-25T09:25:11.978Z"
   },
   {
    "duration": 3,
    "start_time": "2023-10-25T09:25:11.985Z"
   },
   {
    "duration": 17,
    "start_time": "2023-10-25T09:25:11.989Z"
   },
   {
    "duration": 4000,
    "start_time": "2023-10-25T09:25:12.007Z"
   },
   {
    "duration": 149,
    "start_time": "2023-10-25T09:25:16.009Z"
   },
   {
    "duration": 5,
    "start_time": "2023-10-25T09:25:16.160Z"
   },
   {
    "duration": 310,
    "start_time": "2023-10-25T09:25:16.167Z"
   },
   {
    "duration": 7,
    "start_time": "2023-10-25T09:27:31.082Z"
   },
   {
    "duration": 269,
    "start_time": "2023-10-25T09:27:31.091Z"
   },
   {
    "duration": 114,
    "start_time": "2023-10-25T09:27:31.361Z"
   },
   {
    "duration": 8,
    "start_time": "2023-10-25T09:27:31.477Z"
   },
   {
    "duration": 675,
    "start_time": "2023-10-25T09:27:31.488Z"
   },
   {
    "duration": 84,
    "start_time": "2023-10-25T09:27:32.164Z"
   },
   {
    "duration": 1511,
    "start_time": "2023-10-25T09:27:32.249Z"
   },
   {
    "duration": 793,
    "start_time": "2023-10-25T09:27:33.761Z"
   },
   {
    "duration": 19,
    "start_time": "2023-10-25T09:27:34.556Z"
   },
   {
    "duration": 2,
    "start_time": "2023-10-25T09:27:34.577Z"
   },
   {
    "duration": 11,
    "start_time": "2023-10-25T09:27:34.580Z"
   },
   {
    "duration": 1866,
    "start_time": "2023-10-25T09:27:34.593Z"
   },
   {
    "duration": 1601,
    "start_time": "2023-10-25T09:27:36.460Z"
   },
   {
    "duration": 11,
    "start_time": "2023-10-25T09:27:38.064Z"
   },
   {
    "duration": 5,
    "start_time": "2023-10-25T09:27:38.077Z"
   },
   {
    "duration": 124,
    "start_time": "2023-10-25T09:27:38.083Z"
   },
   {
    "duration": 441,
    "start_time": "2023-10-25T09:27:38.208Z"
   },
   {
    "duration": 2,
    "start_time": "2023-10-25T09:27:38.650Z"
   },
   {
    "duration": 497,
    "start_time": "2023-10-25T09:27:38.653Z"
   },
   {
    "duration": 2,
    "start_time": "2023-10-25T09:27:39.152Z"
   },
   {
    "duration": 4442,
    "start_time": "2023-10-25T09:27:39.156Z"
   },
   {
    "duration": 4669,
    "start_time": "2023-10-25T09:27:43.600Z"
   },
   {
    "duration": 8,
    "start_time": "2023-10-25T09:27:48.271Z"
   },
   {
    "duration": 20,
    "start_time": "2023-10-25T09:27:48.280Z"
   },
   {
    "duration": 13,
    "start_time": "2023-10-25T09:27:48.302Z"
   },
   {
    "duration": 10,
    "start_time": "2023-10-25T09:27:48.316Z"
   },
   {
    "duration": 13,
    "start_time": "2023-10-25T09:27:48.328Z"
   },
   {
    "duration": 2,
    "start_time": "2023-10-25T09:27:48.342Z"
   },
   {
    "duration": 16,
    "start_time": "2023-10-25T09:27:48.346Z"
   },
   {
    "duration": 63343,
    "start_time": "2023-10-25T09:27:48.364Z"
   },
   {
    "duration": 157,
    "start_time": "2023-10-25T09:28:51.708Z"
   },
   {
    "duration": 7,
    "start_time": "2023-10-25T09:28:51.866Z"
   },
   {
    "duration": 2485,
    "start_time": "2023-10-25T09:28:51.874Z"
   },
   {
    "duration": 8,
    "start_time": "2023-10-25T09:30:49.136Z"
   },
   {
    "duration": 244,
    "start_time": "2023-10-25T09:30:49.146Z"
   },
   {
    "duration": 73,
    "start_time": "2023-10-25T09:30:49.391Z"
   },
   {
    "duration": 8,
    "start_time": "2023-10-25T09:30:49.465Z"
   },
   {
    "duration": 498,
    "start_time": "2023-10-25T09:30:49.474Z"
   },
   {
    "duration": 78,
    "start_time": "2023-10-25T09:30:49.974Z"
   },
   {
    "duration": 1424,
    "start_time": "2023-10-25T09:30:50.053Z"
   },
   {
    "duration": 609,
    "start_time": "2023-10-25T09:30:51.479Z"
   },
   {
    "duration": 60,
    "start_time": "2023-10-25T09:30:52.089Z"
   },
   {
    "duration": 2,
    "start_time": "2023-10-25T09:30:52.151Z"
   },
   {
    "duration": 9,
    "start_time": "2023-10-25T09:30:52.155Z"
   },
   {
    "duration": 1293,
    "start_time": "2023-10-25T09:30:52.165Z"
   },
   {
    "duration": 1160,
    "start_time": "2023-10-25T09:30:53.459Z"
   },
   {
    "duration": 12,
    "start_time": "2023-10-25T09:30:54.639Z"
   },
   {
    "duration": 0,
    "start_time": "2023-10-25T09:30:54.652Z"
   },
   {
    "duration": 0,
    "start_time": "2023-10-25T09:30:54.654Z"
   },
   {
    "duration": 0,
    "start_time": "2023-10-25T09:30:54.655Z"
   },
   {
    "duration": 0,
    "start_time": "2023-10-25T09:30:54.656Z"
   },
   {
    "duration": 0,
    "start_time": "2023-10-25T09:30:54.657Z"
   },
   {
    "duration": 0,
    "start_time": "2023-10-25T09:30:54.658Z"
   },
   {
    "duration": 0,
    "start_time": "2023-10-25T09:30:54.659Z"
   },
   {
    "duration": 0,
    "start_time": "2023-10-25T09:30:54.660Z"
   },
   {
    "duration": 0,
    "start_time": "2023-10-25T09:30:54.661Z"
   },
   {
    "duration": 0,
    "start_time": "2023-10-25T09:30:54.662Z"
   },
   {
    "duration": 0,
    "start_time": "2023-10-25T09:30:54.663Z"
   },
   {
    "duration": 0,
    "start_time": "2023-10-25T09:30:54.664Z"
   },
   {
    "duration": 0,
    "start_time": "2023-10-25T09:30:54.665Z"
   },
   {
    "duration": 0,
    "start_time": "2023-10-25T09:30:54.666Z"
   },
   {
    "duration": 0,
    "start_time": "2023-10-25T09:30:54.667Z"
   },
   {
    "duration": 0,
    "start_time": "2023-10-25T09:30:54.668Z"
   },
   {
    "duration": 0,
    "start_time": "2023-10-25T09:30:54.669Z"
   },
   {
    "duration": 0,
    "start_time": "2023-10-25T09:30:54.670Z"
   },
   {
    "duration": 0,
    "start_time": "2023-10-25T09:30:54.671Z"
   },
   {
    "duration": 18,
    "start_time": "2023-10-25T09:31:42.560Z"
   },
   {
    "duration": 3,
    "start_time": "2023-10-25T09:31:45.625Z"
   },
   {
    "duration": 100,
    "start_time": "2023-10-25T09:31:46.097Z"
   },
   {
    "duration": 411,
    "start_time": "2023-10-25T09:31:47.049Z"
   },
   {
    "duration": 2,
    "start_time": "2023-10-25T09:31:50.177Z"
   },
   {
    "duration": 7,
    "start_time": "2023-10-25T09:31:53.696Z"
   },
   {
    "duration": 229,
    "start_time": "2023-10-25T09:31:53.705Z"
   },
   {
    "duration": 81,
    "start_time": "2023-10-25T09:31:53.936Z"
   },
   {
    "duration": 7,
    "start_time": "2023-10-25T09:31:54.018Z"
   },
   {
    "duration": 449,
    "start_time": "2023-10-25T09:31:54.027Z"
   },
   {
    "duration": 22,
    "start_time": "2023-10-25T09:31:54.477Z"
   },
   {
    "duration": 1310,
    "start_time": "2023-10-25T09:31:54.500Z"
   },
   {
    "duration": 645,
    "start_time": "2023-10-25T09:31:55.811Z"
   },
   {
    "duration": 20,
    "start_time": "2023-10-25T09:31:56.458Z"
   },
   {
    "duration": 3,
    "start_time": "2023-10-25T09:31:56.479Z"
   },
   {
    "duration": 13,
    "start_time": "2023-10-25T09:31:56.483Z"
   },
   {
    "duration": 1209,
    "start_time": "2023-10-25T09:31:56.498Z"
   },
   {
    "duration": 1148,
    "start_time": "2023-10-25T09:31:57.708Z"
   },
   {
    "duration": 12,
    "start_time": "2023-10-25T09:31:58.859Z"
   },
   {
    "duration": 2,
    "start_time": "2023-10-25T09:31:58.872Z"
   },
   {
    "duration": 164,
    "start_time": "2023-10-25T09:31:58.875Z"
   },
   {
    "duration": 323,
    "start_time": "2023-10-25T09:31:59.041Z"
   },
   {
    "duration": 2,
    "start_time": "2023-10-25T09:31:59.366Z"
   },
   {
    "duration": 677,
    "start_time": "2023-10-25T09:31:59.369Z"
   },
   {
    "duration": 3,
    "start_time": "2023-10-25T09:32:00.047Z"
   },
   {
    "duration": 4325,
    "start_time": "2023-10-25T09:32:00.051Z"
   },
   {
    "duration": 3930,
    "start_time": "2023-10-25T09:32:04.378Z"
   },
   {
    "duration": 10,
    "start_time": "2023-10-25T09:32:08.310Z"
   },
   {
    "duration": 5,
    "start_time": "2023-10-25T09:32:08.339Z"
   },
   {
    "duration": 20,
    "start_time": "2023-10-25T09:32:08.345Z"
   },
   {
    "duration": 34,
    "start_time": "2023-10-25T09:32:08.366Z"
   },
   {
    "duration": 5,
    "start_time": "2023-10-25T09:32:08.402Z"
   },
   {
    "duration": 11,
    "start_time": "2023-10-25T09:32:08.409Z"
   },
   {
    "duration": 5,
    "start_time": "2023-10-25T09:32:08.422Z"
   },
   {
    "duration": 63961,
    "start_time": "2023-10-25T09:32:08.429Z"
   },
   {
    "duration": 146,
    "start_time": "2023-10-25T09:33:12.393Z"
   },
   {
    "duration": 7,
    "start_time": "2023-10-25T09:33:12.541Z"
   },
   {
    "duration": 2196,
    "start_time": "2023-10-25T09:33:12.550Z"
   },
   {
    "duration": 15566,
    "start_time": "2023-10-25T09:34:30.395Z"
   },
   {
    "duration": 8025,
    "start_time": "2023-10-25T09:34:45.965Z"
   },
   {
    "duration": 656,
    "start_time": "2023-10-25T09:34:53.992Z"
   },
   {
    "duration": 8,
    "start_time": "2023-10-25T09:34:54.650Z"
   },
   {
    "duration": 4380,
    "start_time": "2023-10-25T09:34:54.661Z"
   },
   {
    "duration": 109,
    "start_time": "2023-10-25T09:34:59.043Z"
   },
   {
    "duration": 5294,
    "start_time": "2023-10-25T09:34:59.154Z"
   },
   {
    "duration": 3497,
    "start_time": "2023-10-25T09:35:04.450Z"
   },
   {
    "duration": 108,
    "start_time": "2023-10-25T09:35:07.948Z"
   },
   {
    "duration": 2,
    "start_time": "2023-10-25T09:35:08.058Z"
   },
   {
    "duration": 84,
    "start_time": "2023-10-25T09:35:08.061Z"
   },
   {
    "duration": 5323,
    "start_time": "2023-10-25T09:35:08.146Z"
   },
   {
    "duration": 3800,
    "start_time": "2023-10-25T09:35:13.471Z"
   },
   {
    "duration": 19,
    "start_time": "2023-10-25T09:35:17.274Z"
   },
   {
    "duration": 3,
    "start_time": "2023-10-25T09:35:17.295Z"
   },
   {
    "duration": 268,
    "start_time": "2023-10-25T09:35:17.299Z"
   },
   {
    "duration": 996,
    "start_time": "2023-10-25T09:35:17.569Z"
   },
   {
    "duration": 2,
    "start_time": "2023-10-25T09:35:18.567Z"
   },
   {
    "duration": 1015,
    "start_time": "2023-10-25T09:35:18.570Z"
   },
   {
    "duration": 3,
    "start_time": "2023-10-25T09:35:19.640Z"
   },
   {
    "duration": 8095,
    "start_time": "2023-10-25T09:35:19.644Z"
   },
   {
    "duration": 8039,
    "start_time": "2023-10-25T09:35:27.742Z"
   },
   {
    "duration": 76,
    "start_time": "2023-10-25T09:35:35.782Z"
   },
   {
    "duration": 4,
    "start_time": "2023-10-25T09:35:35.859Z"
   },
   {
    "duration": 16,
    "start_time": "2023-10-25T09:35:35.865Z"
   },
   {
    "duration": 59,
    "start_time": "2023-10-25T09:35:35.883Z"
   },
   {
    "duration": 38,
    "start_time": "2023-10-25T09:35:35.943Z"
   },
   {
    "duration": 3,
    "start_time": "2023-10-25T09:35:35.982Z"
   },
   {
    "duration": 53,
    "start_time": "2023-10-25T09:35:35.987Z"
   },
   {
    "duration": 108938,
    "start_time": "2023-10-25T09:35:36.042Z"
   },
   {
    "duration": 206,
    "start_time": "2023-10-25T09:37:25.039Z"
   },
   {
    "duration": 12,
    "start_time": "2023-10-25T09:37:25.246Z"
   },
   {
    "duration": 4525,
    "start_time": "2023-10-25T09:37:25.260Z"
   },
   {
    "duration": 8,
    "start_time": "2023-10-25T09:38:43.733Z"
   },
   {
    "duration": 340,
    "start_time": "2023-10-25T09:38:43.743Z"
   },
   {
    "duration": 105,
    "start_time": "2023-10-25T09:38:44.140Z"
   },
   {
    "duration": 10,
    "start_time": "2023-10-25T09:38:44.247Z"
   },
   {
    "duration": 993,
    "start_time": "2023-10-25T09:38:44.258Z"
   },
   {
    "duration": 26,
    "start_time": "2023-10-25T09:38:45.253Z"
   },
   {
    "duration": 1893,
    "start_time": "2023-10-25T09:38:45.280Z"
   },
   {
    "duration": 1272,
    "start_time": "2023-10-25T09:38:47.175Z"
   },
   {
    "duration": 329,
    "start_time": "2023-10-25T09:38:48.449Z"
   },
   {
    "duration": 2,
    "start_time": "2023-10-25T09:38:48.839Z"
   },
   {
    "duration": 30,
    "start_time": "2023-10-25T09:38:48.843Z"
   },
   {
    "duration": 371,
    "start_time": "2023-10-25T09:38:48.875Z"
   },
   {
    "duration": 295,
    "start_time": "2023-10-25T09:38:49.247Z"
   },
   {
    "duration": 15,
    "start_time": "2023-10-25T09:38:49.543Z"
   },
   {
    "duration": 2,
    "start_time": "2023-10-25T09:38:49.559Z"
   },
   {
    "duration": 181,
    "start_time": "2023-10-25T09:38:49.563Z"
   },
   {
    "duration": 203,
    "start_time": "2023-10-25T09:38:49.746Z"
   },
   {
    "duration": 1,
    "start_time": "2023-10-25T09:38:49.951Z"
   },
   {
    "duration": 185,
    "start_time": "2023-10-25T09:38:49.954Z"
   },
   {
    "duration": 3,
    "start_time": "2023-10-25T09:38:50.141Z"
   },
   {
    "duration": 1793,
    "start_time": "2023-10-25T09:38:50.146Z"
   },
   {
    "duration": 608,
    "start_time": "2023-10-25T09:38:51.941Z"
   },
   {
    "duration": 12,
    "start_time": "2023-10-25T09:38:52.553Z"
   },
   {
    "duration": 77,
    "start_time": "2023-10-25T09:38:52.567Z"
   },
   {
    "duration": 7,
    "start_time": "2023-10-25T09:38:52.647Z"
   },
   {
    "duration": 12,
    "start_time": "2023-10-25T09:38:52.656Z"
   },
   {
    "duration": 14,
    "start_time": "2023-10-25T09:38:52.670Z"
   },
   {
    "duration": 2,
    "start_time": "2023-10-25T09:38:52.742Z"
   },
   {
    "duration": 11,
    "start_time": "2023-10-25T09:38:52.745Z"
   },
   {
    "duration": 5583,
    "start_time": "2023-10-25T09:38:52.757Z"
   },
   {
    "duration": 132,
    "start_time": "2023-10-25T09:38:58.342Z"
   },
   {
    "duration": 69,
    "start_time": "2023-10-25T09:38:58.475Z"
   },
   {
    "duration": 420,
    "start_time": "2023-10-25T09:38:58.545Z"
   },
   {
    "duration": 7,
    "start_time": "2023-10-25T09:40:10.212Z"
   },
   {
    "duration": 253,
    "start_time": "2023-10-25T09:40:10.222Z"
   },
   {
    "duration": 96,
    "start_time": "2023-10-25T09:40:10.476Z"
   },
   {
    "duration": 8,
    "start_time": "2023-10-25T09:40:10.574Z"
   },
   {
    "duration": 889,
    "start_time": "2023-10-25T09:40:10.584Z"
   },
   {
    "duration": 77,
    "start_time": "2023-10-25T09:40:11.475Z"
   },
   {
    "duration": 1622,
    "start_time": "2023-10-25T09:40:11.554Z"
   },
   {
    "duration": 778,
    "start_time": "2023-10-25T09:40:13.177Z"
   },
   {
    "duration": 22,
    "start_time": "2023-10-25T09:40:13.957Z"
   },
   {
    "duration": 2,
    "start_time": "2023-10-25T09:40:13.981Z"
   },
   {
    "duration": 16,
    "start_time": "2023-10-25T09:40:13.985Z"
   },
   {
    "duration": 2701,
    "start_time": "2023-10-25T09:40:14.040Z"
   },
   {
    "duration": 2717,
    "start_time": "2023-10-25T09:40:16.743Z"
   },
   {
    "duration": 19,
    "start_time": "2023-10-25T09:40:19.462Z"
   },
   {
    "duration": 2,
    "start_time": "2023-10-25T09:40:19.540Z"
   },
   {
    "duration": 165,
    "start_time": "2023-10-25T09:40:19.544Z"
   },
   {
    "duration": 803,
    "start_time": "2023-10-25T09:40:19.740Z"
   },
   {
    "duration": 2,
    "start_time": "2023-10-25T09:40:20.545Z"
   },
   {
    "duration": 804,
    "start_time": "2023-10-25T09:40:20.549Z"
   },
   {
    "duration": 3,
    "start_time": "2023-10-25T09:40:21.354Z"
   },
   {
    "duration": 4748,
    "start_time": "2023-10-25T09:40:21.358Z"
   },
   {
    "duration": 5892,
    "start_time": "2023-10-25T09:40:26.108Z"
   },
   {
    "duration": 9,
    "start_time": "2023-10-25T09:40:32.040Z"
   },
   {
    "duration": 50,
    "start_time": "2023-10-25T09:40:32.051Z"
   },
   {
    "duration": 42,
    "start_time": "2023-10-25T09:40:32.102Z"
   },
   {
    "duration": 12,
    "start_time": "2023-10-25T09:40:32.145Z"
   },
   {
    "duration": 6,
    "start_time": "2023-10-25T09:40:32.159Z"
   },
   {
    "duration": 3,
    "start_time": "2023-10-25T09:40:32.167Z"
   },
   {
    "duration": 4,
    "start_time": "2023-10-25T09:40:32.171Z"
   },
   {
    "duration": 66766,
    "start_time": "2023-10-25T09:40:32.176Z"
   },
   {
    "duration": 123,
    "start_time": "2023-10-25T09:41:38.944Z"
   },
   {
    "duration": 13,
    "start_time": "2023-10-25T09:41:39.069Z"
   },
   {
    "duration": 2724,
    "start_time": "2023-10-25T09:41:39.083Z"
   },
   {
    "duration": 7,
    "start_time": "2023-10-25T09:44:03.739Z"
   },
   {
    "duration": 224,
    "start_time": "2023-10-25T09:44:03.748Z"
   },
   {
    "duration": 87,
    "start_time": "2023-10-25T09:44:03.974Z"
   },
   {
    "duration": 9,
    "start_time": "2023-10-25T09:44:04.063Z"
   },
   {
    "duration": 573,
    "start_time": "2023-10-25T09:44:04.074Z"
   },
   {
    "duration": 20,
    "start_time": "2023-10-25T09:44:04.649Z"
   },
   {
    "duration": 1426,
    "start_time": "2023-10-25T09:44:04.670Z"
   },
   {
    "duration": 691,
    "start_time": "2023-10-25T09:44:06.098Z"
   },
   {
    "duration": 65,
    "start_time": "2023-10-25T09:44:06.791Z"
   },
   {
    "duration": 3,
    "start_time": "2023-10-25T09:44:06.857Z"
   },
   {
    "duration": 27,
    "start_time": "2023-10-25T09:44:06.862Z"
   },
   {
    "duration": 1552,
    "start_time": "2023-10-25T09:44:06.891Z"
   },
   {
    "duration": 1678,
    "start_time": "2023-10-25T09:44:08.445Z"
   },
   {
    "duration": 13,
    "start_time": "2023-10-25T09:44:10.139Z"
   },
   {
    "duration": 2,
    "start_time": "2023-10-25T09:44:10.153Z"
   },
   {
    "duration": 109,
    "start_time": "2023-10-25T09:44:10.156Z"
   },
   {
    "duration": 432,
    "start_time": "2023-10-25T09:44:10.267Z"
   },
   {
    "duration": 39,
    "start_time": "2023-10-25T09:44:10.701Z"
   },
   {
    "duration": 453,
    "start_time": "2023-10-25T09:44:10.742Z"
   },
   {
    "duration": 2,
    "start_time": "2023-10-25T09:44:11.197Z"
   },
   {
    "duration": 4792,
    "start_time": "2023-10-25T09:44:11.200Z"
   },
   {
    "duration": 4200,
    "start_time": "2023-10-25T09:44:15.994Z"
   },
   {
    "duration": 9,
    "start_time": "2023-10-25T09:44:20.195Z"
   },
   {
    "duration": 6,
    "start_time": "2023-10-25T09:44:20.240Z"
   },
   {
    "duration": 7,
    "start_time": "2023-10-25T09:44:20.247Z"
   },
   {
    "duration": 12,
    "start_time": "2023-10-25T09:44:20.255Z"
   },
   {
    "duration": 5,
    "start_time": "2023-10-25T09:44:20.269Z"
   },
   {
    "duration": 4,
    "start_time": "2023-10-25T09:44:20.276Z"
   },
   {
    "duration": 5,
    "start_time": "2023-10-25T09:44:20.281Z"
   },
   {
    "duration": 65553,
    "start_time": "2023-10-25T09:44:20.287Z"
   },
   {
    "duration": 128,
    "start_time": "2023-10-25T09:45:25.842Z"
   },
   {
    "duration": 5,
    "start_time": "2023-10-25T09:45:25.972Z"
   },
   {
    "duration": 2566,
    "start_time": "2023-10-25T09:45:25.978Z"
   },
   {
    "duration": 7,
    "start_time": "2023-10-25T09:47:17.883Z"
   },
   {
    "duration": 2,
    "start_time": "2023-10-25T09:47:18.578Z"
   },
   {
    "duration": 3,
    "start_time": "2023-10-25T09:47:19.051Z"
   },
   {
    "duration": 12750,
    "start_time": "2023-10-25T09:47:19.762Z"
   },
   {
    "duration": 122,
    "start_time": "2023-10-25T09:47:33.418Z"
   },
   {
    "duration": 6,
    "start_time": "2023-10-25T09:47:34.059Z"
   },
   {
    "duration": 2218,
    "start_time": "2023-10-25T09:47:35.683Z"
   },
   {
    "duration": 6,
    "start_time": "2023-10-25T09:48:32.312Z"
   },
   {
    "duration": 290,
    "start_time": "2023-10-25T09:48:32.319Z"
   },
   {
    "duration": 148,
    "start_time": "2023-10-25T09:48:32.610Z"
   },
   {
    "duration": 9,
    "start_time": "2023-10-25T09:48:32.760Z"
   },
   {
    "duration": 516,
    "start_time": "2023-10-25T09:48:32.771Z"
   },
   {
    "duration": 66,
    "start_time": "2023-10-25T09:48:33.289Z"
   },
   {
    "duration": 1343,
    "start_time": "2023-10-25T09:48:33.357Z"
   },
   {
    "duration": 663,
    "start_time": "2023-10-25T09:48:34.702Z"
   },
   {
    "duration": 291,
    "start_time": "2023-10-25T09:48:35.367Z"
   },
   {
    "duration": 3,
    "start_time": "2023-10-25T09:48:35.660Z"
   },
   {
    "duration": 30,
    "start_time": "2023-10-25T09:48:35.665Z"
   },
   {
    "duration": 195,
    "start_time": "2023-10-25T09:48:35.697Z"
   },
   {
    "duration": 180,
    "start_time": "2023-10-25T09:48:35.894Z"
   },
   {
    "duration": 12,
    "start_time": "2023-10-25T09:48:36.077Z"
   },
   {
    "duration": 4,
    "start_time": "2023-10-25T09:48:36.091Z"
   },
   {
    "duration": 87,
    "start_time": "2023-10-25T09:48:36.096Z"
   },
   {
    "duration": 118,
    "start_time": "2023-10-25T09:48:36.184Z"
   },
   {
    "duration": 2,
    "start_time": "2023-10-25T09:48:36.304Z"
   },
   {
    "duration": 103,
    "start_time": "2023-10-25T09:48:36.308Z"
   },
   {
    "duration": 27,
    "start_time": "2023-10-25T09:48:36.412Z"
   },
   {
    "duration": 1561,
    "start_time": "2023-10-25T09:48:36.441Z"
   },
   {
    "duration": 399,
    "start_time": "2023-10-25T09:48:38.003Z"
   },
   {
    "duration": 10,
    "start_time": "2023-10-25T09:48:38.403Z"
   },
   {
    "duration": 4,
    "start_time": "2023-10-25T09:48:38.440Z"
   },
   {
    "duration": 6,
    "start_time": "2023-10-25T09:48:38.445Z"
   },
   {
    "duration": 11,
    "start_time": "2023-10-25T09:48:38.453Z"
   },
   {
    "duration": 6,
    "start_time": "2023-10-25T09:48:38.465Z"
   },
   {
    "duration": 3,
    "start_time": "2023-10-25T09:48:38.472Z"
   },
   {
    "duration": 3,
    "start_time": "2023-10-25T09:48:38.477Z"
   },
   {
    "duration": 2038,
    "start_time": "2023-10-25T09:48:38.482Z"
   },
   {
    "duration": 126,
    "start_time": "2023-10-25T09:48:40.522Z"
   },
   {
    "duration": 5,
    "start_time": "2023-10-25T09:48:40.650Z"
   },
   {
    "duration": 358,
    "start_time": "2023-10-25T09:48:40.656Z"
   },
   {
    "duration": 5,
    "start_time": "2023-10-25T09:53:04.582Z"
   },
   {
    "duration": 243,
    "start_time": "2023-10-25T09:53:04.590Z"
   },
   {
    "duration": 70,
    "start_time": "2023-10-25T09:53:04.835Z"
   },
   {
    "duration": 7,
    "start_time": "2023-10-25T09:53:04.907Z"
   },
   {
    "duration": 578,
    "start_time": "2023-10-25T09:53:04.917Z"
   },
   {
    "duration": 45,
    "start_time": "2023-10-25T09:53:05.496Z"
   },
   {
    "duration": 1300,
    "start_time": "2023-10-25T09:53:05.542Z"
   },
   {
    "duration": 620,
    "start_time": "2023-10-25T09:53:06.843Z"
   },
   {
    "duration": 125,
    "start_time": "2023-10-25T09:53:07.464Z"
   },
   {
    "duration": 3,
    "start_time": "2023-10-25T09:53:07.590Z"
   },
   {
    "duration": 26,
    "start_time": "2023-10-25T09:53:07.594Z"
   },
   {
    "duration": 193,
    "start_time": "2023-10-25T09:53:07.621Z"
   },
   {
    "duration": 163,
    "start_time": "2023-10-25T09:53:07.816Z"
   },
   {
    "duration": 69,
    "start_time": "2023-10-25T09:53:07.982Z"
   },
   {
    "duration": 0,
    "start_time": "2023-10-25T09:53:08.052Z"
   },
   {
    "duration": 0,
    "start_time": "2023-10-25T09:53:08.053Z"
   },
   {
    "duration": 0,
    "start_time": "2023-10-25T09:53:08.054Z"
   },
   {
    "duration": 0,
    "start_time": "2023-10-25T09:53:08.055Z"
   },
   {
    "duration": 0,
    "start_time": "2023-10-25T09:53:08.056Z"
   },
   {
    "duration": 0,
    "start_time": "2023-10-25T09:53:08.057Z"
   },
   {
    "duration": 0,
    "start_time": "2023-10-25T09:53:08.058Z"
   },
   {
    "duration": 0,
    "start_time": "2023-10-25T09:53:08.059Z"
   },
   {
    "duration": 0,
    "start_time": "2023-10-25T09:53:08.060Z"
   },
   {
    "duration": 0,
    "start_time": "2023-10-25T09:53:08.061Z"
   },
   {
    "duration": 0,
    "start_time": "2023-10-25T09:53:08.061Z"
   },
   {
    "duration": 0,
    "start_time": "2023-10-25T09:53:08.062Z"
   },
   {
    "duration": 0,
    "start_time": "2023-10-25T09:53:08.063Z"
   },
   {
    "duration": 0,
    "start_time": "2023-10-25T09:53:08.064Z"
   },
   {
    "duration": 0,
    "start_time": "2023-10-25T09:53:08.065Z"
   },
   {
    "duration": 0,
    "start_time": "2023-10-25T09:53:08.066Z"
   },
   {
    "duration": 0,
    "start_time": "2023-10-25T09:53:08.066Z"
   },
   {
    "duration": 0,
    "start_time": "2023-10-25T09:53:08.067Z"
   },
   {
    "duration": 0,
    "start_time": "2023-10-25T09:53:08.069Z"
   },
   {
    "duration": 26,
    "start_time": "2023-10-25T09:55:20.412Z"
   },
   {
    "duration": 7,
    "start_time": "2023-10-25T09:55:27.116Z"
   },
   {
    "duration": 219,
    "start_time": "2023-10-25T09:55:27.124Z"
   },
   {
    "duration": 78,
    "start_time": "2023-10-25T09:55:27.345Z"
   },
   {
    "duration": 7,
    "start_time": "2023-10-25T09:55:27.425Z"
   },
   {
    "duration": 433,
    "start_time": "2023-10-25T09:55:27.440Z"
   },
   {
    "duration": 16,
    "start_time": "2023-10-25T09:55:27.875Z"
   },
   {
    "duration": 1459,
    "start_time": "2023-10-25T09:55:27.893Z"
   },
   {
    "duration": 786,
    "start_time": "2023-10-25T09:55:29.354Z"
   },
   {
    "duration": 132,
    "start_time": "2023-10-25T09:55:30.142Z"
   },
   {
    "duration": 2,
    "start_time": "2023-10-25T09:55:30.275Z"
   },
   {
    "duration": 69,
    "start_time": "2023-10-25T09:55:30.279Z"
   },
   {
    "duration": 159,
    "start_time": "2023-10-25T09:55:30.349Z"
   },
   {
    "duration": 151,
    "start_time": "2023-10-25T09:55:30.510Z"
   },
   {
    "duration": 15,
    "start_time": "2023-10-25T09:55:30.664Z"
   },
   {
    "duration": 26,
    "start_time": "2023-10-25T09:55:30.680Z"
   },
   {
    "duration": 127,
    "start_time": "2023-10-25T09:55:30.708Z"
   },
   {
    "duration": 135,
    "start_time": "2023-10-25T09:55:30.836Z"
   },
   {
    "duration": 2,
    "start_time": "2023-10-25T09:55:30.973Z"
   },
   {
    "duration": 177,
    "start_time": "2023-10-25T09:55:30.976Z"
   },
   {
    "duration": 2,
    "start_time": "2023-10-25T09:55:31.155Z"
   },
   {
    "duration": 2292,
    "start_time": "2023-10-25T09:55:31.158Z"
   },
   {
    "duration": 592,
    "start_time": "2023-10-25T09:55:33.451Z"
   },
   {
    "duration": 10,
    "start_time": "2023-10-25T09:55:34.045Z"
   },
   {
    "duration": 3,
    "start_time": "2023-10-25T09:55:34.057Z"
   },
   {
    "duration": 7,
    "start_time": "2023-10-25T09:55:34.062Z"
   },
   {
    "duration": 8,
    "start_time": "2023-10-25T09:55:34.070Z"
   },
   {
    "duration": 6,
    "start_time": "2023-10-25T09:55:34.080Z"
   },
   {
    "duration": 14,
    "start_time": "2023-10-25T09:55:34.087Z"
   },
   {
    "duration": 4,
    "start_time": "2023-10-25T09:55:34.103Z"
   },
   {
    "duration": 2447,
    "start_time": "2023-10-25T09:55:34.109Z"
   },
   {
    "duration": 118,
    "start_time": "2023-10-25T09:55:36.558Z"
   },
   {
    "duration": 65,
    "start_time": "2023-10-25T09:55:36.677Z"
   },
   {
    "duration": 263,
    "start_time": "2023-10-25T09:55:36.744Z"
   },
   {
    "duration": 7,
    "start_time": "2023-10-25T09:57:47.348Z"
   },
   {
    "duration": 217,
    "start_time": "2023-10-25T09:57:47.357Z"
   },
   {
    "duration": 74,
    "start_time": "2023-10-25T09:57:47.575Z"
   },
   {
    "duration": 7,
    "start_time": "2023-10-25T09:57:47.651Z"
   },
   {
    "duration": 428,
    "start_time": "2023-10-25T09:57:47.660Z"
   },
   {
    "duration": 53,
    "start_time": "2023-10-25T09:57:48.090Z"
   },
   {
    "duration": 1210,
    "start_time": "2023-10-25T09:57:48.144Z"
   },
   {
    "duration": 593,
    "start_time": "2023-10-25T09:57:49.356Z"
   },
   {
    "duration": 3,
    "start_time": "2023-10-25T09:57:49.950Z"
   },
   {
    "duration": 4,
    "start_time": "2023-10-25T09:57:49.954Z"
   },
   {
    "duration": 7,
    "start_time": "2023-10-25T09:57:49.960Z"
   },
   {
    "duration": 213,
    "start_time": "2023-10-25T09:57:49.969Z"
   },
   {
    "duration": 184,
    "start_time": "2023-10-25T09:57:50.183Z"
   },
   {
    "duration": 14,
    "start_time": "2023-10-25T09:57:50.369Z"
   },
   {
    "duration": 3,
    "start_time": "2023-10-25T09:57:50.384Z"
   },
   {
    "duration": 129,
    "start_time": "2023-10-25T09:57:50.388Z"
   },
   {
    "duration": 86,
    "start_time": "2023-10-25T09:57:50.519Z"
   },
   {
    "duration": 2,
    "start_time": "2023-10-25T09:57:50.607Z"
   },
   {
    "duration": 133,
    "start_time": "2023-10-25T09:57:50.610Z"
   },
   {
    "duration": 2,
    "start_time": "2023-10-25T09:57:50.744Z"
   },
   {
    "duration": 1355,
    "start_time": "2023-10-25T09:57:50.748Z"
   },
   {
    "duration": 465,
    "start_time": "2023-10-25T09:57:52.104Z"
   },
   {
    "duration": 15,
    "start_time": "2023-10-25T09:57:52.570Z"
   },
   {
    "duration": 51,
    "start_time": "2023-10-25T09:57:52.587Z"
   },
   {
    "duration": 7,
    "start_time": "2023-10-25T09:57:52.640Z"
   },
   {
    "duration": 8,
    "start_time": "2023-10-25T09:57:52.649Z"
   },
   {
    "duration": 6,
    "start_time": "2023-10-25T09:57:52.658Z"
   },
   {
    "duration": 16,
    "start_time": "2023-10-25T09:57:52.665Z"
   },
   {
    "duration": 13,
    "start_time": "2023-10-25T09:57:52.682Z"
   },
   {
    "duration": 921,
    "start_time": "2023-10-25T09:57:52.696Z"
   },
   {
    "duration": 0,
    "start_time": "2023-10-25T09:57:53.619Z"
   },
   {
    "duration": 0,
    "start_time": "2023-10-25T09:57:53.621Z"
   },
   {
    "duration": 0,
    "start_time": "2023-10-25T09:57:53.622Z"
   },
   {
    "duration": 25,
    "start_time": "2023-10-25T10:06:32.520Z"
   },
   {
    "duration": 287,
    "start_time": "2023-10-25T10:06:32.547Z"
   },
   {
    "duration": 83,
    "start_time": "2023-10-25T10:06:32.836Z"
   },
   {
    "duration": 21,
    "start_time": "2023-10-25T10:06:32.920Z"
   },
   {
    "duration": 530,
    "start_time": "2023-10-25T10:06:32.943Z"
   },
   {
    "duration": 3,
    "start_time": "2023-10-25T10:06:33.474Z"
   },
   {
    "duration": 1380,
    "start_time": "2023-10-25T10:06:33.478Z"
   },
   {
    "duration": 126,
    "start_time": "2023-10-25T10:06:34.859Z"
   },
   {
    "duration": 0,
    "start_time": "2023-10-25T10:06:34.987Z"
   },
   {
    "duration": 0,
    "start_time": "2023-10-25T10:06:34.989Z"
   },
   {
    "duration": 0,
    "start_time": "2023-10-25T10:06:34.990Z"
   },
   {
    "duration": 0,
    "start_time": "2023-10-25T10:06:34.991Z"
   },
   {
    "duration": 0,
    "start_time": "2023-10-25T10:06:34.992Z"
   },
   {
    "duration": 0,
    "start_time": "2023-10-25T10:06:34.993Z"
   },
   {
    "duration": 0,
    "start_time": "2023-10-25T10:06:34.993Z"
   },
   {
    "duration": 0,
    "start_time": "2023-10-25T10:06:34.994Z"
   },
   {
    "duration": 0,
    "start_time": "2023-10-25T10:06:34.995Z"
   },
   {
    "duration": 0,
    "start_time": "2023-10-25T10:06:34.996Z"
   },
   {
    "duration": 0,
    "start_time": "2023-10-25T10:06:34.997Z"
   },
   {
    "duration": 0,
    "start_time": "2023-10-25T10:06:34.998Z"
   },
   {
    "duration": 0,
    "start_time": "2023-10-25T10:06:34.998Z"
   },
   {
    "duration": 0,
    "start_time": "2023-10-25T10:06:35.000Z"
   },
   {
    "duration": 0,
    "start_time": "2023-10-25T10:06:35.001Z"
   },
   {
    "duration": 0,
    "start_time": "2023-10-25T10:06:35.002Z"
   },
   {
    "duration": 0,
    "start_time": "2023-10-25T10:06:35.002Z"
   },
   {
    "duration": 0,
    "start_time": "2023-10-25T10:06:35.003Z"
   },
   {
    "duration": 0,
    "start_time": "2023-10-25T10:06:35.004Z"
   },
   {
    "duration": 0,
    "start_time": "2023-10-25T10:06:35.005Z"
   },
   {
    "duration": 0,
    "start_time": "2023-10-25T10:06:35.005Z"
   },
   {
    "duration": 0,
    "start_time": "2023-10-25T10:06:35.006Z"
   },
   {
    "duration": 0,
    "start_time": "2023-10-25T10:06:35.007Z"
   },
   {
    "duration": 0,
    "start_time": "2023-10-25T10:06:35.008Z"
   },
   {
    "duration": 0,
    "start_time": "2023-10-25T10:06:35.009Z"
   },
   {
    "duration": 2,
    "start_time": "2023-10-25T10:06:49.495Z"
   },
   {
    "duration": 5,
    "start_time": "2023-10-25T10:06:53.927Z"
   },
   {
    "duration": 269,
    "start_time": "2023-10-25T10:06:53.935Z"
   },
   {
    "duration": 135,
    "start_time": "2023-10-25T10:06:54.205Z"
   },
   {
    "duration": 7,
    "start_time": "2023-10-25T10:06:54.342Z"
   },
   {
    "duration": 504,
    "start_time": "2023-10-25T10:06:54.351Z"
   },
   {
    "duration": 2,
    "start_time": "2023-10-25T10:06:54.856Z"
   },
   {
    "duration": 1139,
    "start_time": "2023-10-25T10:06:54.859Z"
   },
   {
    "duration": 2,
    "start_time": "2023-10-25T10:06:56.000Z"
   },
   {
    "duration": 15,
    "start_time": "2023-10-25T10:06:56.004Z"
   },
   {
    "duration": 7,
    "start_time": "2023-10-25T10:06:56.021Z"
   },
   {
    "duration": 27,
    "start_time": "2023-10-25T10:06:56.030Z"
   },
   {
    "duration": 154,
    "start_time": "2023-10-25T10:06:56.058Z"
   },
   {
    "duration": 185,
    "start_time": "2023-10-25T10:06:56.214Z"
   },
   {
    "duration": 39,
    "start_time": "2023-10-25T10:06:56.401Z"
   },
   {
    "duration": 2,
    "start_time": "2023-10-25T10:06:56.442Z"
   },
   {
    "duration": 67,
    "start_time": "2023-10-25T10:06:56.446Z"
   },
   {
    "duration": 104,
    "start_time": "2023-10-25T10:06:56.515Z"
   },
   {
    "duration": 2,
    "start_time": "2023-10-25T10:06:56.621Z"
   },
   {
    "duration": 116,
    "start_time": "2023-10-25T10:06:56.624Z"
   },
   {
    "duration": 17,
    "start_time": "2023-10-25T10:06:56.742Z"
   },
   {
    "duration": 1353,
    "start_time": "2023-10-25T10:06:56.760Z"
   },
   {
    "duration": 435,
    "start_time": "2023-10-25T10:06:58.114Z"
   },
   {
    "duration": 13,
    "start_time": "2023-10-25T10:06:58.550Z"
   },
   {
    "duration": 6,
    "start_time": "2023-10-25T10:06:58.564Z"
   },
   {
    "duration": 13,
    "start_time": "2023-10-25T10:06:58.571Z"
   },
   {
    "duration": 8,
    "start_time": "2023-10-25T10:06:58.585Z"
   },
   {
    "duration": 5,
    "start_time": "2023-10-25T10:06:58.595Z"
   },
   {
    "duration": 2,
    "start_time": "2023-10-25T10:06:58.602Z"
   },
   {
    "duration": 34,
    "start_time": "2023-10-25T10:06:58.605Z"
   },
   {
    "duration": 2045,
    "start_time": "2023-10-25T10:06:58.641Z"
   },
   {
    "duration": 81,
    "start_time": "2023-10-25T10:07:00.687Z"
   },
   {
    "duration": 5,
    "start_time": "2023-10-25T10:07:00.770Z"
   },
   {
    "duration": 291,
    "start_time": "2023-10-25T10:07:00.776Z"
   },
   {
    "duration": 7,
    "start_time": "2023-10-25T10:11:22.682Z"
   },
   {
    "duration": 6,
    "start_time": "2023-10-25T10:11:22.691Z"
   },
   {
    "duration": 3,
    "start_time": "2023-10-25T10:11:23.083Z"
   },
   {
    "duration": 3932,
    "start_time": "2023-10-25T10:11:23.575Z"
   },
   {
    "duration": 82,
    "start_time": "2023-10-25T10:11:27.509Z"
   },
   {
    "duration": 8,
    "start_time": "2023-10-25T10:11:34.863Z"
   },
   {
    "duration": 301,
    "start_time": "2023-10-25T10:11:35.374Z"
   },
   {
    "duration": 7,
    "start_time": "2023-10-25T10:19:38.366Z"
   },
   {
    "duration": 196,
    "start_time": "2023-10-25T10:19:38.375Z"
   },
   {
    "duration": 81,
    "start_time": "2023-10-25T10:19:38.573Z"
   },
   {
    "duration": 10,
    "start_time": "2023-10-25T10:19:38.655Z"
   },
   {
    "duration": 417,
    "start_time": "2023-10-25T10:19:38.667Z"
   },
   {
    "duration": 3,
    "start_time": "2023-10-25T10:19:39.086Z"
   },
   {
    "duration": 932,
    "start_time": "2023-10-25T10:19:39.090Z"
   },
   {
    "duration": 2,
    "start_time": "2023-10-25T10:19:40.024Z"
   },
   {
    "duration": 37,
    "start_time": "2023-10-25T10:19:40.027Z"
   },
   {
    "duration": 36,
    "start_time": "2023-10-25T10:19:40.066Z"
   },
   {
    "duration": 31,
    "start_time": "2023-10-25T10:19:40.104Z"
   },
   {
    "duration": 146,
    "start_time": "2023-10-25T10:19:40.136Z"
   },
   {
    "duration": 128,
    "start_time": "2023-10-25T10:19:40.283Z"
   },
   {
    "duration": 28,
    "start_time": "2023-10-25T10:19:40.413Z"
   },
   {
    "duration": 126,
    "start_time": "2023-10-25T10:20:13.195Z"
   },
   {
    "duration": 6,
    "start_time": "2023-10-25T10:20:25.273Z"
   },
   {
    "duration": 203,
    "start_time": "2023-10-25T10:20:25.281Z"
   },
   {
    "duration": 76,
    "start_time": "2023-10-25T10:20:25.485Z"
   },
   {
    "duration": 8,
    "start_time": "2023-10-25T10:20:25.563Z"
   },
   {
    "duration": 613,
    "start_time": "2023-10-25T10:20:25.573Z"
   },
   {
    "duration": 2,
    "start_time": "2023-10-25T10:20:26.188Z"
   },
   {
    "duration": 963,
    "start_time": "2023-10-25T10:20:26.192Z"
   },
   {
    "duration": 3,
    "start_time": "2023-10-25T10:20:27.156Z"
   },
   {
    "duration": 16,
    "start_time": "2023-10-25T10:20:27.160Z"
   },
   {
    "duration": 11,
    "start_time": "2023-10-25T10:20:27.178Z"
   },
   {
    "duration": 7,
    "start_time": "2023-10-25T10:20:27.191Z"
   },
   {
    "duration": 131,
    "start_time": "2023-10-25T10:20:27.200Z"
   },
   {
    "duration": 158,
    "start_time": "2023-10-25T10:20:27.332Z"
   },
   {
    "duration": 226,
    "start_time": "2023-10-25T10:20:27.493Z"
   },
   {
    "duration": 268,
    "start_time": "2023-10-25T10:21:02.747Z"
   },
   {
    "duration": 13,
    "start_time": "2023-10-25T10:21:23.188Z"
   },
   {
    "duration": 2,
    "start_time": "2023-10-25T10:21:24.322Z"
   },
   {
    "duration": 88,
    "start_time": "2023-10-25T10:21:24.818Z"
   },
   {
    "duration": 97,
    "start_time": "2023-10-25T10:21:25.571Z"
   },
   {
    "duration": 3,
    "start_time": "2023-10-25T10:21:26.262Z"
   },
   {
    "duration": 80,
    "start_time": "2023-10-25T10:21:26.842Z"
   },
   {
    "duration": 17,
    "start_time": "2023-10-25T10:21:27.514Z"
   },
   {
    "duration": 1636,
    "start_time": "2023-10-25T10:21:27.931Z"
   },
   {
    "duration": 386,
    "start_time": "2023-10-25T10:21:29.569Z"
   },
   {
    "duration": 9,
    "start_time": "2023-10-25T10:21:33.986Z"
   },
   {
    "duration": 4,
    "start_time": "2023-10-25T10:21:34.739Z"
   },
   {
    "duration": 5,
    "start_time": "2023-10-25T10:21:35.275Z"
   },
   {
    "duration": 10,
    "start_time": "2023-10-25T10:21:35.811Z"
   },
   {
    "duration": 13,
    "start_time": "2023-10-25T10:21:37.762Z"
   },
   {
    "duration": 3,
    "start_time": "2023-10-25T10:21:38.306Z"
   },
   {
    "duration": 3,
    "start_time": "2023-10-25T10:21:38.843Z"
   },
   {
    "duration": 1362,
    "start_time": "2023-10-25T10:21:39.579Z"
   },
   {
    "duration": 52,
    "start_time": "2023-10-25T10:21:41.979Z"
   },
   {
    "duration": 7,
    "start_time": "2023-10-25T10:21:43.963Z"
   },
   {
    "duration": 362,
    "start_time": "2023-10-25T10:21:45.682Z"
   },
   {
    "duration": 11,
    "start_time": "2023-10-25T10:23:50.147Z"
   },
   {
    "duration": 5,
    "start_time": "2023-10-25T10:38:27.913Z"
   },
   {
    "duration": 193,
    "start_time": "2023-10-25T10:38:27.920Z"
   },
   {
    "duration": 70,
    "start_time": "2023-10-25T10:38:28.114Z"
   },
   {
    "duration": 7,
    "start_time": "2023-10-25T10:38:28.185Z"
   },
   {
    "duration": 400,
    "start_time": "2023-10-25T10:38:28.194Z"
   },
   {
    "duration": 57,
    "start_time": "2023-10-25T10:38:28.595Z"
   },
   {
    "duration": 1174,
    "start_time": "2023-10-25T10:38:28.653Z"
   },
   {
    "duration": 1039,
    "start_time": "2023-10-25T10:38:29.829Z"
   },
   {
    "duration": 80,
    "start_time": "2023-10-25T10:38:30.869Z"
   },
   {
    "duration": 3,
    "start_time": "2023-10-25T10:38:30.950Z"
   },
   {
    "duration": 30,
    "start_time": "2023-10-25T10:38:30.954Z"
   },
   {
    "duration": 1775,
    "start_time": "2023-10-25T10:38:30.985Z"
   },
   {
    "duration": 1323,
    "start_time": "2023-10-25T10:38:32.762Z"
   },
   {
    "duration": 14,
    "start_time": "2023-10-25T10:38:34.088Z"
   },
   {
    "duration": 0,
    "start_time": "2023-10-25T10:38:34.103Z"
   },
   {
    "duration": 0,
    "start_time": "2023-10-25T10:38:34.104Z"
   },
   {
    "duration": 0,
    "start_time": "2023-10-25T10:38:34.105Z"
   },
   {
    "duration": 0,
    "start_time": "2023-10-25T10:38:34.106Z"
   },
   {
    "duration": 0,
    "start_time": "2023-10-25T10:38:34.107Z"
   },
   {
    "duration": 0,
    "start_time": "2023-10-25T10:38:34.107Z"
   },
   {
    "duration": 0,
    "start_time": "2023-10-25T10:38:34.108Z"
   },
   {
    "duration": 0,
    "start_time": "2023-10-25T10:38:34.139Z"
   },
   {
    "duration": 0,
    "start_time": "2023-10-25T10:38:34.140Z"
   },
   {
    "duration": 0,
    "start_time": "2023-10-25T10:38:34.141Z"
   },
   {
    "duration": 0,
    "start_time": "2023-10-25T10:38:34.142Z"
   },
   {
    "duration": 0,
    "start_time": "2023-10-25T10:38:34.142Z"
   },
   {
    "duration": 0,
    "start_time": "2023-10-25T10:38:34.143Z"
   },
   {
    "duration": 0,
    "start_time": "2023-10-25T10:38:34.144Z"
   },
   {
    "duration": 0,
    "start_time": "2023-10-25T10:38:34.144Z"
   },
   {
    "duration": 0,
    "start_time": "2023-10-25T10:38:34.146Z"
   },
   {
    "duration": 0,
    "start_time": "2023-10-25T10:38:34.147Z"
   },
   {
    "duration": 0,
    "start_time": "2023-10-25T10:38:34.148Z"
   },
   {
    "duration": 0,
    "start_time": "2023-10-25T10:38:34.149Z"
   },
   {
    "duration": 0,
    "start_time": "2023-10-25T10:38:34.149Z"
   },
   {
    "duration": 13,
    "start_time": "2023-10-25T10:38:52.737Z"
   },
   {
    "duration": 2,
    "start_time": "2023-10-25T10:38:53.843Z"
   },
   {
    "duration": 95,
    "start_time": "2023-10-25T10:38:58.203Z"
   },
   {
    "duration": 325,
    "start_time": "2023-10-25T10:38:59.114Z"
   },
   {
    "duration": 2,
    "start_time": "2023-10-25T10:38:59.490Z"
   },
   {
    "duration": 544,
    "start_time": "2023-10-25T10:39:00.107Z"
   },
   {
    "duration": 6,
    "start_time": "2023-10-25T10:39:07.209Z"
   },
   {
    "duration": 239,
    "start_time": "2023-10-25T10:39:07.216Z"
   },
   {
    "duration": 72,
    "start_time": "2023-10-25T10:39:07.456Z"
   },
   {
    "duration": 7,
    "start_time": "2023-10-25T10:39:07.530Z"
   },
   {
    "duration": 431,
    "start_time": "2023-10-25T10:39:07.538Z"
   },
   {
    "duration": 15,
    "start_time": "2023-10-25T10:39:07.970Z"
   },
   {
    "duration": 1873,
    "start_time": "2023-10-25T10:39:07.986Z"
   },
   {
    "duration": 543,
    "start_time": "2023-10-25T10:39:09.861Z"
   },
   {
    "duration": 49,
    "start_time": "2023-10-25T10:39:10.406Z"
   },
   {
    "duration": 18,
    "start_time": "2023-10-25T10:39:10.456Z"
   },
   {
    "duration": 29,
    "start_time": "2023-10-25T10:39:10.475Z"
   },
   {
    "duration": 1741,
    "start_time": "2023-10-25T10:39:10.505Z"
   },
   {
    "duration": 2295,
    "start_time": "2023-10-25T10:39:12.248Z"
   },
   {
    "duration": 12,
    "start_time": "2023-10-25T10:39:14.545Z"
   },
   {
    "duration": 2,
    "start_time": "2023-10-25T10:39:14.559Z"
   },
   {
    "duration": 188,
    "start_time": "2023-10-25T10:39:14.562Z"
   },
   {
    "duration": 511,
    "start_time": "2023-10-25T10:39:14.751Z"
   },
   {
    "duration": 2,
    "start_time": "2023-10-25T10:39:15.264Z"
   },
   {
    "duration": 543,
    "start_time": "2023-10-25T10:39:15.267Z"
   },
   {
    "duration": 2,
    "start_time": "2023-10-25T10:39:15.812Z"
   },
   {
    "duration": 4068,
    "start_time": "2023-10-25T10:39:15.815Z"
   },
   {
    "duration": 3828,
    "start_time": "2023-10-25T10:39:19.885Z"
   },
   {
    "duration": 27,
    "start_time": "2023-10-25T10:39:23.714Z"
   },
   {
    "duration": 4,
    "start_time": "2023-10-25T10:39:23.743Z"
   },
   {
    "duration": 7,
    "start_time": "2023-10-25T10:39:23.748Z"
   },
   {
    "duration": 10,
    "start_time": "2023-10-25T10:39:23.757Z"
   },
   {
    "duration": 13,
    "start_time": "2023-10-25T10:39:23.768Z"
   },
   {
    "duration": 7,
    "start_time": "2023-10-25T10:39:23.783Z"
   },
   {
    "duration": 5,
    "start_time": "2023-10-25T10:39:23.791Z"
   },
   {
    "duration": 6,
    "start_time": "2023-10-25T10:39:23.797Z"
   },
   {
    "duration": 11254,
    "start_time": "2023-10-25T10:39:23.804Z"
   },
   {
    "duration": 86,
    "start_time": "2023-10-25T10:39:35.059Z"
   },
   {
    "duration": 5,
    "start_time": "2023-10-25T10:39:35.146Z"
   },
   {
    "duration": 2140,
    "start_time": "2023-10-25T10:39:35.153Z"
   },
   {
    "duration": 5,
    "start_time": "2023-10-25T10:40:10.886Z"
   },
   {
    "duration": 2,
    "start_time": "2023-10-25T10:40:11.460Z"
   },
   {
    "duration": 3,
    "start_time": "2023-10-25T10:40:11.961Z"
   },
   {
    "duration": 60371,
    "start_time": "2023-10-25T10:40:12.506Z"
   },
   {
    "duration": 50,
    "start_time": "2023-10-25T10:41:25.626Z"
   },
   {
    "duration": 6,
    "start_time": "2023-10-25T10:41:26.145Z"
   },
   {
    "duration": 1910,
    "start_time": "2023-10-25T10:41:26.659Z"
   },
   {
    "duration": 5,
    "start_time": "2023-10-25T10:42:14.689Z"
   },
   {
    "duration": 194,
    "start_time": "2023-10-25T10:42:14.696Z"
   },
   {
    "duration": 71,
    "start_time": "2023-10-25T10:42:14.891Z"
   },
   {
    "duration": 7,
    "start_time": "2023-10-25T10:42:14.963Z"
   },
   {
    "duration": 401,
    "start_time": "2023-10-25T10:42:14.972Z"
   },
   {
    "duration": 15,
    "start_time": "2023-10-25T10:42:15.374Z"
   },
   {
    "duration": 1161,
    "start_time": "2023-10-25T10:42:15.390Z"
   },
   {
    "duration": 536,
    "start_time": "2023-10-25T10:42:16.552Z"
   },
   {
    "duration": 67,
    "start_time": "2023-10-25T10:42:17.089Z"
   },
   {
    "duration": 2,
    "start_time": "2023-10-25T10:42:17.157Z"
   },
   {
    "duration": 8,
    "start_time": "2023-10-25T10:42:17.160Z"
   },
   {
    "duration": 1871,
    "start_time": "2023-10-25T10:42:17.169Z"
   },
   {
    "duration": 2122,
    "start_time": "2023-10-25T10:42:19.042Z"
   },
   {
    "duration": 13,
    "start_time": "2023-10-25T10:42:21.168Z"
   },
   {
    "duration": 60,
    "start_time": "2023-10-25T10:42:21.182Z"
   },
   {
    "duration": 99,
    "start_time": "2023-10-25T10:42:21.243Z"
   },
   {
    "duration": 318,
    "start_time": "2023-10-25T10:42:21.344Z"
   },
   {
    "duration": 2,
    "start_time": "2023-10-25T10:42:21.663Z"
   },
   {
    "duration": 507,
    "start_time": "2023-10-25T10:42:21.666Z"
   },
   {
    "duration": 2,
    "start_time": "2023-10-25T10:42:22.174Z"
   },
   {
    "duration": 2972,
    "start_time": "2023-10-25T10:42:22.178Z"
   },
   {
    "duration": 3559,
    "start_time": "2023-10-25T10:42:25.152Z"
   },
   {
    "duration": 29,
    "start_time": "2023-10-25T10:42:28.712Z"
   },
   {
    "duration": 3,
    "start_time": "2023-10-25T10:42:28.743Z"
   },
   {
    "duration": 10,
    "start_time": "2023-10-25T10:42:28.747Z"
   },
   {
    "duration": 9,
    "start_time": "2023-10-25T10:42:28.758Z"
   },
   {
    "duration": 10,
    "start_time": "2023-10-25T10:42:28.769Z"
   },
   {
    "duration": 5,
    "start_time": "2023-10-25T10:42:28.781Z"
   },
   {
    "duration": 6,
    "start_time": "2023-10-25T10:42:28.788Z"
   },
   {
    "duration": 4,
    "start_time": "2023-10-25T10:42:28.795Z"
   },
   {
    "duration": 58726,
    "start_time": "2023-10-25T10:42:28.801Z"
   },
   {
    "duration": 105,
    "start_time": "2023-10-25T10:43:27.540Z"
   },
   {
    "duration": 6,
    "start_time": "2023-10-25T10:43:27.646Z"
   },
   {
    "duration": 2035,
    "start_time": "2023-10-25T10:43:27.653Z"
   },
   {
    "duration": 15018,
    "start_time": "2023-10-25T10:44:32.627Z"
   },
   {
    "duration": 7606,
    "start_time": "2023-10-25T10:44:47.646Z"
   },
   {
    "duration": 440,
    "start_time": "2023-10-25T10:44:55.253Z"
   },
   {
    "duration": 7,
    "start_time": "2023-10-25T10:44:55.694Z"
   },
   {
    "duration": 3926,
    "start_time": "2023-10-25T10:44:55.740Z"
   },
   {
    "duration": 92,
    "start_time": "2023-10-25T10:44:59.667Z"
   },
   {
    "duration": 4507,
    "start_time": "2023-10-25T10:44:59.760Z"
   },
   {
    "duration": 2786,
    "start_time": "2023-10-25T10:45:04.269Z"
   },
   {
    "duration": 116,
    "start_time": "2023-10-25T10:45:07.057Z"
   },
   {
    "duration": 2,
    "start_time": "2023-10-25T10:45:07.175Z"
   },
   {
    "duration": 66,
    "start_time": "2023-10-25T10:45:07.179Z"
   },
   {
    "duration": 4731,
    "start_time": "2023-10-25T10:45:07.247Z"
   },
   {
    "duration": 3200,
    "start_time": "2023-10-25T10:45:11.979Z"
   },
   {
    "duration": 17,
    "start_time": "2023-10-25T10:45:15.239Z"
   },
   {
    "duration": 4,
    "start_time": "2023-10-25T10:45:15.258Z"
   },
   {
    "duration": 288,
    "start_time": "2023-10-25T10:45:15.263Z"
   },
   {
    "duration": 810,
    "start_time": "2023-10-25T10:45:15.552Z"
   },
   {
    "duration": 2,
    "start_time": "2023-10-25T10:45:16.364Z"
   },
   {
    "duration": 1010,
    "start_time": "2023-10-25T10:45:16.368Z"
   },
   {
    "duration": 61,
    "start_time": "2023-10-25T10:45:17.379Z"
   },
   {
    "duration": 8112,
    "start_time": "2023-10-25T10:45:17.442Z"
   },
   {
    "duration": 8413,
    "start_time": "2023-10-25T10:45:25.555Z"
   },
   {
    "duration": 90,
    "start_time": "2023-10-25T10:45:33.970Z"
   },
   {
    "duration": 4,
    "start_time": "2023-10-25T10:45:34.062Z"
   },
   {
    "duration": 33,
    "start_time": "2023-10-25T10:45:34.067Z"
   },
   {
    "duration": 36,
    "start_time": "2023-10-25T10:45:34.102Z"
   },
   {
    "duration": 26,
    "start_time": "2023-10-25T10:45:34.140Z"
   },
   {
    "duration": 52,
    "start_time": "2023-10-25T10:45:34.167Z"
   },
   {
    "duration": 8,
    "start_time": "2023-10-25T10:45:34.220Z"
   },
   {
    "duration": 28,
    "start_time": "2023-10-25T10:45:34.229Z"
   },
   {
    "duration": 88416,
    "start_time": "2023-10-25T10:45:34.259Z"
   },
   {
    "duration": 180,
    "start_time": "2023-10-25T10:47:02.676Z"
   },
   {
    "duration": 9,
    "start_time": "2023-10-25T10:47:02.857Z"
   },
   {
    "duration": 2929,
    "start_time": "2023-10-25T10:47:02.867Z"
   },
   {
    "duration": 14946,
    "start_time": "2023-10-25T10:48:42.697Z"
   },
   {
    "duration": 7702,
    "start_time": "2023-10-25T10:48:57.646Z"
   },
   {
    "duration": 439,
    "start_time": "2023-10-25T10:49:05.350Z"
   },
   {
    "duration": 51,
    "start_time": "2023-10-25T10:49:05.790Z"
   },
   {
    "duration": 3819,
    "start_time": "2023-10-25T10:49:05.843Z"
   },
   {
    "duration": 103,
    "start_time": "2023-10-25T10:49:09.664Z"
   },
   {
    "duration": 4400,
    "start_time": "2023-10-25T10:49:09.768Z"
   },
   {
    "duration": 2999,
    "start_time": "2023-10-25T10:49:14.170Z"
   },
   {
    "duration": 169,
    "start_time": "2023-10-25T10:49:17.170Z"
   },
   {
    "duration": 2,
    "start_time": "2023-10-25T10:49:17.341Z"
   },
   {
    "duration": 12,
    "start_time": "2023-10-25T10:49:17.344Z"
   },
   {
    "duration": 4809,
    "start_time": "2023-10-25T10:49:17.357Z"
   },
   {
    "duration": 3286,
    "start_time": "2023-10-25T10:49:22.168Z"
   },
   {
    "duration": 17,
    "start_time": "2023-10-25T10:49:25.457Z"
   },
   {
    "duration": 2,
    "start_time": "2023-10-25T10:49:25.475Z"
   },
   {
    "duration": 272,
    "start_time": "2023-10-25T10:49:25.478Z"
   },
   {
    "duration": 898,
    "start_time": "2023-10-25T10:49:25.751Z"
   },
   {
    "duration": 2,
    "start_time": "2023-10-25T10:49:26.650Z"
   },
   {
    "duration": 818,
    "start_time": "2023-10-25T10:49:26.653Z"
   },
   {
    "duration": 2,
    "start_time": "2023-10-25T10:49:27.474Z"
   },
   {
    "duration": 7510,
    "start_time": "2023-10-25T10:49:27.539Z"
   },
   {
    "duration": 8790,
    "start_time": "2023-10-25T10:49:35.051Z"
   },
   {
    "duration": 28,
    "start_time": "2023-10-25T10:49:43.843Z"
   },
   {
    "duration": 4,
    "start_time": "2023-10-25T10:49:43.873Z"
   },
   {
    "duration": 72,
    "start_time": "2023-10-25T10:49:43.878Z"
   },
   {
    "duration": 17,
    "start_time": "2023-10-25T10:49:43.952Z"
   },
   {
    "duration": 71,
    "start_time": "2023-10-25T10:49:43.971Z"
   },
   {
    "duration": 33,
    "start_time": "2023-10-25T10:49:44.043Z"
   },
   {
    "duration": 2,
    "start_time": "2023-10-25T10:49:44.078Z"
   },
   {
    "duration": 59,
    "start_time": "2023-10-25T10:49:44.081Z"
   },
   {
    "duration": 91525,
    "start_time": "2023-10-25T10:49:44.141Z"
   },
   {
    "duration": 206,
    "start_time": "2023-10-25T10:51:15.667Z"
   },
   {
    "duration": 68,
    "start_time": "2023-10-25T10:51:15.875Z"
   },
   {
    "duration": 3167,
    "start_time": "2023-10-25T10:51:15.945Z"
   },
   {
    "duration": 6,
    "start_time": "2023-10-25T10:53:09.307Z"
   },
   {
    "duration": 3,
    "start_time": "2023-10-25T10:53:09.700Z"
   },
   {
    "duration": 2,
    "start_time": "2023-10-25T10:53:10.332Z"
   },
   {
    "duration": 61773,
    "start_time": "2023-10-25T10:53:10.884Z"
   },
   {
    "duration": 78,
    "start_time": "2023-10-25T10:54:21.492Z"
   },
   {
    "duration": 8,
    "start_time": "2023-10-25T10:54:22.226Z"
   },
   {
    "duration": 2172,
    "start_time": "2023-10-25T10:54:22.995Z"
   },
   {
    "duration": 9,
    "start_time": "2023-10-25T10:58:50.770Z"
   },
   {
    "duration": 367,
    "start_time": "2023-10-25T10:58:50.781Z"
   },
   {
    "duration": 110,
    "start_time": "2023-10-25T10:58:51.150Z"
   },
   {
    "duration": 7,
    "start_time": "2023-10-25T10:58:51.261Z"
   },
   {
    "duration": 900,
    "start_time": "2023-10-25T10:58:51.270Z"
   },
   {
    "duration": 78,
    "start_time": "2023-10-25T10:58:52.172Z"
   },
   {
    "duration": 1453,
    "start_time": "2023-10-25T10:58:52.252Z"
   },
   {
    "duration": 766,
    "start_time": "2023-10-25T10:58:53.706Z"
   },
   {
    "duration": 23,
    "start_time": "2023-10-25T10:58:54.539Z"
   },
   {
    "duration": 3,
    "start_time": "2023-10-25T10:58:54.563Z"
   },
   {
    "duration": 17,
    "start_time": "2023-10-25T10:58:54.567Z"
   },
   {
    "duration": 1569,
    "start_time": "2023-10-25T10:58:54.585Z"
   },
   {
    "duration": 1354,
    "start_time": "2023-10-25T10:58:56.155Z"
   },
   {
    "duration": 35,
    "start_time": "2023-10-25T10:58:57.512Z"
   },
   {
    "duration": 2,
    "start_time": "2023-10-25T10:58:57.548Z"
   },
   {
    "duration": 101,
    "start_time": "2023-10-25T10:58:57.551Z"
   },
   {
    "duration": 417,
    "start_time": "2023-10-25T10:58:57.654Z"
   },
   {
    "duration": 2,
    "start_time": "2023-10-25T10:58:58.073Z"
   },
   {
    "duration": 389,
    "start_time": "2023-10-25T10:58:58.077Z"
   },
   {
    "duration": 2,
    "start_time": "2023-10-25T10:58:58.468Z"
   },
   {
    "duration": 3616,
    "start_time": "2023-10-25T10:58:58.472Z"
   },
   {
    "duration": 3394,
    "start_time": "2023-10-25T10:59:02.090Z"
   },
   {
    "duration": 9,
    "start_time": "2023-10-25T10:59:05.485Z"
   },
   {
    "duration": 45,
    "start_time": "2023-10-25T10:59:05.495Z"
   },
   {
    "duration": 30,
    "start_time": "2023-10-25T10:59:05.541Z"
   },
   {
    "duration": 38,
    "start_time": "2023-10-25T10:59:05.572Z"
   },
   {
    "duration": 21,
    "start_time": "2023-10-25T10:59:05.612Z"
   },
   {
    "duration": 34,
    "start_time": "2023-10-25T10:59:05.634Z"
   },
   {
    "duration": 36,
    "start_time": "2023-10-25T10:59:05.670Z"
   },
   {
    "duration": 22,
    "start_time": "2023-10-25T10:59:05.707Z"
   },
   {
    "duration": 29,
    "start_time": "2023-10-25T10:59:05.730Z"
   },
   {
    "duration": 78,
    "start_time": "2023-10-25T10:59:14.671Z"
   },
   {
    "duration": 5,
    "start_time": "2023-10-25T11:01:45.550Z"
   },
   {
    "duration": 7,
    "start_time": "2023-10-25T11:01:46.876Z"
   },
   {
    "duration": 5,
    "start_time": "2023-10-25T11:02:39.689Z"
   },
   {
    "duration": 243,
    "start_time": "2023-10-25T11:02:39.696Z"
   },
   {
    "duration": 73,
    "start_time": "2023-10-25T11:02:39.941Z"
   },
   {
    "duration": 7,
    "start_time": "2023-10-25T11:02:40.015Z"
   },
   {
    "duration": 727,
    "start_time": "2023-10-25T11:02:40.039Z"
   },
   {
    "duration": 79,
    "start_time": "2023-10-25T11:02:40.767Z"
   },
   {
    "duration": 1243,
    "start_time": "2023-10-25T11:02:40.848Z"
   },
   {
    "duration": 790,
    "start_time": "2023-10-25T11:02:42.092Z"
   },
   {
    "duration": 59,
    "start_time": "2023-10-25T11:02:42.883Z"
   },
   {
    "duration": 2,
    "start_time": "2023-10-25T11:02:42.943Z"
   },
   {
    "duration": 10,
    "start_time": "2023-10-25T11:02:42.947Z"
   },
   {
    "duration": 1289,
    "start_time": "2023-10-25T11:02:42.958Z"
   },
   {
    "duration": 1135,
    "start_time": "2023-10-25T11:02:44.249Z"
   },
   {
    "duration": 13,
    "start_time": "2023-10-25T11:02:45.387Z"
   },
   {
    "duration": 2,
    "start_time": "2023-10-25T11:02:45.402Z"
   },
   {
    "duration": 121,
    "start_time": "2023-10-25T11:02:45.406Z"
   },
   {
    "duration": 337,
    "start_time": "2023-10-25T11:02:45.529Z"
   },
   {
    "duration": 2,
    "start_time": "2023-10-25T11:02:45.867Z"
   },
   {
    "duration": 404,
    "start_time": "2023-10-25T11:02:45.870Z"
   },
   {
    "duration": 2,
    "start_time": "2023-10-25T11:02:46.276Z"
   },
   {
    "duration": 3560,
    "start_time": "2023-10-25T11:02:46.279Z"
   },
   {
    "duration": 3608,
    "start_time": "2023-10-25T11:02:49.841Z"
   },
   {
    "duration": 9,
    "start_time": "2023-10-25T11:02:53.450Z"
   },
   {
    "duration": 18,
    "start_time": "2023-10-25T11:02:53.461Z"
   },
   {
    "duration": 41,
    "start_time": "2023-10-25T11:02:53.480Z"
   },
   {
    "duration": 11,
    "start_time": "2023-10-25T11:02:53.523Z"
   },
   {
    "duration": 2,
    "start_time": "2023-10-25T11:02:53.540Z"
   },
   {
    "duration": 13,
    "start_time": "2023-10-25T11:02:53.544Z"
   },
   {
    "duration": 6,
    "start_time": "2023-10-25T11:02:53.558Z"
   },
   {
    "duration": 18,
    "start_time": "2023-10-25T11:02:53.565Z"
   },
   {
    "duration": 15,
    "start_time": "2023-10-25T11:02:53.584Z"
   },
   {
    "duration": 7,
    "start_time": "2023-10-25T11:02:58.922Z"
   },
   {
    "duration": 8,
    "start_time": "2023-10-25T11:02:59.673Z"
   },
   {
    "duration": 15224,
    "start_time": "2023-10-25T11:13:52.131Z"
   },
   {
    "duration": 7591,
    "start_time": "2023-10-25T11:14:07.357Z"
   },
   {
    "duration": 533,
    "start_time": "2023-10-25T11:14:14.949Z"
   },
   {
    "duration": 60,
    "start_time": "2023-10-25T11:14:15.483Z"
   },
   {
    "duration": 4098,
    "start_time": "2023-10-25T11:14:15.545Z"
   },
   {
    "duration": 106,
    "start_time": "2023-10-25T11:14:19.644Z"
   },
   {
    "duration": 4897,
    "start_time": "2023-10-25T11:14:19.752Z"
   },
   {
    "duration": 3091,
    "start_time": "2023-10-25T11:14:24.650Z"
   },
   {
    "duration": 104,
    "start_time": "2023-10-25T11:14:27.743Z"
   },
   {
    "duration": 3,
    "start_time": "2023-10-25T11:14:27.848Z"
   },
   {
    "duration": 18,
    "start_time": "2023-10-25T11:14:27.853Z"
   },
   {
    "duration": 5289,
    "start_time": "2023-10-25T11:14:27.873Z"
   },
   {
    "duration": 3502,
    "start_time": "2023-10-25T11:14:33.163Z"
   },
   {
    "duration": 17,
    "start_time": "2023-10-25T11:14:36.667Z"
   },
   {
    "duration": 3,
    "start_time": "2023-10-25T11:14:36.685Z"
   },
   {
    "duration": 241,
    "start_time": "2023-10-25T11:14:36.740Z"
   },
   {
    "duration": 924,
    "start_time": "2023-10-25T11:14:37.040Z"
   },
   {
    "duration": 2,
    "start_time": "2023-10-25T11:14:37.966Z"
   },
   {
    "duration": 1209,
    "start_time": "2023-10-25T11:14:37.969Z"
   },
   {
    "duration": 2,
    "start_time": "2023-10-25T11:14:39.240Z"
   },
   {
    "duration": 10097,
    "start_time": "2023-10-25T11:14:39.244Z"
   },
   {
    "duration": 12209,
    "start_time": "2023-10-25T11:14:49.342Z"
   },
   {
    "duration": 97,
    "start_time": "2023-10-25T11:15:01.552Z"
   },
   {
    "duration": 5,
    "start_time": "2023-10-25T11:15:01.651Z"
   },
   {
    "duration": 89,
    "start_time": "2023-10-25T11:15:01.657Z"
   },
   {
    "duration": 13,
    "start_time": "2023-10-25T11:15:01.747Z"
   },
   {
    "duration": 23,
    "start_time": "2023-10-25T11:15:01.761Z"
   },
   {
    "duration": 87,
    "start_time": "2023-10-25T11:15:01.785Z"
   },
   {
    "duration": 2,
    "start_time": "2023-10-25T11:15:01.874Z"
   },
   {
    "duration": 73,
    "start_time": "2023-10-25T11:15:01.878Z"
   },
   {
    "duration": 64,
    "start_time": "2023-10-25T11:15:01.952Z"
   },
   {
    "duration": 164989,
    "start_time": "2023-10-25T11:15:02.017Z"
   },
   {
    "duration": 70,
    "start_time": "2023-10-25T11:19:37.055Z"
   },
   {
    "duration": 3,
    "start_time": "2023-10-25T11:19:44.519Z"
   },
   {
    "duration": 6,
    "start_time": "2023-10-25T11:20:39.126Z"
   },
   {
    "duration": 6,
    "start_time": "2023-10-25T11:21:02.934Z"
   },
   {
    "duration": 3,
    "start_time": "2023-10-25T11:22:36.029Z"
   },
   {
    "duration": 8,
    "start_time": "2023-10-25T11:24:51.245Z"
   },
   {
    "duration": 8,
    "start_time": "2023-10-25T11:25:16.468Z"
   },
   {
    "duration": 6,
    "start_time": "2023-10-25T11:25:58.995Z"
   },
   {
    "duration": 5,
    "start_time": "2023-10-25T11:26:17.342Z"
   },
   {
    "duration": 5,
    "start_time": "2023-10-25T11:26:38.907Z"
   },
   {
    "duration": 5,
    "start_time": "2023-10-25T11:26:43.523Z"
   },
   {
    "duration": 6,
    "start_time": "2023-10-25T11:26:47.946Z"
   },
   {
    "duration": 5,
    "start_time": "2023-10-25T11:27:41.681Z"
   },
   {
    "duration": 4,
    "start_time": "2023-10-25T11:27:53.644Z"
   },
   {
    "duration": 1,
    "start_time": "2023-10-25T11:29:32.625Z"
   },
   {
    "duration": 6,
    "start_time": "2023-10-25T11:31:58.751Z"
   },
   {
    "duration": 2,
    "start_time": "2023-10-25T11:31:59.250Z"
   },
   {
    "duration": 2,
    "start_time": "2023-10-25T11:31:59.799Z"
   },
   {
    "duration": 6,
    "start_time": "2023-10-25T11:32:07.309Z"
   },
   {
    "duration": 106419,
    "start_time": "2023-10-25T11:32:09.655Z"
   },
   {
    "duration": 3,
    "start_time": "2023-10-25T11:34:00.758Z"
   },
   {
    "duration": 3,
    "start_time": "2023-10-25T11:34:03.078Z"
   },
   {
    "duration": 5,
    "start_time": "2023-10-25T11:34:29.859Z"
   },
   {
    "duration": 162,
    "start_time": "2023-10-25T11:34:30.774Z"
   },
   {
    "duration": 159614,
    "start_time": "2023-10-25T11:35:06.165Z"
   },
   {
    "duration": 3,
    "start_time": "2023-10-25T11:38:28.684Z"
   },
   {
    "duration": 3,
    "start_time": "2023-10-25T11:38:29.707Z"
   },
   {
    "duration": 3,
    "start_time": "2023-10-25T11:38:39.027Z"
   },
   {
    "duration": 3,
    "start_time": "2023-10-25T11:38:48.811Z"
   },
   {
    "duration": 2,
    "start_time": "2023-10-25T11:39:53.454Z"
   },
   {
    "duration": 5,
    "start_time": "2023-10-25T11:40:22.260Z"
   },
   {
    "duration": 2,
    "start_time": "2023-10-25T11:40:22.874Z"
   },
   {
    "duration": 2,
    "start_time": "2023-10-25T11:40:23.466Z"
   },
   {
    "duration": 6,
    "start_time": "2023-10-25T11:40:26.898Z"
   },
   {
    "duration": 213572,
    "start_time": "2023-10-25T11:40:32.866Z"
   },
   {
    "duration": 3,
    "start_time": "2023-10-25T11:44:09.538Z"
   },
   {
    "duration": 2,
    "start_time": "2023-10-25T11:44:10.357Z"
   },
   {
    "duration": 6,
    "start_time": "2023-10-25T11:44:39.175Z"
   },
   {
    "duration": 2,
    "start_time": "2023-10-25T11:44:40.066Z"
   },
   {
    "duration": 2,
    "start_time": "2023-10-25T11:44:40.704Z"
   },
   {
    "duration": 6,
    "start_time": "2023-10-25T11:44:41.711Z"
   },
   {
    "duration": 15073,
    "start_time": "2023-10-25T12:01:30.505Z"
   },
   {
    "duration": 7576,
    "start_time": "2023-10-25T12:01:45.580Z"
   },
   {
    "duration": 521,
    "start_time": "2023-10-25T12:01:53.158Z"
   },
   {
    "duration": 66,
    "start_time": "2023-10-25T12:01:53.680Z"
   },
   {
    "duration": 3796,
    "start_time": "2023-10-25T12:01:53.748Z"
   },
   {
    "duration": 111,
    "start_time": "2023-10-25T12:01:57.546Z"
   },
   {
    "duration": 4631,
    "start_time": "2023-10-25T12:01:57.658Z"
   },
   {
    "duration": 3010,
    "start_time": "2023-10-25T12:02:02.340Z"
   },
   {
    "duration": 123,
    "start_time": "2023-10-25T12:02:05.351Z"
   },
   {
    "duration": 2,
    "start_time": "2023-10-25T12:02:05.476Z"
   },
   {
    "duration": 66,
    "start_time": "2023-10-25T12:02:05.479Z"
   },
   {
    "duration": 4721,
    "start_time": "2023-10-25T12:02:05.546Z"
   },
   {
    "duration": 3308,
    "start_time": "2023-10-25T12:02:10.269Z"
   },
   {
    "duration": 75,
    "start_time": "2023-10-25T12:02:13.579Z"
   },
   {
    "duration": 2,
    "start_time": "2023-10-25T12:02:13.656Z"
   },
   {
    "duration": 210,
    "start_time": "2023-10-25T12:02:13.659Z"
   },
   {
    "duration": 899,
    "start_time": "2023-10-25T12:02:13.871Z"
   },
   {
    "duration": 2,
    "start_time": "2023-10-25T12:02:14.772Z"
   },
   {
    "duration": 983,
    "start_time": "2023-10-25T12:02:14.776Z"
   },
   {
    "duration": 2,
    "start_time": "2023-10-25T12:02:15.761Z"
   },
   {
    "duration": 8181,
    "start_time": "2023-10-25T12:02:15.765Z"
   },
   {
    "duration": 2,
    "start_time": "2023-10-25T12:02:23.948Z"
   },
   {
    "duration": 112,
    "start_time": "2023-10-25T12:02:23.951Z"
   },
   {
    "duration": 4,
    "start_time": "2023-10-25T12:02:24.065Z"
   },
   {
    "duration": 75,
    "start_time": "2023-10-25T12:02:24.070Z"
   },
   {
    "duration": 31,
    "start_time": "2023-10-25T12:02:24.147Z"
   },
   {
    "duration": 60,
    "start_time": "2023-10-25T12:02:24.180Z"
   },
   {
    "duration": 98,
    "start_time": "2023-10-25T12:02:24.241Z"
   },
   {
    "duration": 3,
    "start_time": "2023-10-25T12:02:24.341Z"
   },
   {
    "duration": 47,
    "start_time": "2023-10-25T12:02:24.345Z"
   },
   {
    "duration": 51,
    "start_time": "2023-10-25T12:02:24.394Z"
   },
   {
    "duration": 2435877,
    "start_time": "2023-10-25T12:02:24.447Z"
   },
   {
    "duration": 3,
    "start_time": "2023-10-25T12:45:21.468Z"
   },
   {
    "duration": 3,
    "start_time": "2023-10-25T12:45:24.638Z"
   },
   {
    "duration": 3,
    "start_time": "2023-10-25T12:45:29.714Z"
   },
   {
    "duration": 3,
    "start_time": "2023-10-25T12:45:30.330Z"
   },
   {
    "duration": 3,
    "start_time": "2023-10-25T12:46:14.698Z"
   },
   {
    "duration": 3,
    "start_time": "2023-10-25T12:46:15.234Z"
   },
   {
    "duration": 8,
    "start_time": "2023-10-25T12:53:26.915Z"
   },
   {
    "duration": 416,
    "start_time": "2023-10-25T12:53:26.924Z"
   },
   {
    "duration": 108,
    "start_time": "2023-10-25T12:53:27.342Z"
   },
   {
    "duration": 7,
    "start_time": "2023-10-25T12:53:27.452Z"
   },
   {
    "duration": 1014,
    "start_time": "2023-10-25T12:53:27.461Z"
   },
   {
    "duration": 79,
    "start_time": "2023-10-25T12:53:28.476Z"
   },
   {
    "duration": 1500,
    "start_time": "2023-10-25T12:53:28.557Z"
   },
   {
    "duration": 797,
    "start_time": "2023-10-25T12:53:30.059Z"
   },
   {
    "duration": 24,
    "start_time": "2023-10-25T12:53:30.858Z"
   },
   {
    "duration": 62,
    "start_time": "2023-10-25T12:53:30.884Z"
   },
   {
    "duration": 1319,
    "start_time": "2023-10-25T12:53:30.948Z"
   },
   {
    "duration": 1273,
    "start_time": "2023-10-25T12:53:32.268Z"
   },
   {
    "duration": 19,
    "start_time": "2023-10-25T12:53:33.542Z"
   },
   {
    "duration": 88,
    "start_time": "2023-10-25T12:53:33.563Z"
   },
   {
    "duration": 311,
    "start_time": "2023-10-25T12:53:33.652Z"
   },
   {
    "duration": 4,
    "start_time": "2023-10-25T12:53:33.965Z"
   },
   {
    "duration": 3437,
    "start_time": "2023-10-25T12:53:33.970Z"
   },
   {
    "duration": 2,
    "start_time": "2023-10-25T12:53:37.408Z"
   },
   {
    "duration": 35,
    "start_time": "2023-10-25T12:53:37.411Z"
   },
   {
    "duration": 3,
    "start_time": "2023-10-25T12:53:37.448Z"
   },
   {
    "duration": 6,
    "start_time": "2023-10-25T12:53:37.453Z"
   },
   {
    "duration": 8,
    "start_time": "2023-10-25T12:53:37.460Z"
   },
   {
    "duration": 9,
    "start_time": "2023-10-25T12:53:37.469Z"
   },
   {
    "duration": 60,
    "start_time": "2023-10-25T12:53:37.480Z"
   },
   {
    "duration": 3,
    "start_time": "2023-10-25T12:53:37.542Z"
   },
   {
    "duration": 16,
    "start_time": "2023-10-25T12:53:37.546Z"
   },
   {
    "duration": 341600,
    "start_time": "2023-10-25T12:53:37.563Z"
   },
   {
    "duration": 3,
    "start_time": "2023-10-25T12:59:22.819Z"
   },
   {
    "duration": 3,
    "start_time": "2023-10-25T12:59:24.285Z"
   },
   {
    "duration": 14762,
    "start_time": "2023-10-25T13:01:22.725Z"
   },
   {
    "duration": 7300,
    "start_time": "2023-10-25T13:01:37.540Z"
   },
   {
    "duration": 518,
    "start_time": "2023-10-25T13:01:44.842Z"
   },
   {
    "duration": 7,
    "start_time": "2023-10-25T13:01:45.362Z"
   },
   {
    "duration": 3795,
    "start_time": "2023-10-25T13:01:45.372Z"
   },
   {
    "duration": 98,
    "start_time": "2023-10-25T13:01:49.168Z"
   },
   {
    "duration": 4511,
    "start_time": "2023-10-25T13:01:49.267Z"
   },
   {
    "duration": 3070,
    "start_time": "2023-10-25T13:01:53.780Z"
   },
   {
    "duration": 112,
    "start_time": "2023-10-25T13:01:56.851Z"
   },
   {
    "duration": 9,
    "start_time": "2023-10-25T13:01:56.964Z"
   },
   {
    "duration": 4534,
    "start_time": "2023-10-25T13:01:57.039Z"
   },
   {
    "duration": 3304,
    "start_time": "2023-10-25T13:02:01.575Z"
   },
   {
    "duration": 79,
    "start_time": "2023-10-25T13:02:04.881Z"
   },
   {
    "duration": 311,
    "start_time": "2023-10-25T13:02:04.963Z"
   },
   {
    "duration": 790,
    "start_time": "2023-10-25T13:02:05.275Z"
   },
   {
    "duration": 7,
    "start_time": "2023-10-25T13:02:06.066Z"
   },
   {
    "duration": 7292,
    "start_time": "2023-10-25T13:02:06.074Z"
   },
   {
    "duration": 3,
    "start_time": "2023-10-25T13:02:13.367Z"
   },
   {
    "duration": 90,
    "start_time": "2023-10-25T13:02:13.371Z"
   },
   {
    "duration": 3,
    "start_time": "2023-10-25T13:02:13.463Z"
   },
   {
    "duration": 10,
    "start_time": "2023-10-25T13:02:13.468Z"
   },
   {
    "duration": 11,
    "start_time": "2023-10-25T13:02:13.479Z"
   },
   {
    "duration": 59,
    "start_time": "2023-10-25T13:02:13.492Z"
   },
   {
    "duration": 3,
    "start_time": "2023-10-25T13:02:13.552Z"
   },
   {
    "duration": 17,
    "start_time": "2023-10-25T13:02:13.556Z"
   },
   {
    "duration": 10,
    "start_time": "2023-10-25T13:02:13.574Z"
   },
   {
    "duration": 380541,
    "start_time": "2023-10-25T13:02:13.585Z"
   },
   {
    "duration": 3,
    "start_time": "2023-10-25T13:08:39.377Z"
   },
   {
    "duration": 3,
    "start_time": "2023-10-25T13:08:40.272Z"
   },
   {
    "duration": 2,
    "start_time": "2023-10-25T13:14:00.212Z"
   },
   {
    "duration": 68,
    "start_time": "2023-10-25T13:14:01.540Z"
   },
   {
    "duration": 4806,
    "start_time": "2023-10-25T13:14:36.371Z"
   },
   {
    "duration": 3,
    "start_time": "2023-10-25T13:14:41.179Z"
   },
   {
    "duration": 58746,
    "start_time": "2023-10-25T13:14:43.307Z"
   },
   {
    "duration": 2,
    "start_time": "2023-10-25T13:15:51.234Z"
   },
   {
    "duration": 78,
    "start_time": "2023-10-25T13:15:52.001Z"
   },
   {
    "duration": 4,
    "start_time": "2023-10-25T13:16:12.689Z"
   },
   {
    "duration": 3,
    "start_time": "2023-10-25T13:16:13.564Z"
   },
   {
    "duration": 3,
    "start_time": "2023-10-25T13:16:14.337Z"
   },
   {
    "duration": 5,
    "start_time": "2023-10-25T13:16:22.634Z"
   },
   {
    "duration": 3411,
    "start_time": "2023-10-25T13:16:26.738Z"
   },
   {
    "duration": 3,
    "start_time": "2023-10-25T13:18:25.904Z"
   },
   {
    "duration": 6,
    "start_time": "2023-10-25T13:18:32.016Z"
   },
   {
    "duration": 3,
    "start_time": "2023-10-25T13:18:42.008Z"
   },
   {
    "duration": 6,
    "start_time": "2023-10-25T13:20:38.718Z"
   },
   {
    "duration": 10672,
    "start_time": "2023-10-25T13:20:43.725Z"
   },
   {
    "duration": 87,
    "start_time": "2023-10-25T13:20:58.173Z"
   },
   {
    "duration": 5,
    "start_time": "2023-10-25T13:20:59.781Z"
   },
   {
    "duration": 2156,
    "start_time": "2023-10-25T13:21:01.357Z"
   },
   {
    "duration": 6,
    "start_time": "2023-10-25T13:21:38.169Z"
   },
   {
    "duration": 56135,
    "start_time": "2023-10-25T13:21:39.067Z"
   },
   {
    "duration": 54,
    "start_time": "2023-10-25T13:23:10.500Z"
   },
   {
    "duration": 6,
    "start_time": "2023-10-25T13:23:11.553Z"
   },
   {
    "duration": 1905,
    "start_time": "2023-10-25T13:23:14.869Z"
   },
   {
    "duration": 7,
    "start_time": "2023-10-25T13:23:33.588Z"
   },
   {
    "duration": 53916,
    "start_time": "2023-10-25T13:23:34.636Z"
   },
   {
    "duration": 67,
    "start_time": "2023-10-25T13:26:47.281Z"
   },
   {
    "duration": 5,
    "start_time": "2023-10-25T13:26:48.378Z"
   },
   {
    "duration": 1966,
    "start_time": "2023-10-25T13:26:50.386Z"
   },
   {
    "duration": 6151,
    "start_time": "2023-10-25T13:29:11.666Z"
   },
   {
    "duration": 3,
    "start_time": "2023-10-25T13:29:28.800Z"
   },
   {
    "duration": 3,
    "start_time": "2023-10-25T13:40:47.428Z"
   },
   {
    "duration": 55335,
    "start_time": "2023-10-25T13:40:48.705Z"
   },
   {
    "duration": 102,
    "start_time": "2023-10-25T13:41:55.868Z"
   },
   {
    "duration": 5,
    "start_time": "2023-10-25T13:41:56.608Z"
   },
   {
    "duration": 5702,
    "start_time": "2023-10-25T13:41:57.625Z"
   },
   {
    "duration": 3,
    "start_time": "2023-10-25T13:42:11.872Z"
   },
   {
    "duration": 15043,
    "start_time": "2023-10-25T13:47:31.242Z"
   },
   {
    "duration": 7707,
    "start_time": "2023-10-25T13:47:46.341Z"
   },
   {
    "duration": 1019,
    "start_time": "2023-10-25T13:47:54.050Z"
   },
   {
    "duration": 8,
    "start_time": "2023-10-25T13:47:55.070Z"
   },
   {
    "duration": 4088,
    "start_time": "2023-10-25T13:47:55.080Z"
   },
   {
    "duration": 170,
    "start_time": "2023-10-25T13:47:59.169Z"
   },
   {
    "duration": 5204,
    "start_time": "2023-10-25T13:47:59.341Z"
   },
   {
    "duration": 3220,
    "start_time": "2023-10-25T13:48:04.547Z"
   },
   {
    "duration": 112,
    "start_time": "2023-10-25T13:48:07.769Z"
   },
   {
    "duration": 63,
    "start_time": "2023-10-25T13:48:07.883Z"
   },
   {
    "duration": 4893,
    "start_time": "2023-10-25T13:48:07.947Z"
   },
   {
    "duration": 17,
    "start_time": "2023-10-25T13:48:12.841Z"
   },
   {
    "duration": 3297,
    "start_time": "2023-10-25T13:48:12.859Z"
   },
   {
    "duration": 8,
    "start_time": "2023-10-25T13:48:16.157Z"
   },
   {
    "duration": 8998,
    "start_time": "2023-10-25T13:48:16.166Z"
   },
   {
    "duration": 12505,
    "start_time": "2023-10-25T13:48:25.166Z"
   },
   {
    "duration": 91,
    "start_time": "2023-10-25T13:48:37.672Z"
   },
   {
    "duration": 9,
    "start_time": "2023-10-25T13:48:37.766Z"
   },
   {
    "duration": 70,
    "start_time": "2023-10-25T13:48:37.777Z"
   },
   {
    "duration": 11,
    "start_time": "2023-10-25T13:48:37.848Z"
   },
   {
    "duration": 5,
    "start_time": "2023-10-25T13:48:37.861Z"
   },
   {
    "duration": 95103,
    "start_time": "2023-10-25T13:48:37.867Z"
   },
   {
    "duration": 276,
    "start_time": "2023-10-25T13:50:12.971Z"
   },
   {
    "duration": 8,
    "start_time": "2023-10-25T13:50:13.249Z"
   },
   {
    "duration": 8132,
    "start_time": "2023-10-25T13:50:13.258Z"
   },
   {
    "duration": 4,
    "start_time": "2023-10-25T13:50:21.391Z"
   },
   {
    "duration": 64081,
    "start_time": "2023-10-25T13:52:55.075Z"
   },
   {
    "duration": 7330,
    "start_time": "2023-10-25T13:54:17.785Z"
   },
   {
    "duration": 3,
    "start_time": "2023-10-25T13:54:30.988Z"
   },
   {
    "duration": 2085,
    "start_time": "2023-10-25T13:56:50.999Z"
   },
   {
    "duration": 2271,
    "start_time": "2023-10-25T13:57:14.302Z"
   },
   {
    "duration": 14664,
    "start_time": "2023-10-25T13:58:43.796Z"
   },
   {
    "duration": 7410,
    "start_time": "2023-10-25T13:58:58.463Z"
   },
   {
    "duration": 982,
    "start_time": "2023-10-25T13:59:05.875Z"
   },
   {
    "duration": 7,
    "start_time": "2023-10-25T13:59:06.859Z"
   },
   {
    "duration": 3677,
    "start_time": "2023-10-25T13:59:06.868Z"
   },
   {
    "duration": 102,
    "start_time": "2023-10-25T13:59:10.547Z"
   },
   {
    "duration": 4589,
    "start_time": "2023-10-25T13:59:10.651Z"
   },
   {
    "duration": 3002,
    "start_time": "2023-10-25T13:59:15.242Z"
   },
   {
    "duration": 110,
    "start_time": "2023-10-25T13:59:18.246Z"
   },
   {
    "duration": 9,
    "start_time": "2023-10-25T13:59:18.358Z"
   },
   {
    "duration": 4805,
    "start_time": "2023-10-25T13:59:18.369Z"
   },
   {
    "duration": 76,
    "start_time": "2023-10-25T13:59:23.175Z"
   },
   {
    "duration": 3686,
    "start_time": "2023-10-25T13:59:23.253Z"
   },
   {
    "duration": 8,
    "start_time": "2023-10-25T13:59:26.942Z"
   },
   {
    "duration": 8808,
    "start_time": "2023-10-25T13:59:26.951Z"
   },
   {
    "duration": 11197,
    "start_time": "2023-10-25T13:59:35.760Z"
   },
   {
    "duration": 102,
    "start_time": "2023-10-25T13:59:46.959Z"
   },
   {
    "duration": 4,
    "start_time": "2023-10-25T13:59:47.062Z"
   },
   {
    "duration": 13,
    "start_time": "2023-10-25T13:59:47.067Z"
   },
   {
    "duration": 11,
    "start_time": "2023-10-25T13:59:47.140Z"
   },
   {
    "duration": 3,
    "start_time": "2023-10-25T13:59:47.152Z"
   },
   {
    "duration": 88091,
    "start_time": "2023-10-25T13:59:47.156Z"
   },
   {
    "duration": 210,
    "start_time": "2023-10-25T14:01:15.248Z"
   },
   {
    "duration": 9,
    "start_time": "2023-10-25T14:01:15.460Z"
   },
   {
    "duration": 8020,
    "start_time": "2023-10-25T14:01:15.470Z"
   },
   {
    "duration": 3,
    "start_time": "2023-10-25T14:01:23.491Z"
   },
   {
    "duration": 50246,
    "start_time": "2023-10-25T14:01:23.496Z"
   },
   {
    "duration": 6319,
    "start_time": "2023-10-25T14:02:13.744Z"
   },
   {
    "duration": 5,
    "start_time": "2023-10-25T14:02:20.066Z"
   },
   {
    "duration": 20,
    "start_time": "2023-10-25T14:02:20.072Z"
   },
   {
    "duration": 1867,
    "start_time": "2023-10-25T14:02:20.093Z"
   },
   {
    "duration": 70,
    "start_time": "2023-10-25T14:06:21.132Z"
   },
   {
    "duration": 73,
    "start_time": "2023-10-25T14:06:33.725Z"
   },
   {
    "duration": 8,
    "start_time": "2023-10-25T14:06:59.429Z"
   },
   {
    "duration": 7,
    "start_time": "2023-10-25T14:09:53.409Z"
   },
   {
    "duration": 337,
    "start_time": "2023-10-25T14:09:53.417Z"
   },
   {
    "duration": 213,
    "start_time": "2023-10-25T14:09:53.755Z"
   },
   {
    "duration": 7,
    "start_time": "2023-10-25T14:09:53.969Z"
   },
   {
    "duration": 883,
    "start_time": "2023-10-25T14:09:53.979Z"
   },
   {
    "duration": 76,
    "start_time": "2023-10-25T14:09:54.864Z"
   },
   {
    "duration": 1911,
    "start_time": "2023-10-25T14:09:54.941Z"
   },
   {
    "duration": 799,
    "start_time": "2023-10-25T14:09:56.853Z"
   },
   {
    "duration": 21,
    "start_time": "2023-10-25T14:09:57.654Z"
   },
   {
    "duration": 67,
    "start_time": "2023-10-25T14:09:57.677Z"
   },
   {
    "duration": 1616,
    "start_time": "2023-10-25T14:09:57.746Z"
   },
   {
    "duration": 12,
    "start_time": "2023-10-25T14:09:59.363Z"
   },
   {
    "duration": 1363,
    "start_time": "2023-10-25T14:09:59.377Z"
   },
   {
    "duration": 6,
    "start_time": "2023-10-25T14:10:00.744Z"
   },
   {
    "duration": 3698,
    "start_time": "2023-10-25T14:10:00.751Z"
   },
   {
    "duration": 4158,
    "start_time": "2023-10-25T14:10:04.450Z"
   },
   {
    "duration": 34,
    "start_time": "2023-10-25T14:10:08.610Z"
   },
   {
    "duration": 11,
    "start_time": "2023-10-25T14:10:08.646Z"
   },
   {
    "duration": 17,
    "start_time": "2023-10-25T14:10:08.659Z"
   },
   {
    "duration": 9,
    "start_time": "2023-10-25T14:10:08.677Z"
   },
   {
    "duration": 17,
    "start_time": "2023-10-25T14:10:08.688Z"
   },
   {
    "duration": 57169,
    "start_time": "2023-10-25T14:10:08.706Z"
   },
   {
    "duration": 98,
    "start_time": "2023-10-25T14:11:05.877Z"
   },
   {
    "duration": 5,
    "start_time": "2023-10-25T14:11:05.977Z"
   },
   {
    "duration": 6111,
    "start_time": "2023-10-25T14:11:06.039Z"
   },
   {
    "duration": 3,
    "start_time": "2023-10-25T14:11:12.152Z"
   },
   {
    "duration": 47223,
    "start_time": "2023-10-25T14:11:12.157Z"
   },
   {
    "duration": 5638,
    "start_time": "2023-10-25T14:11:59.382Z"
   },
   {
    "duration": 3,
    "start_time": "2023-10-25T14:12:05.021Z"
   },
   {
    "duration": 16,
    "start_time": "2023-10-25T14:12:05.039Z"
   },
   {
    "duration": 5,
    "start_time": "2023-10-25T14:18:37.964Z"
   },
   {
    "duration": 203,
    "start_time": "2023-10-25T14:18:37.970Z"
   },
   {
    "duration": 157,
    "start_time": "2023-10-25T14:18:38.174Z"
   },
   {
    "duration": 7,
    "start_time": "2023-10-25T14:18:38.332Z"
   },
   {
    "duration": 718,
    "start_time": "2023-10-25T14:18:38.341Z"
   },
   {
    "duration": 1707,
    "start_time": "2023-10-25T14:18:39.060Z"
   },
   {
    "duration": 1225,
    "start_time": "2023-10-25T14:20:06.335Z"
   },
   {
    "duration": 1291,
    "start_time": "2023-10-25T14:20:14.082Z"
   },
   {
    "duration": 255,
    "start_time": "2023-10-25T14:22:58.987Z"
   },
   {
    "duration": 698,
    "start_time": "2023-10-25T14:23:04.630Z"
   },
   {
    "duration": 359,
    "start_time": "2023-10-25T14:23:22.725Z"
   },
   {
    "duration": 277,
    "start_time": "2023-10-25T14:23:30.487Z"
   },
   {
    "duration": 347,
    "start_time": "2023-10-25T14:23:47.524Z"
   },
   {
    "duration": 292,
    "start_time": "2023-10-25T14:23:53.028Z"
   },
   {
    "duration": 349,
    "start_time": "2023-10-25T14:24:07.924Z"
   },
   {
    "duration": 342,
    "start_time": "2023-10-25T14:24:19.516Z"
   },
   {
    "duration": 386,
    "start_time": "2023-10-25T14:24:35.492Z"
   },
   {
    "duration": 445,
    "start_time": "2023-10-25T14:25:02.488Z"
   },
   {
    "duration": 743,
    "start_time": "2023-10-25T14:25:07.107Z"
   },
   {
    "duration": 744,
    "start_time": "2023-10-25T14:26:15.827Z"
   },
   {
    "duration": 278,
    "start_time": "2023-10-25T14:26:20.682Z"
   },
   {
    "duration": 640,
    "start_time": "2023-10-25T15:03:00.409Z"
   },
   {
    "duration": 119,
    "start_time": "2023-10-25T15:03:32.163Z"
   },
   {
    "duration": 252,
    "start_time": "2023-10-25T15:03:46.904Z"
   },
   {
    "duration": 5,
    "start_time": "2023-10-25T15:04:45.783Z"
   },
   {
    "duration": 293,
    "start_time": "2023-10-25T15:04:45.790Z"
   },
   {
    "duration": 151,
    "start_time": "2023-10-25T15:04:46.085Z"
   },
   {
    "duration": 8,
    "start_time": "2023-10-25T15:04:46.237Z"
   },
   {
    "duration": 201,
    "start_time": "2023-10-25T15:04:46.247Z"
   },
   {
    "duration": 100,
    "start_time": "2023-10-25T15:11:57.164Z"
   },
   {
    "duration": 9,
    "start_time": "2023-10-25T17:45:18.881Z"
   },
   {
    "duration": 15,
    "start_time": "2023-10-25T17:46:48.486Z"
   },
   {
    "duration": 5,
    "start_time": "2023-10-25T17:49:56.677Z"
   },
   {
    "duration": 436,
    "start_time": "2023-10-25T17:49:56.683Z"
   },
   {
    "duration": 221,
    "start_time": "2023-10-25T17:49:57.120Z"
   },
   {
    "duration": 8,
    "start_time": "2023-10-25T17:49:57.343Z"
   },
   {
    "duration": 190,
    "start_time": "2023-10-25T17:49:57.352Z"
   },
   {
    "duration": 710,
    "start_time": "2023-10-25T17:49:57.543Z"
   },
   {
    "duration": 68,
    "start_time": "2023-10-25T17:49:58.255Z"
   },
   {
    "duration": 1418,
    "start_time": "2023-10-25T17:49:58.325Z"
   },
   {
    "duration": 2,
    "start_time": "2023-10-25T17:49:59.745Z"
   },
   {
    "duration": 23,
    "start_time": "2023-10-25T17:49:59.748Z"
   },
   {
    "duration": 1258,
    "start_time": "2023-10-25T17:49:59.772Z"
   },
   {
    "duration": 757,
    "start_time": "2023-10-25T17:50:01.032Z"
   },
   {
    "duration": 58,
    "start_time": "2023-10-25T17:50:01.791Z"
   },
   {
    "duration": 34,
    "start_time": "2023-10-25T17:50:01.852Z"
   },
   {
    "duration": 1480,
    "start_time": "2023-10-25T17:50:01.887Z"
   },
   {
    "duration": 13,
    "start_time": "2023-10-25T17:50:03.369Z"
   },
   {
    "duration": 1381,
    "start_time": "2023-10-25T17:50:03.383Z"
   },
   {
    "duration": 5,
    "start_time": "2023-10-25T17:50:04.765Z"
   },
   {
    "duration": 3146,
    "start_time": "2023-10-25T17:50:04.771Z"
   },
   {
    "duration": 21,
    "start_time": "2023-10-25T17:50:07.919Z"
   },
   {
    "duration": 4,
    "start_time": "2023-10-25T17:50:07.942Z"
   },
   {
    "duration": 4,
    "start_time": "2023-10-25T17:50:07.947Z"
   },
   {
    "duration": 5,
    "start_time": "2023-10-25T17:50:07.952Z"
   },
   {
    "duration": 14,
    "start_time": "2023-10-25T17:50:07.958Z"
   },
   {
    "duration": 4388,
    "start_time": "2023-10-25T17:50:07.973Z"
   },
   {
    "duration": 79,
    "start_time": "2023-10-25T17:50:12.363Z"
   },
   {
    "duration": 5,
    "start_time": "2023-10-25T17:50:12.444Z"
   },
   {
    "duration": 7,
    "start_time": "2023-10-25T17:50:12.450Z"
   },
   {
    "duration": 26,
    "start_time": "2023-10-25T17:50:12.459Z"
   },
   {
    "duration": 10,
    "start_time": "2023-10-25T17:50:12.487Z"
   },
   {
    "duration": 0,
    "start_time": "2023-10-25T17:50:12.499Z"
   },
   {
    "duration": 0,
    "start_time": "2023-10-25T17:50:12.500Z"
   },
   {
    "duration": 0,
    "start_time": "2023-10-25T17:50:12.501Z"
   },
   {
    "duration": 0,
    "start_time": "2023-10-25T17:50:12.502Z"
   },
   {
    "duration": 0,
    "start_time": "2023-10-25T17:50:12.503Z"
   },
   {
    "duration": 0,
    "start_time": "2023-10-25T17:50:12.540Z"
   },
   {
    "duration": 0,
    "start_time": "2023-10-25T17:50:12.542Z"
   },
   {
    "duration": 0,
    "start_time": "2023-10-25T17:50:12.543Z"
   },
   {
    "duration": 5,
    "start_time": "2023-10-25T17:51:32.460Z"
   },
   {
    "duration": 60111,
    "start_time": "2023-10-25T17:51:35.482Z"
   },
   {
    "duration": 110,
    "start_time": "2023-10-25T17:52:50.337Z"
   },
   {
    "duration": 6,
    "start_time": "2023-10-25T17:52:51.881Z"
   },
   {
    "duration": 6060,
    "start_time": "2023-10-25T17:52:54.625Z"
   },
   {
    "duration": 45033,
    "start_time": "2023-10-25T17:53:52.816Z"
   },
   {
    "duration": 5467,
    "start_time": "2023-10-25T17:54:46.346Z"
   },
   {
    "duration": 8,
    "start_time": "2023-10-25T17:54:54.567Z"
   },
   {
    "duration": 4,
    "start_time": "2023-10-25T17:55:54.582Z"
   },
   {
    "duration": 9,
    "start_time": "2023-10-25T17:56:36.261Z"
   },
   {
    "duration": 207,
    "start_time": "2023-10-25T17:56:36.272Z"
   },
   {
    "duration": 266,
    "start_time": "2023-10-25T17:56:36.481Z"
   },
   {
    "duration": 7,
    "start_time": "2023-10-25T17:56:36.749Z"
   },
   {
    "duration": 187,
    "start_time": "2023-10-25T17:56:36.757Z"
   },
   {
    "duration": 439,
    "start_time": "2023-10-25T17:56:36.945Z"
   },
   {
    "duration": 130,
    "start_time": "2023-10-25T17:56:37.385Z"
   },
   {
    "duration": 1081,
    "start_time": "2023-10-25T17:56:37.518Z"
   },
   {
    "duration": 2,
    "start_time": "2023-10-25T17:56:38.601Z"
   },
   {
    "duration": 52,
    "start_time": "2023-10-25T17:56:38.605Z"
   },
   {
    "duration": 1236,
    "start_time": "2023-10-25T17:56:38.659Z"
   },
   {
    "duration": 551,
    "start_time": "2023-10-25T17:56:39.896Z"
   },
   {
    "duration": 19,
    "start_time": "2023-10-25T17:56:40.449Z"
   },
   {
    "duration": 7,
    "start_time": "2023-10-25T17:56:40.471Z"
   },
   {
    "duration": 1188,
    "start_time": "2023-10-25T17:56:40.479Z"
   },
   {
    "duration": 16,
    "start_time": "2023-10-25T17:56:41.668Z"
   },
   {
    "duration": 1202,
    "start_time": "2023-10-25T17:56:41.685Z"
   },
   {
    "duration": 5,
    "start_time": "2023-10-25T17:56:42.888Z"
   },
   {
    "duration": 3152,
    "start_time": "2023-10-25T17:56:42.940Z"
   },
   {
    "duration": 2,
    "start_time": "2023-10-25T17:56:46.094Z"
   },
   {
    "duration": 32,
    "start_time": "2023-10-25T17:56:46.097Z"
   },
   {
    "duration": 6,
    "start_time": "2023-10-25T17:56:46.131Z"
   },
   {
    "duration": 8,
    "start_time": "2023-10-25T17:56:46.138Z"
   },
   {
    "duration": 4,
    "start_time": "2023-10-25T17:56:46.147Z"
   },
   {
    "duration": 3199,
    "start_time": "2023-10-25T17:56:46.152Z"
   },
   {
    "duration": 9,
    "start_time": "2023-10-25T17:56:49.352Z"
   },
   {
    "duration": 4,
    "start_time": "2023-10-25T17:56:49.363Z"
   },
   {
    "duration": 6,
    "start_time": "2023-10-25T17:56:49.368Z"
   },
   {
    "duration": 8,
    "start_time": "2023-10-25T17:56:49.375Z"
   },
   {
    "duration": 3,
    "start_time": "2023-10-25T17:56:49.384Z"
   },
   {
    "duration": 57025,
    "start_time": "2023-10-25T17:56:49.388Z"
   },
   {
    "duration": 132,
    "start_time": "2023-10-25T17:57:46.415Z"
   },
   {
    "duration": 5,
    "start_time": "2023-10-25T17:57:46.549Z"
   },
   {
    "duration": 5764,
    "start_time": "2023-10-25T17:57:46.555Z"
   },
   {
    "duration": 47582,
    "start_time": "2023-10-25T17:57:52.321Z"
   },
   {
    "duration": 5297,
    "start_time": "2023-10-25T17:58:39.904Z"
   },
   {
    "duration": 15,
    "start_time": "2023-10-25T17:58:45.203Z"
   },
   {
    "duration": 73,
    "start_time": "2023-10-25T18:00:42.123Z"
   },
   {
    "duration": 7,
    "start_time": "2023-10-25T18:01:12.811Z"
   },
   {
    "duration": 207,
    "start_time": "2023-10-25T18:01:25.874Z"
   },
   {
    "duration": 6,
    "start_time": "2023-10-25T18:02:11.507Z"
   },
   {
    "duration": 163,
    "start_time": "2023-10-25T18:02:22.374Z"
   },
   {
    "duration": 119,
    "start_time": "2023-10-25T18:02:28.565Z"
   },
   {
    "duration": 8,
    "start_time": "2023-10-25T18:20:59.308Z"
   },
   {
    "duration": 602,
    "start_time": "2023-10-25T18:21:05.988Z"
   },
   {
    "duration": 201,
    "start_time": "2023-10-25T18:21:23.612Z"
   },
   {
    "duration": 585,
    "start_time": "2023-10-25T18:21:28.228Z"
   },
   {
    "duration": 2428,
    "start_time": "2023-10-25T18:21:37.916Z"
   },
   {
    "duration": 2062,
    "start_time": "2023-10-25T18:21:48.524Z"
   },
   {
    "duration": 1983,
    "start_time": "2023-10-25T18:22:11.081Z"
   },
   {
    "duration": 1844,
    "start_time": "2023-10-25T18:22:48.525Z"
   },
   {
    "duration": 1726,
    "start_time": "2023-10-25T18:23:00.852Z"
   },
   {
    "duration": 4,
    "start_time": "2023-10-25T18:31:38.296Z"
   },
   {
    "duration": 184753,
    "start_time": "2023-10-25T18:31:41.724Z"
   },
   {
    "duration": 109,
    "start_time": "2023-10-25T18:36:32.946Z"
   },
   {
    "duration": 1709,
    "start_time": "2023-10-25T18:36:33.793Z"
   },
   {
    "duration": 1536,
    "start_time": "2023-10-25T18:50:05.686Z"
   },
   {
    "duration": 295,
    "start_time": "2023-10-25T18:50:17.668Z"
   },
   {
    "duration": 395,
    "start_time": "2023-10-25T18:51:36.893Z"
   },
   {
    "duration": 1515,
    "start_time": "2023-10-25T18:51:58.693Z"
   },
   {
    "duration": 402,
    "start_time": "2023-10-25T18:52:15.429Z"
   },
   {
    "duration": 448,
    "start_time": "2023-10-25T18:54:04.782Z"
   },
   {
    "duration": 397,
    "start_time": "2023-10-25T18:54:35.044Z"
   },
   {
    "duration": 266,
    "start_time": "2023-10-25T18:55:33.259Z"
   },
   {
    "duration": 282,
    "start_time": "2023-10-25T18:55:50.977Z"
   },
   {
    "duration": 320,
    "start_time": "2023-10-25T18:56:28.907Z"
   },
   {
    "duration": 247,
    "start_time": "2023-10-25T18:57:01.279Z"
   },
   {
    "duration": 417,
    "start_time": "2023-10-25T18:57:12.083Z"
   },
   {
    "duration": 382,
    "start_time": "2023-10-25T18:58:09.234Z"
   },
   {
    "duration": 429,
    "start_time": "2023-10-25T18:59:34.298Z"
   },
   {
    "duration": 80,
    "start_time": "2023-10-25T19:00:38.698Z"
   },
   {
    "duration": 379,
    "start_time": "2023-10-25T19:00:45.690Z"
   },
   {
    "duration": 672,
    "start_time": "2023-10-25T19:00:58.185Z"
   },
   {
    "duration": 461,
    "start_time": "2023-10-25T19:01:24.810Z"
   },
   {
    "duration": 509,
    "start_time": "2023-10-25T19:01:30.779Z"
   },
   {
    "duration": 588,
    "start_time": "2023-10-25T19:01:42.312Z"
   },
   {
    "duration": 612,
    "start_time": "2023-10-25T19:03:58.943Z"
   },
   {
    "duration": 607,
    "start_time": "2023-10-25T19:05:37.703Z"
   },
   {
    "duration": 6,
    "start_time": "2023-10-25T19:07:17.597Z"
   },
   {
    "duration": 213,
    "start_time": "2023-10-25T19:07:17.606Z"
   },
   {
    "duration": 111,
    "start_time": "2023-10-25T19:07:17.821Z"
   },
   {
    "duration": 7,
    "start_time": "2023-10-25T19:07:17.934Z"
   },
   {
    "duration": 155,
    "start_time": "2023-10-25T19:07:17.943Z"
   },
   {
    "duration": 751,
    "start_time": "2023-10-25T19:07:18.100Z"
   },
   {
    "duration": 91,
    "start_time": "2023-10-25T19:07:18.852Z"
   },
   {
    "duration": 1444,
    "start_time": "2023-10-25T19:07:18.945Z"
   },
   {
    "duration": 2,
    "start_time": "2023-10-25T19:07:20.390Z"
   },
   {
    "duration": 33,
    "start_time": "2023-10-25T19:07:20.393Z"
   },
   {
    "duration": 1423,
    "start_time": "2023-10-25T19:07:20.440Z"
   },
   {
    "duration": 809,
    "start_time": "2023-10-25T19:07:21.865Z"
   },
   {
    "duration": 21,
    "start_time": "2023-10-25T19:07:22.675Z"
   },
   {
    "duration": 8,
    "start_time": "2023-10-25T19:07:22.742Z"
   },
   {
    "duration": 1131,
    "start_time": "2023-10-25T19:07:22.752Z"
   },
   {
    "duration": 13,
    "start_time": "2023-10-25T19:07:23.884Z"
   },
   {
    "duration": 1205,
    "start_time": "2023-10-25T19:07:23.898Z"
   },
   {
    "duration": 4,
    "start_time": "2023-10-25T19:07:25.104Z"
   },
   {
    "duration": 3406,
    "start_time": "2023-10-25T19:07:25.109Z"
   },
   {
    "duration": 23,
    "start_time": "2023-10-25T19:07:28.516Z"
   },
   {
    "duration": 3357,
    "start_time": "2023-10-25T19:07:28.541Z"
   },
   {
    "duration": 9,
    "start_time": "2023-10-25T19:07:31.900Z"
   },
   {
    "duration": 30,
    "start_time": "2023-10-25T19:07:31.910Z"
   },
   {
    "duration": 14,
    "start_time": "2023-10-25T19:07:31.942Z"
   },
   {
    "duration": 11,
    "start_time": "2023-10-25T19:07:31.958Z"
   },
   {
    "duration": 27,
    "start_time": "2023-10-25T19:07:31.970Z"
   },
   {
    "duration": 7,
    "start_time": "2023-10-25T19:07:31.998Z"
   },
   {
    "duration": 4360,
    "start_time": "2023-10-25T19:07:32.007Z"
   },
   {
    "duration": 92,
    "start_time": "2023-10-25T19:07:36.368Z"
   },
   {
    "duration": 7,
    "start_time": "2023-10-25T19:08:57.789Z"
   },
   {
    "duration": 199,
    "start_time": "2023-10-25T19:08:57.798Z"
   },
   {
    "duration": 154,
    "start_time": "2023-10-25T19:08:57.998Z"
   },
   {
    "duration": 8,
    "start_time": "2023-10-25T19:08:58.153Z"
   },
   {
    "duration": 132,
    "start_time": "2023-10-25T19:08:58.163Z"
   },
   {
    "duration": 386,
    "start_time": "2023-10-25T19:08:58.297Z"
   },
   {
    "duration": 96,
    "start_time": "2023-10-25T19:08:58.684Z"
   },
   {
    "duration": 1191,
    "start_time": "2023-10-25T19:08:58.782Z"
   },
   {
    "duration": 3,
    "start_time": "2023-10-25T19:08:59.974Z"
   },
   {
    "duration": 31,
    "start_time": "2023-10-25T19:08:59.978Z"
   },
   {
    "duration": 1181,
    "start_time": "2023-10-25T19:09:00.010Z"
   },
   {
    "duration": 590,
    "start_time": "2023-10-25T19:09:01.192Z"
   },
   {
    "duration": 20,
    "start_time": "2023-10-25T19:09:01.784Z"
   },
   {
    "duration": 39,
    "start_time": "2023-10-25T19:09:01.807Z"
   },
   {
    "duration": 1155,
    "start_time": "2023-10-25T19:09:01.847Z"
   },
   {
    "duration": 47,
    "start_time": "2023-10-25T19:09:03.003Z"
   },
   {
    "duration": 1031,
    "start_time": "2023-10-25T19:09:03.052Z"
   },
   {
    "duration": 4,
    "start_time": "2023-10-25T19:09:04.085Z"
   },
   {
    "duration": 3015,
    "start_time": "2023-10-25T19:09:04.090Z"
   },
   {
    "duration": 8,
    "start_time": "2023-10-25T19:09:07.106Z"
   },
   {
    "duration": 3639,
    "start_time": "2023-10-25T19:09:07.115Z"
   },
   {
    "duration": 8,
    "start_time": "2023-10-25T19:09:10.756Z"
   },
   {
    "duration": 8,
    "start_time": "2023-10-25T19:09:10.766Z"
   },
   {
    "duration": 6,
    "start_time": "2023-10-25T19:09:10.775Z"
   },
   {
    "duration": 8,
    "start_time": "2023-10-25T19:09:10.782Z"
   },
   {
    "duration": 2,
    "start_time": "2023-10-25T19:09:10.792Z"
   },
   {
    "duration": 5,
    "start_time": "2023-10-25T19:09:10.796Z"
   },
   {
    "duration": 3,
    "start_time": "2023-10-25T19:09:31.512Z"
   },
   {
    "duration": 23428,
    "start_time": "2023-10-25T19:09:32.279Z"
   },
   {
    "duration": 105,
    "start_time": "2023-10-25T19:10:00.052Z"
   },
   {
    "duration": 690,
    "start_time": "2023-10-25T19:10:26.907Z"
   },
   {
    "duration": 2220,
    "start_time": "2023-10-25T19:11:04.922Z"
   },
   {
    "duration": 152,
    "start_time": "2023-10-25T19:12:38.783Z"
   },
   {
    "duration": 8,
    "start_time": "2023-10-25T19:13:08.516Z"
   },
   {
    "duration": 5,
    "start_time": "2023-10-25T19:13:19.555Z"
   },
   {
    "duration": 12,
    "start_time": "2023-10-25T19:13:48.215Z"
   },
   {
    "duration": 2225,
    "start_time": "2023-10-25T19:13:57.731Z"
   },
   {
    "duration": 2,
    "start_time": "2023-10-25T19:14:12.773Z"
   },
   {
    "duration": 6,
    "start_time": "2023-10-25T19:14:33.954Z"
   },
   {
    "duration": 6306,
    "start_time": "2023-10-25T19:14:35.188Z"
   },
   {
    "duration": 3,
    "start_time": "2023-10-25T19:14:45.354Z"
   },
   {
    "duration": 67,
    "start_time": "2023-10-25T19:18:07.745Z"
   },
   {
    "duration": 13054,
    "start_time": "2023-10-25T19:18:18.496Z"
   },
   {
    "duration": 265,
    "start_time": "2023-10-25T19:23:17.280Z"
   },
   {
    "duration": 5,
    "start_time": "2023-10-25T19:26:17.549Z"
   },
   {
    "duration": 199,
    "start_time": "2023-10-25T19:26:17.555Z"
   },
   {
    "duration": 119,
    "start_time": "2023-10-25T19:26:17.755Z"
   },
   {
    "duration": 7,
    "start_time": "2023-10-25T19:26:17.876Z"
   },
   {
    "duration": 169,
    "start_time": "2023-10-25T19:26:17.884Z"
   },
   {
    "duration": 360,
    "start_time": "2023-10-25T19:26:18.054Z"
   },
   {
    "duration": 77,
    "start_time": "2023-10-25T19:26:18.416Z"
   },
   {
    "duration": 1072,
    "start_time": "2023-10-25T19:26:18.494Z"
   },
   {
    "duration": 2,
    "start_time": "2023-10-25T19:26:19.567Z"
   },
   {
    "duration": 28,
    "start_time": "2023-10-25T19:26:19.571Z"
   },
   {
    "duration": 1540,
    "start_time": "2023-10-25T19:26:19.601Z"
   },
   {
    "duration": 936,
    "start_time": "2023-10-25T19:26:21.142Z"
   },
   {
    "duration": 78,
    "start_time": "2023-10-25T19:26:22.079Z"
   },
   {
    "duration": 6,
    "start_time": "2023-10-25T19:26:22.159Z"
   },
   {
    "duration": 1445,
    "start_time": "2023-10-25T19:26:22.166Z"
   },
   {
    "duration": 36,
    "start_time": "2023-10-25T19:26:23.612Z"
   },
   {
    "duration": 1009,
    "start_time": "2023-10-25T19:26:23.649Z"
   },
   {
    "duration": 4,
    "start_time": "2023-10-25T19:26:24.659Z"
   },
   {
    "duration": 3102,
    "start_time": "2023-10-25T19:26:24.665Z"
   },
   {
    "duration": 13,
    "start_time": "2023-10-25T19:26:27.768Z"
   },
   {
    "duration": 3,
    "start_time": "2023-10-25T19:26:27.782Z"
   },
   {
    "duration": 4856,
    "start_time": "2023-10-25T19:26:27.787Z"
   },
   {
    "duration": 8,
    "start_time": "2023-10-25T19:26:32.645Z"
   },
   {
    "duration": 17,
    "start_time": "2023-10-25T19:26:32.655Z"
   },
   {
    "duration": 14,
    "start_time": "2023-10-25T19:26:32.673Z"
   },
   {
    "duration": 9,
    "start_time": "2023-10-25T19:26:32.688Z"
   },
   {
    "duration": 11,
    "start_time": "2023-10-25T19:26:32.698Z"
   },
   {
    "duration": 20495,
    "start_time": "2023-10-25T19:26:32.711Z"
   },
   {
    "duration": 71,
    "start_time": "2023-10-25T19:26:53.207Z"
   },
   {
    "duration": 2,
    "start_time": "2023-10-25T19:26:53.280Z"
   },
   {
    "duration": 3,
    "start_time": "2023-10-25T19:26:53.283Z"
   },
   {
    "duration": 5,
    "start_time": "2023-10-25T19:26:53.287Z"
   },
   {
    "duration": 6,
    "start_time": "2023-10-25T19:26:53.294Z"
   },
   {
    "duration": 6,
    "start_time": "2023-10-25T19:28:08.929Z"
   },
   {
    "duration": 197,
    "start_time": "2023-10-25T19:28:08.936Z"
   },
   {
    "duration": 119,
    "start_time": "2023-10-25T19:28:09.135Z"
   },
   {
    "duration": 7,
    "start_time": "2023-10-25T19:28:09.256Z"
   },
   {
    "duration": 145,
    "start_time": "2023-10-25T19:28:09.264Z"
   },
   {
    "duration": 437,
    "start_time": "2023-10-25T19:28:09.410Z"
   },
   {
    "duration": 112,
    "start_time": "2023-10-25T19:28:09.849Z"
   },
   {
    "duration": 1154,
    "start_time": "2023-10-25T19:28:09.962Z"
   },
   {
    "duration": 3,
    "start_time": "2023-10-25T19:28:11.139Z"
   },
   {
    "duration": 30,
    "start_time": "2023-10-25T19:28:11.144Z"
   },
   {
    "duration": 1125,
    "start_time": "2023-10-25T19:28:11.175Z"
   },
   {
    "duration": 546,
    "start_time": "2023-10-25T19:28:12.302Z"
   },
   {
    "duration": 20,
    "start_time": "2023-10-25T19:28:12.849Z"
   },
   {
    "duration": 6,
    "start_time": "2023-10-25T19:28:12.871Z"
   },
   {
    "duration": 991,
    "start_time": "2023-10-25T19:28:12.879Z"
   },
   {
    "duration": 13,
    "start_time": "2023-10-25T19:28:13.871Z"
   },
   {
    "duration": 1062,
    "start_time": "2023-10-25T19:28:13.885Z"
   },
   {
    "duration": 4,
    "start_time": "2023-10-25T19:28:14.949Z"
   },
   {
    "duration": 2756,
    "start_time": "2023-10-25T19:28:14.954Z"
   },
   {
    "duration": 8,
    "start_time": "2023-10-25T19:28:17.712Z"
   },
   {
    "duration": 234,
    "start_time": "2023-10-25T19:28:17.740Z"
   },
   {
    "duration": 2,
    "start_time": "2023-10-25T19:28:17.976Z"
   },
   {
    "duration": 3142,
    "start_time": "2023-10-25T19:28:17.979Z"
   },
   {
    "duration": 25,
    "start_time": "2023-10-25T19:28:21.122Z"
   },
   {
    "duration": 4,
    "start_time": "2023-10-25T19:28:21.148Z"
   },
   {
    "duration": 10,
    "start_time": "2023-10-25T19:28:21.153Z"
   },
   {
    "duration": 8,
    "start_time": "2023-10-25T19:28:21.164Z"
   },
   {
    "duration": 3,
    "start_time": "2023-10-25T19:28:21.174Z"
   },
   {
    "duration": 57408,
    "start_time": "2023-10-25T19:28:21.178Z"
   },
   {
    "duration": 51,
    "start_time": "2023-10-25T19:29:23.931Z"
   },
   {
    "duration": 2,
    "start_time": "2023-10-25T19:29:24.707Z"
   },
   {
    "duration": 2,
    "start_time": "2023-10-25T19:29:25.207Z"
   },
   {
    "duration": 2,
    "start_time": "2023-10-25T19:29:26.051Z"
   },
   {
    "duration": 6,
    "start_time": "2023-10-25T19:29:29.094Z"
   },
   {
    "duration": 5658,
    "start_time": "2023-10-25T19:29:31.911Z"
   },
   {
    "duration": 3,
    "start_time": "2023-10-25T19:29:38.571Z"
   },
   {
    "duration": 1961,
    "start_time": "2023-10-25T19:30:22.228Z"
   },
   {
    "duration": 2339,
    "start_time": "2023-10-25T19:33:00.742Z"
   },
   {
    "duration": 1744,
    "start_time": "2023-10-25T19:34:37.224Z"
   },
   {
    "duration": 5,
    "start_time": "2023-10-25T19:36:44.623Z"
   },
   {
    "duration": 212,
    "start_time": "2023-10-25T19:36:44.630Z"
   },
   {
    "duration": 122,
    "start_time": "2023-10-25T19:36:44.844Z"
   },
   {
    "duration": 7,
    "start_time": "2023-10-25T19:36:44.967Z"
   },
   {
    "duration": 166,
    "start_time": "2023-10-25T19:36:44.976Z"
   },
   {
    "duration": 496,
    "start_time": "2023-10-25T19:36:45.143Z"
   },
   {
    "duration": 99,
    "start_time": "2023-10-25T19:36:45.641Z"
   },
   {
    "duration": 1063,
    "start_time": "2023-10-25T19:36:45.742Z"
   },
   {
    "duration": 3,
    "start_time": "2023-10-25T19:36:46.807Z"
   },
   {
    "duration": 51,
    "start_time": "2023-10-25T19:36:46.811Z"
   },
   {
    "duration": 1265,
    "start_time": "2023-10-25T19:36:46.863Z"
   },
   {
    "duration": 1021,
    "start_time": "2023-10-25T19:36:48.129Z"
   },
   {
    "duration": 20,
    "start_time": "2023-10-25T19:36:49.151Z"
   },
   {
    "duration": 6,
    "start_time": "2023-10-25T19:36:49.174Z"
   },
   {
    "duration": 1077,
    "start_time": "2023-10-25T19:36:49.181Z"
   },
   {
    "duration": 12,
    "start_time": "2023-10-25T19:36:50.260Z"
   },
   {
    "duration": 1099,
    "start_time": "2023-10-25T19:36:50.273Z"
   },
   {
    "duration": 5,
    "start_time": "2023-10-25T19:36:51.373Z"
   },
   {
    "duration": 3160,
    "start_time": "2023-10-25T19:36:51.380Z"
   },
   {
    "duration": 3,
    "start_time": "2023-10-25T19:36:54.541Z"
   },
   {
    "duration": 11,
    "start_time": "2023-10-25T19:36:54.546Z"
   },
   {
    "duration": 7,
    "start_time": "2023-10-25T19:36:54.558Z"
   },
   {
    "duration": 3544,
    "start_time": "2023-10-25T19:36:54.567Z"
   },
   {
    "duration": 33,
    "start_time": "2023-10-25T19:36:58.112Z"
   },
   {
    "duration": 4,
    "start_time": "2023-10-25T19:36:58.146Z"
   },
   {
    "duration": 6,
    "start_time": "2023-10-25T19:36:58.151Z"
   },
   {
    "duration": 8,
    "start_time": "2023-10-25T19:36:58.158Z"
   },
   {
    "duration": 4,
    "start_time": "2023-10-25T19:36:58.167Z"
   },
   {
    "duration": 57891,
    "start_time": "2023-10-25T19:36:58.172Z"
   },
   {
    "duration": 87,
    "start_time": "2023-10-25T19:37:56.065Z"
   },
   {
    "duration": 2,
    "start_time": "2023-10-25T19:37:56.153Z"
   },
   {
    "duration": 5,
    "start_time": "2023-10-25T19:37:56.157Z"
   },
   {
    "duration": 3,
    "start_time": "2023-10-25T19:37:56.164Z"
   },
   {
    "duration": 7,
    "start_time": "2023-10-25T19:37:56.168Z"
   },
   {
    "duration": 5988,
    "start_time": "2023-10-25T19:37:56.176Z"
   },
   {
    "duration": 1785,
    "start_time": "2023-10-25T19:38:02.165Z"
   },
   {
    "duration": 49353,
    "start_time": "2023-10-25T19:38:03.952Z"
   },
   {
    "duration": 6045,
    "start_time": "2023-10-25T19:38:53.306Z"
   },
   {
    "duration": 11,
    "start_time": "2023-10-25T19:38:59.353Z"
   },
   {
    "duration": 169,
    "start_time": "2023-10-25T19:38:59.366Z"
   },
   {
    "duration": 3477,
    "start_time": "2023-10-25T19:38:59.538Z"
   },
   {
    "duration": 13,
    "start_time": "2023-10-25T19:42:27.540Z"
   },
   {
    "duration": 3391,
    "start_time": "2023-10-25T19:42:39.775Z"
   },
   {
    "duration": 1902,
    "start_time": "2023-10-25T19:42:57.801Z"
   },
   {
    "duration": 2071,
    "start_time": "2023-10-25T19:43:11.639Z"
   },
   {
    "duration": 12,
    "start_time": "2023-10-25T19:45:42.457Z"
   },
   {
    "duration": 1782,
    "start_time": "2023-10-25T19:46:17.862Z"
   },
   {
    "duration": 8,
    "start_time": "2023-10-25T19:47:24.378Z"
   },
   {
    "duration": 12,
    "start_time": "2023-10-25T19:47:42.942Z"
   },
   {
    "duration": 1923,
    "start_time": "2023-10-25T19:47:51.935Z"
   },
   {
    "duration": 1713,
    "start_time": "2023-10-25T19:53:59.942Z"
   },
   {
    "duration": 9,
    "start_time": "2023-10-25T19:54:32.016Z"
   },
   {
    "duration": 2,
    "start_time": "2023-10-25T19:54:32.633Z"
   },
   {
    "duration": 1572,
    "start_time": "2023-10-25T19:54:33.213Z"
   },
   {
    "duration": 7,
    "start_time": "2023-10-25T19:54:39.638Z"
   },
   {
    "duration": 9,
    "start_time": "2023-10-25T19:55:09.103Z"
   },
   {
    "duration": 1679,
    "start_time": "2023-10-25T19:55:27.765Z"
   },
   {
    "duration": 191,
    "start_time": "2023-10-25T19:56:56.914Z"
   },
   {
    "duration": 272,
    "start_time": "2023-10-25T20:10:54.281Z"
   },
   {
    "duration": 7,
    "start_time": "2023-10-25T20:12:16.641Z"
   },
   {
    "duration": 24,
    "start_time": "2023-10-25T20:12:53.511Z"
   },
   {
    "duration": 11,
    "start_time": "2023-10-25T20:13:17.760Z"
   },
   {
    "duration": 347,
    "start_time": "2023-10-25T20:13:32.352Z"
   },
   {
    "duration": 356,
    "start_time": "2023-10-25T20:14:13.227Z"
   },
   {
    "duration": 383,
    "start_time": "2023-10-25T20:20:26.320Z"
   },
   {
    "duration": 537,
    "start_time": "2023-10-25T20:20:52.156Z"
   },
   {
    "duration": 546,
    "start_time": "2023-10-25T20:21:33.516Z"
   },
   {
    "duration": 525,
    "start_time": "2023-10-25T20:22:01.549Z"
   },
   {
    "duration": 739,
    "start_time": "2023-10-25T20:22:14.560Z"
   },
   {
    "duration": 638,
    "start_time": "2023-10-25T20:22:36.763Z"
   },
   {
    "duration": 151,
    "start_time": "2023-10-25T20:29:33.312Z"
   },
   {
    "duration": 20,
    "start_time": "2023-10-25T20:30:20.453Z"
   },
   {
    "duration": 22,
    "start_time": "2023-10-25T20:34:02.836Z"
   },
   {
    "duration": 10,
    "start_time": "2023-10-25T20:34:21.996Z"
   },
   {
    "duration": 19,
    "start_time": "2023-10-25T20:34:25.936Z"
   },
   {
    "duration": 6,
    "start_time": "2023-10-25T20:34:30.518Z"
   },
   {
    "duration": 590,
    "start_time": "2023-10-25T20:35:36.352Z"
   },
   {
    "duration": 5,
    "start_time": "2023-10-25T20:41:46.611Z"
   },
   {
    "duration": 4,
    "start_time": "2023-10-25T20:42:00.943Z"
   },
   {
    "duration": 5,
    "start_time": "2023-10-25T20:51:39.223Z"
   },
   {
    "duration": 12,
    "start_time": "2023-10-25T20:53:17.126Z"
   },
   {
    "duration": 548,
    "start_time": "2023-10-25T20:53:21.677Z"
   },
   {
    "duration": 6,
    "start_time": "2023-10-25T20:53:58.502Z"
   },
   {
    "duration": 9,
    "start_time": "2023-10-25T20:56:37.579Z"
   },
   {
    "duration": 507,
    "start_time": "2023-10-25T20:56:56.835Z"
   },
   {
    "duration": 5,
    "start_time": "2023-10-25T20:58:35.997Z"
   },
   {
    "duration": 554,
    "start_time": "2023-10-25T20:58:36.625Z"
   },
   {
    "duration": 8,
    "start_time": "2023-10-25T20:59:56.151Z"
   },
   {
    "duration": 5061,
    "start_time": "2023-10-25T20:59:56.616Z"
   },
   {
    "duration": 6,
    "start_time": "2023-10-25T21:00:02.505Z"
   },
   {
    "duration": 689,
    "start_time": "2023-10-25T21:00:03.386Z"
   },
   {
    "duration": 7,
    "start_time": "2023-10-25T21:01:07.591Z"
   },
   {
    "duration": 5245,
    "start_time": "2023-10-25T21:01:08.320Z"
   },
   {
    "duration": 6,
    "start_time": "2023-10-25T21:01:14.962Z"
   },
   {
    "duration": 687,
    "start_time": "2023-10-25T21:01:15.887Z"
   },
   {
    "duration": 5,
    "start_time": "2023-10-25T21:01:33.101Z"
   },
   {
    "duration": 5117,
    "start_time": "2023-10-25T21:01:33.431Z"
   },
   {
    "duration": 5,
    "start_time": "2023-10-25T21:01:40.286Z"
   },
   {
    "duration": 723,
    "start_time": "2023-10-25T21:01:41.080Z"
   },
   {
    "duration": 5,
    "start_time": "2023-10-25T21:06:26.603Z"
   },
   {
    "duration": 5398,
    "start_time": "2023-10-25T21:06:27.383Z"
   },
   {
    "duration": 28,
    "start_time": "2023-10-25T21:06:35.036Z"
   },
   {
    "duration": 719,
    "start_time": "2023-10-25T21:06:35.876Z"
   },
   {
    "duration": 6,
    "start_time": "2023-10-25T21:08:07.099Z"
   },
   {
    "duration": 6178,
    "start_time": "2023-10-25T21:08:07.515Z"
   },
   {
    "duration": 177,
    "start_time": "2023-10-25T21:08:14.604Z"
   },
   {
    "duration": 842,
    "start_time": "2023-10-25T21:08:15.582Z"
   },
   {
    "duration": 5,
    "start_time": "2023-10-25T21:11:37.998Z"
   },
   {
    "duration": 54071,
    "start_time": "2023-10-25T21:11:39.350Z"
   },
   {
    "duration": 5,
    "start_time": "2023-10-25T21:12:39.310Z"
   },
   {
    "duration": 1981,
    "start_time": "2023-10-25T21:12:39.984Z"
   },
   {
    "duration": 6,
    "start_time": "2023-10-25T21:15:13.591Z"
   },
   {
    "duration": 2149,
    "start_time": "2023-10-25T21:15:15.630Z"
   },
   {
    "duration": 8,
    "start_time": "2023-10-25T21:15:36.911Z"
   },
   {
    "duration": 2254,
    "start_time": "2023-10-25T21:15:37.846Z"
   },
   {
    "duration": 5,
    "start_time": "2023-10-25T21:16:20.911Z"
   },
   {
    "duration": 2237,
    "start_time": "2023-10-25T21:16:21.371Z"
   },
   {
    "duration": 5,
    "start_time": "2023-10-25T21:18:49.476Z"
   },
   {
    "duration": 5618,
    "start_time": "2023-10-25T21:18:49.792Z"
   },
   {
    "duration": 5536,
    "start_time": "2023-10-25T21:19:29.006Z"
   },
   {
    "duration": 7,
    "start_time": "2023-10-25T21:19:51.494Z"
   },
   {
    "duration": 7,
    "start_time": "2023-10-25T21:19:52.294Z"
   },
   {
    "duration": 757,
    "start_time": "2023-10-25T21:20:00.018Z"
   },
   {
    "duration": 8,
    "start_time": "2023-10-25T21:20:16.883Z"
   },
   {
    "duration": 710,
    "start_time": "2023-10-25T21:20:17.365Z"
   },
   {
    "duration": 5,
    "start_time": "2023-10-25T21:20:27.318Z"
   },
   {
    "duration": 662,
    "start_time": "2023-10-25T21:20:27.830Z"
   },
   {
    "duration": 16576,
    "start_time": "2023-10-26T11:35:22.666Z"
   },
   {
    "duration": 8318,
    "start_time": "2023-10-26T11:35:39.245Z"
   },
   {
    "duration": 1063,
    "start_time": "2023-10-26T11:35:47.565Z"
   },
   {
    "duration": 9,
    "start_time": "2023-10-26T11:35:48.630Z"
   },
   {
    "duration": 794,
    "start_time": "2023-10-26T11:35:48.641Z"
   },
   {
    "duration": 4023,
    "start_time": "2023-10-26T11:35:49.438Z"
   },
   {
    "duration": 485,
    "start_time": "2023-10-26T11:35:53.463Z"
   },
   {
    "duration": 6705,
    "start_time": "2023-10-26T11:35:53.950Z"
   },
   {
    "duration": 3,
    "start_time": "2023-10-26T11:36:00.725Z"
   },
   {
    "duration": 216,
    "start_time": "2023-10-26T11:36:00.729Z"
   },
   {
    "duration": 4115,
    "start_time": "2023-10-26T11:36:00.947Z"
   },
   {
    "duration": 2964,
    "start_time": "2023-10-26T11:36:05.064Z"
   },
   {
    "duration": 105,
    "start_time": "2023-10-26T11:36:08.029Z"
   },
   {
    "duration": 12,
    "start_time": "2023-10-26T11:36:08.137Z"
   },
   {
    "duration": 4783,
    "start_time": "2023-10-26T11:36:08.151Z"
   },
   {
    "duration": 29,
    "start_time": "2023-10-26T11:36:12.935Z"
   },
   {
    "duration": 3589,
    "start_time": "2023-10-26T11:36:12.966Z"
   },
   {
    "duration": 73,
    "start_time": "2023-10-26T11:36:16.556Z"
   },
   {
    "duration": 10309,
    "start_time": "2023-10-26T11:36:16.630Z"
   },
   {
    "duration": 3,
    "start_time": "2023-10-26T11:36:26.942Z"
   },
   {
    "duration": 81,
    "start_time": "2023-10-26T11:36:26.947Z"
   },
   {
    "duration": 43,
    "start_time": "2023-10-26T11:36:27.030Z"
   },
   {
    "duration": 9952,
    "start_time": "2023-10-26T11:36:27.075Z"
   },
   {
    "duration": 97,
    "start_time": "2023-10-26T11:36:37.029Z"
   },
   {
    "duration": 5,
    "start_time": "2023-10-26T11:36:37.127Z"
   },
   {
    "duration": 26,
    "start_time": "2023-10-26T11:36:37.134Z"
   },
   {
    "duration": 14,
    "start_time": "2023-10-26T11:36:37.162Z"
   },
   {
    "duration": 5,
    "start_time": "2023-10-26T11:36:37.177Z"
   },
   {
    "duration": 105985,
    "start_time": "2023-10-26T11:36:37.183Z"
   },
   {
    "duration": 274,
    "start_time": "2023-10-26T11:38:23.170Z"
   },
   {
    "duration": 3,
    "start_time": "2023-10-26T11:38:23.446Z"
   },
   {
    "duration": 7,
    "start_time": "2023-10-26T11:38:23.450Z"
   },
   {
    "duration": 19,
    "start_time": "2023-10-26T11:38:23.458Z"
   },
   {
    "duration": 51,
    "start_time": "2023-10-26T11:38:23.478Z"
   },
   {
    "duration": 9409,
    "start_time": "2023-10-26T11:38:23.531Z"
   },
   {
    "duration": 3005,
    "start_time": "2023-10-26T11:38:32.942Z"
   },
   {
    "duration": 59816,
    "start_time": "2023-10-26T11:38:35.949Z"
   },
   {
    "duration": 7368,
    "start_time": "2023-10-26T11:39:35.766Z"
   },
   {
    "duration": 9,
    "start_time": "2023-10-26T11:39:43.135Z"
   },
   {
    "duration": 381,
    "start_time": "2023-10-26T11:39:43.146Z"
   },
   {
    "duration": 5815,
    "start_time": "2023-10-26T11:39:43.531Z"
   },
   {
    "duration": 76,
    "start_time": "2023-10-26T11:39:49.348Z"
   },
   {
    "duration": 2,
    "start_time": "2023-10-26T11:39:49.428Z"
   },
   {
    "duration": 2501,
    "start_time": "2023-10-26T11:39:49.432Z"
   },
   {
    "duration": 12,
    "start_time": "2023-10-26T11:39:51.935Z"
   },
   {
    "duration": 2783,
    "start_time": "2023-10-26T11:39:51.948Z"
   },
   {
    "duration": 11,
    "start_time": "2023-10-26T11:39:54.733Z"
   },
   {
    "duration": 786,
    "start_time": "2023-10-26T11:39:54.746Z"
   },
   {
    "duration": 5,
    "start_time": "2023-10-26T11:39:55.534Z"
   },
   {
    "duration": 138,
    "start_time": "2023-10-26T11:39:55.540Z"
   },
   {
    "duration": 0,
    "start_time": "2023-10-26T11:39:55.680Z"
   },
   {
    "duration": 0,
    "start_time": "2023-10-26T11:39:55.681Z"
   },
   {
    "duration": 6,
    "start_time": "2023-10-26T11:53:43.823Z"
   },
   {
    "duration": 343,
    "start_time": "2023-10-26T11:53:43.831Z"
   },
   {
    "duration": 200,
    "start_time": "2023-10-26T11:53:44.176Z"
   },
   {
    "duration": 46,
    "start_time": "2023-10-26T11:53:44.378Z"
   },
   {
    "duration": 245,
    "start_time": "2023-10-26T11:53:44.426Z"
   },
   {
    "duration": 1078,
    "start_time": "2023-10-26T11:53:44.673Z"
   },
   {
    "duration": 227,
    "start_time": "2023-10-26T11:53:45.754Z"
   },
   {
    "duration": 1877,
    "start_time": "2023-10-26T11:53:45.983Z"
   },
   {
    "duration": 2,
    "start_time": "2023-10-26T11:53:47.862Z"
   },
   {
    "duration": 63,
    "start_time": "2023-10-26T11:53:47.867Z"
   },
   {
    "duration": 1863,
    "start_time": "2023-10-26T11:53:47.932Z"
   },
   {
    "duration": 835,
    "start_time": "2023-10-26T11:53:49.797Z"
   },
   {
    "duration": 25,
    "start_time": "2023-10-26T11:53:50.634Z"
   },
   {
    "duration": 78,
    "start_time": "2023-10-26T11:53:50.661Z"
   },
   {
    "duration": 2113,
    "start_time": "2023-10-26T11:53:50.741Z"
   },
   {
    "duration": 68,
    "start_time": "2023-10-26T11:53:52.856Z"
   },
   {
    "duration": 1454,
    "start_time": "2023-10-26T11:53:52.927Z"
   },
   {
    "duration": 8,
    "start_time": "2023-10-26T11:53:54.425Z"
   },
   {
    "duration": 5557,
    "start_time": "2023-10-26T11:53:54.434Z"
   },
   {
    "duration": 2,
    "start_time": "2023-10-26T11:54:00.025Z"
   },
   {
    "duration": 61,
    "start_time": "2023-10-26T11:54:00.029Z"
   },
   {
    "duration": 134,
    "start_time": "2023-10-26T11:54:00.092Z"
   },
   {
    "duration": 5270,
    "start_time": "2023-10-26T11:54:00.228Z"
   },
   {
    "duration": 14,
    "start_time": "2023-10-26T11:54:05.523Z"
   },
   {
    "duration": 321,
    "start_time": "2023-10-26T11:54:05.539Z"
   },
   {
    "duration": 190,
    "start_time": "2023-10-26T11:54:05.862Z"
   },
   {
    "duration": 75,
    "start_time": "2023-10-26T11:54:06.053Z"
   },
   {
    "duration": 203,
    "start_time": "2023-10-26T11:54:06.131Z"
   },
   {
    "duration": 74143,
    "start_time": "2023-10-26T11:54:06.336Z"
   },
   {
    "duration": 179,
    "start_time": "2023-10-26T11:55:20.480Z"
   },
   {
    "duration": 3,
    "start_time": "2023-10-26T11:55:20.660Z"
   },
   {
    "duration": 119,
    "start_time": "2023-10-26T11:55:20.665Z"
   },
   {
    "duration": 117,
    "start_time": "2023-10-26T11:55:20.786Z"
   },
   {
    "duration": 32,
    "start_time": "2023-10-26T11:55:20.905Z"
   },
   {
    "duration": 7046,
    "start_time": "2023-10-26T11:55:20.938Z"
   },
   {
    "duration": 2270,
    "start_time": "2023-10-26T11:55:27.985Z"
   },
   {
    "duration": 58190,
    "start_time": "2023-10-26T11:55:30.257Z"
   },
   {
    "duration": 6904,
    "start_time": "2023-10-26T11:56:28.448Z"
   },
   {
    "duration": 9,
    "start_time": "2023-10-26T11:56:35.354Z"
   },
   {
    "duration": 301,
    "start_time": "2023-10-26T11:56:35.364Z"
   },
   {
    "duration": 0,
    "start_time": "2023-10-26T11:56:35.667Z"
   },
   {
    "duration": 0,
    "start_time": "2023-10-26T11:56:35.669Z"
   },
   {
    "duration": 0,
    "start_time": "2023-10-26T11:56:35.669Z"
   },
   {
    "duration": 0,
    "start_time": "2023-10-26T11:56:35.671Z"
   },
   {
    "duration": 0,
    "start_time": "2023-10-26T11:56:35.672Z"
   },
   {
    "duration": 0,
    "start_time": "2023-10-26T11:56:35.674Z"
   },
   {
    "duration": 0,
    "start_time": "2023-10-26T11:56:35.675Z"
   },
   {
    "duration": 7,
    "start_time": "2023-10-26T11:57:32.731Z"
   },
   {
    "duration": 16,
    "start_time": "2023-10-26T11:57:33.149Z"
   },
   {
    "duration": 7205,
    "start_time": "2023-10-26T11:58:05.821Z"
   },
   {
    "duration": 6914,
    "start_time": "2023-10-26T11:58:13.324Z"
   },
   {
    "duration": 8,
    "start_time": "2023-10-26T11:58:20.240Z"
   },
   {
    "duration": 5,
    "start_time": "2023-10-26T11:58:23.172Z"
   },
   {
    "duration": 7,
    "start_time": "2023-10-26T11:58:32.813Z"
   },
   {
    "duration": 293,
    "start_time": "2023-10-26T11:58:48.238Z"
   },
   {
    "duration": 7,
    "start_time": "2023-10-26T11:59:20.611Z"
   },
   {
    "duration": 292,
    "start_time": "2023-10-26T11:59:21.739Z"
   },
   {
    "duration": 7,
    "start_time": "2023-10-26T12:00:19.787Z"
   },
   {
    "duration": 294,
    "start_time": "2023-10-26T12:00:20.699Z"
   },
   {
    "duration": 6,
    "start_time": "2023-10-26T12:00:55.707Z"
   },
   {
    "duration": 292,
    "start_time": "2023-10-26T12:00:56.602Z"
   },
   {
    "duration": 5,
    "start_time": "2023-10-26T12:01:17.906Z"
   },
   {
    "duration": 166,
    "start_time": "2023-10-26T12:01:18.842Z"
   },
   {
    "duration": 5,
    "start_time": "2023-10-26T12:01:48.354Z"
   },
   {
    "duration": 244,
    "start_time": "2023-10-26T12:01:48.962Z"
   },
   {
    "duration": 6,
    "start_time": "2023-10-26T12:02:07.819Z"
   },
   {
    "duration": 260,
    "start_time": "2023-10-26T12:02:08.530Z"
   },
   {
    "duration": 6,
    "start_time": "2023-10-26T12:03:08.805Z"
   },
   {
    "duration": 206,
    "start_time": "2023-10-26T12:03:09.399Z"
   },
   {
    "duration": 6,
    "start_time": "2023-10-26T12:05:04.736Z"
   },
   {
    "duration": 269,
    "start_time": "2023-10-26T12:05:05.488Z"
   },
   {
    "duration": 6,
    "start_time": "2023-10-26T12:05:20.176Z"
   },
   {
    "duration": 162,
    "start_time": "2023-10-26T12:05:20.871Z"
   },
   {
    "duration": 5,
    "start_time": "2023-10-26T12:05:34.531Z"
   },
   {
    "duration": 238,
    "start_time": "2023-10-26T12:05:35.192Z"
   },
   {
    "duration": 6,
    "start_time": "2023-10-26T12:05:54.608Z"
   },
   {
    "duration": 272,
    "start_time": "2023-10-26T12:05:55.142Z"
   },
   {
    "duration": 7,
    "start_time": "2023-10-26T12:08:31.150Z"
   },
   {
    "duration": 289,
    "start_time": "2023-10-26T12:08:31.766Z"
   },
   {
    "duration": 111,
    "start_time": "2023-10-26T12:09:14.710Z"
   },
   {
    "duration": 759,
    "start_time": "2023-10-26T12:09:15.389Z"
   },
   {
    "duration": 6,
    "start_time": "2023-10-26T12:09:48.349Z"
   },
   {
    "duration": 26,
    "start_time": "2023-10-26T12:09:49.117Z"
   },
   {
    "duration": 5,
    "start_time": "2023-10-26T12:10:01.614Z"
   },
   {
    "duration": 715,
    "start_time": "2023-10-26T12:10:02.029Z"
   },
   {
    "duration": 5,
    "start_time": "2023-10-26T12:10:11.374Z"
   },
   {
    "duration": 275,
    "start_time": "2023-10-26T12:10:11.788Z"
   },
   {
    "duration": 6,
    "start_time": "2023-10-26T12:10:44.984Z"
   },
   {
    "duration": 232,
    "start_time": "2023-10-26T12:10:44.992Z"
   },
   {
    "duration": 6,
    "start_time": "2023-10-26T12:11:13.316Z"
   },
   {
    "duration": 30,
    "start_time": "2023-10-26T12:11:13.892Z"
   },
   {
    "duration": 5,
    "start_time": "2023-10-26T12:11:29.244Z"
   },
   {
    "duration": 213,
    "start_time": "2023-10-26T12:11:29.700Z"
   },
   {
    "duration": 7,
    "start_time": "2023-10-26T12:11:54.877Z"
   },
   {
    "duration": 27,
    "start_time": "2023-10-26T12:11:55.363Z"
   },
   {
    "duration": 5,
    "start_time": "2023-10-26T12:13:38.187Z"
   },
   {
    "duration": 361,
    "start_time": "2023-10-26T12:13:38.803Z"
   },
   {
    "duration": 5,
    "start_time": "2023-10-26T12:13:53.816Z"
   },
   {
    "duration": 311,
    "start_time": "2023-10-26T12:13:54.658Z"
   },
   {
    "duration": 5,
    "start_time": "2023-10-26T12:14:34.088Z"
   },
   {
    "duration": 37,
    "start_time": "2023-10-26T12:14:34.095Z"
   },
   {
    "duration": 7,
    "start_time": "2023-10-26T12:14:43.266Z"
   },
   {
    "duration": 193,
    "start_time": "2023-10-26T12:14:43.962Z"
   },
   {
    "duration": 5,
    "start_time": "2023-10-26T12:16:16.682Z"
   },
   {
    "duration": 218,
    "start_time": "2023-10-26T12:16:17.513Z"
   },
   {
    "duration": 5,
    "start_time": "2023-10-26T12:17:04.617Z"
   },
   {
    "duration": 175,
    "start_time": "2023-10-26T12:17:04.932Z"
   },
   {
    "duration": 6,
    "start_time": "2023-10-26T12:17:29.155Z"
   },
   {
    "duration": 158,
    "start_time": "2023-10-26T12:17:29.472Z"
   },
   {
    "duration": 5,
    "start_time": "2023-10-26T12:19:20.736Z"
   },
   {
    "duration": 184,
    "start_time": "2023-10-26T12:19:21.511Z"
   },
   {
    "duration": 5,
    "start_time": "2023-10-26T12:19:36.096Z"
   },
   {
    "duration": 219,
    "start_time": "2023-10-26T12:19:36.783Z"
   },
   {
    "duration": 5,
    "start_time": "2023-10-26T12:20:01.394Z"
   },
   {
    "duration": 205,
    "start_time": "2023-10-26T12:20:01.911Z"
   },
   {
    "duration": 5,
    "start_time": "2023-10-26T12:20:31.328Z"
   },
   {
    "duration": 196,
    "start_time": "2023-10-26T12:20:32.079Z"
   },
   {
    "duration": 5,
    "start_time": "2023-10-26T12:20:52.903Z"
   },
   {
    "duration": 320,
    "start_time": "2023-10-26T12:20:53.319Z"
   },
   {
    "duration": 5,
    "start_time": "2023-10-26T12:21:01.631Z"
   },
   {
    "duration": 192,
    "start_time": "2023-10-26T12:21:02.162Z"
   },
   {
    "duration": 5,
    "start_time": "2023-10-26T12:21:39.067Z"
   },
   {
    "duration": 198,
    "start_time": "2023-10-26T12:21:39.465Z"
   },
   {
    "duration": 5,
    "start_time": "2023-10-26T12:22:08.168Z"
   },
   {
    "duration": 239,
    "start_time": "2023-10-26T12:22:08.646Z"
   },
   {
    "duration": 10,
    "start_time": "2023-10-26T12:27:35.325Z"
   },
   {
    "duration": 328,
    "start_time": "2023-10-26T12:27:36.069Z"
   },
   {
    "duration": 6,
    "start_time": "2023-10-26T12:27:55.086Z"
   },
   {
    "duration": 275,
    "start_time": "2023-10-26T12:27:55.094Z"
   },
   {
    "duration": 6,
    "start_time": "2023-10-26T12:28:17.160Z"
   },
   {
    "duration": 239,
    "start_time": "2023-10-26T12:28:17.588Z"
   },
   {
    "duration": 5,
    "start_time": "2023-10-26T12:28:34.507Z"
   },
   {
    "duration": 768,
    "start_time": "2023-10-26T12:28:35.283Z"
   },
   {
    "duration": 6,
    "start_time": "2023-10-26T12:28:57.251Z"
   },
   {
    "duration": 501,
    "start_time": "2023-10-26T12:28:57.842Z"
   },
   {
    "duration": 5,
    "start_time": "2023-10-26T12:29:21.578Z"
   },
   {
    "duration": 802,
    "start_time": "2023-10-26T12:29:22.130Z"
   },
   {
    "duration": 5,
    "start_time": "2023-10-26T12:29:36.658Z"
   },
   {
    "duration": 234,
    "start_time": "2023-10-26T12:29:36.980Z"
   },
   {
    "duration": 5,
    "start_time": "2023-10-26T12:29:53.634Z"
   },
   {
    "duration": 232,
    "start_time": "2023-10-26T12:29:54.234Z"
   },
   {
    "duration": 6,
    "start_time": "2023-10-26T12:31:26.130Z"
   },
   {
    "duration": 14,
    "start_time": "2023-10-26T12:31:26.842Z"
   },
   {
    "duration": 6,
    "start_time": "2023-10-26T12:31:35.586Z"
   },
   {
    "duration": 246,
    "start_time": "2023-10-26T12:31:36.002Z"
   },
   {
    "duration": 6,
    "start_time": "2023-10-26T12:31:47.667Z"
   },
   {
    "duration": 249,
    "start_time": "2023-10-26T12:31:48.817Z"
   },
   {
    "duration": 111,
    "start_time": "2023-10-26T12:32:55.501Z"
   },
   {
    "duration": 255,
    "start_time": "2023-10-26T12:32:56.415Z"
   },
   {
    "duration": 6,
    "start_time": "2023-10-26T12:33:14.442Z"
   },
   {
    "duration": 399,
    "start_time": "2023-10-26T12:33:14.999Z"
   },
   {
    "duration": 7,
    "start_time": "2023-10-26T12:33:57.345Z"
   },
   {
    "duration": 385,
    "start_time": "2023-10-26T12:33:57.658Z"
   },
   {
    "duration": 6,
    "start_time": "2023-10-26T12:35:48.514Z"
   },
   {
    "duration": 441,
    "start_time": "2023-10-26T12:35:49.034Z"
   },
   {
    "duration": 5,
    "start_time": "2023-10-26T12:36:07.242Z"
   },
   {
    "duration": 400,
    "start_time": "2023-10-26T12:36:07.698Z"
   },
   {
    "duration": 5,
    "start_time": "2023-10-26T12:36:31.181Z"
   },
   {
    "duration": 393,
    "start_time": "2023-10-26T12:36:31.689Z"
   },
   {
    "duration": 5,
    "start_time": "2023-10-26T12:38:32.442Z"
   },
   {
    "duration": 450,
    "start_time": "2023-10-26T12:38:33.410Z"
   },
   {
    "duration": 7,
    "start_time": "2023-10-26T12:40:44.530Z"
   },
   {
    "duration": 297,
    "start_time": "2023-10-26T12:40:45.322Z"
   },
   {
    "duration": 7,
    "start_time": "2023-10-26T12:40:57.448Z"
   },
   {
    "duration": 355,
    "start_time": "2023-10-26T12:40:57.457Z"
   },
   {
    "duration": 135,
    "start_time": "2023-10-26T12:41:51.617Z"
   },
   {
    "duration": 331,
    "start_time": "2023-10-26T12:41:52.114Z"
   },
   {
    "duration": 5,
    "start_time": "2023-10-26T12:42:12.849Z"
   },
   {
    "duration": 297,
    "start_time": "2023-10-26T12:42:12.856Z"
   },
   {
    "duration": 7,
    "start_time": "2023-10-26T12:43:17.310Z"
   },
   {
    "duration": 266,
    "start_time": "2023-10-26T12:43:17.721Z"
   },
   {
    "duration": 10,
    "start_time": "2023-10-26T12:45:06.727Z"
   },
   {
    "duration": 286,
    "start_time": "2023-10-26T12:45:06.795Z"
   },
   {
    "duration": 7,
    "start_time": "2023-10-26T12:45:21.931Z"
   },
   {
    "duration": 259,
    "start_time": "2023-10-26T12:45:22.199Z"
   },
   {
    "duration": 10,
    "start_time": "2023-10-26T12:45:34.128Z"
   },
   {
    "duration": 276,
    "start_time": "2023-10-26T12:45:34.796Z"
   },
   {
    "duration": 107,
    "start_time": "2023-10-26T12:45:59.395Z"
   },
   {
    "duration": 299,
    "start_time": "2023-10-26T12:45:59.952Z"
   },
   {
    "duration": 6,
    "start_time": "2023-10-26T12:46:05.772Z"
   },
   {
    "duration": 259,
    "start_time": "2023-10-26T12:46:06.201Z"
   },
   {
    "duration": 7,
    "start_time": "2023-10-26T12:46:35.112Z"
   },
   {
    "duration": 358,
    "start_time": "2023-10-26T12:46:35.625Z"
   },
   {
    "duration": 10,
    "start_time": "2023-10-26T12:46:59.721Z"
   },
   {
    "duration": 224,
    "start_time": "2023-10-26T12:47:00.256Z"
   },
   {
    "duration": 6,
    "start_time": "2023-10-26T12:47:29.684Z"
   },
   {
    "duration": 272,
    "start_time": "2023-10-26T12:47:30.044Z"
   },
   {
    "duration": 6,
    "start_time": "2023-10-26T12:48:13.076Z"
   },
   {
    "duration": 243,
    "start_time": "2023-10-26T12:48:13.528Z"
   },
   {
    "duration": 9,
    "start_time": "2023-10-26T12:50:06.807Z"
   },
   {
    "duration": 9102,
    "start_time": "2023-10-26T12:50:57.310Z"
   },
   {
    "duration": 7833,
    "start_time": "2023-10-26T12:51:07.296Z"
   },
   {
    "duration": 13,
    "start_time": "2023-10-26T12:51:17.031Z"
   },
   {
    "duration": 12,
    "start_time": "2023-10-26T12:51:53.447Z"
   },
   {
    "duration": 9,
    "start_time": "2023-10-26T12:51:59.701Z"
   },
   {
    "duration": 5377,
    "start_time": "2023-10-26T12:52:06.414Z"
   },
   {
    "duration": 8,
    "start_time": "2023-10-26T12:52:17.950Z"
   },
   {
    "duration": 6520,
    "start_time": "2023-10-26T12:52:20.437Z"
   },
   {
    "duration": 791,
    "start_time": "2023-10-26T12:52:30.037Z"
   },
   {
    "duration": 12,
    "start_time": "2023-10-26T12:52:52.693Z"
   },
   {
    "duration": 5555,
    "start_time": "2023-10-26T12:53:12.725Z"
   },
   {
    "duration": 121,
    "start_time": "2023-10-26T12:54:06.090Z"
   },
   {
    "duration": 5787,
    "start_time": "2023-10-26T12:54:13.793Z"
   },
   {
    "duration": 6569,
    "start_time": "2023-10-26T12:54:41.797Z"
   },
   {
    "duration": 5918,
    "start_time": "2023-10-26T12:54:59.918Z"
   },
   {
    "duration": 6348,
    "start_time": "2023-10-26T12:55:13.814Z"
   },
   {
    "duration": 5757,
    "start_time": "2023-10-26T12:55:30.098Z"
   },
   {
    "duration": 5571,
    "start_time": "2023-10-26T12:56:28.803Z"
   },
   {
    "duration": 12,
    "start_time": "2023-10-26T13:19:50.468Z"
   },
   {
    "duration": 8,
    "start_time": "2023-10-26T13:22:40.705Z"
   },
   {
    "duration": 10,
    "start_time": "2023-10-26T13:22:41.642Z"
   },
   {
    "duration": 4593,
    "start_time": "2023-10-26T13:22:42.593Z"
   },
   {
    "duration": 4,
    "start_time": "2023-10-26T13:22:47.188Z"
   },
   {
    "duration": 6528,
    "start_time": "2023-10-26T13:22:51.483Z"
   },
   {
    "duration": 752,
    "start_time": "2023-10-26T13:22:59.993Z"
   },
   {
    "duration": 5,
    "start_time": "2023-10-26T13:23:51.085Z"
   },
   {
    "duration": 10,
    "start_time": "2023-10-26T13:23:52.242Z"
   },
   {
    "duration": 4492,
    "start_time": "2023-10-26T13:23:53.450Z"
   },
   {
    "duration": 5,
    "start_time": "2023-10-26T13:23:57.944Z"
   },
   {
    "duration": 6229,
    "start_time": "2023-10-26T13:24:00.932Z"
   },
   {
    "duration": 832,
    "start_time": "2023-10-26T13:24:11.113Z"
   },
   {
    "duration": 13,
    "start_time": "2023-10-26T13:55:59.022Z"
   },
   {
    "duration": 12,
    "start_time": "2023-10-26T13:56:23.844Z"
   },
   {
    "duration": 8,
    "start_time": "2023-10-26T14:34:43.570Z"
   },
   {
    "duration": 371,
    "start_time": "2023-10-26T14:34:43.579Z"
   },
   {
    "duration": 199,
    "start_time": "2023-10-26T14:34:43.952Z"
   },
   {
    "duration": 8,
    "start_time": "2023-10-26T14:34:44.153Z"
   },
   {
    "duration": 174,
    "start_time": "2023-10-26T14:34:44.163Z"
   },
   {
    "duration": 1000,
    "start_time": "2023-10-26T14:34:44.338Z"
   },
   {
    "duration": 194,
    "start_time": "2023-10-26T14:34:45.340Z"
   },
   {
    "duration": 1907,
    "start_time": "2023-10-26T14:34:45.536Z"
   },
   {
    "duration": 22,
    "start_time": "2023-10-26T14:34:47.445Z"
   },
   {
    "duration": 1890,
    "start_time": "2023-10-26T14:34:47.469Z"
   },
   {
    "duration": 872,
    "start_time": "2023-10-26T14:34:49.360Z"
   },
   {
    "duration": 30,
    "start_time": "2023-10-26T14:34:50.235Z"
   },
   {
    "duration": 63,
    "start_time": "2023-10-26T14:34:50.268Z"
   },
   {
    "duration": 1708,
    "start_time": "2023-10-26T14:34:50.337Z"
   },
   {
    "duration": 83,
    "start_time": "2023-10-26T14:34:52.047Z"
   },
   {
    "duration": 1538,
    "start_time": "2023-10-26T14:34:52.132Z"
   },
   {
    "duration": 7,
    "start_time": "2023-10-26T14:34:53.672Z"
   },
   {
    "duration": 4420,
    "start_time": "2023-10-26T14:34:53.681Z"
   },
   {
    "duration": 5353,
    "start_time": "2023-10-26T14:34:58.103Z"
   },
   {
    "duration": 12,
    "start_time": "2023-10-26T14:35:03.458Z"
   },
   {
    "duration": 447,
    "start_time": "2023-10-26T14:35:03.471Z"
   },
   {
    "duration": 158,
    "start_time": "2023-10-26T14:35:03.921Z"
   },
   {
    "duration": 324,
    "start_time": "2023-10-26T14:35:04.082Z"
   },
   {
    "duration": 465,
    "start_time": "2023-10-26T14:35:04.408Z"
   },
   {
    "duration": 82855,
    "start_time": "2023-10-26T14:35:04.877Z"
   },
   {
    "duration": 127,
    "start_time": "2023-10-26T14:36:27.734Z"
   },
   {
    "duration": 7,
    "start_time": "2023-10-26T14:36:27.864Z"
   },
   {
    "duration": 7984,
    "start_time": "2023-10-26T14:36:27.873Z"
   },
   {
    "duration": 63424,
    "start_time": "2023-10-26T14:36:35.859Z"
   },
   {
    "duration": 7171,
    "start_time": "2023-10-26T14:37:39.285Z"
   },
   {
    "duration": 9,
    "start_time": "2023-10-26T14:37:46.458Z"
   },
   {
    "duration": 61,
    "start_time": "2023-10-26T14:37:46.471Z"
   },
   {
    "duration": 4491,
    "start_time": "2023-10-26T14:37:46.534Z"
   },
   {
    "duration": 5,
    "start_time": "2023-10-26T14:37:51.027Z"
   },
   {
    "duration": 6434,
    "start_time": "2023-10-26T14:37:51.033Z"
   },
   {
    "duration": 829,
    "start_time": "2023-10-26T14:37:57.468Z"
   },
   {
    "duration": 11,
    "start_time": "2023-10-26T14:37:58.299Z"
   },
   {
    "duration": 4771,
    "start_time": "2023-10-26T14:37:58.313Z"
   },
   {
    "duration": 10,
    "start_time": "2023-10-26T14:46:18.292Z"
   },
   {
    "duration": 17,
    "start_time": "2023-10-26T14:46:18.837Z"
   },
   {
    "duration": 4669,
    "start_time": "2023-10-26T14:46:19.805Z"
   },
   {
    "duration": 49,
    "start_time": "2023-10-26T14:46:24.476Z"
   },
   {
    "duration": 6283,
    "start_time": "2023-10-26T14:46:26.524Z"
   },
   {
    "duration": 696,
    "start_time": "2023-10-26T14:46:34.612Z"
   },
   {
    "duration": 7,
    "start_time": "2023-10-26T14:47:24.168Z"
   },
   {
    "duration": 59,
    "start_time": "2023-10-26T14:47:24.178Z"
   },
   {
    "duration": 4367,
    "start_time": "2023-10-26T14:47:25.004Z"
   },
   {
    "duration": 5,
    "start_time": "2023-10-26T14:47:29.373Z"
   },
   {
    "duration": 6233,
    "start_time": "2023-10-26T14:47:32.244Z"
   },
   {
    "duration": 744,
    "start_time": "2023-10-26T14:47:39.459Z"
   },
   {
    "duration": 7,
    "start_time": "2023-10-26T14:48:23.420Z"
   },
   {
    "duration": 13,
    "start_time": "2023-10-26T14:48:23.755Z"
   },
   {
    "duration": 4053,
    "start_time": "2023-10-26T14:48:24.627Z"
   },
   {
    "duration": 7,
    "start_time": "2023-10-26T14:48:28.682Z"
   },
   {
    "duration": 6109,
    "start_time": "2023-10-26T14:48:28.690Z"
   },
   {
    "duration": 903,
    "start_time": "2023-10-26T14:48:37.810Z"
   },
   {
    "duration": 7,
    "start_time": "2023-10-26T14:49:07.925Z"
   },
   {
    "duration": 13,
    "start_time": "2023-10-26T14:49:09.267Z"
   },
   {
    "duration": 4123,
    "start_time": "2023-10-26T14:49:10.203Z"
   },
   {
    "duration": 5,
    "start_time": "2023-10-26T14:49:14.328Z"
   },
   {
    "duration": 5975,
    "start_time": "2023-10-26T14:49:16.507Z"
   },
   {
    "duration": 735,
    "start_time": "2023-10-26T14:49:22.995Z"
   },
   {
    "duration": 8,
    "start_time": "2023-10-26T14:50:19.565Z"
   },
   {
    "duration": 14,
    "start_time": "2023-10-26T14:50:20.118Z"
   },
   {
    "duration": 4101,
    "start_time": "2023-10-26T14:50:21.450Z"
   },
   {
    "duration": 5,
    "start_time": "2023-10-26T14:50:25.554Z"
   },
   {
    "duration": 6094,
    "start_time": "2023-10-26T14:50:26.331Z"
   },
   {
    "duration": 769,
    "start_time": "2023-10-26T14:50:32.955Z"
   },
   {
    "duration": 115,
    "start_time": "2023-10-26T14:51:32.091Z"
   },
   {
    "duration": 797,
    "start_time": "2023-10-26T14:51:33.338Z"
   },
   {
    "duration": 7,
    "start_time": "2023-10-26T14:52:45.784Z"
   },
   {
    "duration": 775,
    "start_time": "2023-10-26T14:52:46.170Z"
   },
   {
    "duration": 8,
    "start_time": "2023-10-26T14:53:33.430Z"
   },
   {
    "duration": 698,
    "start_time": "2023-10-26T14:53:33.922Z"
   },
   {
    "duration": 7,
    "start_time": "2023-10-26T14:53:57.585Z"
   },
   {
    "duration": 764,
    "start_time": "2023-10-26T14:53:58.776Z"
   },
   {
    "duration": 123,
    "start_time": "2023-10-26T14:54:37.585Z"
   },
   {
    "duration": 702,
    "start_time": "2023-10-26T14:54:38.632Z"
   },
   {
    "duration": 9,
    "start_time": "2023-10-26T14:56:53.416Z"
   },
   {
    "duration": 856,
    "start_time": "2023-10-26T14:56:54.282Z"
   },
   {
    "duration": 17246,
    "start_time": "2023-10-26T14:57:20.379Z"
   },
   {
    "duration": 8912,
    "start_time": "2023-10-26T14:57:37.628Z"
   },
   {
    "duration": 1118,
    "start_time": "2023-10-26T14:57:46.542Z"
   },
   {
    "duration": 68,
    "start_time": "2023-10-26T14:57:47.662Z"
   },
   {
    "duration": 723,
    "start_time": "2023-10-26T14:57:47.733Z"
   },
   {
    "duration": 4086,
    "start_time": "2023-10-26T14:57:48.457Z"
   },
   {
    "duration": 421,
    "start_time": "2023-10-26T14:57:52.545Z"
   },
   {
    "duration": 6832,
    "start_time": "2023-10-26T14:57:53.023Z"
   },
   {
    "duration": 116,
    "start_time": "2023-10-26T14:57:59.924Z"
   },
   {
    "duration": 4682,
    "start_time": "2023-10-26T14:58:00.042Z"
   },
   {
    "duration": 2928,
    "start_time": "2023-10-26T14:58:04.726Z"
   },
   {
    "duration": 173,
    "start_time": "2023-10-26T14:58:07.656Z"
   },
   {
    "duration": 59,
    "start_time": "2023-10-26T14:58:07.831Z"
   },
   {
    "duration": 4846,
    "start_time": "2023-10-26T14:58:07.894Z"
   },
   {
    "duration": 82,
    "start_time": "2023-10-26T14:58:12.742Z"
   },
   {
    "duration": 3615,
    "start_time": "2023-10-26T14:58:12.826Z"
   },
   {
    "duration": 12,
    "start_time": "2023-10-26T14:58:16.442Z"
   },
   {
    "duration": 9693,
    "start_time": "2023-10-26T14:58:16.455Z"
   },
   {
    "duration": 11500,
    "start_time": "2023-10-26T14:58:26.150Z"
   },
   {
    "duration": 189,
    "start_time": "2023-10-26T14:58:37.653Z"
   },
   {
    "duration": 11,
    "start_time": "2023-10-26T14:58:37.845Z"
   },
   {
    "duration": 81,
    "start_time": "2023-10-26T14:58:37.857Z"
   },
   {
    "duration": 30,
    "start_time": "2023-10-26T14:58:37.939Z"
   },
   {
    "duration": 149,
    "start_time": "2023-10-26T14:58:37.971Z"
   },
   {
    "duration": 125955,
    "start_time": "2023-10-26T14:58:38.125Z"
   },
   {
    "duration": 247,
    "start_time": "2023-10-26T15:00:44.082Z"
   },
   {
    "duration": 14,
    "start_time": "2023-10-26T15:00:44.331Z"
   },
   {
    "duration": 10940,
    "start_time": "2023-10-26T15:00:44.347Z"
   },
   {
    "duration": 68438,
    "start_time": "2023-10-26T15:00:55.290Z"
   },
   {
    "duration": 7764,
    "start_time": "2023-10-26T15:02:03.730Z"
   },
   {
    "duration": 28,
    "start_time": "2023-10-26T15:02:11.496Z"
   },
   {
    "duration": 114,
    "start_time": "2023-10-26T15:02:11.526Z"
   },
   {
    "duration": 0,
    "start_time": "2023-10-26T15:02:11.641Z"
   },
   {
    "duration": 0,
    "start_time": "2023-10-26T15:02:11.643Z"
   },
   {
    "duration": 0,
    "start_time": "2023-10-26T15:02:11.645Z"
   },
   {
    "duration": 0,
    "start_time": "2023-10-26T15:02:11.646Z"
   },
   {
    "duration": 0,
    "start_time": "2023-10-26T15:02:11.647Z"
   },
   {
    "duration": 0,
    "start_time": "2023-10-26T15:02:11.648Z"
   },
   {
    "duration": 0,
    "start_time": "2023-10-26T15:02:11.649Z"
   },
   {
    "duration": 2,
    "start_time": "2023-10-26T15:02:26.686Z"
   },
   {
    "duration": 14,
    "start_time": "2023-10-26T15:02:27.317Z"
   },
   {
    "duration": 5003,
    "start_time": "2023-10-26T15:02:28.638Z"
   },
   {
    "duration": 7,
    "start_time": "2023-10-26T15:02:33.643Z"
   },
   {
    "duration": 6207,
    "start_time": "2023-10-26T15:02:36.109Z"
   },
   {
    "duration": 821,
    "start_time": "2023-10-26T15:02:44.653Z"
   },
   {
    "duration": 37,
    "start_time": "2023-10-26T15:05:34.394Z"
   },
   {
    "duration": 12,
    "start_time": "2023-10-26T15:06:11.660Z"
   },
   {
    "duration": 1033,
    "start_time": "2023-10-26T15:06:46.820Z"
   },
   {
    "duration": 2025,
    "start_time": "2023-10-26T15:07:28.228Z"
   },
   {
    "duration": 978,
    "start_time": "2023-10-26T15:07:43.059Z"
   },
   {
    "duration": 10,
    "start_time": "2023-10-26T15:14:30.680Z"
   },
   {
    "duration": 5,
    "start_time": "2023-10-26T15:14:56.465Z"
   },
   {
    "duration": 5,
    "start_time": "2023-10-26T15:15:15.640Z"
   },
   {
    "duration": 5,
    "start_time": "2023-10-26T15:15:28.688Z"
   },
   {
    "duration": 7,
    "start_time": "2023-10-26T15:15:50.473Z"
   },
   {
    "duration": 5,
    "start_time": "2023-10-26T15:15:57.183Z"
   },
   {
    "duration": 6,
    "start_time": "2023-10-26T15:16:10.513Z"
   },
   {
    "duration": 6,
    "start_time": "2023-10-26T15:16:33.870Z"
   },
   {
    "duration": 6,
    "start_time": "2023-10-26T15:16:46.927Z"
   },
   {
    "duration": 6,
    "start_time": "2023-10-26T15:16:51.768Z"
   },
   {
    "duration": 5,
    "start_time": "2023-10-26T15:17:19.871Z"
   },
   {
    "duration": 1001,
    "start_time": "2023-10-26T15:18:11.598Z"
   },
   {
    "duration": 1007,
    "start_time": "2023-10-26T15:18:19.374Z"
   },
   {
    "duration": 1851,
    "start_time": "2023-10-26T15:23:37.019Z"
   },
   {
    "duration": 109,
    "start_time": "2023-10-26T15:24:33.187Z"
   },
   {
    "duration": 12,
    "start_time": "2023-10-26T15:24:43.898Z"
   },
   {
    "duration": 13,
    "start_time": "2023-10-26T15:24:51.306Z"
   },
   {
    "duration": 11,
    "start_time": "2023-10-26T15:25:22.746Z"
   },
   {
    "duration": 13,
    "start_time": "2023-10-26T15:25:31.001Z"
   },
   {
    "duration": 12,
    "start_time": "2023-10-26T15:25:39.457Z"
   },
   {
    "duration": 13,
    "start_time": "2023-10-26T15:26:21.425Z"
   },
   {
    "duration": 15,
    "start_time": "2023-10-26T15:27:14.672Z"
   },
   {
    "duration": 10,
    "start_time": "2023-10-26T15:27:36.904Z"
   },
   {
    "duration": 10,
    "start_time": "2023-10-26T15:28:48.055Z"
   },
   {
    "duration": 13,
    "start_time": "2023-10-26T15:28:49.326Z"
   },
   {
    "duration": 10,
    "start_time": "2023-10-26T15:30:04.190Z"
   },
   {
    "duration": 6,
    "start_time": "2023-10-26T15:30:15.973Z"
   },
   {
    "duration": 4,
    "start_time": "2023-10-26T15:30:47.326Z"
   },
   {
    "duration": 5,
    "start_time": "2023-10-26T15:31:21.204Z"
   },
   {
    "duration": 5,
    "start_time": "2023-10-26T15:32:49.092Z"
   },
   {
    "duration": 5,
    "start_time": "2023-10-26T15:32:55.316Z"
   },
   {
    "duration": 5,
    "start_time": "2023-10-26T15:33:17.684Z"
   },
   {
    "duration": 5,
    "start_time": "2023-10-26T15:34:05.051Z"
   },
   {
    "duration": 5,
    "start_time": "2023-10-26T15:34:27.635Z"
   },
   {
    "duration": 5,
    "start_time": "2023-10-26T15:35:14.627Z"
   },
   {
    "duration": 7,
    "start_time": "2023-10-26T15:37:56.150Z"
   },
   {
    "duration": 301,
    "start_time": "2023-10-26T15:37:56.158Z"
   },
   {
    "duration": 264,
    "start_time": "2023-10-26T15:37:56.461Z"
   },
   {
    "duration": 9,
    "start_time": "2023-10-26T15:37:56.728Z"
   },
   {
    "duration": 205,
    "start_time": "2023-10-26T15:37:56.739Z"
   },
   {
    "duration": 1100,
    "start_time": "2023-10-26T15:37:56.946Z"
   },
   {
    "duration": 189,
    "start_time": "2023-10-26T15:37:58.048Z"
   },
   {
    "duration": 2185,
    "start_time": "2023-10-26T15:37:58.239Z"
   },
   {
    "duration": 44,
    "start_time": "2023-10-26T15:38:00.427Z"
   },
   {
    "duration": 1770,
    "start_time": "2023-10-26T15:38:00.523Z"
   },
   {
    "duration": 998,
    "start_time": "2023-10-26T15:38:02.295Z"
   },
   {
    "duration": 49,
    "start_time": "2023-10-26T15:38:03.294Z"
   },
   {
    "duration": 54,
    "start_time": "2023-10-26T15:38:03.345Z"
   },
   {
    "duration": 1537,
    "start_time": "2023-10-26T15:38:03.402Z"
   },
   {
    "duration": 17,
    "start_time": "2023-10-26T15:38:04.941Z"
   },
   {
    "duration": 1822,
    "start_time": "2023-10-26T15:38:04.959Z"
   },
   {
    "duration": 41,
    "start_time": "2023-10-26T15:38:06.783Z"
   },
   {
    "duration": 4522,
    "start_time": "2023-10-26T15:38:06.826Z"
   },
   {
    "duration": 4823,
    "start_time": "2023-10-26T15:38:11.350Z"
   },
   {
    "duration": 17,
    "start_time": "2023-10-26T15:38:16.175Z"
   },
   {
    "duration": 31,
    "start_time": "2023-10-26T15:38:16.194Z"
   },
   {
    "duration": 11,
    "start_time": "2023-10-26T15:38:16.227Z"
   },
   {
    "duration": 12,
    "start_time": "2023-10-26T15:38:16.240Z"
   },
   {
    "duration": 4,
    "start_time": "2023-10-26T15:38:16.254Z"
   },
   {
    "duration": 79894,
    "start_time": "2023-10-26T15:38:16.260Z"
   },
   {
    "duration": 186,
    "start_time": "2023-10-26T15:39:36.156Z"
   },
   {
    "duration": 6,
    "start_time": "2023-10-26T15:39:36.344Z"
   },
   {
    "duration": 8243,
    "start_time": "2023-10-26T15:39:36.351Z"
   },
   {
    "duration": 59644,
    "start_time": "2023-10-26T15:39:44.596Z"
   },
   {
    "duration": 6921,
    "start_time": "2023-10-26T15:40:44.242Z"
   },
   {
    "duration": 6,
    "start_time": "2023-10-26T15:40:51.165Z"
   },
   {
    "duration": 34,
    "start_time": "2023-10-26T15:40:51.172Z"
   },
   {
    "duration": 4410,
    "start_time": "2023-10-26T15:40:51.223Z"
   },
   {
    "duration": 5,
    "start_time": "2023-10-26T15:40:55.635Z"
   },
   {
    "duration": 5989,
    "start_time": "2023-10-26T15:40:55.641Z"
   },
   {
    "duration": 816,
    "start_time": "2023-10-26T15:41:01.632Z"
   },
   {
    "duration": 12,
    "start_time": "2023-10-26T15:41:02.451Z"
   },
   {
    "duration": 5280,
    "start_time": "2023-10-26T15:41:02.464Z"
   },
   {
    "duration": 7,
    "start_time": "2023-10-26T15:48:17.265Z"
   },
   {
    "duration": 237,
    "start_time": "2023-10-26T15:48:17.274Z"
   },
   {
    "duration": 153,
    "start_time": "2023-10-26T15:48:17.525Z"
   },
   {
    "duration": 9,
    "start_time": "2023-10-26T15:48:17.680Z"
   },
   {
    "duration": 184,
    "start_time": "2023-10-26T15:48:17.691Z"
   },
   {
    "duration": 870,
    "start_time": "2023-10-26T15:48:17.877Z"
   },
   {
    "duration": 193,
    "start_time": "2023-10-26T15:48:18.750Z"
   },
   {
    "duration": 2015,
    "start_time": "2023-10-26T15:48:18.945Z"
   },
   {
    "duration": 22,
    "start_time": "2023-10-26T15:48:20.962Z"
   },
   {
    "duration": 1602,
    "start_time": "2023-10-26T15:48:20.986Z"
   },
   {
    "duration": 687,
    "start_time": "2023-10-26T15:48:22.589Z"
   },
   {
    "duration": 58,
    "start_time": "2023-10-26T15:48:23.278Z"
   },
   {
    "duration": 10,
    "start_time": "2023-10-26T15:48:23.338Z"
   },
   {
    "duration": 1673,
    "start_time": "2023-10-26T15:48:23.352Z"
   },
   {
    "duration": 17,
    "start_time": "2023-10-26T15:48:25.027Z"
   },
   {
    "duration": 1386,
    "start_time": "2023-10-26T15:48:25.046Z"
   },
   {
    "duration": 6,
    "start_time": "2023-10-26T15:48:26.434Z"
   },
   {
    "duration": 4216,
    "start_time": "2023-10-26T15:48:26.442Z"
   },
   {
    "duration": 4116,
    "start_time": "2023-10-26T15:48:30.660Z"
   },
   {
    "duration": 11,
    "start_time": "2023-10-26T15:48:34.777Z"
   },
   {
    "duration": 57,
    "start_time": "2023-10-26T15:48:34.789Z"
   },
   {
    "duration": 54,
    "start_time": "2023-10-26T15:48:34.848Z"
   },
   {
    "duration": 23,
    "start_time": "2023-10-26T15:48:34.904Z"
   },
   {
    "duration": 24,
    "start_time": "2023-10-26T15:48:34.929Z"
   },
   {
    "duration": 76051,
    "start_time": "2023-10-26T15:48:34.956Z"
   },
   {
    "duration": 140,
    "start_time": "2023-10-26T15:49:51.024Z"
   },
   {
    "duration": 62,
    "start_time": "2023-10-26T15:49:51.166Z"
   },
   {
    "duration": 7230,
    "start_time": "2023-10-26T15:49:51.230Z"
   },
   {
    "duration": 58592,
    "start_time": "2023-10-26T15:49:58.461Z"
   },
   {
    "duration": 7142,
    "start_time": "2023-10-26T15:50:57.055Z"
   },
   {
    "duration": 26,
    "start_time": "2023-10-26T15:51:04.198Z"
   },
   {
    "duration": 44,
    "start_time": "2023-10-26T15:51:04.226Z"
   },
   {
    "duration": 3793,
    "start_time": "2023-10-26T15:51:04.272Z"
   },
   {
    "duration": 8,
    "start_time": "2023-10-26T15:51:08.067Z"
   },
   {
    "duration": 5858,
    "start_time": "2023-10-26T15:51:08.077Z"
   },
   {
    "duration": 772,
    "start_time": "2023-10-26T15:51:13.936Z"
   },
   {
    "duration": 19,
    "start_time": "2023-10-26T15:51:14.709Z"
   },
   {
    "duration": 3731,
    "start_time": "2023-10-26T15:51:14.730Z"
   },
   {
    "duration": 6,
    "start_time": "2023-10-26T15:51:53.266Z"
   },
   {
    "duration": 12,
    "start_time": "2023-10-26T15:51:53.745Z"
   },
   {
    "duration": 3672,
    "start_time": "2023-10-26T15:51:54.897Z"
   },
   {
    "duration": 5,
    "start_time": "2023-10-26T15:51:59.912Z"
   },
   {
    "duration": 6010,
    "start_time": "2023-10-26T15:52:01.017Z"
   },
   {
    "duration": 703,
    "start_time": "2023-10-26T15:52:08.400Z"
   },
   {
    "duration": 6,
    "start_time": "2023-10-26T15:53:39.942Z"
   },
   {
    "duration": 304,
    "start_time": "2023-10-26T15:53:39.950Z"
   },
   {
    "duration": 173,
    "start_time": "2023-10-26T15:53:40.255Z"
   },
   {
    "duration": 8,
    "start_time": "2023-10-26T15:53:40.432Z"
   },
   {
    "duration": 202,
    "start_time": "2023-10-26T15:53:40.442Z"
   },
   {
    "duration": 495,
    "start_time": "2023-10-26T15:53:40.646Z"
   },
   {
    "duration": 104,
    "start_time": "2023-10-26T15:53:41.143Z"
   },
   {
    "duration": 1576,
    "start_time": "2023-10-26T15:53:41.249Z"
   },
   {
    "duration": 21,
    "start_time": "2023-10-26T15:53:42.827Z"
   },
   {
    "duration": 1598,
    "start_time": "2023-10-26T15:53:42.851Z"
   },
   {
    "duration": 605,
    "start_time": "2023-10-26T15:53:44.451Z"
   },
   {
    "duration": 24,
    "start_time": "2023-10-26T15:53:45.058Z"
   },
   {
    "duration": 44,
    "start_time": "2023-10-26T15:53:45.084Z"
   },
   {
    "duration": 1366,
    "start_time": "2023-10-26T15:53:45.130Z"
   },
   {
    "duration": 39,
    "start_time": "2023-10-26T15:53:46.497Z"
   },
   {
    "duration": 1311,
    "start_time": "2023-10-26T15:53:46.538Z"
   },
   {
    "duration": 5,
    "start_time": "2023-10-26T15:53:47.851Z"
   },
   {
    "duration": 3722,
    "start_time": "2023-10-26T15:53:47.858Z"
   },
   {
    "duration": 3679,
    "start_time": "2023-10-26T15:53:51.582Z"
   },
   {
    "duration": 13,
    "start_time": "2023-10-26T15:53:55.263Z"
   },
   {
    "duration": 54,
    "start_time": "2023-10-26T15:53:55.278Z"
   },
   {
    "duration": 49,
    "start_time": "2023-10-26T15:53:55.334Z"
   },
   {
    "duration": 29,
    "start_time": "2023-10-26T15:53:55.385Z"
   },
   {
    "duration": 18,
    "start_time": "2023-10-26T15:53:55.416Z"
   },
   {
    "duration": 70101,
    "start_time": "2023-10-26T15:53:55.436Z"
   },
   {
    "duration": 109,
    "start_time": "2023-10-26T15:55:05.539Z"
   },
   {
    "duration": 6,
    "start_time": "2023-10-26T15:55:05.650Z"
   },
   {
    "duration": 6731,
    "start_time": "2023-10-26T15:55:05.659Z"
   },
   {
    "duration": 57547,
    "start_time": "2023-10-26T15:55:12.391Z"
   },
   {
    "duration": 6416,
    "start_time": "2023-10-26T15:56:09.939Z"
   },
   {
    "duration": 7,
    "start_time": "2023-10-26T15:56:16.357Z"
   },
   {
    "duration": 60,
    "start_time": "2023-10-26T15:56:16.366Z"
   },
   {
    "duration": 3701,
    "start_time": "2023-10-26T15:56:16.428Z"
   },
   {
    "duration": 5,
    "start_time": "2023-10-26T15:56:20.131Z"
   },
   {
    "duration": 6118,
    "start_time": "2023-10-26T15:56:20.137Z"
   },
   {
    "duration": 774,
    "start_time": "2023-10-26T15:56:26.256Z"
   },
   {
    "duration": 11,
    "start_time": "2023-10-26T15:56:27.032Z"
   },
   {
    "duration": 3948,
    "start_time": "2023-10-26T15:56:27.045Z"
   },
   {
    "duration": 6,
    "start_time": "2023-10-26T15:56:34.778Z"
   },
   {
    "duration": 13,
    "start_time": "2023-10-26T15:56:35.381Z"
   },
   {
    "duration": 3755,
    "start_time": "2023-10-26T15:56:36.174Z"
   },
   {
    "duration": 5,
    "start_time": "2023-10-26T15:56:39.931Z"
   },
   {
    "duration": 6123,
    "start_time": "2023-10-26T15:56:40.816Z"
   },
   {
    "duration": 733,
    "start_time": "2023-10-26T15:56:48.070Z"
   },
   {
    "duration": 6,
    "start_time": "2023-10-26T15:58:11.836Z"
   },
   {
    "duration": 296,
    "start_time": "2023-10-26T15:58:11.844Z"
   },
   {
    "duration": 142,
    "start_time": "2023-10-26T15:58:12.141Z"
   },
   {
    "duration": 9,
    "start_time": "2023-10-26T15:58:12.323Z"
   },
   {
    "duration": 227,
    "start_time": "2023-10-26T15:58:12.334Z"
   },
   {
    "duration": 563,
    "start_time": "2023-10-26T15:58:12.563Z"
   },
   {
    "duration": 103,
    "start_time": "2023-10-26T15:58:13.128Z"
   },
   {
    "duration": 1356,
    "start_time": "2023-10-26T15:58:13.233Z"
   },
   {
    "duration": 47,
    "start_time": "2023-10-26T15:58:14.590Z"
   },
   {
    "duration": 1340,
    "start_time": "2023-10-26T15:58:14.639Z"
   },
   {
    "duration": 766,
    "start_time": "2023-10-26T15:58:15.982Z"
   },
   {
    "duration": 25,
    "start_time": "2023-10-26T15:58:16.750Z"
   },
   {
    "duration": 8,
    "start_time": "2023-10-26T15:58:16.777Z"
   },
   {
    "duration": 1322,
    "start_time": "2023-10-26T15:58:16.824Z"
   },
   {
    "duration": 34,
    "start_time": "2023-10-26T15:58:18.148Z"
   },
   {
    "duration": 1303,
    "start_time": "2023-10-26T15:58:18.184Z"
   },
   {
    "duration": 37,
    "start_time": "2023-10-26T15:58:19.489Z"
   },
   {
    "duration": 4455,
    "start_time": "2023-10-26T15:58:19.528Z"
   },
   {
    "duration": 3765,
    "start_time": "2023-10-26T15:58:23.984Z"
   },
   {
    "duration": 11,
    "start_time": "2023-10-26T15:58:27.750Z"
   },
   {
    "duration": 7,
    "start_time": "2023-10-26T15:58:27.763Z"
   },
   {
    "duration": 8,
    "start_time": "2023-10-26T15:58:27.772Z"
   },
   {
    "duration": 10,
    "start_time": "2023-10-26T15:58:27.782Z"
   },
   {
    "duration": 30,
    "start_time": "2023-10-26T15:58:27.794Z"
   },
   {
    "duration": 68054,
    "start_time": "2023-10-26T15:58:27.826Z"
   },
   {
    "duration": 154,
    "start_time": "2023-10-26T15:59:35.883Z"
   },
   {
    "duration": 7,
    "start_time": "2023-10-26T15:59:36.039Z"
   },
   {
    "duration": 6626,
    "start_time": "2023-10-26T15:59:36.047Z"
   },
   {
    "duration": 56276,
    "start_time": "2023-10-26T15:59:42.675Z"
   },
   {
    "duration": 6277,
    "start_time": "2023-10-26T16:00:38.953Z"
   },
   {
    "duration": 5,
    "start_time": "2023-10-26T16:00:45.232Z"
   },
   {
    "duration": 74,
    "start_time": "2023-10-26T16:00:45.239Z"
   },
   {
    "duration": 3727,
    "start_time": "2023-10-26T16:00:45.315Z"
   },
   {
    "duration": 6,
    "start_time": "2023-10-26T16:00:49.044Z"
   },
   {
    "duration": 6132,
    "start_time": "2023-10-26T16:00:49.052Z"
   },
   {
    "duration": 893,
    "start_time": "2023-10-26T16:00:55.186Z"
   },
   {
    "duration": 11,
    "start_time": "2023-10-26T16:00:56.081Z"
   },
   {
    "duration": 4839,
    "start_time": "2023-10-26T16:00:56.093Z"
   },
   {
    "duration": 16749,
    "start_time": "2023-10-26T16:03:18.716Z"
   },
   {
    "duration": 8799,
    "start_time": "2023-10-26T16:03:35.468Z"
   },
   {
    "duration": 1032,
    "start_time": "2023-10-26T16:03:44.325Z"
   },
   {
    "duration": 12,
    "start_time": "2023-10-26T16:03:45.358Z"
   },
   {
    "duration": 769,
    "start_time": "2023-10-26T16:03:45.372Z"
   },
   {
    "duration": 4083,
    "start_time": "2023-10-26T16:03:46.143Z"
   },
   {
    "duration": 425,
    "start_time": "2023-10-26T16:03:50.227Z"
   },
   {
    "duration": 7203,
    "start_time": "2023-10-26T16:03:50.725Z"
   },
   {
    "duration": 104,
    "start_time": "2023-10-26T16:03:57.930Z"
   },
   {
    "duration": 3996,
    "start_time": "2023-10-26T16:03:58.036Z"
   },
   {
    "duration": 2900,
    "start_time": "2023-10-26T16:04:02.034Z"
   },
   {
    "duration": 119,
    "start_time": "2023-10-26T16:04:04.936Z"
   },
   {
    "duration": 77,
    "start_time": "2023-10-26T16:04:05.057Z"
   },
   {
    "duration": 4525,
    "start_time": "2023-10-26T16:04:05.138Z"
   },
   {
    "duration": 81,
    "start_time": "2023-10-26T16:04:09.665Z"
   },
   {
    "duration": 3813,
    "start_time": "2023-10-26T16:04:09.748Z"
   },
   {
    "duration": 64,
    "start_time": "2023-10-26T16:04:13.564Z"
   },
   {
    "duration": 9899,
    "start_time": "2023-10-26T16:04:13.630Z"
   },
   {
    "duration": 10714,
    "start_time": "2023-10-26T16:04:23.531Z"
   },
   {
    "duration": 93,
    "start_time": "2023-10-26T16:04:34.247Z"
   },
   {
    "duration": 9,
    "start_time": "2023-10-26T16:04:34.342Z"
   },
   {
    "duration": 79,
    "start_time": "2023-10-26T16:04:34.352Z"
   },
   {
    "duration": 11,
    "start_time": "2023-10-26T16:04:34.433Z"
   },
   {
    "duration": 24,
    "start_time": "2023-10-26T16:04:34.446Z"
   },
   {
    "duration": 112793,
    "start_time": "2023-10-26T16:04:34.471Z"
   },
   {
    "duration": 279,
    "start_time": "2023-10-26T16:06:27.266Z"
   },
   {
    "duration": 10,
    "start_time": "2023-10-26T16:06:27.547Z"
   },
   {
    "duration": 9280,
    "start_time": "2023-10-26T16:06:27.559Z"
   },
   {
    "duration": 64484,
    "start_time": "2023-10-26T16:06:36.840Z"
   },
   {
    "duration": 9319,
    "start_time": "2023-10-26T16:07:41.326Z"
   },
   {
    "duration": 9,
    "start_time": "2023-10-26T16:07:50.647Z"
   },
   {
    "duration": 89,
    "start_time": "2023-10-26T16:07:50.658Z"
   },
   {
    "duration": 5386,
    "start_time": "2023-10-26T16:07:50.749Z"
   },
   {
    "duration": 5,
    "start_time": "2023-10-26T16:07:56.137Z"
   },
   {
    "duration": 5794,
    "start_time": "2023-10-26T16:07:56.144Z"
   },
   {
    "duration": 811,
    "start_time": "2023-10-26T16:08:01.940Z"
   },
   {
    "duration": 12,
    "start_time": "2023-10-26T16:08:02.753Z"
   },
   {
    "duration": 4989,
    "start_time": "2023-10-26T16:08:02.766Z"
   },
   {
    "duration": 6,
    "start_time": "2023-10-26T16:09:21.103Z"
   },
   {
    "duration": 317,
    "start_time": "2023-10-26T16:09:21.111Z"
   },
   {
    "duration": 136,
    "start_time": "2023-10-26T16:09:21.430Z"
   },
   {
    "duration": 8,
    "start_time": "2023-10-26T16:09:21.567Z"
   },
   {
    "duration": 198,
    "start_time": "2023-10-26T16:09:21.576Z"
   },
   {
    "duration": 978,
    "start_time": "2023-10-26T16:09:21.775Z"
   },
   {
    "duration": 165,
    "start_time": "2023-10-26T16:09:22.754Z"
   },
   {
    "duration": 2010,
    "start_time": "2023-10-26T16:09:22.921Z"
   },
   {
    "duration": 33,
    "start_time": "2023-10-26T16:09:24.933Z"
   },
   {
    "duration": 1728,
    "start_time": "2023-10-26T16:09:24.967Z"
   },
   {
    "duration": 860,
    "start_time": "2023-10-26T16:09:26.698Z"
   },
   {
    "duration": 24,
    "start_time": "2023-10-26T16:09:27.560Z"
   },
   {
    "duration": 42,
    "start_time": "2023-10-26T16:09:27.586Z"
   },
   {
    "duration": 1893,
    "start_time": "2023-10-26T16:09:27.631Z"
   },
   {
    "duration": 18,
    "start_time": "2023-10-26T16:09:29.526Z"
   },
   {
    "duration": 1502,
    "start_time": "2023-10-26T16:09:29.546Z"
   },
   {
    "duration": 5,
    "start_time": "2023-10-26T16:09:31.050Z"
   },
   {
    "duration": 4484,
    "start_time": "2023-10-26T16:09:31.057Z"
   },
   {
    "duration": 4285,
    "start_time": "2023-10-26T16:09:35.543Z"
   },
   {
    "duration": 12,
    "start_time": "2023-10-26T16:09:39.830Z"
   },
   {
    "duration": 9,
    "start_time": "2023-10-26T16:09:39.844Z"
   },
   {
    "duration": 25,
    "start_time": "2023-10-26T16:09:39.855Z"
   },
   {
    "duration": 26,
    "start_time": "2023-10-26T16:09:39.881Z"
   },
   {
    "duration": 15,
    "start_time": "2023-10-26T16:09:39.909Z"
   },
   {
    "duration": 77321,
    "start_time": "2023-10-26T16:09:39.926Z"
   },
   {
    "duration": 284,
    "start_time": "2023-10-26T16:10:57.249Z"
   },
   {
    "duration": 8,
    "start_time": "2023-10-26T16:10:57.535Z"
   },
   {
    "duration": 7834,
    "start_time": "2023-10-26T16:10:57.544Z"
   },
   {
    "duration": 61168,
    "start_time": "2023-10-26T16:11:05.380Z"
   },
   {
    "duration": 6944,
    "start_time": "2023-10-26T16:12:06.550Z"
   },
   {
    "duration": 5,
    "start_time": "2023-10-26T16:12:13.496Z"
   },
   {
    "duration": 159,
    "start_time": "2023-10-26T16:12:13.523Z"
   },
   {
    "duration": 4192,
    "start_time": "2023-10-26T16:12:13.683Z"
   },
   {
    "duration": 5,
    "start_time": "2023-10-26T16:12:17.877Z"
   },
   {
    "duration": 5921,
    "start_time": "2023-10-26T16:12:17.884Z"
   },
   {
    "duration": 837,
    "start_time": "2023-10-26T16:12:23.806Z"
   },
   {
    "duration": 11,
    "start_time": "2023-10-26T16:12:24.645Z"
   },
   {
    "duration": 4615,
    "start_time": "2023-10-26T16:12:24.658Z"
   },
   {
    "duration": 27451,
    "start_time": "2023-10-27T10:12:01.738Z"
   },
   {
    "duration": 9662,
    "start_time": "2023-10-27T10:12:29.191Z"
   },
   {
    "duration": 1045,
    "start_time": "2023-10-27T10:12:38.855Z"
   },
   {
    "duration": 48,
    "start_time": "2023-10-27T10:12:39.902Z"
   },
   {
    "duration": 34,
    "start_time": "2023-10-27T10:13:00.469Z"
   },
   {
    "duration": 865,
    "start_time": "2023-10-27T10:13:09.512Z"
   },
   {
    "duration": 3622,
    "start_time": "2023-10-27T10:13:38.253Z"
   },
   {
    "duration": 1636,
    "start_time": "2023-10-27T10:13:47.132Z"
   },
   {
    "duration": 1230,
    "start_time": "2023-10-27T10:14:05.636Z"
   },
   {
    "duration": 370,
    "start_time": "2023-10-27T10:14:12.676Z"
   },
   {
    "duration": 6235,
    "start_time": "2023-10-27T10:14:13.828Z"
   },
   {
    "duration": 32,
    "start_time": "2023-10-27T10:14:24.980Z"
   },
   {
    "duration": 3721,
    "start_time": "2023-10-27T10:14:32.628Z"
   },
   {
    "duration": 2951,
    "start_time": "2023-10-27T10:14:52.124Z"
   },
   {
    "duration": 1658,
    "start_time": "2023-10-27T10:15:02.092Z"
   },
   {
    "duration": 1566,
    "start_time": "2023-10-27T10:15:10.028Z"
   },
   {
    "duration": 85,
    "start_time": "2023-10-27T10:15:15.564Z"
   },
   {
    "duration": 11,
    "start_time": "2023-10-27T10:15:16.435Z"
   },
   {
    "duration": 1467,
    "start_time": "2023-10-27T10:15:26.899Z"
   },
   {
    "duration": 3631,
    "start_time": "2023-10-27T10:15:45.235Z"
   },
   {
    "duration": 19,
    "start_time": "2023-10-27T10:15:56.291Z"
   },
   {
    "duration": 3424,
    "start_time": "2023-10-27T10:15:57.956Z"
   },
   {
    "duration": 7,
    "start_time": "2023-10-27T10:16:15.099Z"
   },
   {
    "duration": 8318,
    "start_time": "2023-10-27T10:16:16.826Z"
   },
   {
    "duration": 7550,
    "start_time": "2023-10-27T10:16:29.619Z"
   },
   {
    "duration": 84,
    "start_time": "2023-10-27T10:16:52.547Z"
   },
   {
    "duration": 4,
    "start_time": "2023-10-27T10:16:58.211Z"
   },
   {
    "duration": 27,
    "start_time": "2023-10-27T10:16:59.803Z"
   },
   {
    "duration": 32,
    "start_time": "2023-10-27T10:17:01.051Z"
   },
   {
    "duration": 11,
    "start_time": "2023-10-27T10:17:49.091Z"
   },
   {
    "duration": 3,
    "start_time": "2023-10-27T10:17:52.338Z"
   },
   {
    "duration": 101621,
    "start_time": "2023-10-27T10:18:14.785Z"
   },
   {
    "duration": 224,
    "start_time": "2023-10-27T10:21:27.824Z"
   },
   {
    "duration": 9,
    "start_time": "2023-10-27T10:21:28.560Z"
   },
   {
    "duration": 8182,
    "start_time": "2023-10-27T10:21:29.376Z"
   },
   {
    "duration": 57533,
    "start_time": "2023-10-27T10:21:43.712Z"
   },
   {
    "duration": 7517,
    "start_time": "2023-10-27T10:23:21.864Z"
   },
   {
    "duration": 8,
    "start_time": "2023-10-27T10:23:33.583Z"
   },
   {
    "duration": 17,
    "start_time": "2023-10-27T10:23:34.888Z"
   },
   {
    "duration": 5330,
    "start_time": "2023-10-27T10:23:44.944Z"
   },
   {
    "duration": 5,
    "start_time": "2023-10-27T10:23:50.276Z"
   },
   {
    "duration": 5820,
    "start_time": "2023-10-27T10:24:12.061Z"
   },
   {
    "duration": 824,
    "start_time": "2023-10-27T10:24:20.558Z"
   },
   {
    "duration": 10,
    "start_time": "2023-10-27T10:25:14.159Z"
   },
   {
    "duration": 4329,
    "start_time": "2023-10-27T10:25:17.488Z"
   },
   {
    "duration": 2208,
    "start_time": "2023-10-27T10:27:44.302Z"
   },
   {
    "duration": 25,
    "start_time": "2023-10-27T10:28:10.141Z"
   },
   {
    "duration": 19,
    "start_time": "2023-10-27T10:28:21.925Z"
   },
   {
    "duration": 2032,
    "start_time": "2023-10-27T10:28:29.065Z"
   },
   {
    "duration": 4402,
    "start_time": "2023-10-27T10:28:44.868Z"
   },
   {
    "duration": 1926,
    "start_time": "2023-10-27T10:28:58.068Z"
   },
   {
    "duration": 4079,
    "start_time": "2023-10-27T10:29:19.013Z"
   },
   {
    "duration": 129,
    "start_time": "2023-10-27T10:32:21.564Z"
   },
   {
    "duration": 2021,
    "start_time": "2023-10-27T10:32:39.379Z"
   },
   {
    "duration": 31,
    "start_time": "2023-10-27T10:34:25.378Z"
   },
   {
    "duration": 31,
    "start_time": "2023-10-27T10:34:34.338Z"
   },
   {
    "duration": 3323,
    "start_time": "2023-10-27T10:35:47.074Z"
   },
   {
    "duration": 48,
    "start_time": "2023-10-27T10:36:14.505Z"
   },
   {
    "duration": 29,
    "start_time": "2023-10-27T10:36:29.121Z"
   },
   {
    "duration": 8366,
    "start_time": "2023-10-27T10:36:50.216Z"
   },
   {
    "duration": 7837,
    "start_time": "2023-10-27T10:37:12.834Z"
   },
   {
    "duration": 8161,
    "start_time": "2023-10-27T10:37:30.833Z"
   },
   {
    "duration": 8833,
    "start_time": "2023-10-27T10:37:57.432Z"
   },
   {
    "duration": 8124,
    "start_time": "2023-10-27T10:38:24.592Z"
   },
   {
    "duration": 4593,
    "start_time": "2023-10-27T10:41:08.367Z"
   },
   {
    "duration": 4390,
    "start_time": "2023-10-27T10:42:29.595Z"
   },
   {
    "duration": 4232,
    "start_time": "2023-10-27T10:44:18.917Z"
   },
   {
    "duration": 4082,
    "start_time": "2023-10-27T10:44:27.005Z"
   },
   {
    "duration": 4230,
    "start_time": "2023-10-27T10:44:36.364Z"
   },
   {
    "duration": 3448,
    "start_time": "2023-10-27T10:44:51.301Z"
   },
   {
    "duration": 3466,
    "start_time": "2023-10-27T10:44:57.508Z"
   },
   {
    "duration": 3486,
    "start_time": "2023-10-27T10:45:04.476Z"
   },
   {
    "duration": 3660,
    "start_time": "2023-10-27T10:46:14.037Z"
   },
   {
    "duration": 3549,
    "start_time": "2023-10-27T10:47:06.916Z"
   },
   {
    "duration": 16,
    "start_time": "2023-10-27T12:07:51.957Z"
   },
   {
    "duration": 591,
    "start_time": "2023-10-27T12:07:51.976Z"
   },
   {
    "duration": 10,
    "start_time": "2023-10-27T12:07:52.569Z"
   },
   {
    "duration": 9,
    "start_time": "2023-10-27T12:08:14.067Z"
   },
   {
    "duration": 371,
    "start_time": "2023-10-27T12:08:14.078Z"
   },
   {
    "duration": 231,
    "start_time": "2023-10-27T12:08:14.451Z"
   },
   {
    "duration": 5,
    "start_time": "2023-10-27T12:08:14.684Z"
   },
   {
    "duration": 149,
    "start_time": "2023-10-27T12:08:31.601Z"
   },
   {
    "duration": 190,
    "start_time": "2023-10-27T12:34:13.558Z"
   },
   {
    "duration": 187,
    "start_time": "2023-10-27T12:34:25.974Z"
   },
   {
    "duration": 192,
    "start_time": "2023-10-27T12:34:34.373Z"
   },
   {
    "duration": 459,
    "start_time": "2023-10-27T12:35:17.379Z"
   },
   {
    "duration": 6,
    "start_time": "2023-10-27T12:35:24.228Z"
   },
   {
    "duration": 231,
    "start_time": "2023-10-27T12:35:24.236Z"
   },
   {
    "duration": 149,
    "start_time": "2023-10-27T12:35:24.469Z"
   },
   {
    "duration": 9,
    "start_time": "2023-10-27T12:35:24.621Z"
   },
   {
    "duration": 191,
    "start_time": "2023-10-27T12:35:24.632Z"
   },
   {
    "duration": 937,
    "start_time": "2023-10-27T12:35:24.825Z"
   },
   {
    "duration": 192,
    "start_time": "2023-10-27T12:35:25.763Z"
   },
   {
    "duration": 2353,
    "start_time": "2023-10-27T12:35:25.957Z"
   },
   {
    "duration": 50,
    "start_time": "2023-10-27T12:35:28.311Z"
   },
   {
    "duration": 1559,
    "start_time": "2023-10-27T12:35:28.363Z"
   },
   {
    "duration": 1177,
    "start_time": "2023-10-27T12:35:29.924Z"
   },
   {
    "duration": 65,
    "start_time": "2023-10-27T12:35:31.103Z"
   },
   {
    "duration": 29,
    "start_time": "2023-10-27T12:35:31.170Z"
   },
   {
    "duration": 11,
    "start_time": "2023-10-27T12:35:35.052Z"
   },
   {
    "duration": 2206,
    "start_time": "2023-10-27T12:35:39.780Z"
   },
   {
    "duration": 202,
    "start_time": "2023-10-27T12:36:11.852Z"
   },
   {
    "duration": 1667,
    "start_time": "2023-10-27T12:37:12.796Z"
   },
   {
    "duration": 1510,
    "start_time": "2023-10-27T12:37:39.435Z"
   },
   {
    "duration": 6,
    "start_time": "2023-10-27T12:38:09.667Z"
   },
   {
    "duration": 278,
    "start_time": "2023-10-27T12:38:09.675Z"
   },
   {
    "duration": 206,
    "start_time": "2023-10-27T12:38:09.954Z"
   },
   {
    "duration": 10,
    "start_time": "2023-10-27T12:38:10.162Z"
   },
   {
    "duration": 371,
    "start_time": "2023-10-27T12:38:10.174Z"
   },
   {
    "duration": 587,
    "start_time": "2023-10-27T12:38:10.547Z"
   },
   {
    "duration": 99,
    "start_time": "2023-10-27T12:38:11.136Z"
   },
   {
    "duration": 1809,
    "start_time": "2023-10-27T12:38:11.236Z"
   },
   {
    "duration": 24,
    "start_time": "2023-10-27T12:38:13.048Z"
   },
   {
    "duration": 1752,
    "start_time": "2023-10-27T12:38:13.074Z"
   },
   {
    "duration": 886,
    "start_time": "2023-10-27T12:38:14.828Z"
   },
   {
    "duration": 25,
    "start_time": "2023-10-27T12:38:15.745Z"
   },
   {
    "duration": 9,
    "start_time": "2023-10-27T12:38:15.771Z"
   },
   {
    "duration": 1287,
    "start_time": "2023-10-27T12:38:15.783Z"
   },
   {
    "duration": 16,
    "start_time": "2023-10-27T12:38:17.072Z"
   },
   {
    "duration": 1201,
    "start_time": "2023-10-27T12:38:25.661Z"
   },
   {
    "duration": 342,
    "start_time": "2023-10-27T12:43:33.017Z"
   },
   {
    "duration": 76,
    "start_time": "2023-10-27T12:43:56.113Z"
   },
   {
    "duration": 214,
    "start_time": "2023-10-27T12:43:59.185Z"
   },
   {
    "duration": 136,
    "start_time": "2023-10-27T12:44:02.512Z"
   },
   {
    "duration": 6,
    "start_time": "2023-10-27T12:44:33.623Z"
   },
   {
    "duration": 105,
    "start_time": "2023-10-27T12:46:59.554Z"
   },
   {
    "duration": 13,
    "start_time": "2023-10-27T12:51:28.693Z"
   },
   {
    "duration": 51,
    "start_time": "2023-10-27T12:51:38.724Z"
   },
   {
    "duration": 913,
    "start_time": "2023-10-27T12:51:44.684Z"
   },
   {
    "duration": 43,
    "start_time": "2023-10-27T12:52:44.075Z"
   },
   {
    "duration": 480,
    "start_time": "2023-10-27T12:53:36.994Z"
   },
   {
    "duration": 545,
    "start_time": "2023-10-27T12:53:46.443Z"
   },
   {
    "duration": 1586,
    "start_time": "2023-10-27T12:59:52.858Z"
   },
   {
    "duration": 25723,
    "start_time": "2023-10-27T12:59:54.446Z"
   },
   {
    "duration": 1294,
    "start_time": "2023-10-27T13:00:20.171Z"
   },
   {
    "duration": 1811,
    "start_time": "2023-10-27T13:00:21.467Z"
   },
   {
    "duration": 925,
    "start_time": "2023-10-27T13:00:23.344Z"
   },
   {
    "duration": 4013,
    "start_time": "2023-10-27T13:00:24.271Z"
   },
   {
    "duration": 593,
    "start_time": "2023-10-27T13:00:28.286Z"
   },
   {
    "duration": 7469,
    "start_time": "2023-10-27T13:00:28.881Z"
   },
   {
    "duration": 109,
    "start_time": "2023-10-27T13:00:36.352Z"
   },
   {
    "duration": 4401,
    "start_time": "2023-10-27T13:00:36.463Z"
   },
   {
    "duration": 3181,
    "start_time": "2023-10-27T13:00:40.866Z"
   },
   {
    "duration": 126,
    "start_time": "2023-10-27T13:00:44.049Z"
   },
   {
    "duration": 74,
    "start_time": "2023-10-27T13:00:44.177Z"
   },
   {
    "duration": 4591,
    "start_time": "2023-10-27T13:00:44.255Z"
   },
   {
    "duration": 97,
    "start_time": "2023-10-27T13:00:48.848Z"
   },
   {
    "duration": 3830,
    "start_time": "2023-10-27T13:00:48.948Z"
   },
   {
    "duration": 3779,
    "start_time": "2023-10-27T13:00:52.780Z"
   },
   {
    "duration": 117,
    "start_time": "2023-10-27T13:01:54.990Z"
   },
   {
    "duration": 5907,
    "start_time": "2023-10-27T13:01:56.638Z"
   },
   {
    "duration": 1829,
    "start_time": "2023-10-27T13:06:20.736Z"
   },
   {
    "duration": 25487,
    "start_time": "2023-10-27T13:06:22.567Z"
   },
   {
    "duration": 1093,
    "start_time": "2023-10-27T13:06:48.056Z"
   },
   {
    "duration": 1508,
    "start_time": "2023-10-27T13:06:49.152Z"
   },
   {
    "duration": 811,
    "start_time": "2023-10-27T13:06:50.662Z"
   },
   {
    "duration": 3806,
    "start_time": "2023-10-27T13:06:51.475Z"
   },
   {
    "duration": 463,
    "start_time": "2023-10-27T13:06:55.283Z"
   },
   {
    "duration": 6316,
    "start_time": "2023-10-27T13:06:55.747Z"
   },
   {
    "duration": 105,
    "start_time": "2023-10-27T13:07:02.065Z"
   },
   {
    "duration": 4279,
    "start_time": "2023-10-27T13:07:02.173Z"
   },
   {
    "duration": 3110,
    "start_time": "2023-10-27T13:07:06.454Z"
   },
   {
    "duration": 187,
    "start_time": "2023-10-27T13:07:09.566Z"
   },
   {
    "duration": 12,
    "start_time": "2023-10-27T13:07:09.756Z"
   },
   {
    "duration": 4298,
    "start_time": "2023-10-27T13:07:09.770Z"
   },
   {
    "duration": 84,
    "start_time": "2023-10-27T13:07:14.070Z"
   },
   {
    "duration": 3114,
    "start_time": "2023-10-27T13:07:14.157Z"
   },
   {
    "duration": 8,
    "start_time": "2023-10-27T13:07:17.273Z"
   },
   {
    "duration": 9083,
    "start_time": "2023-10-27T13:07:17.282Z"
   },
   {
    "duration": 10906,
    "start_time": "2023-10-27T13:07:26.366Z"
   },
   {
    "duration": 10086,
    "start_time": "2023-10-27T13:07:37.274Z"
   },
   {
    "duration": 5,
    "start_time": "2023-10-27T13:07:47.362Z"
   },
   {
    "duration": 82,
    "start_time": "2023-10-27T13:07:47.369Z"
   },
   {
    "duration": 46,
    "start_time": "2023-10-27T13:07:47.453Z"
   },
   {
    "duration": 44,
    "start_time": "2023-10-27T13:07:47.500Z"
   },
   {
    "duration": 109500,
    "start_time": "2023-10-27T13:07:47.547Z"
   },
   {
    "duration": 208,
    "start_time": "2023-10-27T13:09:37.048Z"
   },
   {
    "duration": 9,
    "start_time": "2023-10-27T13:09:37.258Z"
   },
   {
    "duration": 10203,
    "start_time": "2023-10-27T13:09:37.271Z"
   },
   {
    "duration": 61587,
    "start_time": "2023-10-27T13:09:47.477Z"
   },
   {
    "duration": 7779,
    "start_time": "2023-10-27T13:10:49.066Z"
   },
   {
    "duration": 9,
    "start_time": "2023-10-27T13:10:56.847Z"
   },
   {
    "duration": 26,
    "start_time": "2023-10-27T13:10:56.858Z"
   },
   {
    "duration": 5085,
    "start_time": "2023-10-27T13:10:56.886Z"
   },
   {
    "duration": 4,
    "start_time": "2023-10-27T13:11:01.973Z"
   },
   {
    "duration": 6645,
    "start_time": "2023-10-27T13:11:01.979Z"
   },
   {
    "duration": 894,
    "start_time": "2023-10-27T13:11:08.626Z"
   },
   {
    "duration": 11,
    "start_time": "2023-10-27T13:11:09.522Z"
   },
   {
    "duration": 4750,
    "start_time": "2023-10-27T13:11:09.544Z"
   },
   {
    "duration": 794,
    "start_time": "2023-10-27T13:11:14.296Z"
   },
   {
    "duration": 1781,
    "start_time": "2023-10-27T13:19:39.264Z"
   },
   {
    "duration": 24698,
    "start_time": "2023-10-27T13:19:41.047Z"
   },
   {
    "duration": 1003,
    "start_time": "2023-10-27T13:20:05.746Z"
   },
   {
    "duration": 1404,
    "start_time": "2023-10-27T13:20:06.751Z"
   },
   {
    "duration": 796,
    "start_time": "2023-10-27T13:20:08.157Z"
   },
   {
    "duration": 3610,
    "start_time": "2023-10-27T13:20:08.955Z"
   },
   {
    "duration": 483,
    "start_time": "2023-10-27T13:20:12.566Z"
   },
   {
    "duration": 6213,
    "start_time": "2023-10-27T13:20:13.050Z"
   },
   {
    "duration": 105,
    "start_time": "2023-10-27T13:20:19.265Z"
   },
   {
    "duration": 4479,
    "start_time": "2023-10-27T13:20:19.373Z"
   },
   {
    "duration": 2911,
    "start_time": "2023-10-27T13:20:23.853Z"
   },
   {
    "duration": 122,
    "start_time": "2023-10-27T13:20:26.845Z"
   },
   {
    "duration": 78,
    "start_time": "2023-10-27T13:20:26.969Z"
   },
   {
    "duration": 4313,
    "start_time": "2023-10-27T13:20:27.049Z"
   },
   {
    "duration": 93,
    "start_time": "2023-10-27T13:20:31.364Z"
   },
   {
    "duration": 3225,
    "start_time": "2023-10-27T13:20:31.458Z"
   },
   {
    "duration": 11,
    "start_time": "2023-10-27T13:20:34.746Z"
   },
   {
    "duration": 9496,
    "start_time": "2023-10-27T13:20:34.758Z"
   },
   {
    "duration": 10216,
    "start_time": "2023-10-27T13:20:44.255Z"
   },
   {
    "duration": 9714,
    "start_time": "2023-10-27T13:20:54.545Z"
   },
   {
    "duration": 4,
    "start_time": "2023-10-27T13:21:04.261Z"
   },
   {
    "duration": 86,
    "start_time": "2023-10-27T13:21:04.267Z"
   },
   {
    "duration": 24,
    "start_time": "2023-10-27T13:21:04.354Z"
   },
   {
    "duration": 16,
    "start_time": "2023-10-27T13:21:04.380Z"
   },
   {
    "duration": 114249,
    "start_time": "2023-10-27T13:21:04.397Z"
   },
   {
    "duration": 240,
    "start_time": "2023-10-27T13:22:58.647Z"
   },
   {
    "duration": 57,
    "start_time": "2023-10-27T13:22:58.889Z"
   },
   {
    "duration": 13723,
    "start_time": "2023-10-27T13:22:58.951Z"
   },
   {
    "duration": 63982,
    "start_time": "2023-10-27T13:23:12.676Z"
   },
   {
    "duration": 7430,
    "start_time": "2023-10-27T13:24:16.660Z"
   },
   {
    "duration": 7,
    "start_time": "2023-10-27T13:24:24.092Z"
   },
   {
    "duration": 43,
    "start_time": "2023-10-27T13:24:24.101Z"
   },
   {
    "duration": 3298,
    "start_time": "2023-10-27T13:24:24.146Z"
   },
   {
    "duration": 0,
    "start_time": "2023-10-27T13:24:27.446Z"
   },
   {
    "duration": 0,
    "start_time": "2023-10-27T13:24:27.447Z"
   },
   {
    "duration": 0,
    "start_time": "2023-10-27T13:24:27.449Z"
   },
   {
    "duration": 0,
    "start_time": "2023-10-27T13:24:27.450Z"
   },
   {
    "duration": 0,
    "start_time": "2023-10-27T13:24:27.451Z"
   },
   {
    "duration": 0,
    "start_time": "2023-10-27T13:24:27.452Z"
   },
   {
    "duration": 4733,
    "start_time": "2023-10-27T13:31:49.242Z"
   },
   {
    "duration": 5,
    "start_time": "2023-10-27T13:31:56.503Z"
   },
   {
    "duration": 5882,
    "start_time": "2023-10-27T13:31:58.488Z"
   },
   {
    "duration": 845,
    "start_time": "2023-10-27T13:32:07.728Z"
   },
   {
    "duration": 13,
    "start_time": "2023-10-27T13:32:14.279Z"
   },
   {
    "duration": 5254,
    "start_time": "2023-10-27T13:32:17.167Z"
   },
   {
    "duration": 831,
    "start_time": "2023-10-27T13:32:28.256Z"
   },
   {
    "duration": 676,
    "start_time": "2023-10-27T13:32:39.913Z"
   },
   {
    "duration": 701,
    "start_time": "2023-10-27T13:32:40.591Z"
   },
   {
    "duration": 233,
    "start_time": "2023-10-27T13:32:41.345Z"
   },
   {
    "duration": 1173,
    "start_time": "2023-10-27T13:32:41.580Z"
   },
   {
    "duration": 225,
    "start_time": "2023-10-27T13:32:42.756Z"
   },
   {
    "duration": 1090,
    "start_time": "2023-10-27T13:32:42.983Z"
   },
   {
    "duration": 237,
    "start_time": "2023-10-27T13:32:44.075Z"
   },
   {
    "duration": 2335,
    "start_time": "2023-10-27T13:32:44.313Z"
   },
   {
    "duration": 27,
    "start_time": "2023-10-27T13:32:46.650Z"
   },
   {
    "duration": 1675,
    "start_time": "2023-10-27T13:32:46.679Z"
   },
   {
    "duration": 1302,
    "start_time": "2023-10-27T13:32:48.356Z"
   },
   {
    "duration": 30,
    "start_time": "2023-10-27T13:32:49.659Z"
   },
   {
    "duration": 61,
    "start_time": "2023-10-27T13:32:49.690Z"
   },
   {
    "duration": 2210,
    "start_time": "2023-10-27T13:32:49.755Z"
   },
   {
    "duration": 77,
    "start_time": "2023-10-27T13:32:51.968Z"
   },
   {
    "duration": 1315,
    "start_time": "2023-10-27T13:32:52.046Z"
   },
   {
    "duration": 6,
    "start_time": "2023-10-27T13:32:53.363Z"
   },
   {
    "duration": 3901,
    "start_time": "2023-10-27T13:32:53.370Z"
   },
   {
    "duration": 5240,
    "start_time": "2023-10-27T13:32:57.273Z"
   },
   {
    "duration": 5429,
    "start_time": "2023-10-27T13:33:02.516Z"
   },
   {
    "duration": 5,
    "start_time": "2023-10-27T13:33:07.946Z"
   },
   {
    "duration": 27,
    "start_time": "2023-10-27T13:33:07.953Z"
   },
   {
    "duration": 70,
    "start_time": "2023-10-27T13:33:07.981Z"
   },
   {
    "duration": 4,
    "start_time": "2023-10-27T13:33:08.052Z"
   },
   {
    "duration": 73944,
    "start_time": "2023-10-27T13:33:08.057Z"
   },
   {
    "duration": 159,
    "start_time": "2023-10-27T13:34:22.003Z"
   },
   {
    "duration": 7,
    "start_time": "2023-10-27T13:34:22.163Z"
   },
   {
    "duration": 7379,
    "start_time": "2023-10-27T13:34:22.171Z"
   },
   {
    "duration": 56004,
    "start_time": "2023-10-27T13:34:29.552Z"
   },
   {
    "duration": 6932,
    "start_time": "2023-10-27T13:35:25.558Z"
   },
   {
    "duration": 9,
    "start_time": "2023-10-27T13:35:32.492Z"
   },
   {
    "duration": 43,
    "start_time": "2023-10-27T13:35:32.503Z"
   },
   {
    "duration": 4038,
    "start_time": "2023-10-27T13:35:32.548Z"
   },
   {
    "duration": 5,
    "start_time": "2023-10-27T13:35:36.588Z"
   },
   {
    "duration": 6188,
    "start_time": "2023-10-27T13:35:36.595Z"
   },
   {
    "duration": 764,
    "start_time": "2023-10-27T13:35:42.785Z"
   },
   {
    "duration": 13,
    "start_time": "2023-10-27T13:35:43.551Z"
   },
   {
    "duration": 4219,
    "start_time": "2023-10-27T13:35:43.566Z"
   },
   {
    "duration": 285,
    "start_time": "2023-10-27T13:35:47.787Z"
   },
   {
    "duration": 1864,
    "start_time": "2023-10-27T13:37:16.513Z"
   },
   {
    "duration": 24190,
    "start_time": "2023-10-27T13:37:18.379Z"
   },
   {
    "duration": 1097,
    "start_time": "2023-10-27T13:37:42.571Z"
   },
   {
    "duration": 1479,
    "start_time": "2023-10-27T13:37:43.670Z"
   },
   {
    "duration": 717,
    "start_time": "2023-10-27T13:37:45.151Z"
   },
   {
    "duration": 3781,
    "start_time": "2023-10-27T13:37:45.870Z"
   },
   {
    "duration": 421,
    "start_time": "2023-10-27T13:37:49.653Z"
   },
   {
    "duration": 6487,
    "start_time": "2023-10-27T13:37:50.076Z"
   },
   {
    "duration": 105,
    "start_time": "2023-10-27T13:37:56.565Z"
   },
   {
    "duration": 3809,
    "start_time": "2023-10-27T13:37:56.673Z"
   },
   {
    "duration": 2977,
    "start_time": "2023-10-27T13:38:00.484Z"
   },
   {
    "duration": 119,
    "start_time": "2023-10-27T13:38:03.463Z"
   },
   {
    "duration": 67,
    "start_time": "2023-10-27T13:38:03.584Z"
   },
   {
    "duration": 4098,
    "start_time": "2023-10-27T13:38:03.653Z"
   },
   {
    "duration": 19,
    "start_time": "2023-10-27T13:38:07.752Z"
   },
   {
    "duration": 3202,
    "start_time": "2023-10-27T13:38:07.773Z"
   },
   {
    "duration": 8,
    "start_time": "2023-10-27T13:38:10.976Z"
   },
   {
    "duration": 8830,
    "start_time": "2023-10-27T13:38:11.045Z"
   },
   {
    "duration": 8783,
    "start_time": "2023-10-27T13:38:19.877Z"
   },
   {
    "duration": 8110,
    "start_time": "2023-10-27T13:38:28.662Z"
   },
   {
    "duration": 5,
    "start_time": "2023-10-27T13:38:36.773Z"
   },
   {
    "duration": 43,
    "start_time": "2023-10-27T13:38:36.779Z"
   },
   {
    "duration": 36,
    "start_time": "2023-10-27T13:38:36.824Z"
   },
   {
    "duration": 22,
    "start_time": "2023-10-27T13:38:36.862Z"
   },
   {
    "duration": 106497,
    "start_time": "2023-10-27T13:38:36.886Z"
   },
   {
    "duration": 216,
    "start_time": "2023-10-27T13:40:23.445Z"
   },
   {
    "duration": 16,
    "start_time": "2023-10-27T13:40:23.662Z"
   },
   {
    "duration": 10775,
    "start_time": "2023-10-27T13:40:23.681Z"
   },
   {
    "duration": 59833,
    "start_time": "2023-10-27T13:40:34.458Z"
   },
   {
    "duration": 7546,
    "start_time": "2023-10-27T13:41:34.345Z"
   },
   {
    "duration": 10,
    "start_time": "2023-10-27T13:41:41.893Z"
   },
   {
    "duration": 53,
    "start_time": "2023-10-27T13:41:41.905Z"
   },
   {
    "duration": 5191,
    "start_time": "2023-10-27T13:41:41.960Z"
   },
   {
    "duration": 6,
    "start_time": "2023-10-27T13:41:47.153Z"
   },
   {
    "duration": 5930,
    "start_time": "2023-10-27T13:41:47.161Z"
   },
   {
    "duration": 766,
    "start_time": "2023-10-27T13:41:53.092Z"
   },
   {
    "duration": 11,
    "start_time": "2023-10-27T13:41:53.860Z"
   },
   {
    "duration": 4683,
    "start_time": "2023-10-27T13:41:53.872Z"
   },
   {
    "duration": 1029,
    "start_time": "2023-10-27T13:41:58.557Z"
   },
   {
    "duration": 1749,
    "start_time": "2023-10-27T14:59:27.292Z"
   },
   {
    "duration": 24015,
    "start_time": "2023-10-27T14:59:29.043Z"
   },
   {
    "duration": 1022,
    "start_time": "2023-10-27T14:59:53.060Z"
   },
   {
    "duration": 1621,
    "start_time": "2023-10-27T14:59:54.145Z"
   },
   {
    "duration": 894,
    "start_time": "2023-10-27T14:59:55.768Z"
   },
   {
    "duration": 4116,
    "start_time": "2023-10-27T14:59:56.664Z"
   },
   {
    "duration": 473,
    "start_time": "2023-10-27T15:00:00.782Z"
   },
   {
    "duration": 6603,
    "start_time": "2023-10-27T15:00:01.257Z"
   },
   {
    "duration": 107,
    "start_time": "2023-10-27T15:00:07.863Z"
   },
   {
    "duration": 4301,
    "start_time": "2023-10-27T15:00:07.973Z"
   },
   {
    "duration": 3097,
    "start_time": "2023-10-27T15:00:12.276Z"
   },
   {
    "duration": 197,
    "start_time": "2023-10-27T15:00:15.375Z"
   },
   {
    "duration": 72,
    "start_time": "2023-10-27T15:00:15.573Z"
   },
   {
    "duration": 4517,
    "start_time": "2023-10-27T15:00:15.646Z"
   },
   {
    "duration": 93,
    "start_time": "2023-10-27T15:00:20.165Z"
   },
   {
    "duration": 3286,
    "start_time": "2023-10-27T15:00:20.260Z"
   },
   {
    "duration": 9,
    "start_time": "2023-10-27T15:00:23.547Z"
   },
   {
    "duration": 9314,
    "start_time": "2023-10-27T15:00:23.557Z"
   },
   {
    "duration": 9882,
    "start_time": "2023-10-27T15:00:32.873Z"
   },
   {
    "duration": 7591,
    "start_time": "2023-10-27T15:00:42.757Z"
   },
   {
    "duration": 4,
    "start_time": "2023-10-27T15:00:50.350Z"
   },
   {
    "duration": 53,
    "start_time": "2023-10-27T15:00:50.356Z"
   },
   {
    "duration": 52,
    "start_time": "2023-10-27T15:00:50.410Z"
   },
   {
    "duration": 26,
    "start_time": "2023-10-27T15:00:50.464Z"
   },
   {
    "duration": 97783,
    "start_time": "2023-10-27T15:00:50.491Z"
   },
   {
    "duration": 285,
    "start_time": "2023-10-27T15:02:28.276Z"
   },
   {
    "duration": 9,
    "start_time": "2023-10-27T15:02:28.563Z"
   },
   {
    "duration": 9582,
    "start_time": "2023-10-27T15:02:28.575Z"
   },
   {
    "duration": 58993,
    "start_time": "2023-10-27T15:02:38.158Z"
   },
   {
    "duration": 7707,
    "start_time": "2023-10-27T15:03:37.153Z"
   },
   {
    "duration": 8,
    "start_time": "2023-10-27T15:03:44.862Z"
   },
   {
    "duration": 86,
    "start_time": "2023-10-27T15:03:44.872Z"
   },
   {
    "duration": 5502,
    "start_time": "2023-10-27T15:03:44.960Z"
   },
   {
    "duration": 5,
    "start_time": "2023-10-27T15:03:50.464Z"
   },
   {
    "duration": 6334,
    "start_time": "2023-10-27T15:03:50.470Z"
   },
   {
    "duration": 847,
    "start_time": "2023-10-27T15:03:56.805Z"
   },
   {
    "duration": 11,
    "start_time": "2023-10-27T15:03:57.654Z"
   },
   {
    "duration": 4584,
    "start_time": "2023-10-27T15:03:57.667Z"
   },
   {
    "duration": 924,
    "start_time": "2023-10-27T15:04:02.253Z"
   }
  ],
  "colab": {
   "name": "PySparkSprint.ipynb",
   "provenance": []
  },
  "kernelspec": {
   "display_name": "Python 3 (ipykernel)",
   "language": "python",
   "name": "python3"
  },
  "language_info": {
   "codemirror_mode": {
    "name": "ipython",
    "version": 3
   },
   "file_extension": ".py",
   "mimetype": "text/x-python",
   "name": "python",
   "nbconvert_exporter": "python",
   "pygments_lexer": "ipython3",
   "version": "3.9.19"
  },
  "toc": {
   "base_numbering": 1,
   "nav_menu": {},
   "number_sections": true,
   "sideBar": true,
   "skip_h1_title": true,
   "title_cell": "Содержание",
   "title_sidebar": "Contents",
   "toc_cell": true,
   "toc_position": {},
   "toc_section_display": true,
   "toc_window_display": false
  }
 },
 "nbformat": 4,
 "nbformat_minor": 5
}
